{
 "cells": [
  {
   "cell_type": "markdown",
   "metadata": {},
   "source": [
    "# &#x1F5A5; &nbsp; List of Exercises"
   ]
  },
  {
   "cell_type": "markdown",
   "metadata": {},
   "source": [
    "## &#x1F4CA; &nbsp; Machine Learning for Trading"
   ]
  },
  {
   "cell_type": "markdown",
   "metadata": {},
   "source": [
    "#### Python\n",
    "- Part 1: https://github.com/OlgaBelitskaya/reflection2/blob/master/c_bank_Py_part1.ipynb \n",
    "- Part 2: https://github.com/OlgaBelitskaya/reflection2/blob/master/c_bank_Py_part2.ipynb \n",
    "- Part 3: https://github.com/OlgaBelitskaya/reflection2/blob/master/c_bank_Py_part3.ipynb\n",
    "\n",
    "#### R\n",
    "- Part 1: https://github.com/OlgaBelitskaya/large-repo/blob/master/c_bank_R_part1.ipynb\n",
    "- Part 2: https://github.com/OlgaBelitskaya/large-repo/blob/master/c_bank_R_part2.ipynb\n",
    "- Part 3: https://github.com/OlgaBelitskaya/large-repo/blob/master/c_bank_R_part3.ipynb"
   ]
  },
  {
   "cell_type": "markdown",
   "metadata": {},
   "source": [
    "## &#x1F578; &nbsp; Languages"
   ]
  },
  {
   "cell_type": "markdown",
   "metadata": {
    "collapsed": true
   },
   "source": [
    "#### R: https://github.com/OlgaBelitskaya/large-repo/blob/master/R_test_packages.ipynb\n",
    "https://olgabelitskaya.github.io/R_test_packages.html"
   ]
  },
  {
   "cell_type": "markdown",
   "metadata": {},
   "source": [
    "#### Julia: https://github.com/OlgaBelitskaya/large-repo/blob/master/Julia_test_packages.ipynb\n",
    "https://olgabelitskaya.github.io/Julia_test_packages.html"
   ]
  },
  {
   "cell_type": "markdown",
   "metadata": {},
   "source": [
    "#### SageMath: https://github.com/OlgaBelitskaya/large-repo/blob/master/SageMath_test_packages.ipynb"
   ]
  },
  {
   "cell_type": "markdown",
   "metadata": {
    "collapsed": true
   },
   "source": [
    "https://olgabelitskaya.github.io/SageMath_test_packages.html"
   ]
  }
 ],
 "metadata": {
  "anaconda-cloud": {},
  "hide_input": false,
  "kernelspec": {
   "display_name": "Python 2",
   "language": "python",
   "name": "python2"
  },
  "latex_envs": {
   "bibliofile": "biblio.bib",
   "cite_by": "apalike",
   "current_citInitial": 1,
   "eqLabelWithNumbers": true,
   "eqNumInitial": 0
  }
 },
 "nbformat": 4,
 "nbformat_minor": 2
}
