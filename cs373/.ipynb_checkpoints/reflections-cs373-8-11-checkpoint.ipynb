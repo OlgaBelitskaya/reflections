{
 "cells": [
  {
   "cell_type": "markdown",
   "metadata": {},
   "source": [
    "# &#x1F4D1; &nbsp; <span style=\"color:red\"> Reflections. Artificial Intelligence for Robotics. Sections 8-11</span>"
   ]
  },
  {
   "cell_type": "markdown",
   "metadata": {},
   "source": [
    "##   &#x1F916; &nbsp; <span style=\"color:red\">Links</span>"
   ]
  },
  {
   "cell_type": "markdown",
   "metadata": {},
   "source": [
    "Bayesian Approaches to Localization https://www.cs.cmu.edu/~motionplanning/lecture/Chap9-Bayesian-Mapping_howie.pdf"
   ]
  },
  {
   "cell_type": "markdown",
   "metadata": {},
   "source": [
    "A Comparative Analysis of Particle Filter based Localization Methods http://www2.informatik.uni-freiburg.de/~grisetti/pdf/marchetti06robocup.pdf"
   ]
  },
  {
   "cell_type": "markdown",
   "metadata": {},
   "source": [
    "Bayes Filter – Particle Filter and Monte Carlo Localization http://ais.informatik.uni-freiburg.de/teaching/ss09/robotics/slides/g_pf-mcl.pdf"
   ]
  },
  {
   "cell_type": "markdown",
   "metadata": {},
   "source": [
    "Particle filter http://scipy-cookbook.readthedocs.io/items/ParticleFilter.html"
   ]
  },
  {
   "cell_type": "markdown",
   "metadata": {},
   "source": [
    "Particle Filtering for Face Tracking http://vision.cse.psu.edu/people/kyleB/faceTracker/index.shtml"
   ]
  },
  {
   "cell_type": "markdown",
   "metadata": {},
   "source": [
    "Particle filters with Python https://salzis.wordpress.com/2015/05/25/particle-filters-with-python/"
   ]
  },
  {
   "cell_type": "markdown",
   "metadata": {},
   "source": [
    "##   &#x1F916; &nbsp; <span style=\"color:red\">Libraries</span>"
   ]
  },
  {
   "cell_type": "code",
   "execution_count": 101,
   "metadata": {
    "collapsed": true
   },
   "outputs": [],
   "source": [
    "from math import *\n",
    "import os\n",
    "import numpy as np\n",
    "import pandas as pd\n",
    "import random\n",
    "import scipy.stats\n",
    "import scipy.optimize\n",
    "from time import time\n",
    "from itertools import *"
   ]
  },
  {
   "cell_type": "code",
   "execution_count": 104,
   "metadata": {
    "collapsed": true
   },
   "outputs": [],
   "source": [
    "from pylab import *\n",
    "from IPython.display import display, Image\n",
    "import matplotlib.pylab as plt\n",
    "import matplotlib.cm as cm\n",
    "from matplotlib import offsetbox\n",
    "%matplotlib inline"
   ]
  },
  {
   "cell_type": "markdown",
   "metadata": {},
   "source": [
    "##   &#x1F916; &nbsp; <span style=\"color:red\">Section 8. Particle Filters</span>"
   ]
  },
  {
   "cell_type": "markdown",
   "metadata": {},
   "source": [
    "### Notes"
   ]
  },
  {
   "cell_type": "code",
   "execution_count": null,
   "metadata": {
    "collapsed": true
   },
   "outputs": [],
   "source": []
  },
  {
   "cell_type": "markdown",
   "metadata": {},
   "source": [
    "### Examples"
   ]
  },
  {
   "cell_type": "code",
   "execution_count": 99,
   "metadata": {
    "collapsed": true
   },
   "outputs": [],
   "source": [
    "def resample(weights):\n",
    "    n = len(weights)\n",
    "    indices = []\n",
    "    C = [0.] + [sum(weights[:i+1]) for i in range(n)]\n",
    "    u0, j = random(), 0\n",
    "    for u in [(u0+i)/n for i in range(n)]:\n",
    "        while u > C[j]:\n",
    "            j+=1\n",
    "        indices.append(j-1)\n",
    "    return indices\n",
    "\n",
    "def particlefilter(sequence, pos, stepsize, n):\n",
    "    seq = iter(sequence)\n",
    "    x = ones((n, 2), int) * pos                   # Initial position\n",
    "    f0 = seq.next()[tuple(pos)] * ones(n)         # Target colour model\n",
    "    yield pos, x, ones(n)/n                       # Return expected position, particles and weights\n",
    "    for im in seq:\n",
    "        # Particle motion model: uniform step\n",
    "        np.add(x, uniform(-stepsize, stepsize, x.shape), out=x, casting=\"unsafe\") \n",
    "        \n",
    "        x  = x.clip(zeros(2), array(im.shape)-1).astype(int) # Clip out-of-bounds particles\n",
    "        f  = im[tuple(x.T)]                         # Measure particle colours\n",
    "        w  = 1./(1. + (f0-f)**2)                    # Weight~ inverse quadratic colour distance\n",
    "        w /= sum(w)                                 # Normalize w\n",
    "        yield sum(x.T*w, axis=1), x, w              # Return expected position, particles and weights\n",
    "        if 1./sum(w**2) < n/2.:                     # If particle cloud degenerate:\n",
    "            x  = x[resample(w),:]                     # Resample particles according to weights"
   ]
  },
  {
   "cell_type": "markdown",
   "metadata": {},
   "source": [
    "### Quizes"
   ]
  },
  {
   "cell_type": "code",
   "execution_count": 4,
   "metadata": {
    "collapsed": true
   },
   "outputs": [],
   "source": [
    "# Quiz: State Space\n",
    "# Histogram Filters - Discrete\n",
    "# Kalman Filters - Continuous\n",
    "# Particle Filters - Continuous"
   ]
  },
  {
   "cell_type": "code",
   "execution_count": 1,
   "metadata": {
    "collapsed": true
   },
   "outputs": [],
   "source": [
    "# Quiz: Belief Modality\n",
    "# Histogram Filters - Multimodal\n",
    "# Kalman Filters - Unimodal\n",
    "# Particle Filters"
   ]
  },
  {
   "cell_type": "code",
   "execution_count": 2,
   "metadata": {
    "collapsed": true
   },
   "outputs": [],
   "source": [
    "# Quiz: Efficiency\n",
    "# Histogram Filters - Exponentional\n",
    "# Kalman Filters - Quadratic\n",
    "# Particle Filters    "
   ]
  },
  {
   "cell_type": "code",
   "execution_count": 4,
   "metadata": {
    "collapsed": true
   },
   "outputs": [],
   "source": [
    "# Quiz: Exact Or Approximate\n",
    "# Histogram Filters - Approximate\n",
    "# Kalman Filters - Approximate\n",
    "# Particle Filters"
   ]
  },
  {
   "cell_type": "code",
   "execution_count": 11,
   "metadata": {},
   "outputs": [
    {
     "name": "stdout",
     "output_type": "stream",
     "text": [
      "[39.05124837953327, 46.09772228646444, 39.05124837953327, 46.09772228646444]\n",
      "[32.01562118716424, 53.150729063673246, 47.16990566028302, 40.311288741492746]\n"
     ]
    }
   ],
   "source": [
    "# Quiz: Moving Robot\n",
    "# Make a robot called myrobot that starts at\n",
    "# coordinates 30, 50 heading north (pi/2).\n",
    "# Have your robot turn clockwise by pi/2, move\n",
    "# 15 m, and sense. Then have it turn clockwise\n",
    "# by pi/2 again, move 10 m, and sense again.\n",
    "#\n",
    "# Your program should print out the result of\n",
    "# your two sense measurements.\n",
    "#\n",
    "# Don't modify the code below. Please enter\n",
    "# your code at the bottom.\n",
    "\n",
    "landmarks  = [[20.0, 20.0], [80.0, 80.0], [20.0, 80.0], [80.0, 20.0]]\n",
    "world_size = 100.0\n",
    "\n",
    "\n",
    "class robot:\n",
    "    def __init__(self):\n",
    "        self.x = random.random() * world_size\n",
    "        self.y = random.random() * world_size\n",
    "        self.orientation = random.random() * 2.0 * pi\n",
    "        self.forward_noise = 0.0;\n",
    "        self.turn_noise    = 0.0;\n",
    "        self.sense_noise   = 0.0;\n",
    "    \n",
    "    def set(self, new_x, new_y, new_orientation):\n",
    "        if new_x < 0 or new_x >= world_size:\n",
    "            raise (ValueError, 'X coordinate out of bound')\n",
    "        if new_y < 0 or new_y >= world_size:\n",
    "            raise (ValueError, 'Y coordinate out of bound')\n",
    "        if new_orientation < 0 or new_orientation >= 2 * pi:\n",
    "            raise (ValueError, 'Orientation must be in [0..2pi]')\n",
    "        self.x = float(new_x)\n",
    "        self.y = float(new_y)\n",
    "        self.orientation = float(new_orientation)\n",
    "    \n",
    "    \n",
    "    def set_noise(self, new_f_noise, new_t_noise, new_s_noise):\n",
    "        # makes it possible to change the noise parameters\n",
    "        # this is often useful in particle filters\n",
    "        self.forward_noise = float(new_f_noise);\n",
    "        self.turn_noise    = float(new_t_noise);\n",
    "        self.sense_noise   = float(new_s_noise);\n",
    "    \n",
    "    \n",
    "    def sense(self):\n",
    "        Z = []\n",
    "        for i in range(len(landmarks)):\n",
    "            dist = sqrt((self.x - landmarks[i][0]) ** 2 + (self.y - landmarks[i][1]) ** 2)\n",
    "            dist += random.gauss(0.0, self.sense_noise)\n",
    "            Z.append(dist)\n",
    "        return Z\n",
    "    \n",
    "    \n",
    "    def move(self, turn, forward):\n",
    "        if forward < 0:\n",
    "            raise (ValueError, 'Robot cant move backwards')        \n",
    "        \n",
    "        # turn, and add randomness to the turning command\n",
    "        orientation = self.orientation + float(turn) + random.gauss(0.0, self.turn_noise)\n",
    "        orientation %= 2 * pi\n",
    "        \n",
    "        # move, and add randomness to the motion command\n",
    "        dist = float(forward) + random.gauss(0.0, self.forward_noise)\n",
    "        x = self.x + (cos(orientation) * dist)\n",
    "        y = self.y + (sin(orientation) * dist)\n",
    "        x %= world_size    # cyclic truncate\n",
    "        y %= world_size\n",
    "        \n",
    "        # set particle\n",
    "        res = robot()\n",
    "        res.set(x, y, orientation)\n",
    "        res.set_noise(self.forward_noise, self.turn_noise, self.sense_noise)\n",
    "        return res\n",
    "    \n",
    "    def Gaussian(self, mu, sigma, x):\n",
    "        \n",
    "        # calculates the probability of x for 1-dim Gaussian with mean mu and var. sigma\n",
    "        return exp(- ((mu - x) ** 2) / (sigma ** 2) / 2.0) / sqrt(2.0 * pi * (sigma ** 2))\n",
    "    \n",
    "    \n",
    "    def measurement_prob(self, measurement):\n",
    "        \n",
    "        # calculates how likely a measurement should be\n",
    "        \n",
    "        prob = 1.0;\n",
    "        for i in range(len(landmarks)):\n",
    "            dist = sqrt((self.x - landmarks[i][0]) ** 2 + (self.y - landmarks[i][1]) ** 2)\n",
    "            prob *= self.Gaussian(dist, self.sense_noise, measurement[i])\n",
    "        return prob\n",
    "    \n",
    "    \n",
    "    \n",
    "    def __repr__(self):\n",
    "        return ('[x=%.6s y=%.6s orient=%.6s]' % (str(self.x), str(self.y), str(self.orientation)))\n",
    "\n",
    "\n",
    "\n",
    "def eval(r, p):\n",
    "    sum = 0.0;\n",
    "    for i in range(len(p)): # calculate mean error\n",
    "        dx = (p[i].x - r.x + (world_size/2.0)) % world_size - (world_size/2.0)\n",
    "        dy = (p[i].y - r.y + (world_size/2.0)) % world_size - (world_size/2.0)\n",
    "        err = sqrt(dx * dx + dy * dy)\n",
    "        sum += err\n",
    "    return sum / float(len(p))\n",
    "\n",
    "\n",
    "\n",
    "####   DON'T MODIFY ANYTHING ABOVE HERE! ENTER CODE BELOW ####\n",
    "\n",
    "myrobot = robot()\n",
    "myrobot.set(30.0, 50.0, pi/2)\n",
    "myrobot = myrobot.move(-pi/2, 15.0)\n",
    "print(myrobot.sense())\n",
    "myrobot = myrobot.move(-pi/2, 10.0)\n",
    "print(myrobot.sense())"
   ]
  },
  {
   "cell_type": "code",
   "execution_count": 15,
   "metadata": {},
   "outputs": [
    {
     "name": "stdout",
     "output_type": "stream",
     "text": [
      "[39.177884832169305, 52.57796778849527, 35.506341107185165, 39.68813531044975]\n",
      "[42.23209502846281, 47.36038911846527, 52.12259622083096, 48.99218223654593]\n"
     ]
    }
   ],
   "source": [
    "# Quiz: Add Noise\n",
    "\n",
    "# Now add noise to your robot as follows:\n",
    "# forward_noise = 5.0, turn_noise = 0.1,\n",
    "# sense_noise = 5.0.\n",
    "#\n",
    "# Once again, your robot starts at 30, 50,\n",
    "# heading north (pi/2), then turns clockwise\n",
    "# by pi/2, moves 15 meters, senses,\n",
    "# then turns clockwise by pi/2 again, moves\n",
    "# 10 m, then senses again.\n",
    "#\n",
    "# Your program should print out the result of\n",
    "# your two sense measurements.\n",
    "#\n",
    "# Don't modify the code below. Please enter\n",
    "# your code at the bottom.\n",
    "\n",
    "myrobot = robot()\n",
    "myrobot.set(30.0, 50.0, pi/2)\n",
    "myrobot.set_noise(5.0, 0.1, 5.0)\n",
    "\n",
    "myrobot = myrobot.move(-pi/2, 15.0)\n",
    "print(myrobot.sense())\n",
    "myrobot = myrobot.move(-pi/2, 10.0)\n",
    "print(myrobot.sense())"
   ]
  },
  {
   "cell_type": "code",
   "execution_count": 16,
   "metadata": {
    "collapsed": true
   },
   "outputs": [],
   "source": [
    "# Quiz: Creating Particles\n",
    "\n",
    "# Now we want to create particles,\n",
    "# p[i] = robot(). In this assignment, write\n",
    "# code that will assign 1000 such particles\n",
    "# to a list.\n",
    "#\n",
    "# Your program should print out the length\n",
    "# of your list (don't cheat by making an\n",
    "# arbitrary list of 1000 elements!)\n",
    "#\n",
    "# Don't modify the code below. Please enter\n",
    "# your code at the bottom."
   ]
  },
  {
   "cell_type": "code",
   "execution_count": 25,
   "metadata": {},
   "outputs": [
    {
     "name": "stdout",
     "output_type": "stream",
     "text": [
      "[x=84.284 y=1.4637 orient=4.0017]\n"
     ]
    }
   ],
   "source": [
    "#myrobot = robot()\n",
    "#myrobot.set_noise(5.0, 0.1, 5.0)\n",
    "#myrobot.set(30.0, 50.0, pi/2)\n",
    "#myrobot = myrobot.move(-pi/2, 15.0)\n",
    "#print myrobot.sense()\n",
    "#myrobot = myrobot.move(-pi/2, 10.0)\n",
    "#print myrobot.sense()\n",
    "\n",
    "####   DON'T MODIFY ANYTHING ABOVE HERE! ENTER CODE BELOW ####\n",
    "\n",
    "N = 1000\n",
    "p = []\n",
    "p.extend([robot() for i in range(1000)])\n",
    "#enter code here\n",
    "\n",
    "print (p[999])"
   ]
  },
  {
   "cell_type": "code",
   "execution_count": 26,
   "metadata": {},
   "outputs": [
    {
     "name": "stdout",
     "output_type": "stream",
     "text": [
      "1000\n"
     ]
    }
   ],
   "source": [
    "# Variant 2\n",
    "p = []\n",
    "for i in range(N):\n",
    "    x = robot()\n",
    "    p.append(x)\n",
    "print (len(p))    "
   ]
  },
  {
   "cell_type": "code",
   "execution_count": 28,
   "metadata": {},
   "outputs": [
    {
     "name": "stdout",
     "output_type": "stream",
     "text": [
      "[x=97.771 y=80.868 orient=1.5618]\n"
     ]
    }
   ],
   "source": [
    "# Quiz: Robot Particles\n",
    "\n",
    "# Now we want to simulate robot\n",
    "# motion with our particles.\n",
    "# Each particle should turn by 0.1\n",
    "# and then move by 5. \n",
    "#\n",
    "#\n",
    "# Don't modify the code below. Please enter\n",
    "# your code at the bottom.\n",
    "\n",
    "p.extend([robot().move(0.1, 5.0) for i in range(1000)])\n",
    "print (p[999])"
   ]
  },
  {
   "cell_type": "code",
   "execution_count": 40,
   "metadata": {},
   "outputs": [
    {
     "name": "stdout",
     "output_type": "stream",
     "text": [
      "1.003586636912025e-67\n"
     ]
    }
   ],
   "source": [
    "# Quiz: Importance Weight\n",
    "\n",
    "# Now we want to give weight to our \n",
    "# particles. This program will print a\n",
    "# list of 1000 particle weights.\n",
    "#\n",
    "# Don't modify the code below. Please enter\n",
    "# your code at the bottom.\n",
    "\n",
    "\n",
    "landmarks  = [[20.0, 20.0], [80.0, 80.0], [20.0, 80.0], [80.0, 20.0]]\n",
    "world_size = 100.0\n",
    "\n",
    "\n",
    "class robot:\n",
    "    def __init__(self):\n",
    "        self.x = random.random() * world_size\n",
    "        self.y = random.random() * world_size\n",
    "        self.orientation = random.random() * 2.0 * pi\n",
    "        self.forward_noise = 0.0;\n",
    "        self.turn_noise    = 0.0;\n",
    "        self.sense_noise   = 0.0;\n",
    "    \n",
    "    def set(self, new_x, new_y, new_orientation):\n",
    "        if new_x < 0 or new_x >= world_size:\n",
    "            raise (ValueError, 'X coordinate out of bound')\n",
    "        if new_y < 0 or new_y >= world_size:\n",
    "            raise (ValueError, 'Y coordinate out of bound')\n",
    "        if new_orientation < 0 or new_orientation >= 2 * pi:\n",
    "            raise (ValueError, 'Orientation must be in [0..2pi]')\n",
    "        self.x = float(new_x)\n",
    "        self.y = float(new_y)\n",
    "        self.orientation = float(new_orientation)\n",
    "    \n",
    "    \n",
    "    def set_noise(self, new_f_noise, new_t_noise, new_s_noise):\n",
    "        # makes it possible to change the noise parameters\n",
    "        # this is often useful in particle filters\n",
    "        self.forward_noise = float(new_f_noise);\n",
    "        self.turn_noise    = float(new_t_noise);\n",
    "        self.sense_noise   = float(new_s_noise);\n",
    "    \n",
    "    \n",
    "    def sense(self):\n",
    "        Z = []\n",
    "        for i in range(len(landmarks)):\n",
    "            dist = sqrt((self.x - landmarks[i][0]) ** 2 + (self.y - landmarks[i][1]) ** 2)\n",
    "            dist += random.gauss(0.0, self.sense_noise)\n",
    "            Z.append(dist)\n",
    "        return Z\n",
    "    \n",
    "    \n",
    "    def move(self, turn, forward):\n",
    "        if forward < 0:\n",
    "            raise (ValueError, 'Robot cant move backwards')         \n",
    "        \n",
    "        # turn, and add randomness to the turning command\n",
    "        orientation = self.orientation + float(turn) + random.gauss(0.0, self.turn_noise)\n",
    "        orientation %= 2 * pi\n",
    "        \n",
    "        # move, and add randomness to the motion command\n",
    "        dist = float(forward) + random.gauss(0.0, self.forward_noise)\n",
    "        x = self.x + (cos(orientation) * dist)\n",
    "        y = self.y + (sin(orientation) * dist)\n",
    "        x %= world_size    # cyclic truncate\n",
    "        y %= world_size\n",
    "        \n",
    "        # set particle\n",
    "        res = robot()\n",
    "        res.set(x, y, orientation)\n",
    "        res.set_noise(self.forward_noise, self.turn_noise, self.sense_noise)\n",
    "        return res\n",
    "    \n",
    "    def Gaussian(self, mu, sigma, x):\n",
    "        \n",
    "        # calculates the probability of x for 1-dim Gaussian with mean mu and var. sigma\n",
    "        return exp(- ((mu - x) ** 2) / (sigma ** 2) / 2.0) / sqrt(2.0 * pi * (sigma ** 2))\n",
    "    \n",
    "    \n",
    "    def measurement_prob(self, measurement):\n",
    "        \n",
    "        # calculates how likely a measurement should be\n",
    "        \n",
    "        prob = 1.0;\n",
    "        for i in range(len(landmarks)):\n",
    "            dist = sqrt((self.x - landmarks[i][0]) ** 2 + (self.y - landmarks[i][1]) ** 2)\n",
    "            prob *= self.Gaussian(dist, self.sense_noise, measurement[i])\n",
    "        return prob\n",
    "     \n",
    "    def __repr__(self):\n",
    "        return ('[x=%.6s y=%.6s orient=%.6s]' % (str(self.x), str(self.y), str(self.orientation)))\n",
    "\n",
    "\n",
    "#myrobot = robot()\n",
    "#myrobot.set_noise(5.0, 0.1, 5.0)\n",
    "#myrobot.set(30.0, 50.0, pi/2)\n",
    "#myrobot = myrobot.move(-pi/2, 15.0)\n",
    "#print myrobot.sense()\n",
    "#myrobot = myrobot.move(-pi/2, 10.0)\n",
    "#print myrobot.sense()\n",
    "\n",
    "####   DON'T MODIFY ANYTHING ABOVE HERE! ENTER CODE BELOW ####\n",
    "myrobot = robot()\n",
    "myrobot = myrobot.move(0.1, 5.0)\n",
    "Z = myrobot.sense()\n",
    "\n",
    "N = 1000\n",
    "p = []\n",
    "for i in range(N):\n",
    "    x = robot()\n",
    "    x.set_noise(0.05, 0.05, 5.0)\n",
    "    p.append(x)\n",
    "\n",
    "p2 = []\n",
    "for i in range(N):\n",
    "    p2.append(p[i].move(0.1, 5.0))\n",
    "p = p2\n",
    "\n",
    "w = []\n",
    "\n",
    "w.extend([el.measurement_prob(Z) for el in p])\n",
    "#insert code here!\n",
    "print (w[999]) #Please print w for grading purposes.\n"
   ]
  },
  {
   "cell_type": "code",
   "execution_count": 42,
   "metadata": {},
   "outputs": [
    {
     "data": {
      "text/plain": [
       "(0.1, 0.2, 0.4, 0.1, 0.2)"
      ]
     },
     "execution_count": 42,
     "metadata": {},
     "output_type": "execute_result"
    }
   ],
   "source": [
    "# Quiz: Resampling\n",
    "w = 0.12 + 0.24 + 0.48 + 0.12 + 0.24\n",
    "(0.12/w, 0.24/w, 0.48/w, 0.12/w, 0.24/w)"
   ]
  },
  {
   "cell_type": "code",
   "execution_count": 43,
   "metadata": {
    "collapsed": true
   },
   "outputs": [],
   "source": [
    "# Quiz: Never Sampled 1\n",
    "# Yes"
   ]
  },
  {
   "cell_type": "code",
   "execution_count": 44,
   "metadata": {
    "collapsed": true
   },
   "outputs": [],
   "source": [
    "# Quiz: Never Sampled 2\n",
    "# Yes"
   ]
  },
  {
   "cell_type": "code",
   "execution_count": 46,
   "metadata": {},
   "outputs": [
    {
     "data": {
      "text/plain": [
       "0.07776000000000005"
      ]
     },
     "execution_count": 46,
     "metadata": {},
     "output_type": "execute_result"
    }
   ],
   "source": [
    "# Quiz: Never Sampled 3\n",
    "# sum of probabilities for p1, p2, p4, p5; 5 times\n",
    "(0.1+0.2+0.1+0.2)**5"
   ]
  },
  {
   "cell_type": "code",
   "execution_count": 52,
   "metadata": {},
   "outputs": [
    {
     "data": {
      "text/plain": [
       "[x=35.711 y=67.885 orient=4.1428]"
      ]
     },
     "execution_count": 52,
     "metadata": {},
     "output_type": "execute_result"
    }
   ],
   "source": [
    "# Quiz: New Particle\n",
    "# \n",
    "\n",
    "# # In this exercise, try to write a program that\n",
    "# will resample particles according to their weights.\n",
    "# Particles with higher weights should be sampled\n",
    "# more frequently (in proportion to their weight).\n",
    "\n",
    "# Don't modify anything below. Please scroll to the \n",
    "# bottom to enter your code.\n",
    "\n",
    "landmarks  = [[20.0, 20.0], [80.0, 80.0], [20.0, 80.0], [80.0, 20.0]]\n",
    "world_size = 100.0\n",
    "\n",
    "class robot:\n",
    "    def __init__(self):\n",
    "        self.x = random.random() * world_size\n",
    "        self.y = random.random() * world_size\n",
    "        self.orientation = random.random() * 2.0 * pi\n",
    "        self.forward_noise = 0.0;\n",
    "        self.turn_noise    = 0.0;\n",
    "        self.sense_noise   = 0.0;\n",
    "    \n",
    "    def set(self, new_x, new_y, new_orientation):\n",
    "        if new_x < 0 or new_x >= world_size:\n",
    "            raise (ValueError, 'X coordinate out of bound')\n",
    "        if new_y < 0 or new_y >= world_size:\n",
    "            raise (ValueError, 'Y coordinate out of bound')\n",
    "        if new_orientation < 0 or new_orientation >= 2 * pi:\n",
    "            raise (ValueError, 'Orientation must be in [0..2pi]')\n",
    "        self.x = float(new_x)\n",
    "        self.y = float(new_y)\n",
    "        self.orientation = float(new_orientation)\n",
    "    \n",
    "    \n",
    "    def set_noise(self, new_f_noise, new_t_noise, new_s_noise):\n",
    "        # makes it possible to change the noise parameters\n",
    "        # this is often useful in particle filters\n",
    "        self.forward_noise = float(new_f_noise);\n",
    "        self.turn_noise    = float(new_t_noise);\n",
    "        self.sense_noise   = float(new_s_noise);\n",
    "    \n",
    "    \n",
    "    def sense(self):\n",
    "        Z = []\n",
    "        for i in range(len(landmarks)):\n",
    "            dist = sqrt((self.x - landmarks[i][0]) ** 2 + (self.y - landmarks[i][1]) ** 2)\n",
    "            dist += random.gauss(0.0, self.sense_noise)\n",
    "            Z.append(dist)\n",
    "        return Z\n",
    "    \n",
    "    \n",
    "    def move(self, turn, forward):\n",
    "        if forward < 0:\n",
    "            raise (ValueError, 'Robot cant move backwards')         \n",
    "        \n",
    "        # turn, and add randomness to the turning command\n",
    "        orientation = self.orientation + float(turn) + random.gauss(0.0, self.turn_noise)\n",
    "        orientation %= 2 * pi\n",
    "        \n",
    "        # move, and add randomness to the motion command\n",
    "        dist = float(forward) + random.gauss(0.0, self.forward_noise)\n",
    "        x = self.x + (cos(orientation) * dist)\n",
    "        y = self.y + (sin(orientation) * dist)\n",
    "        x %= world_size    # cyclic truncate\n",
    "        y %= world_size\n",
    "        \n",
    "        # set particle\n",
    "        res = robot()\n",
    "        res.set(x, y, orientation)\n",
    "        res.set_noise(self.forward_noise, self.turn_noise, self.sense_noise)\n",
    "        return res\n",
    "    \n",
    "    def Gaussian(self, mu, sigma, x):\n",
    "        \n",
    "        # calculates the probability of x for 1-dim Gaussian with mean mu and var. sigma\n",
    "        return exp(- ((mu - x) ** 2) / (sigma ** 2) / 2.0) / sqrt(2.0 * pi * (sigma ** 2))\n",
    "    \n",
    "    \n",
    "    def measurement_prob(self, measurement):\n",
    "        \n",
    "        # calculates how likely a measurement should be\n",
    "        \n",
    "        prob = 1.0;\n",
    "        for i in range(len(landmarks)):\n",
    "            dist = sqrt((self.x - landmarks[i][0]) ** 2 + (self.y - landmarks[i][1]) ** 2)\n",
    "            prob *= self.Gaussian(dist, self.sense_noise, measurement[i])\n",
    "        return prob\n",
    "    \n",
    "    def __repr__(self):\n",
    "        return ('[x=%.6s y=%.6s orient=%.6s]' % (str(self.x), str(self.y), str(self.orientation)))\n",
    "\n",
    "\n",
    "#myrobot = robot()\n",
    "#myrobot.set_noise(5.0, 0.1, 5.0)\n",
    "#myrobot.set(30.0, 50.0, pi/2)\n",
    "#myrobot = myrobot.move(-pi/2, 15.0)\n",
    "#print myrobot.sense()\n",
    "#myrobot = myrobot.move(-pi/2, 10.0)\n",
    "#print myrobot.sense()\n",
    "\n",
    "myrobot = robot()\n",
    "myrobot = myrobot.move(0.1, 5.0)\n",
    "Z = myrobot.sense()\n",
    "\n",
    "N = 1000\n",
    "p = []\n",
    "for i in range(N):\n",
    "    x = robot()\n",
    "    x.set_noise(0.05, 0.05, 5.0)\n",
    "    p.append(x)\n",
    "\n",
    "p2 = []\n",
    "for i in range(N):\n",
    "    p2.append(p[i].move(0.1, 5.0))\n",
    "p = p2\n",
    "\n",
    "w = []\n",
    "for i in range(N):\n",
    "    w.append(p[i].measurement_prob(Z))\n",
    "\n",
    "\n",
    "#### DON'T MODIFY ANYTHING ABOVE HERE! ENTER CODE BELOW ####\n",
    "# You should make sure that p3 contains a list with particles\n",
    "# resampled according to their weights.\n",
    "# Also, DO NOT MODIFY p.\n",
    "\n",
    "p3 = []\n",
    "i = int(random.random() * N)\n",
    "b = 0.0\n",
    "maxw = max(w)\n",
    "for i in range(N):\n",
    "    b += random.random() * 2.0 * maxw\n",
    "    while b > w[i]:\n",
    "        b -= w[i]\n",
    "        i = (i + 1) % N\n",
    "    p3.append(p[i])\n",
    "p = p3\n",
    "p[999]"
   ]
  },
  {
   "cell_type": "code",
   "execution_count": 55,
   "metadata": {
    "collapsed": true
   },
   "outputs": [],
   "source": [
    "# Quiz: Orientation 1\n",
    "# No"
   ]
  },
  {
   "cell_type": "code",
   "execution_count": 63,
   "metadata": {},
   "outputs": [
    {
     "data": {
      "text/plain": [
       "[[x=50.236 y=49.929 orient=2.1915],\n",
       " [x=50.065 y=46.267 orient=5.6096],\n",
       " [x=51.530 y=41.260 orient=4.8434],\n",
       " [x=50.280 y=49.835 orient=2.1954],\n",
       " [x=46.251 y=50.813 orient=2.9745],\n",
       " [x=49.838 y=45.047 orient=3.1780],\n",
       " [x=46.172 y=50.626 orient=3.0143],\n",
       " [x=51.438 y=41.336 orient=4.8270],\n",
       " [x=50.209 y=41.197 orient=5.4101],\n",
       " [x=50.117 y=41.140 orient=5.3890]]"
      ]
     },
     "execution_count": 63,
     "metadata": {},
     "output_type": "execute_result"
    }
   ],
   "source": [
    "# Quiz: Orientation 2\n",
    "# In this exercise, write a program that will\n",
    "# run your previous code twice.\n",
    "# Please only modify the indicated area below!\n",
    "\n",
    "####   DON'T MODIFY ANYTHING ABOVE HERE! ENTER/MODIFY CODE BELOW ####\n",
    "myrobot = robot()\n",
    "myrobot = myrobot.move(0.1, 5.0)\n",
    "Z = myrobot.sense()\n",
    "\n",
    "\n",
    "N = 1000\n",
    "p = []\n",
    "for i in range(N):\n",
    "    x = robot()\n",
    "    x.set_noise(0.05, 0.05, 5.0)\n",
    "    p.append(x)\n",
    "\n",
    "k=0\n",
    "for k in range(2):\n",
    "    p2 = []\n",
    "    for i in range(N):\n",
    "        p2.append(p[i].move(0.1, 5.0))\n",
    "    p = p2\n",
    "\n",
    "    w = []\n",
    "    for i in range(N):\n",
    "        w.append(p[i].measurement_prob(Z))\n",
    "\n",
    "    p3 = []\n",
    "    index = int(random.random() * N)\n",
    "    beta = 0.0\n",
    "    mw = max(w)\n",
    "    for i in range(N):\n",
    "        beta += random.random() * 2.0 * mw\n",
    "        while beta > w[index]:\n",
    "            beta -= w[index]\n",
    "            index = (index + 1) % N\n",
    "        p3.append(p[index])\n",
    "    p = p3\n",
    "    k+=1\n",
    "\n",
    "list(p[:10])#Leave this print statement for grading purposes!"
   ]
  },
  {
   "cell_type": "code",
   "execution_count": 64,
   "metadata": {},
   "outputs": [
    {
     "data": {
      "text/plain": [
       "[[x=85.502 y=47.266 orient=0.7351],\n",
       " [x=84.997 y=47.808 orient=0.8116],\n",
       " [x=85.997 y=46.179 orient=0.6301],\n",
       " [x=84.145 y=48.554 orient=0.9312],\n",
       " [x=85.182 y=47.570 orient=0.7053],\n",
       " [x=85.182 y=47.570 orient=0.7053],\n",
       " [x=85.723 y=47.110 orient=0.7123],\n",
       " [x=86.135 y=46.351 orient=0.5841],\n",
       " [x=84.149 y=48.565 orient=0.9320],\n",
       " [x=84.149 y=48.565 orient=0.9320]]"
      ]
     },
     "execution_count": 64,
     "metadata": {},
     "output_type": "execute_result"
    }
   ],
   "source": [
    "k=0\n",
    "for k in range(10):\n",
    "    p2 = []\n",
    "    for i in range(N):\n",
    "        p2.append(p[i].move(0.1, 5.0))\n",
    "    p = p2\n",
    "\n",
    "    w = []\n",
    "    for i in range(N):\n",
    "        w.append(p[i].measurement_prob(Z))\n",
    "\n",
    "    p3 = []\n",
    "    index = int(random.random() * N)\n",
    "    beta = 0.0\n",
    "    mw = max(w)\n",
    "    for i in range(N):\n",
    "        beta += random.random() * 2.0 * mw\n",
    "        while beta > w[index]:\n",
    "            beta -= w[index]\n",
    "            index = (index + 1) % N\n",
    "        p3.append(p[index])\n",
    "    p = p3\n",
    "    k+=1\n",
    "list(p[:10]) #Leave this print statement for grading purposes!"
   ]
  },
  {
   "cell_type": "code",
   "execution_count": 97,
   "metadata": {},
   "outputs": [
    {
     "name": "stdout",
     "output_type": "stream",
     "text": [
      "4.080364624066449\n",
      "5.928541741444493\n",
      "3.2558618495325886\n",
      "1.8575642050833892\n",
      "1.98041063610491\n",
      "1.6403067628102008\n",
      "1.942485160157271\n",
      "1.812760050479552\n",
      "1.9284336771523027\n",
      "1.8913590069839452\n",
      "1.8314398511148806\n",
      "1.7847390974237682\n",
      "1.9307005480649944\n",
      "1.8692085213423117\n",
      "1.9825858827836633\n",
      "1.9389345883661222\n",
      "1.7641069380993073\n",
      "1.7561008864050625\n",
      "1.7376853508896861\n",
      "2.040394068023348\n"
     ]
    }
   ],
   "source": [
    "# Quiz: Error\n",
    "# Please only modify the indicated area below!\n",
    "\n",
    "def eval(r, p):\n",
    "    sum = 0.0;\n",
    "    for i in range(len(p)): # calculate mean error\n",
    "        dx = (p[i].x - r.x + (world_size/2.0)) % world_size - (world_size/2.0)\n",
    "        dy = (p[i].y - r.y + (world_size/2.0)) % world_size - (world_size/2.0)\n",
    "        err = sqrt(dx * dx + dy * dy)\n",
    "        sum += err\n",
    "    return sum / float(len(p))\n",
    "\n",
    "#myrobot = robot()\n",
    "#myrobot.set_noise(5.0, 0.1, 5.0)\n",
    "#myrobot.set(30.0, 50.0, pi/2)\n",
    "#myrobot = myrobot.move(-pi/2, 15.0)\n",
    "#print myrobot.sense()\n",
    "#myrobot = myrobot.move(-pi/2, 10.0)\n",
    "#print myrobot.sense()\n",
    "\n",
    "####   DON'T MODIFY ANYTHING ABOVE HERE! ENTER/MODIFY CODE BELOW ####\n",
    "myrobot = robot()\n",
    "myrobot = myrobot.move(0.1, 5.0)\n",
    "Z = myrobot.sense()\n",
    "N = 1000\n",
    "T = 200 #Leave this as 10 for grading purposes.\n",
    "\n",
    "p = []\n",
    "for i in range(N):\n",
    "    r = robot()\n",
    "    r.set_noise(0.05, 0.05, 5.0)\n",
    "    p.append(r)\n",
    "\n",
    "for t in range(T):\n",
    "    myrobot = myrobot.move(0.1, 5.0)\n",
    "    Z = myrobot.sense()\n",
    "\n",
    "    p2 = []\n",
    "    for i in range(N):\n",
    "        p2.append(p[i].move(0.1, 5.0))\n",
    "    p = p2\n",
    "\n",
    "    w = []\n",
    "    for i in range(N):\n",
    "        w.append(p[i].measurement_prob(Z))\n",
    "\n",
    "    p3 = []\n",
    "    index = int(random.random() * N)\n",
    "    beta = 0.0\n",
    "    mw = max(w)\n",
    "    for i in range(N):\n",
    "        beta += random.random() * 2.0 * mw\n",
    "        while beta > w[index]:\n",
    "            beta -= w[index]\n",
    "            index = (index + 1) % N\n",
    "        p3.append(p[index])\n",
    "    p = p3\n",
    "    if (t%10==0):\n",
    "        print(eval(myrobot, p))\n",
    "    #enter code here, make sure that you output 10 print statements."
   ]
  },
  {
   "cell_type": "code",
   "execution_count": 78,
   "metadata": {
    "collapsed": true
   },
   "outputs": [],
   "source": [
    "# Quiz: Filters\n",
    "    \n",
    "# Histogram Filters \n",
    "# Particle Filters "
   ]
  },
  {
   "cell_type": "markdown",
   "metadata": {},
   "source": [
    "##   &#x1F916; &nbsp; <span style=\"color:red\">Lesson 9. Problem Set 3</span>"
   ]
  },
  {
   "cell_type": "code",
   "execution_count": 93,
   "metadata": {},
   "outputs": [
    {
     "data": {
      "text/plain": [
       "[0.75, 0.31640625, 0.056313514709472656]"
      ]
     },
     "execution_count": 93,
     "metadata": {},
     "output_type": "execute_result"
    }
   ],
   "source": [
    "# Quiz: Empty Cell\n",
    "[0.75**1, 0.75**4, 0.75**10]"
   ]
  },
  {
   "cell_type": "code",
   "execution_count": 95,
   "metadata": {},
   "outputs": [
    {
     "data": {
      "text/plain": [
       "[[3.0, 3.0], [3.0, 3.0]]"
      ]
     },
     "execution_count": 95,
     "metadata": {},
     "output_type": "execute_result"
    }
   ],
   "source": [
    "# Quiz: Motion Question\n",
    "[[0.5*3 + 0.5*3, 0.5*5 + 0.5*1], [0.5*5 + 0.5*1, 0.5*3 + 0.5*3]]"
   ]
  },
  {
   "cell_type": "code",
   "execution_count": 98,
   "metadata": {
    "collapsed": true
   },
   "outputs": [],
   "source": [
    "# Quiz: Single Particle\n",
    "# Ignore measurement\n",
    "# It likely fails"
   ]
  },
  {
   "cell_type": "code",
   "execution_count": null,
   "metadata": {
    "collapsed": true
   },
   "outputs": [],
   "source": [
    "# Quiz: Circular Motion\n",
    "# -----------------\n",
    "# USER INSTRUCTIONS\n",
    "#\n",
    "# Write a function in the class robot called move()\n",
    "#\n",
    "# that takes self and a motion vector (this\n",
    "# motion vector contains a steering* angle and a\n",
    "# distance) as input and returns an instance of the class\n",
    "# robot with the appropriate x, y, and orientation\n",
    "# for the given motion.\n",
    "#\n",
    "# *steering is defined in the video\n",
    "# which accompanies this problem.\n",
    "#\n",
    "# For now, please do NOT add noise to your move function.\n",
    "#\n",
    "# Please do not modify anything except where indicated\n",
    "# below.\n",
    "#\n",
    "# There are test cases which you are free to use at the\n",
    "# bottom. If you uncomment them for testing, make sure you\n",
    "# re-comment them before you submit.\n",
    "\n",
    "from math import *\n",
    "import random\n",
    "# --------\n",
    "# \n",
    "# the \"world\" has 4 landmarks.\n",
    "# the robot's initial coordinates are somewhere in the square\n",
    "# represented by the landmarks.\n",
    "#\n",
    "# NOTE: Landmark coordinates are given in (y, x) form and NOT\n",
    "# in the traditional (x, y) format!\n",
    "\n",
    "landmarks  = [[0.0, 100.0], [0.0, 0.0], [100.0, 0.0], [100.0, 100.0]] # position of 4 landmarks\n",
    "world_size = 100.0 # world is NOT cyclic. Robot is allowed to travel \"out of bounds\"\n",
    "max_steering_angle = pi/4 # You don't need to use this value, but it is good to keep in mind the limitations of a real car.\n",
    "\n",
    "# ------------------------------------------------\n",
    "# \n",
    "# this is the robot class\n",
    "#\n",
    "\n",
    "class robot:\n",
    "\n",
    "    # --------\n",
    "\n",
    "    # init: \n",
    "    #\tcreates robot and initializes location/orientation \n",
    "    #\n",
    "\n",
    "    def __init__(self, length = 10.0):\n",
    "        self.x = random.random() * world_size # initial x position\n",
    "        self.y = random.random() * world_size # initial y position\n",
    "        self.orientation = random.random() * 2.0 * pi # initial orientation\n",
    "        self.length = length # length of robot\n",
    "        self.bearing_noise  = 0.0 # initialize bearing noise to zero\n",
    "        self.steering_noise = 0.0 # initialize steering noise to zero\n",
    "        self.distance_noise = 0.0 # initialize distance noise to zero\n",
    "    \n",
    "    def __repr__(self):\n",
    "        return '[x=%.6s y=%.6s orient=%.6s]' % (str(self.x), str(self.y), str(self.orientation))\n",
    "    # --------\n",
    "    # set: \n",
    "    #\tsets a robot coordinate\n",
    "    #\n",
    "\n",
    "    def set(self, new_x, new_y, new_orientation):\n",
    "\n",
    "        if new_orientation < 0 or new_orientation >= 2 * pi:\n",
    "            raise ValueError, 'Orientation must be in [0..2pi]'\n",
    "        self.x = float(new_x)\n",
    "        self.y = float(new_y)\n",
    "        self.orientation = float(new_orientation)\n",
    "\n",
    "\n",
    "    # --------\n",
    "    # set_noise: \n",
    "    #\tsets the noise parameters\n",
    "    #\n",
    "\n",
    "    def set_noise(self, new_b_noise, new_s_noise, new_d_noise):\n",
    "        # makes it possible to change the noise parameters\n",
    "        # this is often useful in particle filters\n",
    "        self.bearing_noise  = float(new_b_noise)\n",
    "        self.steering_noise = float(new_s_noise)\n",
    "        self.distance_noise = float(new_d_noise)\n",
    "    \n",
    "    ############# ONLY ADD/MODIFY CODE BELOW HERE ###################\n",
    "\n",
    "    # --------\n",
    "    # move:\n",
    "    #   move along a section of a circular path according to motion\n",
    "    #\n",
    "    \n",
    "    def move(self, motion): # Do not change the name of this function\n",
    "\n",
    "        # ADD CODE HERE\n",
    "        \n",
    "        return result # make sure your move function returns an instance\n",
    "                      # of the robot class with the correct coordinates.\n",
    "                      \n",
    "    ############## ONLY ADD/MODIFY CODE ABOVE HERE ####################\n",
    "        \n",
    "\n",
    "## IMPORTANT: You may uncomment the test cases below to test your code.\n",
    "## But when you submit this code, your test cases MUST be commented\n",
    "## out. Our testing program provides its own code for testing your\n",
    "## move function with randomized motion data.\n",
    "\n",
    "## --------\n",
    "## TEST CASE:\n",
    "## \n",
    "## 1) The following code should print:\n",
    "##       Robot:     [x=0.0 y=0.0 orient=0.0]\n",
    "##       Robot:     [x=10.0 y=0.0 orient=0.0]\n",
    "##       Robot:     [x=19.861 y=1.4333 orient=0.2886]\n",
    "##       Robot:     [x=39.034 y=7.1270 orient=0.2886]\n",
    "##\n",
    "##\n",
    "##length = 20.\n",
    "##bearing_noise  = 0.0\n",
    "##steering_noise = 0.0\n",
    "##distance_noise = 0.0\n",
    "##\n",
    "##myrobot = robot(length)\n",
    "##myrobot.set(0.0, 0.0, 0.0)\n",
    "##myrobot.set_noise(bearing_noise, steering_noise, distance_noise)\n",
    "##\n",
    "##motions = [[0.0, 10.0], [pi / 6.0, 10], [0.0, 20.0]]\n",
    "##\n",
    "##T = len(motions)\n",
    "##\n",
    "##print 'Robot:    ', myrobot\n",
    "##for t in range(T):\n",
    "##    myrobot = myrobot.move(motions[t])\n",
    "##    print 'Robot:    ', myrobot\n",
    "##\n",
    "##\n",
    "\n",
    "## IMPORTANT: You may uncomment the test cases below to test your code.\n",
    "## But when you submit this code, your test cases MUST be commented\n",
    "## out. Our testing program provides its own code for testing your\n",
    "## move function with randomized motion data.\n",
    "\n",
    "    \n",
    "## 2) The following code should print:\n",
    "##      Robot:     [x=0.0 y=0.0 orient=0.0]\n",
    "##      Robot:     [x=9.9828 y=0.5063 orient=0.1013]\n",
    "##      Robot:     [x=19.863 y=2.0201 orient=0.2027]\n",
    "##      Robot:     [x=29.539 y=4.5259 orient=0.3040]\n",
    "##      Robot:     [x=38.913 y=7.9979 orient=0.4054]\n",
    "##      Robot:     [x=47.887 y=12.400 orient=0.5067]\n",
    "##      Robot:     [x=56.369 y=17.688 orient=0.6081]\n",
    "##      Robot:     [x=64.273 y=23.807 orient=0.7094]\n",
    "##      Robot:     [x=71.517 y=30.695 orient=0.8108]\n",
    "##      Robot:     [x=78.027 y=38.280 orient=0.9121]\n",
    "##      Robot:     [x=83.736 y=46.485 orient=1.0135]\n",
    "##\n",
    "##\n",
    "##length = 20.\n",
    "##bearing_noise  = 0.0\n",
    "##steering_noise = 0.0\n",
    "##distance_noise = 0.0\n",
    "##\n",
    "##myrobot = robot(length)\n",
    "##myrobot.set(0.0, 0.0, 0.0)\n",
    "##myrobot.set_noise(bearing_noise, steering_noise, distance_noise)\n",
    "##\n",
    "##motions = [[0.2, 10.] for row in range(10)]\n",
    "##\n",
    "##T = len(motions)\n",
    "##\n",
    "##print 'Robot:    ', myrobot\n",
    "##for t in range(T):\n",
    "##    myrobot = myrobot.move(motions[t])\n",
    "##    print 'Robot:    ', myrobot\n",
    "\n",
    "## IMPORTANT: You may uncomment the test cases below to test your code.\n",
    "## But when you submit this code, your test cases MUST be commented\n",
    "## out. Our testing program provides its own code for testing your\n",
    "## move function with randomized motion data."
   ]
  },
  {
   "cell_type": "code",
   "execution_count": null,
   "metadata": {
    "collapsed": true
   },
   "outputs": [],
   "source": []
  },
  {
   "cell_type": "code",
   "execution_count": null,
   "metadata": {
    "collapsed": true
   },
   "outputs": [],
   "source": []
  },
  {
   "cell_type": "markdown",
   "metadata": {},
   "source": [
    "##   &#x1F916; &nbsp; <span style=\"color:red\">Lesson 10. Problem Set 3 Help</span>"
   ]
  },
  {
   "cell_type": "code",
   "execution_count": null,
   "metadata": {
    "collapsed": true
   },
   "outputs": [],
   "source": []
  },
  {
   "cell_type": "markdown",
   "metadata": {},
   "source": [
    "##   &#x1F916; &nbsp; <span style=\"color:red\">Lesson 11. Office Hours Week 3</span>"
   ]
  },
  {
   "cell_type": "code",
   "execution_count": null,
   "metadata": {
    "collapsed": true
   },
   "outputs": [],
   "source": []
  }
 ],
 "metadata": {
  "anaconda-cloud": {},
  "hide_input": false,
  "kernelspec": {
   "display_name": "Python [conda root]",
   "language": "python",
   "name": "conda-root-py"
  },
  "language_info": {
   "codemirror_mode": {
    "name": "ipython",
    "version": 3
   },
   "file_extension": ".py",
   "mimetype": "text/x-python",
   "name": "python",
   "nbconvert_exporter": "python",
   "pygments_lexer": "ipython3",
   "version": "3.5.2"
  },
  "latex_envs": {
   "bibliofile": "biblio.bib",
   "cite_by": "apalike",
   "current_citInitial": 1,
   "eqLabelWithNumbers": true,
   "eqNumInitial": 0
  }
 },
 "nbformat": 4,
 "nbformat_minor": 2
}
