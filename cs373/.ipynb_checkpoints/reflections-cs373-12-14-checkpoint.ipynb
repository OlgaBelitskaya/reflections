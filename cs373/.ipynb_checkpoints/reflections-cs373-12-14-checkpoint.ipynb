{
 "cells": [
  {
   "cell_type": "markdown",
   "metadata": {},
   "source": [
    "# &#x1F4D1; &nbsp; <span style=\"color:red\"> Reflections. Artificial Intelligence for Robotics. Sections 12-14</span>"
   ]
  },
  {
   "cell_type": "markdown",
   "metadata": {},
   "source": [
    "##   &#x1F916; &nbsp; <span style=\"color:red\">Links</span>"
   ]
  },
  {
   "cell_type": "markdown",
   "metadata": {
    "collapsed": true
   },
   "source": [
    "Navigation and Metric Path Planning \n",
    "\n",
    "http://web.eecs.utk.edu/~leparker/Courses/CS594-fall08/Lectures/Oct-2-Path-Planning-I.pdf\n",
    "\n",
    "http://web.eecs.utk.edu/~leparker/Courses/CS594-fall08/Lectures/Oct-7-Path-Planning-II.pdf\n",
    "\n",
    "Dynamic Programming Algorithms for Planning and Robotics http://ramp.ensc.sfu.ca/fmmtutorial/slides/mitchell.pdf\n",
    "\n",
    "Trajectory-Based Dynamic Programming http://www.cs.cmu.edu/~cga/papers/mombaur.pdf\n",
    "\n",
    "Dynamic Programming & Greedy Method http://www.mysmu.edu/faculty/hclau/greedy-dp.pdf"
   ]
  },
  {
   "cell_type": "markdown",
   "metadata": {},
   "source": [
    "Underactuated Robotics https://ocw.mit.edu/courses/electrical-engineering-and-computer-science/6-832-underactuated-robotics-spring-2009/video-lectures/\n",
    "\n",
    "Programming for Robotics (ROS) Course 1 https://www.youtube.com/watch?v=0BxVPCInS3M"
   ]
  },
  {
   "cell_type": "markdown",
   "metadata": {
    "collapsed": true
   },
   "source": [
    "Applied Motion Lab http://motion.cs.umn.edu/"
   ]
  },
  {
   "cell_type": "markdown",
   "metadata": {},
   "source": [
    "##   &#x1F916; &nbsp; <span style=\"color:red\">Libraries</span>"
   ]
  },
  {
   "cell_type": "code",
   "execution_count": 1,
   "metadata": {
    "collapsed": true
   },
   "outputs": [],
   "source": [
    "from math import *\n",
    "import numpy as np\n",
    "import pandas as pd\n",
    "import random\n",
    "import os\n",
    "from time import time"
   ]
  },
  {
   "cell_type": "code",
   "execution_count": 2,
   "metadata": {
    "collapsed": true
   },
   "outputs": [],
   "source": [
    "from IPython.display import display, Image\n",
    "import matplotlib.pylab as plt\n",
    "import matplotlib.cm as cm\n",
    "from matplotlib import offsetbox\n",
    "%matplotlib inline"
   ]
  },
  {
   "cell_type": "code",
   "execution_count": 3,
   "metadata": {
    "collapsed": true
   },
   "outputs": [],
   "source": [
    "import skimage\n",
    "from skimage import data, restoration, io\n",
    "import networkx as nx"
   ]
  },
  {
   "cell_type": "markdown",
   "metadata": {},
   "source": [
    "##   &#x1F916; &nbsp; <span style=\"color:red\">Section 12. Search</span>"
   ]
  },
  {
   "cell_type": "markdown",
   "metadata": {
    "collapsed": true
   },
   "source": [
    "### Notes"
   ]
  },
  {
   "cell_type": "markdown",
   "metadata": {},
   "source": [
    "**Path planning**: identifying a trajectory that will cause the robot to reach the goal location when executed.\n",
    "\n",
    "*Basic Path Planning*\n",
    "- Find the optimal path p(s) to a target (or from a source)\n",
    "- Inputs\n",
    "  - Cost c(x) to pass through each state in the state space\n",
    "  - Set of targets or sources (provides boundary conditions)\n",
    "\n",
    "*Techniques for metric path planning*:\n",
    "- Configuration space\n",
    "- Meadow maps\n",
    "- Generalized Voronoi graphs\n",
    "- Grids\n",
    "- Quadtrees\n",
    "- Graph-based planners: A*\n",
    "- Wavefront-based planners"
   ]
  },
  {
   "cell_type": "markdown",
   "metadata": {},
   "source": [
    "Two types of spatial representations commonly used in path planning:\n",
    "- Qualitative (route):\n",
    "  - Express space in terms of connections between landmarks\n",
    "  - Dependent upon perspective of the robot\n",
    "  - Orientation clues are egocentric\n",
    "  - Usually cannot be used to generate quantitative (metric/layout) representations\n",
    "- Quantitative (metric or layout):\n",
    "  - Express space in terms of physical distances of travel\n",
    "  - Bird’s eye view of the world\n",
    "  - Not dependent upon the perspective of the robot\n",
    "  - Independent of orientation and position of robot\n",
    "  - Can be used to generate qualitative (route) representations"
   ]
  },
  {
   "cell_type": "markdown",
   "metadata": {},
   "source": [
    "**A* Search Algorithm**\n",
    "- Similar to breadth-first: at each point in the time the planner can only “see” its node and 1 set of nodes “in front”\n",
    "- Idea is to rate the choices, choose the best one first, throw away any choices whenever you can:\n",
    "  - f*(n) = g*(n) + h*(n) // ‘*’ means these are estimates\n",
    "  - where:\n",
    "    - f *(n) is the “goodness” of the path from Start to n\n",
    "    - g*(n) is the “cost” of going from the Start to node n\n",
    "    - h*(n) is the cost of going from n to the Goal – h is for “heuristic function”, because must have a way of guessing the cost of n to Goal since can’t see the path between n and the Goal\n",
    "    \n",
    "    \n",
    "- Advantage:\n",
    "  - Can be used with any Cspace representation that can be transformed into a graph\n",
    "- Limitation:\n",
    "  - Hard to use for path planning when there are factors to consider other than distance (e.g., rocky terrain, sand, etc.)"
   ]
  },
  {
   "cell_type": "markdown",
   "metadata": {},
   "source": [
    "**Wavefront-Based Path Planners**\n",
    "- Well-suited for grid representations\n",
    "- General idea: consider Cspace to be conductive material with heat radiating out from initial node to goal node\n",
    "- If there is a path, heat will eventually reach goal node\n",
    "- Nice side effect: optimal path from all grid elements to the goal can be computed\n",
    "- Result: map that looks like a potential field"
   ]
  },
  {
   "cell_type": "markdown",
   "metadata": {},
   "source": [
    "**Dynamic programming** provides a way to find globally optimal control laws (policies), which give the appropriate action for any state. Dynamic programming takes as input a one step cost (a.k.a. “reward” or “loss”) function and the dynamics of the problem to be optimized. "
   ]
  },
  {
   "cell_type": "markdown",
   "metadata": {},
   "source": [
    "*Dynamic Programming Principle*\n",
    "\n",
    "### $ϑ(x) = \\min\\limits_{y \\in N(x)} [ϑ(y) + c(x)]$\n",
    "\n",
    "- Value function ϑ(x) is “cost to go” from x to the nearest target\n",
    "- Value ϑ(x) at a point x is the minimum over all points y in the neighborhood N(x) of the sum of\n",
    "  - the value ϑ(y) at point y\n",
    "  - the cost c(x) to travel through x\n",
    "- Dynamic programming applies if\n",
    "  - Costs are additive\n",
    "  - Subsets of feasible paths are themselves feasible\n",
    "  - Concatenations of feasible paths are feasible\n",
    "- Compute solution by value iteration\n",
    "  - Repeatedly solve DP equation until solution stops changing\n",
    "  - In many situations, smart ordering reduces number of iterations"
   ]
  },
  {
   "cell_type": "markdown",
   "metadata": {},
   "source": [
    "*Classes of Models for Dynamic Systems*\n",
    "\n",
    "- Discrete time and state\n",
    "- Continuous time / discrete state (Discrete event systems)\n",
    "-  Discrete time / continuous state\n",
    "-  Continuous time and state\n",
    "- Markovian assumption\n",
    "  - All information relevant to future evolution is captured in the state variable\n",
    "  - Vital assumption, but failures are often treated as nondeterminism\n",
    "- Deterministic assumption\n",
    "  - Future evolution completely determined by initial conditions\n",
    "  - Can be eased in many cases"
   ]
  },
  {
   "cell_type": "markdown",
   "metadata": {},
   "source": [
    "Steps to Designing a Dynamic Programming Algorithm\n",
    "1. Characterize optimal sub-structure\n",
    "2. Recursively define the value of an optimal solution\n",
    "3. Compute the value bottom up\n",
    "4. (if needed) Construct an optimal solution S"
   ]
  },
  {
   "cell_type": "markdown",
   "metadata": {},
   "source": [
    "**Smoothing** - the algorithm to generate smooth paths for actual Robot Motion. This will help the robot move smoothly and fast, rather than taking 90-degree turns within the grid cells and move really slowly around corners."
   ]
  },
  {
   "cell_type": "markdown",
   "metadata": {},
   "source": [
    "### Examples"
   ]
  },
  {
   "cell_type": "code",
   "execution_count": 5,
   "metadata": {},
   "outputs": [
    {
     "data": {
      "text/plain": [
       "{'a': [(2, 3)],\n",
       " 'c': [(1, 0)],\n",
       " 'e': [(0, 2)],\n",
       " 'g': [(2, 1)],\n",
       " 'h': [(2, 2), (4, 3), (1, 4)],\n",
       " 'i': [(1, 2)],\n",
       " 'j': [(4, 4)],\n",
       " 'l': [(4, 0), (3, 3)],\n",
       " 'm': [(0, 1)],\n",
       " 'n': [(3, 1)],\n",
       " 'o': [(0, 0), (4, 2), (3, 4)],\n",
       " 'p': [(1, 1)],\n",
       " 'r': [(3, 0), (1, 3)],\n",
       " 't': [(0, 3)],\n",
       " 'u': [(2, 0)],\n",
       " 'v': [(0, 4)],\n",
       " 'x': [(4, 1)],\n",
       " 'y': [(3, 2), (2, 4)]}"
      ]
     },
     "execution_count": 5,
     "metadata": {},
     "output_type": "execute_result"
    }
   ],
   "source": [
    "matrix1 = [['o', 'c', 'u', 'r', 'l'],\n",
    "           ['m', 'p', 'g', 'n', 'x'],\n",
    "           ['e', 'i', 'h', 'y', 'o'],\n",
    "           ['t', 'r', 'a', 'l', 'h'],\n",
    "           ['v', 'h', 'y', 'o', 'j']]\n",
    "\n",
    "def letter_positions(matrix):\n",
    "    positions = {}\n",
    "    for (y, row) in enumerate(matrix):\n",
    "        for (x, letter) in enumerate(row):\n",
    "             positions.setdefault(letter, []).append((x, y))\n",
    "    return positions\n",
    "    \n",
    "letter_positions(matrix1)"
   ]
  },
  {
   "cell_type": "code",
   "execution_count": 6,
   "metadata": {
    "collapsed": true
   },
   "outputs": [],
   "source": [
    "def search(x, y):\n",
    "    \n",
    "    if grid[x][y] == 2:\n",
    "        print ('found at %d,%d' % (x, y))\n",
    "        return True\n",
    "    elif grid[x][y] == 1:\n",
    "        print ('wall at %d,%d' % (x, y))\n",
    "        return False\n",
    "    elif grid[x][y] == 3:\n",
    "        print ('visited at %d,%d' % (x, y))\n",
    "        return False\n",
    "     \n",
    "    print ('visiting %d,%d' % (x, y))\n",
    "\n",
    "    grid[x][y] = 3\n",
    "\n",
    "    if ((x < len(grid)-1 and search(x+1, y))\n",
    "\n",
    "        or (y > 0 and search(x, y-1))\n",
    "\n",
    "        or (x > 0 and search(x-1, y))\n",
    "\n",
    "        or (y < len(grid)-1 and search(x, y+1))):\n",
    "\n",
    "        return True\n",
    "\n",
    "    return False"
   ]
  },
  {
   "cell_type": "code",
   "execution_count": 7,
   "metadata": {
    "collapsed": true
   },
   "outputs": [],
   "source": [
    "grid = [[0, 0, 0, 0, 0, 1],\n",
    "        [1, 1, 0, 0, 0, 1],\n",
    "        [0, 0, 0, 1, 0, 0],\n",
    "        [0, 1, 1, 0, 0, 1],\n",
    "        [0, 1, 0, 0, 1, 0],\n",
    "        [0, 1, 0, 0, 0, 2]]"
   ]
  },
  {
   "cell_type": "code",
   "execution_count": 8,
   "metadata": {},
   "outputs": [
    {
     "name": "stdout",
     "output_type": "stream",
     "text": [
      "visiting 0,0\n",
      "wall at 1,0\n",
      "visiting 0,1\n",
      "wall at 1,1\n",
      "visited at 0,0\n",
      "visiting 0,2\n",
      "visiting 1,2\n",
      "visiting 2,2\n",
      "wall at 3,2\n",
      "visiting 2,1\n",
      "wall at 3,1\n",
      "visiting 2,0\n",
      "visiting 3,0\n",
      "visiting 4,0\n",
      "visiting 5,0\n",
      "visited at 4,0\n",
      "wall at 5,1\n",
      "visited at 3,0\n",
      "wall at 4,1\n",
      "visited at 2,0\n",
      "wall at 3,1\n",
      "wall at 1,0\n",
      "visited at 2,1\n",
      "wall at 1,1\n",
      "visited at 2,2\n",
      "visited at 1,2\n",
      "wall at 2,3\n",
      "wall at 1,1\n",
      "visited at 0,2\n",
      "visiting 1,3\n",
      "wall at 2,3\n",
      "visited at 1,2\n",
      "visiting 0,3\n",
      "visited at 1,3\n",
      "visited at 0,2\n",
      "visiting 0,4\n",
      "visiting 1,4\n",
      "visiting 2,4\n",
      "visiting 3,4\n",
      "wall at 4,4\n",
      "visiting 3,3\n",
      "visiting 4,3\n",
      "visiting 5,3\n",
      "visiting 5,2\n",
      "wall at 5,1\n",
      "visiting 4,2\n",
      "visited at 5,2\n",
      "wall at 4,1\n",
      "wall at 3,2\n",
      "visited at 4,3\n",
      "visited at 5,3\n",
      "visited at 4,3\n",
      "visiting 5,4\n",
      "visited at 5,3\n",
      "wall at 4,4\n",
      "found at 5,5\n"
     ]
    },
    {
     "data": {
      "text/plain": [
       "True"
      ]
     },
     "execution_count": 8,
     "metadata": {},
     "output_type": "execute_result"
    }
   ],
   "source": [
    "search(0,0)"
   ]
  },
  {
   "cell_type": "code",
   "execution_count": 9,
   "metadata": {},
   "outputs": [
    {
     "data": {
      "image/png": "[encoded data removed]",
      "text/plain": [
       "<matplotlib.figure.Figure at 0x11887d550>"
      ]
     },
     "metadata": {},
     "output_type": "display_data"
    }
   ],
   "source": [
    "check = np.zeros((7, 7))\n",
    "check[::3, 1::2] = 1\n",
    "check[1::2, ::3] = 1\n",
    "plt.imshow(check, cmap='gray', interpolation='nearest', alpha=0.5);"
   ]
  },
  {
   "cell_type": "code",
   "execution_count": null,
   "metadata": {
    "collapsed": true
   },
   "outputs": [],
   "source": []
  },
  {
   "cell_type": "markdown",
   "metadata": {},
   "source": [
    "### Quizes"
   ]
  },
  {
   "cell_type": "code",
   "execution_count": 9,
   "metadata": {
    "collapsed": true
   },
   "outputs": [],
   "source": [
    "# Quiz: Compute Cost\n",
    "# 7"
   ]
  },
  {
   "cell_type": "code",
   "execution_count": 10,
   "metadata": {
    "collapsed": true
   },
   "outputs": [],
   "source": [
    "# Quiz: Compute Cost 2\n",
    "# 6"
   ]
  },
  {
   "cell_type": "code",
   "execution_count": 11,
   "metadata": {
    "collapsed": true
   },
   "outputs": [],
   "source": [
    "# Quiz: Optimal Path\n",
    "# 15"
   ]
  },
  {
   "cell_type": "code",
   "execution_count": 12,
   "metadata": {
    "collapsed": true
   },
   "outputs": [],
   "source": [
    "# Quiz: Optimal Path 2\n",
    "# 16"
   ]
  },
  {
   "cell_type": "code",
   "execution_count": 13,
   "metadata": {
    "collapsed": true
   },
   "outputs": [],
   "source": [
    "# Quiz: Maze\n",
    "# 7"
   ]
  },
  {
   "cell_type": "code",
   "execution_count": 14,
   "metadata": {
    "collapsed": true
   },
   "outputs": [],
   "source": [
    "# Quiz: Maze 2\n",
    "# 11"
   ]
  },
  {
   "cell_type": "code",
   "execution_count": 10,
   "metadata": {
    "collapsed": true
   },
   "outputs": [],
   "source": [
    "# Quiz: First Search Program\n",
    "# ----------\n",
    "# User Instructions:\n",
    "# \n",
    "# Define a function, search() that returns a list\n",
    "# in the form of [optimal path length, row, col]. For\n",
    "# the grid shown below, your function should output\n",
    "# [11, 4, 5].\n",
    "#\n",
    "# If there is no valid path from the start point\n",
    "# to the goal, your function should return the string\n",
    "# 'fail'\n",
    "# ----------\n",
    "\n",
    "# Grid format:\n",
    "#   0 = Navigable space\n",
    "#   1 = Occupied space\n",
    "\n",
    "grid1 = [[0, 0, 1, 0, 0, 0],\n",
    "         [0, 0, 1, 0, 0, 0],\n",
    "         [0, 0, 0, 0, 1, 0],\n",
    "         [0, 0, 1, 1, 1, 0],\n",
    "         [0, 0, 0, 0, 1, 0]]\n",
    "init1 = [0, 0]\n",
    "goal1 = [len(grid1)-1, len(grid1[0])-1]\n",
    "cost1 = 1\n",
    "\n",
    "delta = [[-1, 0], # go up\n",
    "         [ 0,-1], # go left\n",
    "         [ 1, 0], # go down\n",
    "         [ 0, 1]] # go right\n",
    "\n",
    "delta_name = ['^', '<', 'v', '>']\n",
    "\n",
    "\n",
    "def search(grid,init,goal,cost):\n",
    "    # ----------------------------------------\n",
    "    # insert code here\n",
    "    # ----------------------------------------\n",
    "    path = 'fail'\n",
    "    way = [0, init[0], init[1]]\n",
    "    ways = []\n",
    "    \n",
    "    while True:        \n",
    "        if way[1] == goal[0] and way[2] == goal[1]:\n",
    "            path = way\n",
    "            break\n",
    "            \n",
    "        for direction in delta:\n",
    "            new_way = [way[0] + cost, way[1] + direction[0], way[2] + direction[1]]\n",
    "            \n",
    "            if (new_way[1] > -1) & (new_way[1] < len(grid)) & (new_way[2] > -1) & (new_way[2] < len(grid[0])):\n",
    "                if (grid[new_way[1]][new_way[2]] == 0):\n",
    "                    ways.append(new_way)\n",
    "                \n",
    "        grid[way[1]][way[2]] = 3\n",
    "        \n",
    "        if len(ways) == 0:\n",
    "            break\n",
    "            \n",
    "        ways.sort()\n",
    "\n",
    "        way = ways[0]\n",
    "#        print (way)\n",
    "        ways.pop(0)\n",
    "        \n",
    "    return path"
   ]
  },
  {
   "cell_type": "code",
   "execution_count": 11,
   "metadata": {},
   "outputs": [
    {
     "data": {
      "text/plain": [
       "[11, 4, 5]"
      ]
     },
     "execution_count": 11,
     "metadata": {},
     "output_type": "execute_result"
    }
   ],
   "source": [
    "search(grid1,init1,goal1,cost1)"
   ]
  },
  {
   "cell_type": "code",
   "execution_count": 12,
   "metadata": {
    "collapsed": true
   },
   "outputs": [],
   "source": [
    "def search2(grid,init,goal,cost):\n",
    "    # ----------------------------------------\n",
    "    # insert code here\n",
    "    # ----------------------------------------\n",
    "    path = 'fail'\n",
    "    way = [0, init[0], init[1], 'start']\n",
    "    ways = []\n",
    "    directions = []\n",
    "    \n",
    "    while True:        \n",
    "        if way[1] == goal[0] and way[2] == goal[1]:\n",
    "            path = way[:3]\n",
    "            break\n",
    "            \n",
    "        for i in range(len(delta)):\n",
    "            new_way = [way[0] + cost, way[1] + delta[i][0], way[2] + delta[i][1], delta_name[i]]\n",
    "            \n",
    "            if (new_way[1] > -1) & (new_way[1] < len(grid)) & (new_way[2] > -1) & (new_way[2] < len(grid[0])):\n",
    "                if (grid[new_way[1]][new_way[2]] == 0):\n",
    "                    ways.append(new_way)\n",
    "                    \n",
    "                \n",
    "        grid[way[1]][way[2]] = 3\n",
    "        \n",
    "        if len(ways) == 0:\n",
    "            break\n",
    "            \n",
    "        ways.sort()\n",
    "\n",
    "        way = ways[0]\n",
    "        \n",
    "        directions.append([ways[0][0],ways[0][3]])\n",
    "#        print (way)\n",
    "        ways.pop(0)\n",
    "\n",
    "    return path, directions"
   ]
  },
  {
   "cell_type": "code",
   "execution_count": 13,
   "metadata": {
    "collapsed": true
   },
   "outputs": [],
   "source": [
    "grid1 = [[0, 0, 1, 0, 0, 0],\n",
    "         [0, 0, 1, 0, 0, 0],\n",
    "         [0, 0, 0, 0, 1, 0],\n",
    "         [0, 0, 1, 1, 1, 0],\n",
    "         [0, 0, 0, 0, 1, 0]]\n",
    "init1 = [0, 0]\n",
    "goal1 = [len(grid1)-1, len(grid1[0])-1]\n",
    "cost1 = 1\n",
    "directions = search2(grid1,init1,goal1,cost1)[1]"
   ]
  },
  {
   "cell_type": "code",
   "execution_count": 14,
   "metadata": {},
   "outputs": [
    {
     "name": "stdout",
     "output_type": "stream",
     "text": [
      "[[1, '>'], [1, 'v'], [2, '>'], [2, 'v'], [2, 'v'], [3, '>'], [3, 'v'], [3, 'v'], [3, 'v'], [4, '>'], [4, '>'], [4, '>'], [4, '>'], [4, 'v'], [4, 'v'], [4, 'v'], [4, 'v'], [5, '>'], [5, '>'], [5, '>'], [5, '>'], [5, 'v'], [5, 'v'], [5, 'v'], [5, 'v'], [6, '^'], [6, '^'], [6, '^'], [6, '>'], [6, '>'], [6, '>'], [6, '>'], [6, '>'], [7, '^'], [7, '^'], [7, '^'], [7, '>'], [7, '>'], [7, '>'], [7, '>'], [7, '>'], [7, '>'], [7, '>'], [7, '>'], [8, '>'], [8, '>'], [8, '>'], [8, '^'], [8, '^'], [8, '^'], [8, '>'], [8, '>'], [8, '>'], [9, '>'], [9, '>'], [9, '>'], [9, '>'], [9, '>'], [9, '>'], [9, '^'], [9, '^'], [9, '^'], [9, 'v'], [9, 'v'], [9, 'v'], [10, 'v'], [10, 'v'], [10, 'v'], [11, 'v']]\n"
     ]
    }
   ],
   "source": [
    "print(directions)"
   ]
  },
  {
   "cell_type": "code",
   "execution_count": 15,
   "metadata": {},
   "outputs": [
    {
     "data": {
      "text/plain": [
       "[[1, ['>', 'v']],\n",
       " [2, ['>', 'v', 'v']],\n",
       " [3, ['>', 'v', 'v', 'v']],\n",
       " [4, ['>', '>', '>', '>', 'v', 'v', 'v', 'v']],\n",
       " [5, ['>', '>', '>', '>', 'v', 'v', 'v', 'v']],\n",
       " [6, ['^', '^', '^', '>', '>', '>', '>', '>']],\n",
       " [7, ['^', '^', '^', '>', '>', '>', '>', '>', '>', '>', '>']],\n",
       " [8, ['>', '>', '>', '^', '^', '^', '>', '>', '>']],\n",
       " [9, ['>', '>', '>', '>', '>', '>', '^', '^', '^', 'v', 'v', 'v']],\n",
       " [10, ['v', 'v', 'v']],\n",
       " [11, ['v']]]"
      ]
     },
     "execution_count": 15,
     "metadata": {},
     "output_type": "execute_result"
    }
   ],
   "source": [
    "values = set(map(lambda x:x[0], directions))\n",
    "values\n",
    "newlist = [[x, [y[1] for y in directions if y[0]==x]] for x in values]\n",
    "newlist"
   ]
  },
  {
   "cell_type": "code",
   "execution_count": 16,
   "metadata": {
    "collapsed": true
   },
   "outputs": [],
   "source": [
    "# Quiz: Expansion Grid\n",
    "# -----------\n",
    "# User Instructions:\n",
    "# \n",
    "# Modify the function search so that it returns\n",
    "# a table of values called expand. This table\n",
    "# will keep track of which step each node was\n",
    "# expanded.\n",
    "#\n",
    "# Make sure that the initial cell in the grid \n",
    "# you return has the value 0.\n",
    "# ----------\n",
    "\n",
    "grid = [[0, 0, 1, 0, 0, 0],\n",
    "        [0, 0, 0, 0, 0, 0],\n",
    "        [0, 0, 1, 0, 1, 0],\n",
    "        [0, 0, 1, 0, 1, 0],\n",
    "        [0, 0, 1, 0, 1, 0]]\n",
    "init = [0, 0]\n",
    "goal = [len(grid)-1, len(grid[0])-1]\n",
    "cost = 1\n",
    "\n",
    "delta = [[-1, 0], # go up\n",
    "         [ 0,-1], # go left\n",
    "         [ 1, 0], # go down\n",
    "         [ 0, 1]] # go right\n",
    "\n",
    "delta_name = ['^', '<', 'v', '>']\n",
    "\n",
    "def search3(grid,init,goal,cost):\n",
    "    # ----------------------------------------\n",
    "    # modify code below\n",
    "    # ----------------------------------------\n",
    "    closed = [[0 for row in range(len(grid[0]))] for col in range(len(grid))]\n",
    "    closed[init[0]][init[1]] = 1\n",
    "\n",
    "    x = init[0]\n",
    "    y = init[1]\n",
    "    g = 0\n",
    "\n",
    "    open = [[g, x, y]]\n",
    "    \n",
    "    expand = [[-1 for i in range(len(grid[0]))] for j in range(len(grid))]\n",
    "    count = 0\n",
    "    \n",
    "    found = False  # flag that is set when search is complete\n",
    "    resign = False # flag set if we can't find expand\n",
    " \n",
    "    while not found and not resign:\n",
    "        if len(open) == 0:\n",
    "            resign = True\n",
    "        else:\n",
    "            open.sort()\n",
    "            open.reverse()\n",
    "            next = open.pop()\n",
    "            x = next[1]\n",
    "            y = next[2]\n",
    "            g = next[0]\n",
    "            \n",
    "            expand[x][y] = count\n",
    "            count += 1\n",
    "            \n",
    "            if x == goal[0] and y == goal[1]:\n",
    "                found = True\n",
    "            else:\n",
    "                for i in range(len(delta)):\n",
    "                    x2 = x + delta[i][0]\n",
    "                    y2 = y + delta[i][1]\n",
    "                    if x2 >= 0 and x2 < len(grid) and y2 >=0 and y2 < len(grid[0]):\n",
    "                        if closed[x2][y2] == 0 and grid[x2][y2] == 0:\n",
    "                            g2 = g + cost\n",
    "                            open.append([g2, x2, y2])\n",
    "                            closed[x2][y2] = 1\n",
    "    return expand"
   ]
  },
  {
   "cell_type": "code",
   "execution_count": 17,
   "metadata": {},
   "outputs": [
    {
     "data": {
      "text/plain": [
       "[[0, 1, -1, 11, 15, 18],\n",
       " [2, 3, 5, 8, 12, 16],\n",
       " [4, 6, -1, 13, -1, 19],\n",
       " [7, 9, -1, 17, -1, 21],\n",
       " [10, 14, -1, 20, -1, 22]]"
      ]
     },
     "execution_count": 17,
     "metadata": {},
     "output_type": "execute_result"
    }
   ],
   "source": [
    "search3(grid,init,goal,cost)"
   ]
  },
  {
   "cell_type": "code",
   "execution_count": 18,
   "metadata": {
    "collapsed": true
   },
   "outputs": [],
   "source": [
    "# Quiz: Print Path\n",
    "# -----------\n",
    "# User Instructions:\n",
    "#\n",
    "# Modify the the search function so that it returns\n",
    "# a shortest path as follows:\n",
    "# \n",
    "# [['>', 'v', ' ', ' ', ' ', ' '],\n",
    "#  [' ', '>', '>', '>', '>', 'v'],\n",
    "#  [' ', ' ', ' ', ' ', ' ', 'v'],\n",
    "#  [' ', ' ', ' ', ' ', ' ', 'v'],\n",
    "#  [' ', ' ', ' ', ' ', ' ', '*']]\n",
    "#\n",
    "# Where '>', '<', '^', and 'v' refer to right, left, \n",
    "# up, and down motions. Note that the 'v' should be \n",
    "# lowercase. '*' should mark the goal cell.\n",
    "#\n",
    "# You may assume that all test cases for this function\n",
    "# will have a path from init to goal.\n",
    "# ----------\n",
    "\n",
    "grid = [[0, 0, 1, 0, 0, 0],\n",
    "        [0, 0, 0, 0, 0, 0],\n",
    "        [0, 0, 1, 0, 1, 0],\n",
    "        [0, 0, 1, 0, 1, 0],\n",
    "        [0, 0, 1, 0, 1, 0]]\n",
    "init = [0, 0]\n",
    "goal = [len(grid)-1, len(grid[0])-1]\n",
    "cost = 1\n",
    "\n",
    "delta = [[-1, 0 ], # go up\n",
    "         [ 0, -1], # go left\n",
    "         [ 1, 0 ], # go down\n",
    "         [ 0, 1 ]] # go right\n",
    "\n",
    "delta_name = ['^', '<', 'v', '>']\n",
    "\n",
    "def search4(grid,init,goal,cost):\n",
    "    # ----------------------------------------\n",
    "    # modify code below\n",
    "    # ----------------------------------------\n",
    "    closed = [[0 for row in range(len(grid[0]))] for col in range(len(grid))]\n",
    "    closed[init[0]][init[1]] = 1\n",
    "\n",
    "    x = init[0]\n",
    "    y = init[1]\n",
    "    g = 0\n",
    "\n",
    "    open = [[g, x, y]]\n",
    "\n",
    "    found = False  # flag that is set when search is complete\n",
    "    resign = False # flag set if we can't find expand\n",
    "\n",
    "    result = [[-1 for i in range(len(grid[0]))] for j in range(len(grid))]\n",
    "    count = 0\n",
    "    \n",
    "    while not found and not resign:\n",
    "        if len(open) == 0:\n",
    "            resign = True\n",
    "            return 'fail'\n",
    "        else:\n",
    "            open.sort()\n",
    "            open.reverse()\n",
    "            next = open.pop()\n",
    "            x = next[1]\n",
    "            y = next[2]\n",
    "            g = next[0]\n",
    "            \n",
    "            result[x][y] = count\n",
    "            count += 1\n",
    "            \n",
    "            if x == goal[0] and y == goal[1]:\n",
    "                found = True\n",
    "            else:\n",
    "                for i in range(len(delta)):\n",
    "                    x2 = x + delta[i][0]\n",
    "                    y2 = y + delta[i][1]\n",
    "                    if x2 >= 0 and x2 < len(grid) and y2 >=0 and y2 < len(grid[0]):\n",
    "                        if closed[x2][y2] == 0 and grid[x2][y2] == 0:\n",
    "                            g2 = g + cost\n",
    "                            open.append([g2, x2, y2])\n",
    "                            closed[x2][y2] = 1\n",
    "            \n",
    "    edges = []\n",
    "    for i in range(len(result)):\n",
    "        for j in range(len(result[0])):\n",
    "            if  result[i][j] == -1:\n",
    "                continue\n",
    "            else:\n",
    "                next_elements = []\n",
    "\n",
    "                for l in range(len(delta)):\n",
    "                    i2, j2 = i + delta[l][0], j + delta[l][1]\n",
    "                    if i2 >= 0 and i2 < len(result) and j2 >=0 and j2 < len(result[0]):\n",
    "                        if result[i2][j2] > result[i][j]:\n",
    "                            next_elements.append([result[i][j], result[i2][j2], delta_name[l]])\n",
    "                                \n",
    "            if next_elements != []:\n",
    "                for el in next_elements:\n",
    "                    edges.append(el)\n",
    "                    \n",
    "    edges.sort(key=lambda x: x[0], reverse=True)\n",
    "    edges.sort(key=lambda y: y[1], reverse=True)\n",
    "    path = [edges[0]]\n",
    "    i=1\n",
    "    while i < len(edges):    \n",
    "        if edges[i][1] == path[-1][0]:\n",
    "            path.append(edges[i])\n",
    "        i+=1\n",
    "        \n",
    "    expand = [[' ' for row in range(len(grid[0]))] for col in range(len(grid))]\n",
    "    expand[goal[0]][goal[1]]='*'\n",
    "    \n",
    "    positions = []\n",
    " \n",
    "    def find(target, matrix):\n",
    "        for i, row in enumerate(matrix):\n",
    "            for j, el in enumerate(row):\n",
    "                if el == target:\n",
    "                    return [i, j]\n",
    "        return (None, None)\n",
    "\n",
    "    for element in path:\n",
    "        position = find(element[0], result)\n",
    "        expand[position[0]][position[1]]=element[2]\n",
    "       \n",
    "    return expand # make sure you return the shortest path"
   ]
  },
  {
   "cell_type": "code",
   "execution_count": 19,
   "metadata": {},
   "outputs": [
    {
     "data": {
      "text/plain": [
       "[['v', ' ', ' ', ' ', ' ', ' '],\n",
       " ['>', '>', '>', '>', '>', 'v'],\n",
       " [' ', ' ', ' ', ' ', ' ', 'v'],\n",
       " [' ', ' ', ' ', ' ', ' ', 'v'],\n",
       " [' ', ' ', ' ', ' ', ' ', '*']]"
      ]
     },
     "execution_count": 19,
     "metadata": {},
     "output_type": "execute_result"
    }
   ],
   "source": [
    "search4(grid,init,goal,cost)"
   ]
  },
  {
   "cell_type": "code",
   "execution_count": 20,
   "metadata": {
    "collapsed": true
   },
   "outputs": [],
   "source": [
    "# Quiz: Print Path\n",
    "# -----------\n",
    "# User Instructions:\n",
    "#\n",
    "# Modify the the search function so that it returns\n",
    "# a shortest path as follows:\n",
    "# \n",
    "# [['>', 'v', ' ', ' ', ' ', ' '],\n",
    "#  [' ', '>', '>', '>', '>', 'v'],\n",
    "#  [' ', ' ', ' ', ' ', ' ', 'v'],\n",
    "#  [' ', ' ', ' ', ' ', ' ', 'v'],\n",
    "#  [' ', ' ', ' ', ' ', ' ', '*']]\n",
    "#\n",
    "# Where '>', '<', '^', and 'v' refer to right, left, \n",
    "# up, and down motions. Note that the 'v' should be \n",
    "# lowercase. '*' should mark the goal cell.\n",
    "#\n",
    "# You may assume that all test cases for this function\n",
    "# will have a path from init to goal.\n",
    "# ----------\n",
    "\n",
    "grid = [[0, 0, 1, 0, 0, 0],\n",
    "        [0, 0, 0, 0, 0, 0],\n",
    "        [0, 0, 1, 0, 1, 0],\n",
    "        [0, 0, 1, 0, 1, 0],\n",
    "        [0, 0, 1, 0, 1, 0]]\n",
    "init = [0, 0]\n",
    "goal = [len(grid)-1, len(grid[0])-1]\n",
    "cost = 1\n",
    "\n",
    "delta = [[-1, 0 ], # go up\n",
    "         [ 0, -1], # go left\n",
    "         [ 1, 0 ], # go down\n",
    "         [ 0, 1 ]] # go right\n",
    "\n",
    "delta_name = ['^', '<', 'v', '>']\n",
    "\n",
    "def search5(grid,init,goal,cost):\n",
    "    # ----------------------------------------\n",
    "    # modify code below\n",
    "    # ----------------------------------------\n",
    "    closed = [[0 for row in range(len(grid[0]))] for col in range(len(grid))]\n",
    "    closed[init[0]][init[1]] = 1\n",
    "\n",
    "    x = init[0]\n",
    "    y = init[1]\n",
    "    g = 0\n",
    "\n",
    "    open = [[g, x, y]]\n",
    "\n",
    "    found = False  # flag that is set when search is complete\n",
    "    resign = False # flag set if we can't find expand\n",
    "    \n",
    "    expand = [[' ' for col in range(len(grid[0]))] for row in range(len(grid))]\n",
    "    \n",
    "    class node:\n",
    "        def __init__(self, x, y):\n",
    "            self.children = [None,None,None,None]\n",
    "            self.parent = None\n",
    "            self.y = y\n",
    "            self.x = x\n",
    "            \n",
    "        def coordinate_find(self,x,y):\n",
    "            if self.x == x and self.y == y:\n",
    "                return self\n",
    "            else:\n",
    "                for child in self.children:\n",
    "                    if child != None:\n",
    "                        if child.coordinate_find(x,y) != None:\n",
    "                            return child.coordinate_find(x,y)\n",
    "    \n",
    "    init_node = node(x,y)\n",
    "    next_node = init_node\n",
    "  \n",
    "    while not found and not resign:\n",
    "        if len(open) == 0:\n",
    "            resign = True\n",
    "            return 'fail'\n",
    "            \n",
    "        else:\n",
    "            open.sort()\n",
    "            open.reverse()\n",
    "            next = open.pop()\n",
    "            x = next[1]\n",
    "            y = next[2]\n",
    "            g = next[0]\n",
    "            \n",
    "            next_node = init_node.coordinate_find(x,y)\n",
    "            \n",
    "            if x == goal[0] and y == goal[1]:\n",
    "                found = True\n",
    "                expand[x][y] = '*'\n",
    "                while True:\n",
    "                    parent_node = next_node.parent\n",
    "                    for i in range(len(parent_node.children)):\n",
    "                        if parent_node.children[i] == next_node:\n",
    "                            expand[parent_node.x][parent_node.y] = delta_name[i]\n",
    "                    if parent_node == init_node:\n",
    "                        break\n",
    "                    next_node = parent_node\n",
    "            else:\n",
    "                for i in range(len(delta)):\n",
    "                    x2 = x + delta[i][0]\n",
    "                    y2 = y + delta[i][1]\n",
    "                    if x2 >= 0 and x2 < len(grid) and y2 >=0 and y2 < len(grid[0]):\n",
    "                        if closed[x2][y2] == 0 and grid[x2][y2] == 0:\n",
    "                            g2 = g + cost\n",
    "                            open.append([g2, x2, y2])\n",
    "                            next_node.children[i] = node(x2,y2)\n",
    "                            child_node = next_node.children[i]\n",
    "                            child_node.parent = next_node\n",
    "                            closed[x2][y2] = 1             \n",
    "       \n",
    "    return expand # make sure you return the shortest path"
   ]
  },
  {
   "cell_type": "code",
   "execution_count": 21,
   "metadata": {},
   "outputs": [
    {
     "data": {
      "text/plain": [
       "[['>', 'v', ' ', ' ', ' ', ' '],\n",
       " [' ', '>', '>', '>', '>', 'v'],\n",
       " [' ', ' ', ' ', ' ', ' ', 'v'],\n",
       " [' ', ' ', ' ', ' ', ' ', 'v'],\n",
       " [' ', ' ', ' ', ' ', ' ', '*']]"
      ]
     },
     "execution_count": 21,
     "metadata": {},
     "output_type": "execute_result"
    }
   ],
   "source": [
    "search5(grid,init,goal,cost)"
   ]
  },
  {
   "cell_type": "code",
   "execution_count": 22,
   "metadata": {
    "collapsed": true
   },
   "outputs": [],
   "source": [
    "# Quiz: Implement A*\n",
    "    \n",
    "# -----------\n",
    "# User Instructions:\n",
    "#\n",
    "# Modify the the search function so that it becomes\n",
    "# an A* search algorithm as defined in the previous\n",
    "# lectures.\n",
    "#\n",
    "# Your function should return the expanded grid\n",
    "# which shows, for each element, the count when\n",
    "# it was expanded or -1 if the element was never expanded.\n",
    "# \n",
    "# If there is no path from init to goal,\n",
    "# the function should return the string 'fail'\n",
    "# ----------\n",
    "\n",
    "grid = [[0, 1, 0, 0, 0, 0],\n",
    "        [0, 1, 0, 0, 0, 0],\n",
    "        [0, 1, 0, 0, 0, 0],\n",
    "        [0, 1, 0, 0, 0, 0],\n",
    "        [0, 0, 0, 0, 1, 0]]\n",
    "heuristic = [[9, 8, 7, 6, 5, 4],\n",
    "             [8, 7, 6, 5, 4, 3],\n",
    "             [7, 6, 5, 4, 3, 2],\n",
    "             [6, 5, 4, 3, 2, 1],\n",
    "             [5, 4, 3, 2, 1, 0]]\n",
    "\n",
    "init = [0, 0]\n",
    "goal = [len(grid)-1, len(grid[0])-1]\n",
    "cost = 1\n",
    "\n",
    "delta = [[-1, 0 ], # go up\n",
    "         [ 0, -1], # go left\n",
    "         [ 1, 0 ], # go down\n",
    "         [ 0, 1 ]] # go right\n",
    "\n",
    "delta_name = ['^', '<', 'v', '>']\n",
    "\n",
    "def search6(grid,init,goal,cost,heuristic):\n",
    "    # ----------------------------------------\n",
    "    # modify the code below\n",
    "    # ----------------------------------------\n",
    "    closed = [[0 for col in range(len(grid[0]))] for row in range(len(grid))]\n",
    "    closed[init[0]][init[1]] = 1\n",
    "\n",
    "    expand = [[-1 for col in range(len(grid[0]))] for row in range(len(grid))]\n",
    "#     action = [[-1 for col in range(len(grid[0]))] for row in range(len(grid))]\n",
    "\n",
    "    x, y = init[0], init[1]\n",
    "    g, step, count = 0, 0, 0\n",
    "\n",
    "    open = [[step, g, x, y]]\n",
    "\n",
    "    found = False  # flag that is set when search is complete\n",
    "    resign = False # flag set if we can't find expand\n",
    "    \n",
    "    while not found and not resign:\n",
    "        if len(open) == 0:\n",
    "            resign = True\n",
    "            return \"Fail\"\n",
    "        else:\n",
    "            open.sort(reverse=True)\n",
    "            next_open = open.pop()\n",
    "            \n",
    "            x, y = next_open[2], next_open[3]\n",
    "            step, g = next_open[0], next_open[1]\n",
    "\n",
    "            expand[x][y] = count\n",
    "            count += 1\n",
    "            \n",
    "            if x == goal[0] and y == goal[1]:\n",
    "                found = True\n",
    "            else:\n",
    "                for i in range(len(delta)):\n",
    "                    x2, y2 = x + delta[i][0], y + delta[i][1]\n",
    "                    \n",
    "                    if x2 >= 0 and x2 < len(grid) and y2 >=0 and y2 < len(grid[0]):\n",
    "                        if closed[x2][y2] == 0 and grid[x2][y2] == 0:\n",
    "                            g2 = g + cost\n",
    "                            step2 = g2 + heuristic[x2][y2]\n",
    "                            open.append([step2, g2, x2, y2])\n",
    "                            closed[x2][y2] = 1\n",
    "\n",
    "    return expand"
   ]
  },
  {
   "cell_type": "code",
   "execution_count": 23,
   "metadata": {},
   "outputs": [
    {
     "data": {
      "text/plain": [
       "[[0, -1, -1, -1, -1, -1],\n",
       " [1, -1, -1, -1, -1, -1],\n",
       " [2, -1, -1, -1, -1, -1],\n",
       " [3, -1, 8, 9, 10, 11],\n",
       " [4, 5, 6, 7, -1, 12]]"
      ]
     },
     "execution_count": 23,
     "metadata": {},
     "output_type": "execute_result"
    }
   ],
   "source": [
    "search6(grid,init,goal,cost,heuristic)"
   ]
  },
  {
   "cell_type": "code",
   "execution_count": 24,
   "metadata": {},
   "outputs": [
    {
     "data": {
      "text/plain": [
       "[[0, -1, -1, -1, -1, -1],\n",
       " [1, 2, 4, 6, 9, 11],\n",
       " [3, -1, 7, 10, 12, 14],\n",
       " [5, -1, -1, 13, 15, 17],\n",
       " [8, -1, -1, 16, -1, 18]]"
      ]
     },
     "execution_count": 24,
     "metadata": {},
     "output_type": "execute_result"
    }
   ],
   "source": [
    "grid2 = [[0, 1, 0, 1, 0, 0],\n",
    "         [0, 0, 0, 0, 0, 0],\n",
    "         [0, 1, 0, 0, 0, 0],\n",
    "         [0, 1, 1, 0, 0, 0],\n",
    "         [0, 1, 0, 0, 1, 0]]\n",
    "\n",
    "search6(grid2,init,goal,cost,heuristic)"
   ]
  },
  {
   "cell_type": "code",
   "execution_count": 25,
   "metadata": {},
   "outputs": [
    {
     "data": {
      "text/plain": [
       "[[0, -1, 6, -1, 12, 16],\n",
       " [1, 2, 4, 7, 10, 13],\n",
       " [3, -1, 8, 11, 14, 17],\n",
       " [5, -1, -1, 15, 18, 20],\n",
       " [9, -1, 21, 19, -1, 22]]"
      ]
     },
     "execution_count": 25,
     "metadata": {},
     "output_type": "execute_result"
    }
   ],
   "source": [
    "heuristic2 = [[0 for col in range(len(grid2[0]))] for row in range(len(grid2))]\n",
    "search6(grid2,init,goal,cost,heuristic2)"
   ]
  },
  {
   "cell_type": "code",
   "execution_count": 26,
   "metadata": {
    "collapsed": true
   },
   "outputs": [],
   "source": [
    "# Quiz: Computing Value\n",
    "# 15 (steps from the goal with values = 1)"
   ]
  },
  {
   "cell_type": "code",
   "execution_count": 27,
   "metadata": {
    "collapsed": true
   },
   "outputs": [],
   "source": [
    "# Quiz: Computing Value 2\n",
    "# 3"
   ]
  },
  {
   "cell_type": "code",
   "execution_count": 28,
   "metadata": {
    "collapsed": true
   },
   "outputs": [],
   "source": [
    "# Quiz: Value Program\n",
    "# ----------\n",
    "# User Instructions:\n",
    "# \n",
    "# Create a function compute_value which returns\n",
    "# a grid of values. The value of a cell is the minimum\n",
    "# number of moves required to get from the cell to the goal. \n",
    "#\n",
    "# If a cell is a wall or it is impossible to reach the goal from a cell,\n",
    "# assign that cell a value of 99.\n",
    "# ----------\n",
    "\n",
    "grid = [[0, 1, 0, 0, 0, 0],\n",
    "        [0, 1, 0, 0, 0, 0],\n",
    "        [0, 1, 0, 0, 0, 0],\n",
    "        [0, 1, 0, 0, 0, 0],\n",
    "        [0, 0, 0, 0, 1, 0]]\n",
    "goal = [len(grid)-1, len(grid[0])-1]\n",
    "\n",
    "cost = 1 # the cost associated with moving from a cell to an adjacent one\n",
    "\n",
    "delta = [[-1, 0 ], # go up\n",
    "         [ 0, -1], # go left\n",
    "         [ 1, 0 ], # go down\n",
    "         [ 0, 1 ]] # go right\n",
    "\n",
    "delta_name = ['^', '<', 'v', '>']\n",
    "\n",
    "def accept(grid, x, y):\n",
    "    if x >= 0 and x < len(grid) and y >= 0 and y < len(grid[0]):\n",
    "        return True\n",
    "    else:\n",
    "        return False\n",
    "    \n",
    "def compute_value(grid,goal,cost):\n",
    "    # ----------------------------------------\n",
    "    # insert code below\n",
    "    # ----------------------------------------\n",
    "    \n",
    "    # make sure your function returns a grid of values as \n",
    "    # demonstrated in the previous video.\n",
    "    \n",
    "    value = [[99 for x in range(len(grid[0]))] for y in range(len(grid))]\n",
    "    value[goal[0]][goal[1]] = 0\n",
    "    current_open = [[0, goal[0],goal[1]]]\n",
    "    \n",
    "    while len(current_open) != 0:\n",
    "        current_open.sort()\n",
    "        current_position = current_open.pop(0)\n",
    " \n",
    "        for i in range(len(delta)):\n",
    "            next_x, next_y = current_position[1] - delta[i][0], current_position[2] - delta[i][1]\n",
    " \n",
    "            if accept(grid, next_x, next_y)==True:\n",
    "                if (grid[next_x][next_y] == 0) and (value[next_x][next_y] == 99):\n",
    "                \n",
    "                    next_position = [current_position[0] + cost, next_x, next_y]                  \n",
    "                    current_open.append(next_position)                   \n",
    "                    value[next_x][next_y] = next_position[0]\n",
    "            \n",
    "    return value "
   ]
  },
  {
   "cell_type": "code",
   "execution_count": 29,
   "metadata": {},
   "outputs": [
    {
     "data": {
      "text/plain": [
       "[[11, 99, 7, 6, 5, 4],\n",
       " [10, 99, 6, 5, 4, 3],\n",
       " [9, 99, 5, 4, 3, 2],\n",
       " [8, 99, 4, 3, 2, 1],\n",
       " [7, 6, 5, 4, 99, 0]]"
      ]
     },
     "execution_count": 29,
     "metadata": {},
     "output_type": "execute_result"
    }
   ],
   "source": [
    "compute_value(grid,goal,cost)"
   ]
  },
  {
   "cell_type": "code",
   "execution_count": 30,
   "metadata": {
    "collapsed": true
   },
   "outputs": [],
   "source": [
    "# Quiz: Optimum Policy\n",
    "\n",
    "# ----------\n",
    "# User Instructions:\n",
    "# \n",
    "# Write a function optimum_policy that returns\n",
    "# a grid which shows the optimum policy for robot\n",
    "# motion. This means there should be an optimum\n",
    "# direction associated with each navigable cell from\n",
    "# which the goal can be reached.\n",
    "# \n",
    "# Unnavigable cells as well as cells from which \n",
    "# the goal cannot be reached should have a string \n",
    "# containing a single space (' '), as shown in the \n",
    "# previous video. The goal cell should have '*'.\n",
    "# ----------\n",
    "\n",
    "init = [0, 0]\n",
    "goal = [len(grid)-1, len(grid[0])-1]\n",
    "cost = 1 # the cost associated with moving from a cell to an adjacent one\n",
    "\n",
    "delta = [[-1, 0 ], # go up\n",
    "         [ 0, -1], # go left\n",
    "         [ 1, 0 ], # go down\n",
    "         [ 0, 1 ]] # go right\n",
    "\n",
    "delta_name = ['^', '<', 'v', '>']\n",
    "\n",
    "def accept(grid, x, y):\n",
    "    if x >= 0 and x < len(grid) and y >= 0 and y < len(grid[0]):\n",
    "        return True\n",
    "    else:\n",
    "        return False\n",
    "\n",
    "def optimum_policy(grid,goal,cost):\n",
    "    # ----------------------------------------\n",
    "    # modify code below\n",
    "    # ----------------------------------------\n",
    "    value = [[99 for col in range(len(grid[0]))] for row in range(len(grid))]\n",
    "    policy = [[' ' for col in range(len(grid[0]))] for row in range(len(grid))]\n",
    "    change = True\n",
    "\n",
    "    while change:\n",
    "        change = False\n",
    "\n",
    "        for x in range(len(grid)):\n",
    "            for y in range(len(grid[0])):\n",
    "                if goal[0] == x and goal[1] == y:\n",
    "                    if value[x][y] > 0:\n",
    "                        value[x][y] = 0\n",
    "\n",
    "                        change = True\n",
    "\n",
    "                elif grid[x][y] == 0:\n",
    "                    for a in range(len(delta)):\n",
    "                        new_x, new_y = x + delta[a][0], y + delta[a][1]\n",
    "\n",
    "                        if accept(grid, new_x, new_y) and grid[new_x][new_y] == 0:\n",
    "                            new_value = value[new_x][new_y] + cost\n",
    "\n",
    "                            if new_value < value[x][y]:\n",
    "                                change = True\n",
    "                                value[x][y] = new_value\n",
    "            \n",
    "                if value[x][y] == 99:\n",
    "                    continue\n",
    "                if value[x][y] == 0:\n",
    "                    policy[x][y] = '*'\n",
    "                    continue\n",
    "                \n",
    "                directions = len(delta)*[99]\n",
    "                for a in range(len(delta)):\n",
    "                    new_x, new_y = x + delta[a][0], y + delta[a][1]\n",
    "                    if accept(grid, new_x, new_y):\n",
    "                        directions[a] = value[new_x][new_y]\n",
    "            \n",
    "                for i in range(len(directions)):\n",
    "                    if directions[i] == min(directions) and min(directions) != 99:\n",
    "                        policy[x][y] = delta_name[i]\n",
    "    return policy"
   ]
  },
  {
   "cell_type": "code",
   "execution_count": 31,
   "metadata": {},
   "outputs": [
    {
     "data": {
      "text/plain": [
       "[['v', ' ', '>', '>', '>', 'v'],\n",
       " ['v', ' ', '>', '>', '>', 'v'],\n",
       " ['v', ' ', '>', '>', '>', 'v'],\n",
       " ['v', ' ', '>', '>', '>', 'v'],\n",
       " ['>', '>', '>', '^', ' ', '*']]"
      ]
     },
     "execution_count": 31,
     "metadata": {},
     "output_type": "execute_result"
    }
   ],
   "source": [
    "grid = [[0, 1, 0, 0, 0, 0],\n",
    "        [0, 1, 0, 0, 0, 0],\n",
    "        [0, 1, 0, 0, 0, 0],\n",
    "        [0, 1, 0, 0, 0, 0],\n",
    "        [0, 0, 0, 0, 1, 0]]\n",
    "optimum_policy(grid,goal,cost)"
   ]
  },
  {
   "cell_type": "code",
   "execution_count": 35,
   "metadata": {},
   "outputs": [
    {
     "data": {
      "text/plain": [
       "[['>', 'v', ' ', '>', '>', 'v'],\n",
       " ['>', '>', '>', '>', '>', 'v'],\n",
       " ['>', '^', ' ', '^', ' ', 'v'],\n",
       " ['>', '^', ' ', '^', ' ', 'v'],\n",
       " ['>', '^', ' ', '^', ' ', '*']]"
      ]
     },
     "execution_count": 35,
     "metadata": {},
     "output_type": "execute_result"
    }
   ],
   "source": [
    "grid = [[0, 0, 1, 0, 0, 0],\n",
    "        [0, 0, 0, 0, 0, 0],\n",
    "        [0, 0, 1, 0, 1, 0],\n",
    "        [0, 0, 1, 0, 1, 0],\n",
    "        [0, 0, 1, 0, 1, 0]]\n",
    "optimum_policy(grid,goal,cost)"
   ]
  },
  {
   "cell_type": "code",
   "execution_count": 36,
   "metadata": {
    "collapsed": true
   },
   "outputs": [],
   "source": [
    "# Quiz: Left Turn Policy\n",
    "# ----------\n",
    "# User Instructions:\n",
    "# \n",
    "# Implement the function optimum_policy2D below.\n",
    "#\n",
    "# You are given a car in grid with initial state\n",
    "# init. Your task is to compute and return the car's \n",
    "# optimal path to the position specified in goal; \n",
    "# the costs for each motion are as defined in cost.\n",
    "#\n",
    "# There are four motion directions: up, left, down, and right.\n",
    "# Increasing the index in this array corresponds to making a\n",
    "# a left turn, and decreasing the index corresponds to making a \n",
    "# right turn.\n",
    "\n",
    "forward = [[-1,  0], # go up\n",
    "           [ 0, -1], # go left\n",
    "           [ 1,  0], # go down\n",
    "           [ 0,  1]] # go right\n",
    "forward_name = ['up', 'left', 'down', 'right']\n",
    "\n",
    "# action has 3 values: right turn, no turn, left turn\n",
    "action = [-1, 0, 1]\n",
    "action_name = ['R', '#', 'L']\n",
    "\n",
    "# EXAMPLE INPUTS:\n",
    "# grid format:\n",
    "#     0 = navigable space\n",
    "#     1 = unnavigable space \n",
    "grid = [[1, 1, 1, 0, 0, 0],\n",
    "        [1, 1, 1, 0, 1, 0],\n",
    "        [0, 0, 0, 0, 0, 0],\n",
    "        [1, 1, 1, 0, 1, 1],\n",
    "        [1, 1, 1, 0, 1, 1]]\n",
    "\n",
    "init = [4, 3, 0] # given in the form [row,col,direction]\n",
    "                 # direction = 0: up\n",
    "                 #             1: left\n",
    "                 #             2: down\n",
    "                 #             3: right\n",
    "                \n",
    "goal = [2, 0] # given in the form [row,col]\n",
    "\n",
    "cost = [2, 1, 20] # cost has 3 values, corresponding to making \n",
    "                  # a right turn, no turn, and a left turn\n",
    "\n",
    "# EXAMPLE OUTPUT:\n",
    "# calling optimum_policy2D with the given parameters should return \n",
    "# [[' ', ' ', ' ', 'R', '#', 'R'],\n",
    "#  [' ', ' ', ' ', '#', ' ', '#'],\n",
    "#  ['*', '#', '#', '#', '#', 'R'],\n",
    "#  [' ', ' ', ' ', '#', ' ', ' '],\n",
    "#  [' ', ' ', ' ', '#', ' ', ' ']]\n",
    "# ----------\n",
    "\n",
    "# ----------------------------------------\n",
    "# modify code below\n",
    "# ----------------------------------------\n",
    "def accept2D(grid, x, y):\n",
    "    if x >= 0 and x < len(grid[0]) and y >= 0 and y < len(grid) and grid[y][x] == 0:\n",
    "        return True\n",
    "    else:\n",
    "        return False\n",
    "    \n",
    "def optimum_policy2D(grid,init,goal,cost):\n",
    "    \n",
    "    value = [[[1000 for i in range(len(forward))] for col in range(len(grid[0]))] for row in range(len(grid))]\n",
    "    policy = [[[' ' for i in range(len(forward))] for col in range(len(grid[0]))] for row in range(len(grid))]\n",
    "    policy2D = [[' ' for col in range(len(grid[0]))] for row in range(len(grid))]    \n",
    "    \n",
    "    change = True\n",
    "    \n",
    "    while change:\n",
    "        change = False\n",
    "        \n",
    "        for x in range(len(grid[0])):\n",
    "            for y in range(len(grid)):\n",
    "                for i in range(len(forward)):\n",
    "                    \n",
    "                    if x == goal[1] and y == goal[0]:\n",
    "                        if value[y][x][i] > 0:\n",
    "                            value[y][x][i] = 0\n",
    "                            policy[y][x][i] = '*'\n",
    "                            change = True\n",
    "                            \n",
    "                    elif grid[y][x] == 0:\n",
    "                        for j in range(len(forward)):\n",
    "                            new_x, new_y = x + forward[j][1], y + forward[j][0]\n",
    "                            \n",
    "                            if accept2D(grid, new_x, new_y):\n",
    "                                new_value = value[new_y][new_x][j]\n",
    "                                \n",
    "                                for a in range(len(action)):\n",
    "                                    if (i + action[a]) % len(forward) == j:\n",
    "                                        update_value = new_value + cost[a]\n",
    "                                        \n",
    "                                        if update_value < value[y][x][i]:\n",
    "                                            value[y][x][i] = update_value\n",
    "                                            policy[y][x][i] = action_name[a]\n",
    "                                            change = True\n",
    "                                            \n",
    "    x, y, i = init[1], init[0], init[2]\n",
    "    policy2D[y][x] = policy[y][x][i]\n",
    "                                            \n",
    "    while policy[y][x][i] != '*':\n",
    "        if policy[y][x][i] == 'R':\n",
    "            i = (i - 1) % 4\n",
    "        elif policy[y][x][i] == 'L':\n",
    "            i = (i + 1) % 4\n",
    "            \n",
    "        x += forward[i][1]\n",
    "        y += forward[i][0]\n",
    "        policy2D[y][x] = policy[y][x][i]        \n",
    "\n",
    "    return policy2D"
   ]
  },
  {
   "cell_type": "code",
   "execution_count": 37,
   "metadata": {},
   "outputs": [
    {
     "data": {
      "text/plain": [
       "1000"
      ]
     },
     "execution_count": 37,
     "metadata": {},
     "output_type": "execute_result"
    }
   ],
   "source": [
    "value = [[[1000 for i in range(len(forward))] for row in range(len(grid))] for col in range(len(grid[0]))]\n",
    "value[5][4][3]"
   ]
  },
  {
   "cell_type": "code",
   "execution_count": 38,
   "metadata": {},
   "outputs": [
    {
     "data": {
      "text/plain": [
       "[[' ', ' ', ' ', 'R', '#', 'R'],\n",
       " [' ', ' ', ' ', '#', ' ', '#'],\n",
       " ['*', '#', '#', '#', '#', 'R'],\n",
       " [' ', ' ', ' ', '#', ' ', ' '],\n",
       " [' ', ' ', ' ', '#', ' ', ' ']]"
      ]
     },
     "execution_count": 38,
     "metadata": {},
     "output_type": "execute_result"
    }
   ],
   "source": [
    "optimum_policy2D(grid,init,goal,cost)"
   ]
  },
  {
   "cell_type": "code",
   "execution_count": 39,
   "metadata": {},
   "outputs": [
    {
     "data": {
      "text/plain": [
       "[[' ', ' ', 'R', 'R', ' ', ' '],\n",
       " [' ', ' ', 'R', '#', '#', 'L'],\n",
       " ['*', ' ', ' ', '#', ' ', ' '],\n",
       " ['#', ' ', ' ', '#', ' ', ' '],\n",
       " ['R', '#', '#', 'R', ' ', ' ']]"
      ]
     },
     "execution_count": 39,
     "metadata": {},
     "output_type": "execute_result"
    }
   ],
   "source": [
    "grid = [[0, 1, 0, 0, 0, 0],\n",
    "        [0, 1, 0, 0, 0, 0],\n",
    "        [0, 1, 0, 0, 0, 0],\n",
    "        [0, 1, 0, 0, 0, 0],\n",
    "        [0, 0, 0, 0, 1, 0]]\n",
    "init = [1, 5, 0]\n",
    "optimum_policy2D(grid,init,goal,cost)"
   ]
  },
  {
   "cell_type": "code",
   "execution_count": 40,
   "metadata": {},
   "outputs": [
    {
     "data": {
      "text/plain": [
       "[['#', '#', '#', '#', '#', '#', 'R'],\n",
       " [' ', ' ', ' ', ' ', ' ', ' ', '#'],\n",
       " [' ', ' ', 'L', '#', 'L', ' ', '#'],\n",
       " [' ', ' ', '#', ' ', '#', ' ', '#'],\n",
       " [' ', ' ', '*', ' ', 'R', '#', 'R'],\n",
       " [' ', ' ', ' ', ' ', ' ', ' ', ' '],\n",
       " [' ', ' ', ' ', ' ', ' ', ' ', ' ']]"
      ]
     },
     "execution_count": 40,
     "metadata": {},
     "output_type": "execute_result"
    }
   ],
   "source": [
    "grid = [[0, 0, 0, 0, 0, 0, 0],\n",
    "        [1, 1, 1, 1, 1, 1, 0],\n",
    "        [0, 1, 0, 0, 0, 1, 0],\n",
    "        [0, 1, 0, 1, 0, 1, 0],\n",
    "        [0, 1, 0, 1, 0, 0, 0],\n",
    "        [0, 1, 1, 1, 1, 1, 0],\n",
    "        [0, 0, 0, 0, 0, 0, 0]]\n",
    "init = [0, 0, 3]\n",
    "goal = [4, 2]\n",
    "cost = [10, 40, 65]\n",
    "optimum_policy2D(grid,init,goal,cost)"
   ]
  },
  {
   "cell_type": "code",
   "execution_count": null,
   "metadata": {
    "collapsed": true
   },
   "outputs": [],
   "source": []
  },
  {
   "cell_type": "markdown",
   "metadata": {},
   "source": [
    "##   &#x1F916; &nbsp; <span style=\"color:red\">Section 13. Problem Set 4</span>"
   ]
  },
  {
   "cell_type": "code",
   "execution_count": 41,
   "metadata": {
    "collapsed": true
   },
   "outputs": [],
   "source": [
    "# Quiz: Admissible Heuristic\n",
    "# Yes"
   ]
  },
  {
   "cell_type": "code",
   "execution_count": 42,
   "metadata": {
    "collapsed": true
   },
   "outputs": [],
   "source": [
    "# Quiz: Admissible Heuristic 2\n",
    "# No"
   ]
  },
  {
   "cell_type": "code",
   "execution_count": 43,
   "metadata": {
    "collapsed": true
   },
   "outputs": [],
   "source": [
    "# Quiz: Bad Heuristic\n",
    "# A* may find a suboptimal path"
   ]
  },
  {
   "cell_type": "code",
   "execution_count": 44,
   "metadata": {
    "collapsed": true
   },
   "outputs": [],
   "source": [
    "# Quiz: Diagonal Motion\n",
    "# 3   2   2\n",
    "# 3   &   1\n",
    "# 4   &   0"
   ]
  },
  {
   "cell_type": "code",
   "execution_count": 50,
   "metadata": {
    "collapsed": true
   },
   "outputs": [],
   "source": [
    "# Quiz: Stochastic Motion\n",
    "# --------------\n",
    "# USER INSTRUCTIONS\n",
    "#\n",
    "# Write a function called stochastic_value that \n",
    "# returns two grids. The first grid, value, should \n",
    "# contain the computed value of each cell as shown \n",
    "# in the video. The second grid, policy, should \n",
    "# contain the optimum policy for each cell.\n",
    "#\n",
    "# --------------\n",
    "# GRADING NOTES\n",
    "#\n",
    "# We will be calling your stochastic_value function\n",
    "# with several different grids and different values\n",
    "# of success_prob, collision_cost, and cost_step.\n",
    "# In order to be marked correct, your function must\n",
    "# RETURN (it does not have to print) two grids,\n",
    "# value and policy.\n",
    "#\n",
    "# When grading your value grid, we will compare the\n",
    "# value of each cell with the true value according\n",
    "# to this model. If your answer for each cell\n",
    "# is sufficiently close to the correct answer\n",
    "# (within 0.001), you will be marked as correct.\n",
    "\n",
    "delta = [[-1, 0 ], # go up\n",
    "         [ 0, -1], # go left\n",
    "         [ 1, 0 ], # go down\n",
    "         [ 0, 1 ]] # go right\n",
    "\n",
    "delta_name = ['^', '<', 'v', '>'] # Use these when creating your policy grid.\n",
    "\n",
    "# ---------------------------------------------\n",
    "#  Modify the function stochastic_value below\n",
    "# ---------------------------------------------\n",
    "\n",
    "def accept2D(grid, x, y):\n",
    "    if x >= 0 and x < len(grid[0]) and y >= 0 and y < len(grid) and grid[y][x] == 0:\n",
    "        return True\n",
    "    else:\n",
    "        return False\n",
    "\n",
    "def stochastic_value(grid,goal,cost_step,collision_cost,success_prob):\n",
    "    failure_prob = (1.0 - success_prob)/2.0 # Probability(stepping left) = prob(stepping right) = failure_prob\n",
    "    \n",
    "    value = [[collision_cost*1.0 for col in range(len(grid[0]))] for row in range(len(grid))]\n",
    "    policy = [[' ' for col in range(len(grid[0]))] for row in range(len(grid))]\n",
    "    \n",
    "    actions = [-1,0,1]\n",
    "\n",
    "    change = True\n",
    "\n",
    "    while change:\n",
    "        change = False\n",
    "\n",
    "        for y in range(len(grid)):\n",
    "            for x in range(len(grid[0])):\n",
    "                \n",
    "                if goal[0] == y and goal[1] == x:\n",
    "                    if value[y][x] > 0:\n",
    "                        value[y][x], policy[y][x] = 0., '*'\n",
    "                        change = True\n",
    "\n",
    "                elif grid[y][x] == 0:\n",
    "                    for i in range(len(delta)):\n",
    "                        cost = 0.\n",
    "                        for a in actions:\n",
    "                            new_x, new_y, prob = x + delta[(i+a)%4][1], y + delta[(i+a)%4][0], 0.\n",
    "\n",
    "                            if a == 0:\n",
    "                                prob = success_prob\n",
    "                            else:\n",
    "                                prob = failure_prob\n",
    "                                \n",
    "                            if accept2D(grid, new_x, new_y):\n",
    "                                cost += value[new_y][new_x] * prob\n",
    "                            else:\n",
    "                                cost += collision_cost * prob\n",
    "                                \n",
    "                        cost += cost_step\n",
    "                        cost = round(cost,4)\n",
    "                        \n",
    "                        if cost < value[y][x]:\n",
    "                            change = True\n",
    "                            value[y][x] = cost\n",
    "                            policy[y][x] = delta_name[i]\n",
    "                               \n",
    "    return value, policy"
   ]
  },
  {
   "cell_type": "code",
   "execution_count": 51,
   "metadata": {},
   "outputs": [
    {
     "name": "stdout",
     "output_type": "stream",
     "text": [
      "[57.9031, 40.2787, 26.0667, 0.0]\n",
      "[47.055, 36.5725, 29.994, 27.27]\n",
      "[53.1718, 42.0231, 37.7758, 45.0919]\n",
      "[77.5859, 100.0, 100.0, 73.546]\n",
      "['>', 'v', 'v', '*']\n",
      "['>', '>', '^', '<']\n",
      "['>', '^', '^', '<']\n",
      "['^', ' ', ' ', '^']\n"
     ]
    }
   ],
   "source": [
    "# ---------------------------------------------\n",
    "#  Use the code below to test your solution\n",
    "# ---------------------------------------------\n",
    "\n",
    "grid = [[0, 0, 0, 0],\n",
    "        [0, 0, 0, 0],\n",
    "        [0, 0, 0, 0],\n",
    "        [0, 1, 1, 0]]\n",
    "goal = [0, len(grid[0])-1] # Goal is in top right corner\n",
    "cost_step = 1\n",
    "collision_cost = 100\n",
    "success_prob = 0.5\n",
    "\n",
    "value,policy = stochastic_value(grid,goal,cost_step,collision_cost,success_prob)\n",
    "for row in value:\n",
    "    print (row)\n",
    "for row in policy:\n",
    "    print (row)\n",
    "\n",
    "# Expected outputs:\n",
    "#\n",
    "# [57.9029, 40.2784, 26.0665,  0.0000]\n",
    "# [47.0547, 36.5722, 29.9937, 27.2698]\n",
    "# [53.1715, 42.0228, 37.7755, 45.0916]\n",
    "# [77.5858, 100.00, 100.00, 73.5458]\n",
    "#\n",
    "# ['>', 'v', 'v', '*']\n",
    "# ['>', '>', '^', '<']\n",
    "# ['>', '^', '^', '<']\n",
    "# ['^', ' ', ' ', '^']"
   ]
  },
  {
   "cell_type": "code",
   "execution_count": 52,
   "metadata": {},
   "outputs": [
    {
     "name": "stdout",
     "output_type": "stream",
     "text": [
      "[100.0, 100.0, 100.0, 100.0, 100.0, 100.0, 100.0]\n",
      "[100.0, 100.0, 100.0, 100.0, 100.0, 100.0, 98.4286]\n",
      "[100.0, 100.0, 100.0, 100.0, 100.0, 100.0, 94.8571]\n",
      "[100.0, 100.0, 100.0, 100.0, 98.2041, 100.0, 87.7143]\n",
      "[100.0, 100.0, 100.0, 100.0, 94.4082, 87.7143, 73.4286]\n",
      "[100.0, 100.0, 100.0, 100.0, 100.0, 100.0, 51.0]\n",
      "[100.0, 98.8125, 95.625, 89.25, 76.5, 51.0, 0.0]\n",
      "[' ', ' ', ' ', ' ', ' ', ' ', ' ']\n",
      "[' ', ' ', ' ', ' ', ' ', ' ', 'v']\n",
      "[' ', ' ', ' ', ' ', ' ', ' ', 'v']\n",
      "[' ', ' ', ' ', ' ', 'v', ' ', 'v']\n",
      "[' ', ' ', ' ', ' ', '>', '>', 'v']\n",
      "[' ', ' ', ' ', ' ', ' ', ' ', 'v']\n",
      "[' ', '>', '>', '>', '>', '>', '*']\n"
     ]
    }
   ],
   "source": [
    "grid = [[0, 0, 0, 0, 0, 0, 0],\n",
    "        [1, 1, 1, 1, 1, 1, 0],\n",
    "        [0, 1, 0, 0, 0, 1, 0],\n",
    "        [0, 1, 0, 1, 0, 1, 0],\n",
    "        [0, 1, 0, 1, 0, 0, 0],\n",
    "        [0, 1, 1, 1, 1, 1, 0],\n",
    "        [0, 0, 0, 0, 0, 0, 0]]\n",
    "goal = [len(grid)-1, len(grid[0])-1]\n",
    "value,policy = stochastic_value(grid,goal,cost_step,collision_cost,success_prob)\n",
    "for row in value:\n",
    "    print (row)\n",
    "for row in policy:\n",
    "    print (row)"
   ]
  },
  {
   "cell_type": "markdown",
   "metadata": {},
   "source": [
    "##   &#x1F916; &nbsp; <span style=\"color:red\">Section 14. Office Hours Week 4</span>"
   ]
  },
  {
   "cell_type": "code",
   "execution_count": null,
   "metadata": {
    "collapsed": true
   },
   "outputs": [],
   "source": []
  }
 ],
 "metadata": {
  "anaconda-cloud": {},
  "hide_input": false,
  "kernelspec": {
   "display_name": "Python [conda root]",
   "language": "python",
   "name": "conda-root-py"
  },
  "language_info": {
   "codemirror_mode": {
    "name": "ipython",
    "version": 3
   },
   "file_extension": ".py",
   "mimetype": "text/x-python",
   "name": "python",
   "nbconvert_exporter": "python",
   "pygments_lexer": "ipython3",
   "version": "3.5.2"
  },
  "latex_envs": {
   "bibliofile": "biblio.bib",
   "cite_by": "apalike",
   "current_citInitial": 1,
   "eqLabelWithNumbers": true,
   "eqNumInitial": 0
  }
 },
 "nbformat": 4,
 "nbformat_minor": 2
}
