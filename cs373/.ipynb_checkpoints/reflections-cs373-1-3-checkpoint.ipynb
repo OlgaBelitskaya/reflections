{
 "cells": [
  {
   "cell_type": "markdown",
   "metadata": {},
   "source": [
    "# &#x1F4D1; &nbsp; <span style=\"color:red\"> Reflections. Artificial Intelligence for Robotics. Sections 1-3</span>"
   ]
  },
  {
   "cell_type": "markdown",
   "metadata": {},
   "source": [
    "##   &#x1F916; &nbsp; <span style=\"color:red\">Links</span>"
   ]
  },
  {
   "cell_type": "markdown",
   "metadata": {},
   "source": [
    "Stanford University CS 226 Statistical Techniques in Robotics http://cs226.stanford.edu/notes/"
   ]
  },
  {
   "cell_type": "markdown",
   "metadata": {
    "collapsed": true
   },
   "source": [
    "Localization Methods for a Mobile Robot in Urban Environments http://www.cs.columbia.edu/~atanas/publications/2004_TRO.pdf"
   ]
  },
  {
   "cell_type": "markdown",
   "metadata": {
    "collapsed": true
   },
   "source": [
    "Introduction to Mobile Robotics http://ais.informatik.uni-freiburg.de/teaching/ss11/robotics/slides/09d-ekf-localization.pdf"
   ]
  },
  {
   "cell_type": "markdown",
   "metadata": {
    "collapsed": true
   },
   "source": [
    "Markov Localization for Mobile Robots in Dynamic Environments http://www.cs.cmu.edu/afs/cs/project/jair/pub/volume11/fox99a-html/jair-localize.html"
   ]
  },
  {
   "cell_type": "markdown",
   "metadata": {},
   "source": [
    "Monte Carlo Localization for Mobile Robots http://www.cc.gatech.edu/ai/robot-lab/online-publications/dellaert_frank_1999_2.pdf"
   ]
  },
  {
   "cell_type": "markdown",
   "metadata": {},
   "source": [
    "Robotics - Localization - Nonparametric Filters http://home.deib.polimi.it/restelli/MyWebSite/pdf/E07_h.pdf"
   ]
  },
  {
   "cell_type": "markdown",
   "metadata": {},
   "source": [
    "##   &#x1F916; &nbsp; <span style=\"color:red\">Libraries</span>"
   ]
  },
  {
   "cell_type": "code",
   "execution_count": 2,
   "metadata": {
    "collapsed": true
   },
   "outputs": [],
   "source": [
    "import struct\n",
    "import os\n",
    "import numpy as np\n",
    "import pandas as pd\n",
    "import random\n",
    "import string\n",
    "import zipfile\n",
    "from time import time"
   ]
  },
  {
   "cell_type": "code",
   "execution_count": 3,
   "metadata": {
    "collapsed": true
   },
   "outputs": [],
   "source": [
    "from IPython.display import display, Image\n",
    "import matplotlib.pylab as plt\n",
    "import matplotlib.cm as cm\n",
    "from matplotlib import offsetbox\n",
    "%matplotlib inline"
   ]
  },
  {
   "cell_type": "code",
   "execution_count": null,
   "metadata": {
    "collapsed": true
   },
   "outputs": [],
   "source": []
  },
  {
   "cell_type": "markdown",
   "metadata": {
    "collapsed": true
   },
   "source": [
    "##   &#x1F916; &nbsp; <span style=\"color:red\">Section 1. Localization Overview</span>"
   ]
  },
  {
   "cell_type": "markdown",
   "metadata": {},
   "source": [
    "### Notes"
   ]
  },
  {
   "cell_type": "code",
   "execution_count": null,
   "metadata": {
    "collapsed": true
   },
   "outputs": [],
   "source": []
  },
  {
   "cell_type": "markdown",
   "metadata": {},
   "source": [
    "### Quizes"
   ]
  },
  {
   "cell_type": "code",
   "execution_count": 8,
   "metadata": {},
   "outputs": [
    {
     "data": {
      "text/plain": [
       "0.2"
      ]
     },
     "execution_count": 8,
     "metadata": {},
     "output_type": "execute_result"
    }
   ],
   "source": [
    "# Quiz: Uniform Probability Quiz\n",
    "1/5.0"
   ]
  },
  {
   "cell_type": "code",
   "execution_count": 3,
   "metadata": {},
   "outputs": [
    {
     "name": "stdout",
     "output_type": "stream",
     "text": [
      "[0.2, 0.2, 0.2, 0.2, 0.2]\n"
     ]
    }
   ],
   "source": [
    "# Quiz: Uniform Probability\n",
    "\n",
    "# Modify the empty list, p, so that it becomes a UNIFORM probability\n",
    "# distribution over five grid cells, as expressed in a list of \n",
    "# five probabilities.\n",
    "\n",
    "p=5*[1.0/5] \n",
    "print (p)"
   ]
  },
  {
   "cell_type": "code",
   "execution_count": 4,
   "metadata": {},
   "outputs": [
    {
     "data": {
      "text/plain": [
       "array([ 0.125,  0.125,  0.125,  0.125,  0.125,  0.125,  0.125,  0.125])"
      ]
     },
     "execution_count": 4,
     "metadata": {},
     "output_type": "execute_result"
    }
   ],
   "source": [
    "np.repeat(1.0/8,8)"
   ]
  },
  {
   "cell_type": "code",
   "execution_count": 5,
   "metadata": {},
   "outputs": [
    {
     "name": "stdout",
     "output_type": "stream",
     "text": [
      "[0.2, 0.2, 0.2, 0.2, 0.2]\n"
     ]
    }
   ],
   "source": [
    "# Quiz: Generalized Uniform Distribution\n",
    "\n",
    "#  Modify your code to create probability vectors, p, of arbitrary \n",
    "#  size, n. Use n=5 to verify that your new solution matches \n",
    "#  the previous one.\n",
    "n=5\n",
    "p=n*[1.0/n] \n",
    "print(p)"
   ]
  },
  {
   "cell_type": "code",
   "execution_count": 6,
   "metadata": {},
   "outputs": [
    {
     "data": {
      "text/plain": [
       "[0.04000000000000001, 0.12, 0.12, 0.04000000000000001, 0.04000000000000001]"
      ]
     },
     "execution_count": 6,
     "metadata": {},
     "output_type": "execute_result"
    }
   ],
   "source": [
    "# Quiz: Probability After Sense\n",
    "p=[0.2*0.2, 0.2*0.6, 0.2*0.6, 0.2*0.2, 0.2*0.2]\n",
    "p"
   ]
  },
  {
   "cell_type": "code",
   "execution_count": 7,
   "metadata": {},
   "outputs": [
    {
     "data": {
      "text/plain": [
       "0.3600000000000001"
      ]
     },
     "execution_count": 7,
     "metadata": {},
     "output_type": "execute_result"
    }
   ],
   "source": [
    "# Quiz: Compute Sum\n",
    "s = sum(p)\n",
    "s"
   ]
  },
  {
   "cell_type": "code",
   "execution_count": 8,
   "metadata": {},
   "outputs": [
    {
     "data": {
      "text/plain": [
       "[0.1111111111111111,\n",
       " 0.3333333333333332,\n",
       " 0.3333333333333332,\n",
       " 0.1111111111111111,\n",
       " 0.1111111111111111]"
      ]
     },
     "execution_count": 8,
     "metadata": {},
     "output_type": "execute_result"
    }
   ],
   "source": [
    "# Quiz: Normalize Distribution\n",
    "p=[x/s for x in p]\n",
    "p"
   ]
  },
  {
   "cell_type": "code",
   "execution_count": 9,
   "metadata": {},
   "outputs": [
    {
     "data": {
      "text/plain": [
       "[0.04000000000000001, 0.12, 0.12, 0.04000000000000001, 0.04000000000000001]"
      ]
     },
     "execution_count": 9,
     "metadata": {},
     "output_type": "execute_result"
    }
   ],
   "source": [
    "# Quiz: PHit And PMiss\n",
    "#Write code that outputs p after multiplying each entry \n",
    "#by pHit or pMiss at the appropriate places. Remember that\n",
    "#the red cells 1 and 2 are hits and the other green cells\n",
    "#are misses.\n",
    "\n",
    "n=5\n",
    "p=n*[1.0/n] \n",
    "position=[0,1,1,0,0]\n",
    "pHit = 0.6\n",
    "pMiss = 0.2\n",
    "for i in range(n):\n",
    "    if position[i]==0: \n",
    "        p[i]*=pMiss\n",
    "    else:\n",
    "        p[i]*=pHit\n",
    "p"
   ]
  },
  {
   "cell_type": "code",
   "execution_count": 10,
   "metadata": {},
   "outputs": [
    {
     "name": "stdout",
     "output_type": "stream",
     "text": [
      "0.3600000000000001\n"
     ]
    }
   ],
   "source": [
    "#Quiz: Sum Of Probabilities\n",
    "\n",
    "#Modify the program to find and print the sum of all \n",
    "#the entries in the list p.\n",
    "\n",
    "p=[0.2, 0.2, 0.2, 0.2, 0.2]\n",
    "pHit = 0.6\n",
    "pMiss = 0.2\n",
    "\n",
    "p[0]=p[0]*pMiss\n",
    "p[1]=p[1]*pHit\n",
    "p[2]=p[2]*pHit\n",
    "p[3]=p[3]*pMiss\n",
    "p[4]=p[4]*pMiss\n",
    "\n",
    "# Enter your code below\n",
    "print (sum(p))"
   ]
  },
  {
   "cell_type": "code",
   "execution_count": 11,
   "metadata": {},
   "outputs": [
    {
     "name": "stdout",
     "output_type": "stream",
     "text": [
      "[0.04000000000000001, 0.12, 0.12, 0.04000000000000001, 0.04000000000000001]\n"
     ]
    }
   ],
   "source": [
    "# Quiz: Sense Function\n",
    "#Modify the code below so that the function sense, which \n",
    "#takes p and Z as inputs, will output the NON-normalized \n",
    "#probability distribution, q, after multiplying the entries \n",
    "#in p by pHit or pMiss according to the color in the \n",
    "#corresponding cell in world.\n",
    "\n",
    "\n",
    "p=[0.2, 0.2, 0.2, 0.2, 0.2]\n",
    "world=['green', 'red', 'red', 'green', 'green']\n",
    "Z = 'red'\n",
    "pHit = 0.6\n",
    "pMiss = 0.2\n",
    "\n",
    "def sense(p, Z):\n",
    "    #\n",
    "    #ADD YOUR CODE HERE\n",
    "    #\n",
    "    n=len(p)\n",
    "    q=n*[1]\n",
    "    for i in range(n):\n",
    "        if world[i] == Z:\n",
    "            q[i]= p[i]*pHit\n",
    "        else:\n",
    "            q[i]=p[i]*pMiss\n",
    "    \n",
    "    return q\n",
    "\n",
    "print (sense(p,Z))"
   ]
  },
  {
   "cell_type": "code",
   "execution_count": 12,
   "metadata": {},
   "outputs": [
    {
     "data": {
      "text/plain": [
       "0.3600000000000001"
      ]
     },
     "execution_count": 12,
     "metadata": {},
     "output_type": "execute_result"
    }
   ],
   "source": [
    "s"
   ]
  },
  {
   "cell_type": "code",
   "execution_count": 13,
   "metadata": {},
   "outputs": [
    {
     "name": "stdout",
     "output_type": "stream",
     "text": [
      "[0.04000000000000001, 0.12, 0.12, 0.04000000000000001, 0.04000000000000001]\n"
     ]
    }
   ],
   "source": [
    "# Variant 2\n",
    "def sense(p, Z):\n",
    "    n=len(p)\n",
    "    hit = [world[i]==Z for i in range(n)]\n",
    "    q=[p[i]*(hit[i]*pHit+(1-hit[i])*pMiss)  for i in range(n)]\n",
    "    return q\n",
    "print (sense(p,Z))"
   ]
  },
  {
   "cell_type": "code",
   "execution_count": 14,
   "metadata": {},
   "outputs": [
    {
     "name": "stdout",
     "output_type": "stream",
     "text": [
      "[0.1111111111111111, 0.3333333333333332, 0.3333333333333332, 0.1111111111111111, 0.1111111111111111]\n"
     ]
    }
   ],
   "source": [
    "# Quiz: Normalized Sense Function\n",
    "#Modify your code so that it normalizes the output for \n",
    "#the function sense. This means that the entries in q \n",
    "#should sum to one.\n",
    "\n",
    "p=[0.2, 0.2, 0.2, 0.2, 0.2]\n",
    "world=['green', 'red', 'red', 'green', 'green']\n",
    "Z = 'red'\n",
    "pHit = 0.6\n",
    "pMiss = 0.2\n",
    "n=5\n",
    "hit = [world[i]==Z for i in range(n)]\n",
    "\n",
    "def sense(p, Z):\n",
    "    q=[p[i]*(hit[i]*pHit+(1-hit[i])*pMiss)  for i in range(n)]\n",
    "    q=[q[i]/sum(q) for i in range(n)]\n",
    "    return q\n",
    "print (sense(p,Z))\n"
   ]
  },
  {
   "cell_type": "code",
   "execution_count": 15,
   "metadata": {},
   "outputs": [
    {
     "name": "stdout",
     "output_type": "stream",
     "text": [
      "[0.2727272727272727, 0.09090909090909093, 0.09090909090909093, 0.2727272727272727, 0.2727272727272727]\n"
     ]
    }
   ],
   "source": [
    "# Quiz: Test Sense Function\n",
    "#Try using your code with a measurement of 'green' and \n",
    "#make sure the resulting probability distribution is correct.\n",
    "\n",
    "p=[0.2, 0.2, 0.2, 0.2, 0.2]\n",
    "world=['green', 'red', 'red', 'green', 'green']\n",
    "Z = 'green'\n",
    "pHit = 0.6\n",
    "pMiss = 0.2\n",
    "\n",
    "def sense(p, Z):\n",
    "    q=[]\n",
    "    for i in range(len(p)):\n",
    "        hit = (Z == world[i])\n",
    "        q.append(p[i] * (hit * pHit + (1-hit) * pMiss))\n",
    "    s = sum(q)\n",
    "    for i in range(len(p)):\n",
    "        q[i]=q[i]/s \n",
    "    return q\n",
    "print (sense(p, Z))"
   ]
  },
  {
   "cell_type": "code",
   "execution_count": 16,
   "metadata": {},
   "outputs": [
    {
     "name": "stdout",
     "output_type": "stream",
     "text": [
      "[0.20000000000000004, 0.19999999999999996, 0.19999999999999996, 0.20000000000000004, 0.20000000000000004]\n"
     ]
    }
   ],
   "source": [
    "# Quiz: Multiple Measurements\n",
    "#Modify the code so that it updates the probability twice\n",
    "#and gives the posterior distribution after both \n",
    "#measurements are incorporated. Make sure that your code \n",
    "#allows for any sequence of measurement of any length.\n",
    "\n",
    "p=[0.2, 0.2, 0.2, 0.2, 0.2]\n",
    "world=['green', 'red', 'red', 'green', 'green']\n",
    "measurements = ['red', 'green']\n",
    "pHit = 0.6\n",
    "pMiss = 0.2\n",
    "\n",
    "def sense(p, Z):\n",
    "    q=[]\n",
    "    for i in range(len(p)):\n",
    "        hit = (Z == world[i])\n",
    "        q.append(p[i] * (hit * pHit + (1-hit) * pMiss))\n",
    "    s = sum(q)\n",
    "    for i in range(len(q)):\n",
    "        q[i] = q[i] / s\n",
    "    return q\n",
    "def update(p, measurements):\n",
    "    for j in range(len(measurements)):\n",
    "        Z=measurements[j]\n",
    "        p = sense(p, Z)\n",
    "    return p\n",
    "p=update(p, measurements)\n",
    "#\n",
    "#ADD YOUR CODE HERE\n",
    "#\n",
    "print (p)\n"
   ]
  },
  {
   "cell_type": "code",
   "execution_count": 17,
   "metadata": {
    "collapsed": true
   },
   "outputs": [],
   "source": [
    "# Quiz: Exact Motion\n",
    "# 0.11 0.11 0.33 0.33 0.11"
   ]
  },
  {
   "cell_type": "code",
   "execution_count": 18,
   "metadata": {
    "code_folding": [
     23
    ]
   },
   "outputs": [
    {
     "name": "stdout",
     "output_type": "stream",
     "text": [
      "[0, 0, 1, 0, 0]\n"
     ]
    }
   ],
   "source": [
    "# Quiz: Move Function\n",
    "# Program a function that returns a new distribution \n",
    "# q, shifted to the right by U units. If U=0, q should \n",
    "# be the same as p.\n",
    "\n",
    "p=[0, 1, 0, 0, 0]\n",
    "world=['green', 'red', 'red', 'green', 'green']\n",
    "measurements = ['red', 'green']\n",
    "pHit = 0.6\n",
    "pMiss = 0.2\n",
    "\n",
    "def sense(p, Z):\n",
    "    q=[]\n",
    "    for i in range(len(p)):\n",
    "        hit = (Z == world[i])\n",
    "        q.append(p[i] * (hit * pHit + (1-hit) * pMiss))\n",
    "    s = sum(q)\n",
    "    for i in range(len(q)):\n",
    "        q[i] = q[i] / s\n",
    "    return q\n",
    "\n",
    "def move(p, U):\n",
    "    q=len(p)*[True]\n",
    "    for i in range(len(p)):\n",
    "        if i+U < len(p):\n",
    "            q[i+U] = p[i]\n",
    "        else:\n",
    "            q[i+U-len(p)] = p[i]\n",
    "    #\n",
    "    #ADD CODE HERE\n",
    "    #\n",
    "    return q\n",
    "\n",
    "print (move(p, 1))"
   ]
  },
  {
   "cell_type": "code",
   "execution_count": 19,
   "metadata": {},
   "outputs": [
    {
     "name": "stdout",
     "output_type": "stream",
     "text": [
      "[0, 0, 0.5, 0, 0.5]\n"
     ]
    }
   ],
   "source": [
    "# Variant 2\n",
    "p1=[0, 0.5, 0, 0.5, 0]\n",
    "def move(p, U):\n",
    "    U = U % len(p)\n",
    "    q = p[-U:] + p[:-U]\n",
    "    return q\n",
    "print (move(p1, 1))"
   ]
  },
  {
   "cell_type": "code",
   "execution_count": 20,
   "metadata": {},
   "outputs": [
    {
     "name": "stdout",
     "output_type": "stream",
     "text": [
      "[0.5, 0, 0, 0.5, 0]\n"
     ]
    }
   ],
   "source": [
    "print (move(p1, 2))"
   ]
  },
  {
   "cell_type": "code",
   "execution_count": 21,
   "metadata": {},
   "outputs": [
    {
     "name": "stdout",
     "output_type": "stream",
     "text": [
      "[0, 0.5, 0, 0, 0.5]\n"
     ]
    }
   ],
   "source": [
    "print (move(p1, 3))"
   ]
  },
  {
   "cell_type": "code",
   "execution_count": 22,
   "metadata": {
    "collapsed": true
   },
   "outputs": [],
   "source": [
    "# Quiz: Inexact Motion 1\n",
    "# 0   0   0.1   0.8   0.1"
   ]
  },
  {
   "cell_type": "code",
   "execution_count": 23,
   "metadata": {},
   "outputs": [
    {
     "data": {
      "text/plain": [
       "array([ 0.4 ,  0.05,  0.05,  0.4 ,  0.1 ])"
      ]
     },
     "execution_count": 23,
     "metadata": {},
     "output_type": "execute_result"
    }
   ],
   "source": [
    "# Quiz: Inexact Motion 2\n",
    "np.multiply([0, 0, 0.5, 0, 0.5],0.1)+np.multiply([0.5, 0, 0, 0.5, 0],0.8)+np.multiply([0, 0.5, 0, 0, 0.5],0.1)"
   ]
  },
  {
   "cell_type": "code",
   "execution_count": 24,
   "metadata": {},
   "outputs": [
    {
     "data": {
      "text/plain": [
       "array([ 0.2,  0.2,  0.2,  0.2,  0.2])"
      ]
     },
     "execution_count": 24,
     "metadata": {},
     "output_type": "execute_result"
    }
   ],
   "source": [
    "# Quiz: Inexact Motion 3\n",
    "np.multiply([0.2, 0.2, 0.2, 0.2, 0.2],0.1)+ \\\n",
    "np.multiply([0.2, 0.2, 0.2, 0.2, 0.2],0.8)+ \\\n",
    "np.multiply([0.2, 0.2, 0.2, 0.2, 0.2],0.1)"
   ]
  },
  {
   "cell_type": "code",
   "execution_count": 25,
   "metadata": {},
   "outputs": [
    {
     "name": "stdout",
     "output_type": "stream",
     "text": [
      "[0.0, 0.1, 0.8, 0.1, 0.0]\n"
     ]
    }
   ],
   "source": [
    "# Quiz: Inexact Move Function\n",
    "\n",
    "#Modify the move function to accommodate the added \n",
    "#probabilities of overshooting or undershooting \n",
    "#the intended destination.\n",
    "\n",
    "p=[0, 1, 0, 0, 0]\n",
    "world=['green', 'red', 'red', 'green', 'green']\n",
    "measurements = ['red', 'green']\n",
    "pHit = 0.6\n",
    "pMiss = 0.2\n",
    "pExact = 0.8\n",
    "pOvershoot = 0.1\n",
    "pUndershoot = 0.1\n",
    "\n",
    "def sense(p, Z):\n",
    "    q=[]\n",
    "    for i in range(len(p)):\n",
    "        hit = (Z == world[i])\n",
    "        q.append(p[i] * (hit * pHit + (1-hit) * pMiss))\n",
    "    s = sum(q)\n",
    "    for i in range(len(q)):\n",
    "        q[i] = q[i] / s\n",
    "    return q\n",
    "\n",
    "def move(p, U): \n",
    "    def exactmove(p,U):\n",
    "        qexact = []\n",
    "        for i in range(len(p)):\n",
    "            qexact.append(p[(i-U)%len(p)])\n",
    "        return qexact\n",
    "    \n",
    "    qExact = exactmove(p,U)\n",
    "    qOvershoot = exactmove(p,U+1)\n",
    "    qUndershoot = exactmove(p,U-1)\n",
    "    q = []\n",
    "    for j in range(len(p)):\n",
    "        q.append(qExact[j]*pExact+qOvershoot[j]*pOvershoot+qUndershoot[j]*pUndershoot)\n",
    "    return q\n",
    "    \n",
    "print (move(p, 1))\n"
   ]
  },
  {
   "cell_type": "code",
   "execution_count": 26,
   "metadata": {},
   "outputs": [
    {
     "data": {
      "text/plain": [
       "[0.2, 0.2, 0.2, 0.2, 0.2]"
      ]
     },
     "execution_count": 26,
     "metadata": {},
     "output_type": "execute_result"
    }
   ],
   "source": [
    "# Quiz: Limit Distribution Quiz\n",
    "n=5\n",
    "n*[1.0/n]"
   ]
  },
  {
   "cell_type": "code",
   "execution_count": 27,
   "metadata": {},
   "outputs": [
    {
     "name": "stdout",
     "output_type": "stream",
     "text": [
      "[0.010000000000000002, 0.010000000000000002, 0.16000000000000003, 0.6600000000000001, 0.16000000000000003]\n"
     ]
    }
   ],
   "source": [
    "# Quiz: Move Twice\n",
    "\n",
    "# Write code that makes the robot move twice and then prints \n",
    "# out the resulting distribution, starting with the initial \n",
    "# distribution p = [0, 1, 0, 0, 0]\n",
    "\n",
    "p=[0, 1, 0, 0, 0]\n",
    "world=['green', 'red', 'red', 'green', 'green']\n",
    "measurements = ['red', 'green']\n",
    "pHit = 0.6\n",
    "pMiss = 0.2\n",
    "pExact = 0.8\n",
    "pOvershoot = 0.1\n",
    "pUndershoot = 0.1\n",
    "\n",
    "def sense(p, Z):\n",
    "    q=[]\n",
    "    for i in range(len(p)):\n",
    "        hit = (Z == world[i])\n",
    "        q.append(p[i] * (hit * pHit + (1-hit) * pMiss))\n",
    "    s = sum(q)\n",
    "    for i in range(len(q)):\n",
    "        q[i] = q[i] / s\n",
    "    return q\n",
    "\n",
    "def move(p, U):\n",
    "    q = []\n",
    "    for i in range(len(p)):\n",
    "        s = pExact * p[(i-U) % len(p)]\n",
    "        s = s + pOvershoot * p[(i-U-1) % len(p)]\n",
    "        s = s + pUndershoot * p[(i-U+1) % len(p)]\n",
    "        q.append(s)\n",
    "    return q\n",
    "p = move(move(p,1),1)\n",
    "#\n",
    "# ADD CODE HERE\n",
    "#\n",
    "print (p)\n"
   ]
  },
  {
   "cell_type": "code",
   "execution_count": 28,
   "metadata": {},
   "outputs": [
    {
     "name": "stdout",
     "output_type": "stream",
     "text": [
      "[0.20000000000000365, 0.20000000000000373, 0.20000000000000365, 0.2000000000000035, 0.2000000000000035]\n"
     ]
    }
   ],
   "source": [
    "# Quiz: Move 1000\n",
    "\n",
    "#write code that moves 1000 times and then prints the \n",
    "#resulting probability distribution.\n",
    "\n",
    "p=[0, 1, 0, 0, 0]\n",
    "world=['green', 'red', 'red', 'green', 'green']\n",
    "measurements = ['red', 'green']\n",
    "pHit = 0.6\n",
    "pMiss = 0.2\n",
    "pExact = 0.8\n",
    "pOvershoot = 0.1\n",
    "pUndershoot = 0.1\n",
    "\n",
    "def sense(p, Z):\n",
    "    q=[]\n",
    "    for i in range(len(p)):\n",
    "        hit = (Z == world[i])\n",
    "        q.append(p[i] * (hit * pHit + (1-hit) * pMiss))\n",
    "    s = sum(q)\n",
    "    for i in range(len(q)):\n",
    "        q[i] = q[i] / s\n",
    "    return q\n",
    "\n",
    "def move(p, U):\n",
    "    q = []\n",
    "    for i in range(len(p)):\n",
    "        s = pExact * p[(i-U) % len(p)]\n",
    "        s = s + pOvershoot * p[(i-U-1) % len(p)]\n",
    "        s = s + pUndershoot * p[(i-U+1) % len(p)]\n",
    "        q.append(s)\n",
    "    return q\n",
    "j=0\n",
    "for j in range(1000):\n",
    "    p = move(p,1)\n",
    "    j+=1\n",
    "#\n",
    "# ADD CODE HERE\n",
    "#\n",
    "print (p)\n"
   ]
  },
  {
   "cell_type": "code",
   "execution_count": 29,
   "metadata": {},
   "outputs": [
    {
     "name": "stdout",
     "output_type": "stream",
     "text": [
      "[0.21157894736842103, 0.1515789473684211, 0.08105263157894739, 0.16842105263157897, 0.3873684210526316]\n"
     ]
    }
   ],
   "source": [
    "# Quiz: Sense And Move\n",
    "\n",
    "#Given the list motions=[1,1] which means the robot \n",
    "#moves right and then right again, compute the posterior \n",
    "#distribution if the robot first senses red, then moves \n",
    "#right one, then senses green, then moves right again, \n",
    "#starting with a uniform prior distribution.\n",
    "\n",
    "p=[0.2, 0.2, 0.2, 0.2, 0.2]\n",
    "world=['green', 'red', 'red', 'green', 'green']\n",
    "measurements = ['red', 'green']\n",
    "motions = [1,1]\n",
    "pHit = 0.6\n",
    "pMiss = 0.2\n",
    "pExact = 0.8\n",
    "pOvershoot = 0.1\n",
    "pUndershoot = 0.1\n",
    "\n",
    "def sense(p, Z):\n",
    "    q=[]\n",
    "    for i in range(len(p)):\n",
    "        hit = (Z == world[i])\n",
    "        q.append(p[i] * (hit * pHit + (1-hit) * pMiss))\n",
    "    s = sum(q)\n",
    "    for i in range(len(q)):\n",
    "        q[i] = q[i] / s\n",
    "    return q\n",
    "\n",
    "def move(p, U):\n",
    "    q = []\n",
    "    for i in range(len(p)):\n",
    "        s = pExact * p[(i-U) % len(p)]\n",
    "        s = s + pOvershoot * p[(i-U-1) % len(p)]\n",
    "        s = s + pUndershoot * p[(i-U+1) % len(p)]\n",
    "        q.append(s)\n",
    "    return q\n",
    "#\n",
    "# ADD CODE HERE\n",
    "#\n",
    "p = move(sense(move(sense(p,'red'),1),'green'),1)\n",
    "print (p)        \n"
   ]
  },
  {
   "cell_type": "code",
   "execution_count": 30,
   "metadata": {},
   "outputs": [
    {
     "name": "stdout",
     "output_type": "stream",
     "text": [
      "[0.07882352941176471, 0.07529411764705884, 0.22470588235294123, 0.4329411764705882, 0.18823529411764706]\n"
     ]
    }
   ],
   "source": [
    "# Quiz: Sense And Move\n",
    "\n",
    "#Modify the previous code so that the robot senses red twice.\n",
    "\n",
    "p=[0.2, 0.2, 0.2, 0.2, 0.2]\n",
    "world=['green', 'red', 'red', 'green', 'green']\n",
    "measurements = ['red', 'red']\n",
    "motions = [1,1]\n",
    "pHit = 0.6\n",
    "pMiss = 0.2\n",
    "pExact = 0.8\n",
    "pOvershoot = 0.1\n",
    "pUndershoot = 0.1\n",
    "\n",
    "def sense(p, Z):\n",
    "    q=[]\n",
    "    for i in range(len(p)):\n",
    "        hit = (Z == world[i])\n",
    "        q.append(p[i] * (hit * pHit + (1-hit) * pMiss))\n",
    "    s = sum(q)\n",
    "    for i in range(len(q)):\n",
    "        q[i] = q[i] / s\n",
    "    return q\n",
    "\n",
    "def move(p, U):\n",
    "    q = []\n",
    "    for i in range(len(p)):\n",
    "        s = pExact * p[(i-U) % len(p)]\n",
    "        s = s + pOvershoot * p[(i-U-1) % len(p)]\n",
    "        s = s + pUndershoot * p[(i-U+1) % len(p)]\n",
    "        q.append(s)\n",
    "    return q\n",
    "\n",
    "for k in range(len(measurements)):\n",
    "    p = sense(p, measurements[k])\n",
    "    p = move(p, motions[k])\n",
    "    \n",
    "print (p)        \n"
   ]
  },
  {
   "cell_type": "code",
   "execution_count": 37,
   "metadata": {},
   "outputs": [
    {
     "data": {
      "text/plain": [
       "<matplotlib.collections.PathCollection at 0x10d562cf8>"
      ]
     },
     "execution_count": 37,
     "metadata": {},
     "output_type": "execute_result"
    },
    {
     "data": {
      "image/png": "[encoded data removed]",
      "text/plain": [
       "<matplotlib.figure.Figure at 0x10d4f8898>"
      ]
     },
     "metadata": {},
     "output_type": "display_data"
    }
   ],
   "source": [
    "plt.scatter([range(5)],p)"
   ]
  },
  {
   "cell_type": "code",
   "execution_count": 31,
   "metadata": {},
   "outputs": [
    {
     "data": {
      "text/plain": [
       "0.8"
      ]
     },
     "execution_count": 31,
     "metadata": {},
     "output_type": "execute_result"
    }
   ],
   "source": [
    "# Quiz: Formal Definition Of Probability 1\n",
    "p_x1=0.2\n",
    "p_x2=1-p_x1\n",
    "p_x2"
   ]
  },
  {
   "cell_type": "code",
   "execution_count": 32,
   "metadata": {},
   "outputs": [
    {
     "data": {
      "text/plain": [
       "1"
      ]
     },
     "execution_count": 32,
     "metadata": {},
     "output_type": "execute_result"
    }
   ],
   "source": [
    "# Quiz: Formal Definition Of Probability 2\n",
    "p_x1=0\n",
    "p_x2=1-p_x1\n",
    "p_x2"
   ]
  },
  {
   "cell_type": "code",
   "execution_count": 218,
   "metadata": {},
   "outputs": [
    {
     "data": {
      "text/plain": [
       "0.6"
      ]
     },
     "execution_count": 218,
     "metadata": {},
     "output_type": "execute_result"
    }
   ],
   "source": [
    "# Quiz: Formal Definition Of Probability 3\n",
    "1-4*0.1"
   ]
  },
  {
   "cell_type": "code",
   "execution_count": 222,
   "metadata": {},
   "outputs": [
    {
     "data": {
      "text/plain": [
       "0.1007"
      ]
     },
     "execution_count": 222,
     "metadata": {},
     "output_type": "execute_result"
    }
   ],
   "source": [
    "# Quiz: Cancer Test\n",
    "p_havecancer = 0.001\n",
    "p_freecancer = 0.999\n",
    "p_havepositive = 0.8\n",
    "p_freepositive = 0.1\n",
    "p_positive = p_havecancer*p_havepositive+p_freecancer*p_freepositive\n",
    "p_positive"
   ]
  },
  {
   "cell_type": "code",
   "execution_count": 223,
   "metadata": {},
   "outputs": [
    {
     "data": {
      "text/plain": [
       "0.007944389275074478"
      ]
     },
     "execution_count": 223,
     "metadata": {},
     "output_type": "execute_result"
    }
   ],
   "source": [
    " p_havecancer*p_havepositive/p_positive"
   ]
  },
  {
   "cell_type": "code",
   "execution_count": 225,
   "metadata": {},
   "outputs": [
    {
     "data": {
      "text/plain": [
       "0.25"
      ]
     },
     "execution_count": 225,
     "metadata": {},
     "output_type": "execute_result"
    }
   ],
   "source": [
    "# Quiz: Coin Flip Quiz\n",
    "0.5*0.5+0*0.5"
   ]
  },
  {
   "cell_type": "code",
   "execution_count": 226,
   "metadata": {},
   "outputs": [
    {
     "data": {
      "text/plain": [
       "0.8333333333333334"
      ]
     },
     "execution_count": 226,
     "metadata": {},
     "output_type": "execute_result"
    }
   ],
   "source": [
    "# Quiz: Two Coin Quiz\n",
    "0.5/(0.5+0.1)"
   ]
  },
  {
   "cell_type": "markdown",
   "metadata": {},
   "source": [
    "##   &#x1F916; &nbsp; <span style=\"color:red\">Section 2. Problem Set 1</span>"
   ]
  },
  {
   "cell_type": "code",
   "execution_count": 230,
   "metadata": {},
   "outputs": [
    {
     "data": {
      "text/plain": [
       "0.8"
      ]
     },
     "execution_count": 230,
     "metadata": {},
     "output_type": "execute_result"
    }
   ],
   "source": [
    "# Quiz: Probability\n",
    "p_x = 0.2\n",
    "p_nox = 1-p_x\n",
    "p_nox"
   ]
  },
  {
   "cell_type": "code",
   "execution_count": 231,
   "metadata": {},
   "outputs": [
    {
     "data": {
      "text/plain": [
       "0.04000000000000001"
      ]
     },
     "execution_count": 231,
     "metadata": {},
     "output_type": "execute_result"
    }
   ],
   "source": [
    "p_y=0.2\n",
    "p_xtheny = p_x*p_y\n",
    "p_xtheny"
   ]
  },
  {
   "cell_type": "code",
   "execution_count": 233,
   "metadata": {},
   "outputs": [
    {
     "data": {
      "text/plain": [
       "0.6"
      ]
     },
     "execution_count": 233,
     "metadata": {},
     "output_type": "execute_result"
    }
   ],
   "source": [
    "p_x_y = 0.6\n",
    "p_nox_y = 0.6\n",
    "p_y_ingeneral = p_x*p_x_y + p_nox*p_nox_y\n",
    "p_y_ingeneral"
   ]
  },
  {
   "cell_type": "code",
   "execution_count": 234,
   "metadata": {
    "collapsed": true
   },
   "outputs": [],
   "source": [
    "# Quiz: Localization\n",
    "# exponentially"
   ]
  },
  {
   "cell_type": "code",
   "execution_count": 239,
   "metadata": {},
   "outputs": [
    {
     "data": {
      "text/plain": [
       "0.0009000000000000001"
      ]
     },
     "execution_count": 239,
     "metadata": {},
     "output_type": "execute_result"
    }
   ],
   "source": [
    "# Quiz: Bayes' Rule\n",
    "p=0.001\n",
    "p_true=0.9\n",
    "p_f = p*p_true\n",
    "p_f"
   ]
  },
  {
   "cell_type": "code",
   "execution_count": 240,
   "metadata": {},
   "outputs": [
    {
     "data": {
      "text/plain": [
       "0.09989999999999997"
      ]
     },
     "execution_count": 240,
     "metadata": {},
     "output_type": "execute_result"
    }
   ],
   "source": [
    "p_nof = (1-p)*(1-p_true)\n",
    "p_nof"
   ]
  },
  {
   "cell_type": "code",
   "execution_count": 241,
   "metadata": {},
   "outputs": [
    {
     "data": {
      "text/plain": [
       "0.008928571428571432"
      ]
     },
     "execution_count": 241,
     "metadata": {},
     "output_type": "execute_result"
    }
   ],
   "source": [
    "p_f/(p_f+p_nof)"
   ]
  },
  {
   "cell_type": "code",
   "execution_count": 242,
   "metadata": {},
   "outputs": [
    {
     "data": {
      "text/plain": [
       "0.9910714285714286"
      ]
     },
     "execution_count": 242,
     "metadata": {},
     "output_type": "execute_result"
    }
   ],
   "source": [
    "p_nof/(p_f+p_nof)"
   ]
  },
  {
   "cell_type": "code",
   "execution_count": 243,
   "metadata": {
    "collapsed": true
   },
   "outputs": [],
   "source": [
    "# Quiz: Localization Program"
   ]
  },
  {
   "cell_type": "code",
   "execution_count": 48,
   "metadata": {},
   "outputs": [
    {
     "name": "stdout",
     "output_type": "stream",
     "text": [
      "[[0.01106,0.02464,0.06800,0.04472,0.02465],\n",
      " [0.00715,0.01017,0.08697,0.07988,0.00935],\n",
      " [0.00740,0.00894,0.11273,0.35351,0.04066],\n",
      " [0.00911,0.00715,0.01435,0.04313,0.03643]]\n"
     ]
    }
   ],
   "source": [
    "# The function localize takes the following arguments:\n",
    "#\n",
    "# colors:\n",
    "#        2D list, each entry either 'R' (for red cell) or 'G' (for green cell)\n",
    "#\n",
    "# measurements:\n",
    "#        list of measurements taken by the robot, each entry either 'R' or 'G'\n",
    "#\n",
    "# motions:\n",
    "#        list of actions taken by the robot, each entry of the form [dy,dx],\n",
    "#        where dx refers to the change in the x-direction (positive meaning\n",
    "#        movement to the right) and dy refers to the change in the y-direction\n",
    "#        (positive meaning movement downward)\n",
    "#        NOTE: the *first* coordinate is change in y; the *second* coordinate is\n",
    "#              change in x\n",
    "#\n",
    "# sensor_right:\n",
    "#        float between 0 and 1, giving the probability that any given\n",
    "#        measurement is correct; the probability that the measurement is\n",
    "#        incorrect is 1-sensor_right\n",
    "#\n",
    "# p_move:\n",
    "#        float between 0 and 1, giving the probability that any given movement\n",
    "#        command takes place; the probability that the movement command fails\n",
    "#        (and the robot remains still) is 1-p_move; the robot will NOT overshoot\n",
    "#        its destination in this exercise\n",
    "#\n",
    "# The function should RETURN (not just show or print) a 2D list (of the same\n",
    "# dimensions as colors) that gives the probabilities that the robot occupies\n",
    "# each cell in the world.\n",
    "#\n",
    "# Compute the probabilities by assuming the robot initially has a uniform\n",
    "# probability of being in any cell.\n",
    "#\n",
    "# Also assume that at each step, the robot:\n",
    "# 1) first makes a movement,\n",
    "# 2) then takes a measurement.\n",
    "#\n",
    "# Motion:\n",
    "#  [0,0] - stay\n",
    "#  [0,1] - right\n",
    "#  [0,-1] - left\n",
    "#  [1,0] - down\n",
    "#  [-1,0] - up\n",
    "\n",
    "def sense(p, Z, pHit, colors):\n",
    "    pMiss = 1. - pHit\n",
    "    q = [[0 for row in range(len(colors[0]))] for col in range(len(colors))]\n",
    "    for i in range(len(colors[0])):\n",
    "        for j in range(len(p)):\n",
    "            hit = (Z == colors[j][i]) \n",
    "            q[j][i] = (p[j][i] * (hit * pHit + (1-hit) * pMiss))\n",
    "    # s = sum(sum(el) for el in q)             \n",
    "    s = sum(map(sum, q))\n",
    "    for l in range(len(q[0])):\n",
    "        for m in range(len(q)):\n",
    "            q[m][l] = q[m][l] / s\n",
    "    return q\n",
    "\n",
    "def move(p, U, p_move, colors):\n",
    "    p_here = 1. - p_move\n",
    "    q = [[0 for row in range(len(colors[0]))] for col in range(len(colors))]\n",
    "    for i in range(len(q[0])):\n",
    "        for j in range(len(q)):\n",
    "            s = p_move * p[(j-U[0]) % len(p)][(i-U[1]) % len(p[0])]\n",
    "            q[j][i] = s + p_here * p[j][i]\n",
    "    return q\n",
    "\n",
    "def localize(colors, measurements, motions, sensor_right, p_move):\n",
    "    # initializes p to a uniform distribution over a grid of the same dimensions as colors\n",
    "    pinit = 1.0 / float(len(colors)) / float(len(colors[0]))\n",
    "    p = [[pinit for row in range(len(colors[0]))] for col in range(len(colors))]\n",
    "    \n",
    "    # >>> Insert your code here <<<\n",
    "    for i in range(len(measurements)):\n",
    "        p = move(p, motions[i], p_move, colors)\n",
    "        p = sense(p, measurements[i], sensor_right, colors)\n",
    "    return p\n",
    "\n",
    "def show(p):\n",
    "    rows = ['[' + ','.join(map(lambda x: '{0:.5f}'.format(x),r)) + ']' for r in p]\n",
    "    print ('[' + ',\\n '.join(rows) + ']')\n",
    "    \n",
    "#############################################################\n",
    "# For the following test case, your output should be \n",
    "# [[0.01105, 0.02464, 0.06799, 0.04472, 0.02465],\n",
    "#  [0.00715, 0.01017, 0.08696, 0.07988, 0.00935],\n",
    "#  [0.00739, 0.00894, 0.11272, 0.35350, 0.04065],\n",
    "#  [0.00910, 0.00715, 0.01434, 0.04313, 0.03642]]\n",
    "# (within a tolerance of +/- 0.001 for each entry)\n",
    "\n",
    "colors = [['R','G','G','R','R'],\n",
    "          ['R','R','G','R','R'],\n",
    "          ['R','R','G','G','R'],\n",
    "          ['R','R','R','R','R']]\n",
    "measurements = ['G','G','G','G','G']\n",
    "motions = [[0,0],[0,1],[1,0],[1,0],[0,1]]\n",
    "p = localize(colors,measurements,motions,sensor_right = 0.7, p_move = 0.8)\n",
    "show(p) # displays your answer\n"
   ]
  },
  {
   "cell_type": "code",
   "execution_count": 57,
   "metadata": {},
   "outputs": [
    {
     "data": {
      "image/png": "[encoded data removed]",
      "text/plain": [
       "<matplotlib.figure.Figure at 0x10e0bbc18>"
      ]
     },
     "metadata": {},
     "output_type": "display_data"
    }
   ],
   "source": [
    "plt.figure(figsize=(18,6))\n",
    "plt.scatter(range(20), p)\n",
    "plt.xticks(np.arange(0, 20, 1));"
   ]
  },
  {
   "cell_type": "code",
   "execution_count": 21,
   "metadata": {},
   "outputs": [
    {
     "name": "stdout",
     "output_type": "stream",
     "text": [
      "[[0.00000,0.00000,0.00000],\n",
      " [0.00000,1.00000,0.00000],\n",
      " [0.00000,0.00000,0.00000]]\n"
     ]
    }
   ],
   "source": [
    "# test 1\n",
    "colors = [['G', 'G', 'G'],\n",
    "          ['G', 'R', 'G'],\n",
    "          ['G', 'G', 'G']]\n",
    "measurements = ['R']\n",
    "motions = [[0,0]]\n",
    "sensor_right = 1.0\n",
    "p_move = 1.0\n",
    "p = localize(colors,measurements,motions,sensor_right,p_move)\n",
    "# correct_answer = (\n",
    "#     [[0.0, 0.0, 0.0],\n",
    "#      [0.0, 1.0, 0.0],\n",
    "#     [0.0, 0.0, 0.0]])\n",
    "show(p)"
   ]
  },
  {
   "cell_type": "code",
   "execution_count": 15,
   "metadata": {},
   "outputs": [
    {
     "name": "stdout",
     "output_type": "stream",
     "text": [
      "[[0.00000,0.00000,0.00000],\n",
      " [0.00000,0.50000,0.50000],\n",
      " [0.00000,0.00000,0.00000]]\n"
     ]
    }
   ],
   "source": [
    "# test 2\n",
    "colors = [['G', 'G', 'G'],\n",
    "          ['G', 'R', 'R'],\n",
    "          ['G', 'G', 'G']]\n",
    "measurements = ['R']\n",
    "motions = [[0,0]]\n",
    "sensor_right = 1.0\n",
    "p_move = 1.0\n",
    "p = localize(colors,measurements,motions,sensor_right,p_move)\n",
    "# correct_answer = (\n",
    "#     [[0.0, 0.0, 0.0],\n",
    "#      [0.0, 0.5, 0.5],\n",
    "#      [0.0, 0.0, 0.0]])\n",
    "show(p)"
   ]
  },
  {
   "cell_type": "code",
   "execution_count": 16,
   "metadata": {},
   "outputs": [
    {
     "name": "stdout",
     "output_type": "stream",
     "text": [
      "[[0.06667,0.06667,0.06667],\n",
      " [0.06667,0.26667,0.26667],\n",
      " [0.06667,0.06667,0.06667]]\n"
     ]
    }
   ],
   "source": [
    "# test 3\n",
    "colors = [['G', 'G', 'G'],\n",
    "          ['G', 'R', 'R'],\n",
    "          ['G', 'G', 'G']]\n",
    "measurements = ['R']\n",
    "motions = [[0,0]]\n",
    "sensor_right = 0.8\n",
    "p_move = 1.0\n",
    "p = localize(colors,measurements,motions,sensor_right,p_move)\n",
    "# correct_answer = (\n",
    "#     [[0.06666666666, 0.06666666666, 0.06666666666],\n",
    "#      [0.06666666666, 0.26666666666, 0.26666666666],\n",
    "#      [0.06666666666, 0.06666666666, 0.06666666666]])\n",
    "show(p)"
   ]
  },
  {
   "cell_type": "code",
   "execution_count": 17,
   "metadata": {},
   "outputs": [
    {
     "name": "stdout",
     "output_type": "stream",
     "text": [
      "[[0.03333,0.03333,0.03333],\n",
      " [0.13333,0.13333,0.53333],\n",
      " [0.03333,0.03333,0.03333]]\n"
     ]
    }
   ],
   "source": [
    "# test 4\n",
    "colors = [['G', 'G', 'G'],\n",
    "          ['G', 'R', 'R'],\n",
    "          ['G', 'G', 'G']]\n",
    "measurements = ['R', 'R']\n",
    "motions = [[0,0], [0,1]]\n",
    "sensor_right = 0.8\n",
    "p_move = 1.0\n",
    "p = localize(colors,measurements,motions,sensor_right,p_move)\n",
    "correct_answer = (\n",
    "    [[0.03333333333, 0.03333333333, 0.03333333333],\n",
    "     [0.13333333333, 0.13333333333, 0.53333333333],\n",
    "     [0.03333333333, 0.03333333333, 0.03333333333]])\n",
    "show(p)"
   ]
  },
  {
   "cell_type": "code",
   "execution_count": 18,
   "metadata": {},
   "outputs": [
    {
     "name": "stdout",
     "output_type": "stream",
     "text": [
      "[[0.00000,0.00000,0.00000],\n",
      " [0.00000,0.00000,1.00000],\n",
      " [0.00000,0.00000,0.00000]]\n"
     ]
    }
   ],
   "source": [
    "# test 5\n",
    "colors = [['G', 'G', 'G'],\n",
    "          ['G', 'R', 'R'],\n",
    "          ['G', 'G', 'G']]\n",
    "measurements = ['R', 'R']\n",
    "motions = [[0,0], [0,1]]\n",
    "sensor_right = 1.0\n",
    "p_move = 1.0\n",
    "p = localize(colors,measurements,motions,sensor_right,p_move)\n",
    "correct_answer = (\n",
    "    [[0.0, 0.0, 0.0],\n",
    "     [0.0, 0.0, 1.0],\n",
    "     [0.0, 0.0, 0.0]])\n",
    "show(p)"
   ]
  },
  {
   "cell_type": "code",
   "execution_count": 19,
   "metadata": {},
   "outputs": [
    {
     "name": "stdout",
     "output_type": "stream",
     "text": [
      "[[0.02899,0.02899,0.02899],\n",
      " [0.07246,0.28986,0.46377],\n",
      " [0.02899,0.02899,0.02899]]\n"
     ]
    }
   ],
   "source": [
    "# test 6\n",
    "colors = [['G', 'G', 'G'],\n",
    "          ['G', 'R', 'R'],\n",
    "          ['G', 'G', 'G']]\n",
    "measurements = ['R', 'R']\n",
    "motions = [[0,0], [0,1]]\n",
    "sensor_right = 0.8\n",
    "p_move = 0.5\n",
    "p = localize(colors,measurements,motions,sensor_right,p_move)\n",
    "correct_answer = (\n",
    "    [[0.0289855072, 0.0289855072, 0.0289855072],\n",
    "     [0.0724637681, 0.2898550724, 0.4637681159],\n",
    "     [0.0289855072, 0.0289855072, 0.0289855072]])\n",
    "show(p)"
   ]
  },
  {
   "cell_type": "code",
   "execution_count": 10,
   "metadata": {},
   "outputs": [
    {
     "name": "stdout",
     "output_type": "stream",
     "text": [
      "[[0.00000,0.00000,0.00000],\n",
      " [0.00000,0.33333,0.66667],\n",
      " [0.00000,0.00000,0.00000]]\n"
     ]
    }
   ],
   "source": [
    "# test 7\n",
    "colors = [['G', 'G', 'G'],\n",
    "          ['G', 'R', 'R'],\n",
    "          ['G', 'G', 'G']]\n",
    "measurements = ['R', 'R']\n",
    "motions = [[0,0], [0,1]]\n",
    "sensor_right = 1.0\n",
    "p_move = 0.5\n",
    "p = localize(colors,measurements,motions,sensor_right,p_move)\n",
    "correct_answer = (\n",
    "    [[0.0, 0.0, 0.0],\n",
    "     [0.0, 0.33333333, 0.66666666],\n",
    "     [0.0, 0.0, 0.0]])\n",
    "show(p)"
   ]
  },
  {
   "cell_type": "code",
   "execution_count": 44,
   "metadata": {},
   "outputs": [
    {
     "data": {
      "text/plain": [
       "[[0, 0, 0], [0, 0, 0], [0, 0, 0]]"
      ]
     },
     "execution_count": 44,
     "metadata": {},
     "output_type": "execute_result"
    }
   ],
   "source": [
    "q1 = [[0 for row in range(len(colors[0]))] for col in range(len(colors))]\n",
    "q1"
   ]
  },
  {
   "cell_type": "code",
   "execution_count": 45,
   "metadata": {},
   "outputs": [
    {
     "data": {
      "text/plain": [
       "[[0, 0, 0], [0, 0, 0], [0, 0, 0]]"
      ]
     },
     "execution_count": 45,
     "metadata": {},
     "output_type": "execute_result"
    }
   ],
   "source": [
    "q2 = len(colors)*[len(colors[0])*[0]]\n",
    "q2"
   ]
  },
  {
   "cell_type": "code",
   "execution_count": 46,
   "metadata": {},
   "outputs": [
    {
     "data": {
      "text/plain": [
       "True"
      ]
     },
     "execution_count": 46,
     "metadata": {},
     "output_type": "execute_result"
    }
   ],
   "source": [
    "q1==q2"
   ]
  },
  {
   "cell_type": "code",
   "execution_count": 47,
   "metadata": {},
   "outputs": [
    {
     "name": "stdout",
     "output_type": "stream",
     "text": [
      "[[24309744292185273971541487170261505163382307477189295676802857405223490166826249421953769144320.00000,24309744292185273971541487170261505163382307477189295676802857405223490166826249421953769144320.00000,24309744292185273971541487170261505163382307477189295676802857405223490166826249421953769144320.00000,24309744292185273971541487170261505163382307477189295676802857405223490166826249421953769144320.00000,24309744292185273971541487170261505163382307477189295676802857405223490166826249421953769144320.00000],\n",
      " [24309744292185273971541487170261505163382307477189295676802857405223490166826249421953769144320.00000,24309744292185273971541487170261505163382307477189295676802857405223490166826249421953769144320.00000,24309744292185273971541487170261505163382307477189295676802857405223490166826249421953769144320.00000,24309744292185273971541487170261505163382307477189295676802857405223490166826249421953769144320.00000,24309744292185273971541487170261505163382307477189295676802857405223490166826249421953769144320.00000],\n",
      " [24309744292185273971541487170261505163382307477189295676802857405223490166826249421953769144320.00000,24309744292185273971541487170261505163382307477189295676802857405223490166826249421953769144320.00000,24309744292185273971541487170261505163382307477189295676802857405223490166826249421953769144320.00000,24309744292185273971541487170261505163382307477189295676802857405223490166826249421953769144320.00000,24309744292185273971541487170261505163382307477189295676802857405223490166826249421953769144320.00000],\n",
      " [24309744292185273971541487170261505163382307477189295676802857405223490166826249421953769144320.00000,24309744292185273971541487170261505163382307477189295676802857405223490166826249421953769144320.00000,24309744292185273971541487170261505163382307477189295676802857405223490166826249421953769144320.00000,24309744292185273971541487170261505163382307477189295676802857405223490166826249421953769144320.00000,24309744292185273971541487170261505163382307477189295676802857405223490166826249421953769144320.00000]]\n"
     ]
    }
   ],
   "source": [
    "def sense(p, Z, pHit, colors):\n",
    "    pMiss = 1. - pHit\n",
    "    q = len(colors)*[len(colors[0])*[0.]]\n",
    "    for i in range(len(colors[0])):\n",
    "        for j in range(len(p)):\n",
    "            hit = (Z == colors[j][i]) \n",
    "            q[j][i] = (p[j][i] * (hit * pHit + (1-hit) * pMiss))\n",
    "    # s = sum(sum(el) for el in q)             \n",
    "    s = sum(map(sum, q))\n",
    "    for l in range(len(q[0])):\n",
    "        for m in range(len(q)):\n",
    "            q[m][l] = q[m][l] / s\n",
    "    return q\n",
    "\n",
    "def move(p, U, p_move, colors):\n",
    "    p_here = 1. - p_move\n",
    "    q = len(colors)*[len(colors[0])*[0]]\n",
    "    for i in range(len(q[0])):\n",
    "        for j in range(len(q)):\n",
    "            s = p_move * p[(j-U[0]) % len(p)][(i-U[1]) % len(p[0])]\n",
    "            q[j][i] = s + p_here * p[j][i]\n",
    "    return q\n",
    "\n",
    "def localize(colors, measurements, motions, sensor_right, p_move):\n",
    "    # initializes p to a uniform distribution over a grid of the same dimensions as colors\n",
    "    pinit = 1.0 / float(len(colors)) / float(len(colors[0]))\n",
    "    p = [[pinit for row in range(len(colors[0]))] for col in range(len(colors))]\n",
    "    \n",
    "    # >>> Insert your code here <<<\n",
    "    for i in range(len(measurements)):\n",
    "        p = move(p, motions[i], p_move, colors)\n",
    "        p = sense(p, measurements[i], sensor_right, colors)\n",
    "    return p\n",
    "\n",
    "def show(p):\n",
    "    rows = ['[' + ','.join(map(lambda x: '{0:.5f}'.format(x),r)) + ']' for r in p]\n",
    "    print ('[' + ',\\n '.join(rows) + ']')\n",
    "    \n",
    "#############################################################\n",
    "# For the following test case, your output should be \n",
    "# [[0.01105, 0.02464, 0.06799, 0.04472, 0.02465],\n",
    "#  [0.00715, 0.01017, 0.08696, 0.07988, 0.00935],\n",
    "#  [0.00739, 0.00894, 0.11272, 0.35350, 0.04065],\n",
    "#  [0.00910, 0.00715, 0.01434, 0.04313, 0.03642]]\n",
    "# (within a tolerance of +/- 0.001 for each entry)\n",
    "\n",
    "colors = [['R','G','G','R','R'],\n",
    "          ['R','R','G','R','R'],\n",
    "          ['R','R','G','G','R'],\n",
    "          ['R','R','R','R','R']]\n",
    "measurements = ['G','G','G','G','G']\n",
    "motions = [[0,0],[0,1],[1,0],[1,0],[0,1]]\n",
    "p = localize(colors,measurements,motions,sensor_right = 0.7, p_move = 0.8)\n",
    "show(p) # displays your answer"
   ]
  },
  {
   "cell_type": "markdown",
   "metadata": {},
   "source": [
    "##   &#x1F916; &nbsp; <span style=\"color:red\">Section 3. Office Hours Week 1</span>"
   ]
  },
  {
   "cell_type": "code",
   "execution_count": null,
   "metadata": {
    "collapsed": true
   },
   "outputs": [],
   "source": []
  }
 ],
 "metadata": {
  "anaconda-cloud": {},
  "hide_input": false,
  "kernelspec": {
   "display_name": "Python [conda root]",
   "language": "python",
   "name": "conda-root-py"
  },
  "language_info": {
   "codemirror_mode": {
    "name": "ipython",
    "version": 3
   },
   "file_extension": ".py",
   "mimetype": "text/x-python",
   "name": "python",
   "nbconvert_exporter": "python",
   "pygments_lexer": "ipython3",
   "version": "3.5.2"
  },
  "latex_envs": {
   "bibliofile": "biblio.bib",
   "cite_by": "apalike",
   "current_citInitial": 1,
   "eqLabelWithNumbers": true,
   "eqNumInitial": 0
  }
 },
 "nbformat": 4,
 "nbformat_minor": 2
}
