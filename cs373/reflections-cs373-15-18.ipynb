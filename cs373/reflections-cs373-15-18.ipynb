{
 "cells": [
  {
   "cell_type": "markdown",
   "metadata": {},
   "source": [
    "# &#x1F4D1; &nbsp; <span style=\"color:red\"> Reflections. Artificial Intelligence for Robotics. Sections 15-18</span>"
   ]
  },
  {
   "cell_type": "markdown",
   "metadata": {},
   "source": [
    "##   &#x1F916; &nbsp; <span style=\"color:red\">Links</span>"
   ]
  },
  {
   "cell_type": "code",
   "execution_count": null,
   "metadata": {
    "collapsed": true
   },
   "outputs": [],
   "source": []
  },
  {
   "cell_type": "markdown",
   "metadata": {},
   "source": [
    "##   &#x1F916; &nbsp; <span style=\"color:red\">Libraries</span>"
   ]
  },
  {
   "cell_type": "code",
   "execution_count": 16,
   "metadata": {
    "collapsed": true
   },
   "outputs": [],
   "source": [
    "from math import *\n",
    "import numpy as np\n",
    "import pandas as pd\n",
    "import random\n",
    "import os\n",
    "from time import time\n",
    "from copy import deepcopy"
   ]
  },
  {
   "cell_type": "code",
   "execution_count": 2,
   "metadata": {
    "collapsed": true
   },
   "outputs": [],
   "source": [
    "from IPython.display import display, Image\n",
    "import matplotlib.pylab as plt\n",
    "import matplotlib.cm as cm\n",
    "from matplotlib import offsetbox\n",
    "%matplotlib inline"
   ]
  },
  {
   "cell_type": "code",
   "execution_count": null,
   "metadata": {
    "collapsed": true
   },
   "outputs": [],
   "source": []
  },
  {
   "cell_type": "markdown",
   "metadata": {},
   "source": [
    "##   &#x1F916; &nbsp; <span style=\"color:red\">Section 15. PID Control</span>"
   ]
  },
  {
   "cell_type": "markdown",
   "metadata": {
    "collapsed": true
   },
   "source": [
    "### Notes"
   ]
  },
  {
   "cell_type": "code",
   "execution_count": null,
   "metadata": {
    "collapsed": true
   },
   "outputs": [],
   "source": []
  },
  {
   "cell_type": "markdown",
   "metadata": {},
   "source": [
    "### Examples"
   ]
  },
  {
   "cell_type": "code",
   "execution_count": null,
   "metadata": {
    "collapsed": true
   },
   "outputs": [],
   "source": []
  },
  {
   "cell_type": "markdown",
   "metadata": {},
   "source": [
    "### Quizes"
   ]
  },
  {
   "cell_type": "code",
   "execution_count": 3,
   "metadata": {
    "collapsed": true
   },
   "outputs": [],
   "source": [
    "# Quiz: Robot Motion\n",
    "# Red"
   ]
  },
  {
   "cell_type": "code",
   "execution_count": 4,
   "metadata": {
    "collapsed": true
   },
   "outputs": [],
   "source": [
    "# Quiz: Smoothing Algorithm\n",
    "# original path"
   ]
  },
  {
   "cell_type": "code",
   "execution_count": 5,
   "metadata": {
    "collapsed": true
   },
   "outputs": [],
   "source": [
    "# Quiz: Smoothing Algorithm 2\n",
    "# no path    "
   ]
  },
  {
   "cell_type": "code",
   "execution_count": null,
   "metadata": {
    "collapsed": true
   },
   "outputs": [],
   "source": [
    "# Quiz: Smoothing Algorithm 3\n",
    "# smooth path"
   ]
  },
  {
   "cell_type": "code",
   "execution_count": 6,
   "metadata": {
    "collapsed": true
   },
   "outputs": [],
   "source": [
    "# Quiz: Path Smoothing\n",
    "# The formula you need to use in the exercise is as follows. \n",
    "# Note that it is a little different from the ones in the video.\n",
    "\n",
    "# yi <- yi + alpha * (xi - yi) + beta * (y_i+1 + y_i-1 - 2 * yi)"
   ]
  },
  {
   "cell_type": "code",
   "execution_count": 15,
   "metadata": {},
   "outputs": [
    {
     "name": "stdout",
     "output_type": "stream",
     "text": [
      "[0.000, 0.000] -> [0.000, 0.000]\n",
      "[0.000, 1.000] -> [0.021, 0.979]\n",
      "[0.000, 2.000] -> [0.149, 1.851]\n",
      "[1.000, 2.000] -> [1.021, 1.979]\n",
      "[2.000, 2.000] -> [2.000, 2.000]\n",
      "[3.000, 2.000] -> [2.979, 2.021]\n",
      "[4.000, 2.000] -> [3.851, 2.149]\n",
      "[4.000, 3.000] -> [3.979, 3.021]\n",
      "[4.000, 4.000] -> [4.000, 4.000]\n"
     ]
    }
   ],
   "source": [
    "# -----------\n",
    "# User Instructions\n",
    "#\n",
    "# Define a function smooth that takes a path as its input\n",
    "# (with optional parameters for weight_data, weight_smooth,\n",
    "# and tolerance) and returns a smooth path. The first and \n",
    "# last points should remain unchanged.\n",
    "#\n",
    "# Smoothing should be implemented by iteratively updating\n",
    "# each entry in newpath until some desired level of accuracy\n",
    "# is reached. The update should be done according to the\n",
    "# gradient descent equations given in the instructor's note\n",
    "# below (the equations given in the video are not quite \n",
    "# correct).\n",
    "# -----------\n",
    "\n",
    "# thank you to EnTerr for posting this on our discussion forum\n",
    "def printpaths(path,newpath):\n",
    "    for old,new in zip(path,newpath):\n",
    "        print ('['+ ', '.join('%.3f'%x for x in old) + \\\n",
    "               '] -> ['+ ', '.join('%.3f'%x for x in new) +']')\n",
    "\n",
    "# Don't modify path inside your function.\n",
    "path = [[0, 0],\n",
    "        [0, 1],\n",
    "        [0, 2],\n",
    "        [1, 2],\n",
    "        [2, 2],\n",
    "        [3, 2],\n",
    "        [4, 2],\n",
    "        [4, 3],\n",
    "        [4, 4]]\n",
    "\n",
    "def smooth(path, weight_data = 0.5, weight_smooth = 0.1, tolerance = 0.000001):\n",
    "\n",
    "    # Make a deep copy of path into newpath\n",
    "    newpath = deepcopy(path)\n",
    "\n",
    "    #######################\n",
    "    ### ENTER CODE HERE ###\n",
    "    #######################\n",
    "    \n",
    "    while True:\n",
    "        diff = 0.\n",
    "        for i in range(1, len(path)-1):\n",
    "            for j in range(len(path[i])):\n",
    "                current_point = newpath[i][j]\n",
    "                \n",
    "                newpath[i][j] = newpath[i][j] + weight_data * (path[i][j] - newpath[i][j]) + \\\n",
    "                weight_smooth * (newpath[i+1][j] + newpath[i-1][j] - 2 * newpath[i][j])\n",
    "                \n",
    "                diff += abs(current_point - newpath[i][j])\n",
    "                \n",
    "        if diff < tolerance:\n",
    "            break\n",
    "    \n",
    "    return newpath # Leave this line for the grader!\n",
    "\n",
    "printpaths(path,smooth(path))\n"
   ]
  },
  {
   "cell_type": "code",
   "execution_count": 3,
   "metadata": {
    "collapsed": true
   },
   "outputs": [],
   "source": [
    "# Quiz: Zero Data Weight\n",
    "# straight line"
   ]
  },
  {
   "cell_type": "code",
   "execution_count": 4,
   "metadata": {
    "collapsed": true
   },
   "outputs": [],
   "source": [
    "# Quiz: PID Control\n",
    "# steer in proportion to CTE"
   ]
  },
  {
   "cell_type": "code",
   "execution_count": 17,
   "metadata": {
    "collapsed": true
   },
   "outputs": [],
   "source": [
    "# Quiz: Proportional Control\n",
    "# overshoots"
   ]
  },
  {
   "cell_type": "code",
   "execution_count": 39,
   "metadata": {},
   "outputs": [
    {
     "name": "stdout",
     "output_type": "stream",
     "text": [
      "[x=0.00000 y=1.00000 orient=0.00000] -0.1\n",
      "[x=1.00000 y=0.99749 orient=6.27817] -0.0997491638459\n",
      "[x=1.99997 y=0.98997 orient=6.27316] -0.0989972950612\n",
      "[x=2.99989 y=0.97747 orient=6.26820] -0.0977469440459\n",
      "[x=3.99973 y=0.96003 orient=6.26330] -0.0960031957433\n",
      "[x=4.99948 y=0.93774 orient=6.25848] -0.0937736475381\n",
      "[x=5.99912 y=0.91068 orient=6.25378] -0.0910683732206\n",
      "[x=6.99861 y=0.87900 orient=6.24921] -0.0878998733516\n",
      "[x=7.99796 y=0.84283 orient=6.24481] -0.0842830124796\n",
      "[x=8.99714 y=0.80235 orient=6.24058] -0.0802349437746\n",
      "[x=9.99614 y=0.75775 orient=6.23656] -0.0757750217292\n",
      "[x=10.99497 y=0.70925 orient=6.23277] -0.0709247036578\n",
      "[x=11.99360 y=0.65707 orient=6.22921] -0.0657074407797\n",
      "[x=12.99206 y=0.60149 orient=6.22592] -0.060148559709\n",
      "[x=13.99033 y=0.54275 orient=6.22291] -0.0542751351986\n",
      "[x=14.98843 y=0.48116 orient=6.22020] -0.0481158549857\n",
      "[x=15.98637 y=0.41701 orient=6.21779] -0.0417008775783\n",
      "[x=16.98416 y=0.35062 orient=6.21570] -0.0350616837984\n",
      "[x=17.98183 y=0.28231 orient=6.21395] -0.0282309228647\n",
      "[x=18.97938 y=0.21242 orient=6.21254] -0.0212422537586\n",
      "[x=19.97685 y=0.14130 orient=6.21147] -0.0141301825775\n",
      "[x=20.97428 y=0.06965 orient=6.21077] -0.0069651329429\n",
      "[x=21.97166 y=-0.00270 orient=6.21042] 0.00027038891367\n",
      "[x=22.96901 y=-0.07541 orient=6.21043] 0.00754064527652\n",
      "[x=23.96637 y=-0.14810 orient=6.21081] 0.0148095532718\n",
      "[x=24.96375 y=-0.22041 orient=6.21155] 0.0220408565504\n",
      "[x=25.96122 y=-0.29143 orient=6.21265] 0.0291433273808\n",
      "[x=26.95879 y=-0.36118 orient=6.21411] 0.0361181253838\n",
      "[x=27.95647 y=-0.42930 orient=6.21592] 0.0429300977929\n",
      "[x=28.95428 y=-0.49545 orient=6.21806] 0.0495447901321\n",
      "[x=29.95224 y=-0.55929 orient=6.22054] 0.0559286166539\n",
      "[x=30.95036 y=-0.62049 orient=6.22334] 0.0620490283003\n",
      "[x=31.94866 y=-0.67875 orient=6.22645] 0.0678746774675\n",
      "[x=32.94715 y=-0.73376 orient=6.22985] 0.0733755787953\n",
      "[x=33.94582 y=-0.78523 orient=6.23352] 0.0785232651524\n",
      "[x=34.94468 y=-0.83291 orient=6.23746] 0.0832909379354\n",
      "[x=35.94373 y=-0.87654 orient=6.24163] 0.0876536107578\n",
      "[x=36.94296 y=-0.91588 orient=6.24603] 0.0915882455706\n",
      "[x=37.94235 y=-0.95074 orient=6.25062] 0.0950738802388\n",
      "[x=38.94189 y=-0.98092 orient=6.25539] 0.0980917465938\n",
      "[x=39.94157 y=-1.00625 orient=6.26031] 0.100625377997\n",
      "[x=40.94136 y=-1.02661 orient=6.26535] 0.102660705491\n",
      "[x=41.94124 y=-1.04186 orient=6.27051] 0.104186141662\n",
      "[x=42.94119 y=-1.05193 orient=6.27573] 0.105192651434\n",
      "[x=43.94118 y=-1.05674 orient=6.28101] 0.105673809091\n",
      "[x=44.94118 y=-1.05626 orient=0.00313] 0.105625840959\n",
      "[x=45.94116 y=-1.05048 orient=0.00843] 0.105047653308\n",
      "[x=46.94110 y=-1.03941 orient=0.01370] 0.103940845177\n",
      "[x=47.94096 y=-1.02310 orient=0.01892] 0.102309705972\n",
      "[x=48.94073 y=-1.00161 orient=0.02405] 0.100161197868\n",
      "[x=49.94038 y=-0.97505 orient=0.02908] 0.0975049231631\n",
      "[x=50.93988 y=-0.94353 orient=0.03397] 0.0943530769232\n",
      "[x=51.93922 y=-0.90720 orient=0.03870] 0.0907203853695\n",
      "[x=52.93838 y=-0.86624 orient=0.04325] 0.0866240305954\n",
      "[x=53.93735 y=-0.82084 orient=0.04759] 0.0820835623127\n",
      "[x=54.93611 y=-0.77121 orient=0.05170] 0.0771207974092\n",
      "[x=55.93467 y=-0.71760 orient=0.05557] 0.0717597081754\n",
      "[x=56.93303 y=-0.66026 orient=0.05916] 0.0660263001012\n",
      "[x=57.93118 y=-0.59948 orient=0.06247] 0.0599484801696\n",
      "[x=58.92913 y=-0.53556 orient=0.06547] 0.0535559165834\n",
      "[x=59.92690 y=-0.46880 orient=0.06815] 0.0468798908438\n",
      "[x=60.92450 y=-0.39953 orient=0.07050] 0.0399531430778\n",
      "[x=61.92195 y=-0.32810 orient=0.07249] 0.0328097114672\n",
      "[x=62.91926 y=-0.25485 orient=0.07414] 0.025484766586\n",
      "[x=63.91646 y=-0.18014 orient=0.07541] 0.018014441401\n",
      "[x=64.91362 y=-0.10481 orient=0.07631] 0.0104805695803\n",
      "[x=65.91071 y=-0.02857 orient=0.07684] 0.00285687488975\n",
      "[x=66.90776 y=0.04819 orient=0.07698] -0.00481907100619\n",
      "[x=67.90480 y=0.12509 orient=0.07674] -0.0125092590929\n",
      "[x=68.90186 y=0.20175 orient=0.07611] -0.0201754227701\n",
      "[x=69.89900 y=0.27729 orient=0.07510] -0.0277289188223\n",
      "[x=70.89623 y=0.35163 orient=0.07372] -0.035162965946\n",
      "[x=71.89358 y=0.42440 orient=0.07196] -0.0424401550807\n",
      "[x=72.89107 y=0.49524 orient=0.06983] -0.0495237370919\n",
      "[x=73.88872 y=0.56378 orient=0.06736] -0.0563778032893\n",
      "[x=74.88654 y=0.62967 orient=0.06453] -0.0629674638147\n",
      "[x=75.88456 y=0.69259 orient=0.06138] -0.06925902318\n",
      "[x=76.88278 y=0.75220 orient=0.05791] -0.0752201521712\n",
      "[x=77.88121 y=0.80820 orient=0.05414] -0.0808200552658\n",
      "[x=78.87986 y=0.86030 orient=0.05009] -0.0860296326455\n",
      "[x=79.87871 y=0.90822 orient=0.04578] -0.0908216358291\n",
      "[x=80.87776 y=0.95171 orient=0.04123] -0.0951708158967\n",
      "[x=81.87700 y=0.99054 orient=0.03646] -0.0990540632447\n",
      "[x=82.87643 y=1.02451 orient=0.03149] -0.102450537793\n",
      "[x=83.87601 y=1.05342 orient=0.02635] -0.105341788565\n",
      "[x=84.87572 y=1.07712 orient=0.02106] -0.107711861598\n",
      "[x=85.87555 y=1.09547 orient=0.01565] -0.109547395169\n",
      "[x=86.87547 y=1.10838 orient=0.01015] -0.110837701437\n",
      "[x=87.87544 y=1.11575 orient=0.00459] -0.111574833648\n",
      "[x=88.87544 y=1.11754 orient=6.28217] -0.111753638231\n",
      "[x=89.87543 y=1.11372 orient=6.27656] -0.111371791205\n",
      "[x=90.87538 y=1.10430 orient=6.27097] -0.110429818507\n",
      "[x=91.87527 y=1.08931 orient=6.26543] -0.108931100014\n",
      "[x=92.87506 y=1.06882 orient=6.25996] -0.106881857196\n",
      "[x=93.87472 y=1.04291 orient=6.25459] -0.10429112454\n",
      "[x=94.87423 y=1.01171 orient=6.24936] -0.101170705027\n",
      "[x=95.87357 y=0.97535 orient=6.24428] -0.0975351101346\n",
      "[x=96.87272 y=0.93401 orient=6.23939] -0.0934014849732\n",
      "[x=97.87165 y=0.88790 orient=6.23471] -0.0887895192955\n",
      "[x=98.87037 y=0.83721 orient=6.23026] -0.0837213452249\n"
     ]
    }
   ],
   "source": [
    "# Quiz: Implement P Controller\n",
    "# -----------\n",
    "# User Instructions\n",
    "#\n",
    "# Implement a P controller by running 100 iterations\n",
    "# of robot motion. The desired trajectory for the \n",
    "# robot is the x-axis. The steering angle should be set\n",
    "# by the parameter tau so that:\n",
    "#\n",
    "# steering = -tau * crosstrack_error\n",
    "#\n",
    "# Note that tau is called \"param\" in the function\n",
    "# below.\n",
    "#\n",
    "# Your code should print output that looks like\n",
    "# the output shown in the video. That is, at each step:\n",
    "# print myrobot, steering\n",
    "#\n",
    "# Only modify code at the bottom!\n",
    "# ------------\n",
    "\n",
    "# ------------------------------------------------\n",
    "# \n",
    "# this is the Robot class\n",
    "#\n",
    "\n",
    "class Robot(object):\n",
    "    def __init__(self, length=20.0):\n",
    "        \"\"\"\n",
    "        Creates robot and initializes location/orientation to 0, 0, 0.\n",
    "        \"\"\"\n",
    "        self.x = 0.0\n",
    "        self.y = 0.0\n",
    "        self.orientation = 0.0\n",
    "        self.length = length\n",
    "        self.steering_noise = 0.0\n",
    "        self.distance_noise = 0.0\n",
    "        self.steering_drift = 0.0\n",
    "\n",
    "    def set(self, x, y, orientation):\n",
    "        \"\"\"\n",
    "        Sets a robot coordinate.\n",
    "        \"\"\"\n",
    "        self.x = x\n",
    "        self.y = y\n",
    "        self.orientation = orientation % (2.0 * np.pi)\n",
    "\n",
    "    def set_noise(self, steering_noise, distance_noise):\n",
    "        \"\"\"\n",
    "        Sets the noise parameters.\n",
    "        \"\"\"\n",
    "        # makes it possible to change the noise parameters\n",
    "        # this is often useful in particle filters\n",
    "        self.steering_noise = steering_noise\n",
    "        self.distance_noise = distance_noise\n",
    "\n",
    "    def set_steering_drift(self, drift):\n",
    "        \"\"\"\n",
    "        Sets the systematical steering drift parameter\n",
    "        \"\"\"\n",
    "        self.steering_drift = drift\n",
    "\n",
    "    def move(self, steering, distance, tolerance=0.001, max_steering_angle=np.pi / 4.0):\n",
    "        \"\"\"\n",
    "        steering = front wheel steering angle, limited by max_steering_angle\n",
    "        distance = total distance driven, most be non-negative\n",
    "        \"\"\"\n",
    "        if steering > max_steering_angle:\n",
    "            steering = max_steering_angle\n",
    "        if steering < -max_steering_angle:\n",
    "            steering = -max_steering_angle\n",
    "        if distance < 0.0:\n",
    "            distance = 0.0\n",
    "\n",
    "        # make a new copy\n",
    "        # res = Robot()\n",
    "        # res.length = self.length\n",
    "        # res.steering_noise = self.steering_noise\n",
    "        # res.distance_noise = self.distance_noise\n",
    "        # res.steering_drift = self.steering_drift\n",
    "\n",
    "        # apply noise\n",
    "        steering2 = random.gauss(steering, self.steering_noise)\n",
    "        distance2 = random.gauss(distance, self.distance_noise)\n",
    "\n",
    "        # apply steering drift\n",
    "        steering2 += self.steering_drift\n",
    "\n",
    "        # Execute motion\n",
    "        turn = np.tan(steering2) * distance2 / self.length\n",
    "\n",
    "        if abs(turn) < tolerance:\n",
    "            # approximate by straight line motion\n",
    "            self.x += distance2 * np.cos(self.orientation)\n",
    "            self.y += distance2 * np.sin(self.orientation)\n",
    "            self.orientation = (self.orientation + turn) % (2.0 * np.pi)\n",
    "        else:\n",
    "            # approximate bicycle model for motion\n",
    "            radius = distance2 / turn\n",
    "            cx = self.x - (np.sin(self.orientation) * radius)\n",
    "            cy = self.y + (np.cos(self.orientation) * radius)\n",
    "            self.orientation = (self.orientation + turn) % (2.0 * np.pi)\n",
    "            self.x = cx + (np.sin(self.orientation) * radius)\n",
    "            self.y = cy - (np.cos(self.orientation) * radius)\n",
    "\n",
    "    def __repr__(self):\n",
    "        return ('[x=%.5f y=%.5f orient=%.5f]' % (self.x, self.y, self.orientation))\n",
    "\n",
    "############## ADD / MODIFY CODE BELOW ####################\n",
    "# ------------------------------------------------------------------------\n",
    "#\n",
    "# run - does a single control run\n",
    "robot = Robot()\n",
    "robot.set(0, 1, 0) \n",
    "\n",
    "def run(robot, tau, n=100, speed=1.0):\n",
    "    x_trajectory = []\n",
    "    y_trajectory = []\n",
    "    # TODO: your code here\n",
    "    for i in range(n):\n",
    "        x, y = robot.x, robot.y\n",
    "        x_trajectory.append(x)\n",
    "        y_trajectory.append(y)\n",
    "        \n",
    "        steering = - tau * y\n",
    "        print(robot, steering)\n",
    "        \n",
    "        robot.move(steering, speed)\n",
    "    \n",
    "    return x_trajectory, y_trajectory\n",
    "   \n",
    "x_trajectory, y_trajectory = run(robot, 0.1)"
   ]
  },
  {
   "cell_type": "code",
   "execution_count": 40,
   "metadata": {},
   "outputs": [
    {
     "data": {
      "text/plain": [
       "[<matplotlib.lines.Line2D at 0x10d6c4b00>]"
      ]
     },
     "execution_count": 40,
     "metadata": {},
     "output_type": "execute_result"
    },
    {
     "data": {
      "image/png": "[encoded data removed]",
      "text/plain": [
       "<matplotlib.figure.Figure at 0x10d6c4e48>"
      ]
     },
     "metadata": {},
     "output_type": "display_data"
    }
   ],
   "source": [
    "n = len(x_trajectory)\n",
    "\n",
    "plt.plot(x_trajectory, y_trajectory, 'g', label='proportional controller')\n",
    "plt.plot(x_trajectory, np.zeros(n), 'r', label='reference')"
   ]
  },
  {
   "cell_type": "code",
   "execution_count": 46,
   "metadata": {},
   "outputs": [
    {
     "name": "stdout",
     "output_type": "stream",
     "text": [
      "[x=490.55092 y=4.10820 orient=6.09068] -1.23246063298\n",
      "[x=491.52726 y=3.89243 orient=6.04068] -1.16772862864\n",
      "[x=492.49159 y=3.62813 orient=5.99068] -1.0884385718\n",
      "[x=493.44151 y=3.31596 orient=5.94068] -0.994788646299\n",
      "[x=494.37464 y=2.95671 orient=5.89068] -0.887012928188\n",
      "[x=495.28865 y=2.55127 orient=5.84068] -0.76538080063\n",
      "[x=496.18170 y=2.10153 orient=5.79264] -0.630458051633\n",
      "[x=497.05498 y=1.61443 orient=5.75615] -0.484330032835\n",
      "[x=497.91257 y=1.10015 orient=5.72984] -0.330045292791\n",
      "[x=498.75880 y=0.56736 orient=5.71272] -0.170207309272\n",
      "[x=499.59812 y=0.02372 orient=5.70412] -0.00711609366911\n",
      "[x=500.43509 y=-0.52352 orient=5.70377] 0.157056019813\n",
      "[x=501.27403 y=-1.06774 orient=5.71168] 0.320321907215\n",
      "[x=502.11957 y=-1.60163 orient=5.72827] 0.480490422584\n",
      "[x=502.97629 y=-2.11737 orient=5.75433] 0.635211123127\n",
      "[x=503.84877 y=-2.60589 orient=5.79119] 0.78176703189\n",
      "[x=504.74152 y=-3.05621 orient=5.84083] 0.91686339699\n",
      "[x=505.65559 y=-3.46152 orient=5.89083] 1.03845465725\n",
      "[x=506.58878 y=-3.82063 orient=5.94083] 1.14618865329\n",
      "[x=507.53874 y=-4.13265 orient=5.99083] 1.23979610622\n",
      "[x=508.50311 y=-4.39681 orient=6.04083] 1.31904304618\n",
      "[x=509.47948 y=-4.61244 orient=6.09083] 1.38373139706\n",
      "[x=510.46541 y=-4.77900 orient=6.14083] 1.43369947169\n",
      "[x=511.45842 y=-4.89607 orient=6.19083] 1.46882237591\n",
      "[x=512.45605 y=-4.96337 orient=6.24083] 1.48901232074\n",
      "[x=513.45580 y=-4.98073 orient=0.00764] 1.49421884184\n",
      "[x=514.45516 y=-4.94810 orient=0.05764] 1.48442892562\n",
      "[x=515.45164 y=-4.86556 orient=0.10764] 1.45966704176\n",
      "[x=516.44276 y=-4.73332 orient=0.15764] 1.41999508209\n",
      "[x=517.42602 y=-4.55171 orient=0.20764] 1.36551220583\n",
      "[x=518.39898 y=-4.32118 orient=0.25764] 1.29635459181\n",
      "[x=519.35920 y=-4.04232 orient=0.30764] 1.21269509805\n",
      "[x=520.30429 y=-3.71581 orient=0.35764] 1.11474282971\n",
      "[x=521.23187 y=-3.34248 orient=0.40764] 1.00274261645\n",
      "[x=522.13964 y=-2.92325 orient=0.45764] 0.876974400472\n",
      "[x=523.02532 y=-2.45918 orient=0.50764] 0.737752536819\n",
      "[x=523.88786 y=-1.95337 orient=0.55309] 0.586010696183\n",
      "[x=524.72990 y=-1.41403 orient=0.58628] 0.424207843984\n",
      "[x=525.55658 y=-0.85140 orient=0.60886] 0.255420491069\n",
      "[x=526.37313 y=-0.27413 orient=0.62192] 0.08223854134\n",
      "[x=527.18469 y=0.31014 orient=0.62604] -0.093042029326\n",
      "[x=527.99640 y=0.89419 orient=0.62137] -0.268256292702\n",
      "[x=528.81346 y=1.47073 orient=0.60763] -0.441220441539\n",
      "[x=529.64113 y=2.03191 orient=0.58402] -0.609573606927\n",
      "[x=530.48484 y=2.56862 orient=0.54910] -0.77058505143\n",
      "[x=531.35016 y=3.06964 orient=0.50056] -0.920890587143\n",
      "[x=532.23910 y=3.52743 orient=0.45056] -1.05822770577\n",
      "[x=533.14981 y=3.94022 orient=0.40056] -1.18206459912\n",
      "[x=534.08002 y=4.30697 orient=0.35056] -1.29209173945\n",
      "[x=535.02739 y=4.62678 orient=0.30056] -1.38803411622\n",
      "[x=535.98956 y=4.89884 orient=0.25056] -1.46965192345\n",
      "[x=536.96413 y=5.12247 orient=0.20056] -1.53674115913\n",
      "[x=537.94866 y=5.29711 orient=0.15056] -1.58913413511\n",
      "[x=538.94068 y=5.42233 orient=0.10056] -1.62669989623\n",
      "[x=539.93772 y=5.49782 orient=0.05056] -1.64934454765\n",
      "[x=540.93729 y=5.52337 orient=0.00056] -1.65701148954\n",
      "[x=541.93689 y=5.49894 orient=6.23375] -1.64968155854\n",
      "[x=542.93402 y=5.42458 orient=6.18375] -1.62737307566\n",
      "[x=543.92618 y=5.30047 orient=6.13375] -1.59014180049\n",
      "[x=544.91090 y=5.12694 orient=6.08375] -1.53808079182\n",
      "[x=545.88572 y=4.90440 orient=6.03375] -1.47132017506\n",
      "[x=546.84820 y=4.63342 orient=5.98375] -1.39002681699\n",
      "[x=547.79593 y=4.31468 orient=5.93375] -1.29440390867\n",
      "[x=548.72655 y=3.94897 orient=5.88375] -1.18469045756\n",
      "[x=549.63772 y=3.53720 orient=5.83375] -1.06116069016\n",
      "[x=550.52718 y=3.08041 orient=5.78375] -0.924123366552\n",
      "[x=551.39269 y=2.57974 orient=5.73375] -0.773921008679\n",
      "[x=552.23241 y=2.03690 orient=5.68488] -0.611071186259\n",
      "[x=553.04868 y=1.45931 orient=5.64986] -0.437792549373\n",
      "[x=553.84774 y=0.85810 orient=5.62645] -0.257429647655\n",
      "[x=554.63569 y=0.24237 orient=5.61329] -0.072711249175\n",
      "[x=555.41844 y=-0.37996 orient=5.60965] 0.11398813756\n",
      "[x=556.20184 y=-1.00148 orient=5.61537] 0.30044278991\n",
      "[x=556.99178 y=-1.61464 orient=5.63086] 0.484392401199\n",
      "[x=557.79435 y=-2.21115 orient=5.65717] 0.663345722065\n",
      "[x=558.61596 y=-2.78109 orient=5.69625] 0.834327563492\n",
      "[x=559.46210 y=-3.31386 orient=5.74625] 0.994159402322\n",
      "[x=560.33380 y=-3.80368 orient=5.79625] 1.14110475217\n",
      "[x=561.22890 y=-4.24932 orient=5.84625] 1.27479632619\n",
      "[x=562.14515 y=-4.64967 orient=5.89625] 1.39489996506\n",
      "[x=563.08026 y=-5.00372 orient=5.94625] 1.50111547225\n",
      "[x=564.03190 y=-5.31059 orient=5.99625] 1.5931773643\n",
      "[x=564.99769 y=-5.56952 orient=6.04625] 1.67085553442\n",
      "[x=565.97522 y=-5.77985 orient=6.09625] 1.73395582765\n",
      "[x=566.96203 y=-5.94107 orient=6.14625] 1.7823205261\n",
      "[x=567.95567 y=-6.05276 orient=6.19625] 1.81582874324\n",
      "[x=568.95365 y=-6.11466 orient=6.24625] 1.83439672595\n",
      "[x=569.95347 y=-6.12659 orient=0.01306] 1.83797806396\n",
      "[x=570.95264 y=-6.08855 orient=0.06306] 1.82656380578\n",
      "[x=571.94866 y=-6.00061 orient=0.11306] 1.80018248112\n",
      "[x=572.93905 y=-5.86300 orient=0.16306] 1.75890002954\n",
      "[x=573.92131 y=-5.67607 orient=0.21306] 1.70281963569\n",
      "[x=574.89301 y=-5.44027 orient=0.26306] 1.63208147133\n",
      "[x=575.85170 y=-5.15621 orient=0.31306] 1.54686234504\n",
      "[x=576.79501 y=-4.82458 orient=0.36306] 1.44737526025\n",
      "[x=577.72055 y=-4.44623 orient=0.41306] 1.33386888287\n",
      "[x=578.62604 y=-4.02209 orient=0.46306] 1.20662691971\n",
      "[x=579.50919 y=-3.55322 orient=0.51306] 1.06596740943\n",
      "[x=580.36780 y=-3.04081 orient=0.56306] 0.91224192755\n",
      "[x=581.19973 y=-2.48612 orient=0.61306] 0.745834707709\n"
     ]
    }
   ],
   "source": [
    "# Quiz: Oscillations\n",
    "# faster\n",
    "x_trajectory, y_trajectory = run(robot, 0.3)"
   ]
  },
  {
   "cell_type": "code",
   "execution_count": 47,
   "metadata": {},
   "outputs": [
    {
     "data": {
      "text/plain": [
       "[<matplotlib.lines.Line2D at 0x10d977128>]"
      ]
     },
     "execution_count": 47,
     "metadata": {},
     "output_type": "execute_result"
    },
    {
     "data": {
      "image/png": "[encoded data removed]",
      "text/plain": [
       "<matplotlib.figure.Figure at 0x10d977160>"
      ]
     },
     "metadata": {},
     "output_type": "display_data"
    }
   ],
   "source": [
    "n = len(x_trajectory)\n",
    "\n",
    "plt.plot(x_trajectory, y_trajectory, 'g', label='proportional controller')\n",
    "plt.plot(x_trajectory, np.zeros(n), 'r', label='reference')"
   ]
  },
  {
   "cell_type": "code",
   "execution_count": null,
   "metadata": {
    "collapsed": true
   },
   "outputs": [],
   "source": []
  },
  {
   "cell_type": "markdown",
   "metadata": {},
   "source": [
    "##   &#x1F916; &nbsp; <span style=\"color:red\">Section 16. Problem Set 5</span>"
   ]
  },
  {
   "cell_type": "code",
   "execution_count": null,
   "metadata": {
    "collapsed": true
   },
   "outputs": [],
   "source": []
  },
  {
   "cell_type": "code",
   "execution_count": null,
   "metadata": {
    "collapsed": true
   },
   "outputs": [],
   "source": []
  },
  {
   "cell_type": "code",
   "execution_count": null,
   "metadata": {
    "collapsed": true
   },
   "outputs": [],
   "source": []
  },
  {
   "cell_type": "markdown",
   "metadata": {},
   "source": [
    "##   &#x1F916; &nbsp; <span style=\"color:red\">Section 17. Problem Set 5 Help</span>"
   ]
  },
  {
   "cell_type": "code",
   "execution_count": null,
   "metadata": {
    "collapsed": true
   },
   "outputs": [],
   "source": []
  },
  {
   "cell_type": "markdown",
   "metadata": {},
   "source": [
    "##   &#x1F916; &nbsp; <span style=\"color:red\">Section 18. Office Hours Week 5</span>"
   ]
  },
  {
   "cell_type": "code",
   "execution_count": null,
   "metadata": {
    "collapsed": true
   },
   "outputs": [],
   "source": []
  }
 ],
 "metadata": {
  "anaconda-cloud": {},
  "hide_input": false,
  "kernelspec": {
   "display_name": "Python [conda root]",
   "language": "python",
   "name": "conda-root-py"
  },
  "language_info": {
   "codemirror_mode": {
    "name": "ipython",
    "version": 3
   },
   "file_extension": ".py",
   "mimetype": "text/x-python",
   "name": "python",
   "nbconvert_exporter": "python",
   "pygments_lexer": "ipython3",
   "version": "3.5.2"
  },
  "latex_envs": {
   "bibliofile": "biblio.bib",
   "cite_by": "apalike",
   "current_citInitial": 1,
   "eqLabelWithNumbers": true,
   "eqNumInitial": 0
  }
 },
 "nbformat": 4,
 "nbformat_minor": 2
}
