{
 "cells": [
  {
   "cell_type": "markdown",
   "metadata": {},
   "source": [
    "# &#x1F4D1; &nbsp; <span style=\"color:red\"> Reflections. Artificial Intelligence for Robotics. Sections 15-18</span>"
   ]
  },
  {
   "cell_type": "markdown",
   "metadata": {},
   "source": [
    "##   &#x1F916; &nbsp; <span style=\"color:red\">Links</span>"
   ]
  },
  {
   "cell_type": "code",
   "execution_count": null,
   "metadata": {
    "collapsed": true
   },
   "outputs": [],
   "source": []
  },
  {
   "cell_type": "markdown",
   "metadata": {},
   "source": [
    "##   &#x1F916; &nbsp; <span style=\"color:red\">Libraries</span>"
   ]
  },
  {
   "cell_type": "code",
   "execution_count": 16,
   "metadata": {
    "collapsed": true
   },
   "outputs": [],
   "source": [
    "from math import *\n",
    "import numpy as np\n",
    "import pandas as pd\n",
    "import random\n",
    "import os\n",
    "from time import time\n",
    "from copy import deepcopy"
   ]
  },
  {
   "cell_type": "code",
   "execution_count": 2,
   "metadata": {
    "collapsed": true
   },
   "outputs": [],
   "source": [
    "from IPython.display import display, Image\n",
    "import matplotlib.pylab as plt\n",
    "import matplotlib.cm as cm\n",
    "from matplotlib import offsetbox\n",
    "%matplotlib inline"
   ]
  },
  {
   "cell_type": "code",
   "execution_count": null,
   "metadata": {
    "collapsed": true
   },
   "outputs": [],
   "source": []
  },
  {
   "cell_type": "markdown",
   "metadata": {},
   "source": [
    "##   &#x1F916; &nbsp; <span style=\"color:red\">Section 15. PID Control</span>"
   ]
  },
  {
   "cell_type": "markdown",
   "metadata": {
    "collapsed": true
   },
   "source": [
    "### Notes"
   ]
  },
  {
   "cell_type": "code",
   "execution_count": null,
   "metadata": {
    "collapsed": true
   },
   "outputs": [],
   "source": []
  },
  {
   "cell_type": "markdown",
   "metadata": {},
   "source": [
    "### Examples"
   ]
  },
  {
   "cell_type": "code",
   "execution_count": null,
   "metadata": {
    "collapsed": true
   },
   "outputs": [],
   "source": []
  },
  {
   "cell_type": "markdown",
   "metadata": {},
   "source": [
    "### Quizes"
   ]
  },
  {
   "cell_type": "code",
   "execution_count": 3,
   "metadata": {
    "collapsed": true
   },
   "outputs": [],
   "source": [
    "# Quiz: Robot Motion\n",
    "# Red"
   ]
  },
  {
   "cell_type": "code",
   "execution_count": 4,
   "metadata": {
    "collapsed": true
   },
   "outputs": [],
   "source": [
    "# Quiz: Smoothing Algorithm\n",
    "# original path"
   ]
  },
  {
   "cell_type": "code",
   "execution_count": 5,
   "metadata": {
    "collapsed": true
   },
   "outputs": [],
   "source": [
    "# Quiz: Smoothing Algorithm 2\n",
    "# no path    "
   ]
  },
  {
   "cell_type": "code",
   "execution_count": null,
   "metadata": {
    "collapsed": true
   },
   "outputs": [],
   "source": [
    "# Quiz: Smoothing Algorithm 3\n",
    "# smooth path"
   ]
  },
  {
   "cell_type": "code",
   "execution_count": 6,
   "metadata": {
    "collapsed": true
   },
   "outputs": [],
   "source": [
    "# Quiz: Path Smoothing\n",
    "# The formula you need to use in the exercise is as follows. \n",
    "# Note that it is a little different from the ones in the video.\n",
    "\n",
    "# yi <- yi + alpha * (xi - yi) + beta * (y_i+1 + y_i-1 - 2 * yi)"
   ]
  },
  {
   "cell_type": "code",
   "execution_count": 15,
   "metadata": {},
   "outputs": [
    {
     "name": "stdout",
     "output_type": "stream",
     "text": [
      "[0.000, 0.000] -> [0.000, 0.000]\n",
      "[0.000, 1.000] -> [0.021, 0.979]\n",
      "[0.000, 2.000] -> [0.149, 1.851]\n",
      "[1.000, 2.000] -> [1.021, 1.979]\n",
      "[2.000, 2.000] -> [2.000, 2.000]\n",
      "[3.000, 2.000] -> [2.979, 2.021]\n",
      "[4.000, 2.000] -> [3.851, 2.149]\n",
      "[4.000, 3.000] -> [3.979, 3.021]\n",
      "[4.000, 4.000] -> [4.000, 4.000]\n"
     ]
    }
   ],
   "source": [
    "# -----------\n",
    "# User Instructions\n",
    "#\n",
    "# Define a function smooth that takes a path as its input\n",
    "# (with optional parameters for weight_data, weight_smooth,\n",
    "# and tolerance) and returns a smooth path. The first and \n",
    "# last points should remain unchanged.\n",
    "#\n",
    "# Smoothing should be implemented by iteratively updating\n",
    "# each entry in newpath until some desired level of accuracy\n",
    "# is reached. The update should be done according to the\n",
    "# gradient descent equations given in the instructor's note\n",
    "# below (the equations given in the video are not quite \n",
    "# correct).\n",
    "# -----------\n",
    "\n",
    "# thank you to EnTerr for posting this on our discussion forum\n",
    "def printpaths(path,newpath):\n",
    "    for old,new in zip(path,newpath):\n",
    "        print ('['+ ', '.join('%.3f'%x for x in old) + \\\n",
    "               '] -> ['+ ', '.join('%.3f'%x for x in new) +']')\n",
    "\n",
    "# Don't modify path inside your function.\n",
    "path = [[0, 0],\n",
    "        [0, 1],\n",
    "        [0, 2],\n",
    "        [1, 2],\n",
    "        [2, 2],\n",
    "        [3, 2],\n",
    "        [4, 2],\n",
    "        [4, 3],\n",
    "        [4, 4]]\n",
    "\n",
    "def smooth(path, weight_data = 0.5, weight_smooth = 0.1, tolerance = 0.000001):\n",
    "\n",
    "    # Make a deep copy of path into newpath\n",
    "    newpath = deepcopy(path)\n",
    "\n",
    "    #######################\n",
    "    ### ENTER CODE HERE ###\n",
    "    #######################\n",
    "    \n",
    "    while True:\n",
    "        diff = 0.\n",
    "        for i in range(1, len(path)-1):\n",
    "            for j in range(len(path[i])):\n",
    "                current_point = newpath[i][j]\n",
    "                \n",
    "                newpath[i][j] = newpath[i][j] + weight_data * (path[i][j] - newpath[i][j]) + \\\n",
    "                weight_smooth * (newpath[i+1][j] + newpath[i-1][j] - 2 * newpath[i][j])\n",
    "                \n",
    "                diff += abs(current_point - newpath[i][j])\n",
    "                \n",
    "        if diff < tolerance:\n",
    "            break\n",
    "    \n",
    "    return newpath # Leave this line for the grader!\n",
    "\n",
    "printpaths(path,smooth(path))\n"
   ]
  },
  {
   "cell_type": "code",
   "execution_count": 3,
   "metadata": {
    "collapsed": true
   },
   "outputs": [],
   "source": [
    "# Quiz: Zero Data Weight\n",
    "# straight line"
   ]
  },
  {
   "cell_type": "code",
   "execution_count": 4,
   "metadata": {
    "collapsed": true
   },
   "outputs": [],
   "source": [
    "# Quiz: PID Control\n",
    "# steer in proportion to CTE"
   ]
  },
  {
   "cell_type": "code",
   "execution_count": 17,
   "metadata": {
    "collapsed": true
   },
   "outputs": [],
   "source": [
    "# Quiz: Proportional Control\n",
    "# overshoots"
   ]
  },
  {
   "cell_type": "code",
   "execution_count": 50,
   "metadata": {},
   "outputs": [
    {
     "name": "stdout",
     "output_type": "stream",
     "text": [
      "[x=1.00000 y=0.99749 orient=6.27817] -0.1\n",
      "[x=1.99997 y=0.98997 orient=6.27316] -0.0997491638459\n",
      "[x=2.99989 y=0.97747 orient=6.26820] -0.0989972950612\n",
      "[x=3.99973 y=0.96003 orient=6.26330] -0.0977469440459\n",
      "[x=4.99948 y=0.93774 orient=6.25848] -0.0960031957433\n",
      "[x=5.99912 y=0.91068 orient=6.25378] -0.0937736475381\n",
      "[x=6.99861 y=0.87900 orient=6.24921] -0.0910683732206\n",
      "[x=7.99796 y=0.84283 orient=6.24481] -0.0878998733516\n",
      "[x=8.99714 y=0.80235 orient=6.24058] -0.0842830124796\n",
      "[x=9.99614 y=0.75775 orient=6.23656] -0.0802349437746\n",
      "[x=10.99497 y=0.70925 orient=6.23277] -0.0757750217292\n",
      "[x=11.99360 y=0.65707 orient=6.22921] -0.0709247036578\n",
      "[x=12.99206 y=0.60149 orient=6.22592] -0.0657074407797\n",
      "[x=13.99033 y=0.54275 orient=6.22291] -0.060148559709\n",
      "[x=14.98843 y=0.48116 orient=6.22020] -0.0542751351986\n",
      "[x=15.98637 y=0.41701 orient=6.21779] -0.0481158549857\n",
      "[x=16.98416 y=0.35062 orient=6.21570] -0.0417008775783\n",
      "[x=17.98183 y=0.28231 orient=6.21395] -0.0350616837984\n",
      "[x=18.97938 y=0.21242 orient=6.21254] -0.0282309228647\n",
      "[x=19.97685 y=0.14130 orient=6.21147] -0.0212422537586\n",
      "[x=20.97428 y=0.06965 orient=6.21077] -0.0141301825775\n",
      "[x=21.97166 y=-0.00270 orient=6.21042] -0.0069651329429\n",
      "[x=22.96901 y=-0.07541 orient=6.21043] 0.00027038891367\n",
      "[x=23.96637 y=-0.14810 orient=6.21081] 0.00754064527652\n",
      "[x=24.96375 y=-0.22041 orient=6.21155] 0.0148095532718\n",
      "[x=25.96122 y=-0.29143 orient=6.21265] 0.0220408565504\n",
      "[x=26.95879 y=-0.36118 orient=6.21411] 0.0291433273808\n",
      "[x=27.95647 y=-0.42930 orient=6.21592] 0.0361181253838\n",
      "[x=28.95428 y=-0.49545 orient=6.21806] 0.0429300977929\n",
      "[x=29.95224 y=-0.55929 orient=6.22054] 0.0495447901321\n",
      "[x=30.95036 y=-0.62049 orient=6.22334] 0.0559286166539\n",
      "[x=31.94866 y=-0.67875 orient=6.22645] 0.0620490283003\n",
      "[x=32.94715 y=-0.73376 orient=6.22985] 0.0678746774675\n",
      "[x=33.94582 y=-0.78523 orient=6.23352] 0.0733755787953\n",
      "[x=34.94468 y=-0.83291 orient=6.23746] 0.0785232651524\n",
      "[x=35.94373 y=-0.87654 orient=6.24163] 0.0832909379354\n",
      "[x=36.94296 y=-0.91588 orient=6.24603] 0.0876536107578\n",
      "[x=37.94235 y=-0.95074 orient=6.25062] 0.0915882455706\n",
      "[x=38.94189 y=-0.98092 orient=6.25539] 0.0950738802388\n",
      "[x=39.94157 y=-1.00625 orient=6.26031] 0.0980917465938\n",
      "[x=40.94136 y=-1.02661 orient=6.26535] 0.100625377997\n",
      "[x=41.94124 y=-1.04186 orient=6.27051] 0.102660705491\n",
      "[x=42.94119 y=-1.05193 orient=6.27573] 0.104186141662\n",
      "[x=43.94118 y=-1.05674 orient=6.28101] 0.105192651434\n",
      "[x=44.94118 y=-1.05626 orient=0.00313] 0.105673809091\n",
      "[x=45.94116 y=-1.05048 orient=0.00843] 0.105625840959\n",
      "[x=46.94110 y=-1.03941 orient=0.01370] 0.105047653308\n",
      "[x=47.94096 y=-1.02310 orient=0.01892] 0.103940845177\n",
      "[x=48.94073 y=-1.00161 orient=0.02405] 0.102309705972\n",
      "[x=49.94038 y=-0.97505 orient=0.02908] 0.100161197868\n",
      "[x=50.93988 y=-0.94353 orient=0.03397] 0.0975049231631\n",
      "[x=51.93922 y=-0.90720 orient=0.03870] 0.0943530769232\n",
      "[x=52.93838 y=-0.86624 orient=0.04325] 0.0907203853695\n",
      "[x=53.93735 y=-0.82084 orient=0.04759] 0.0866240305954\n",
      "[x=54.93611 y=-0.77121 orient=0.05170] 0.0820835623127\n",
      "[x=55.93467 y=-0.71760 orient=0.05557] 0.0771207974092\n",
      "[x=56.93303 y=-0.66026 orient=0.05916] 0.0717597081754\n",
      "[x=57.93118 y=-0.59948 orient=0.06247] 0.0660263001012\n",
      "[x=58.92913 y=-0.53556 orient=0.06547] 0.0599484801696\n",
      "[x=59.92690 y=-0.46880 orient=0.06815] 0.0535559165834\n",
      "[x=60.92450 y=-0.39953 orient=0.07050] 0.0468798908438\n",
      "[x=61.92195 y=-0.32810 orient=0.07249] 0.0399531430778\n",
      "[x=62.91926 y=-0.25485 orient=0.07414] 0.0328097114672\n",
      "[x=63.91646 y=-0.18014 orient=0.07541] 0.025484766586\n",
      "[x=64.91362 y=-0.10481 orient=0.07631] 0.018014441401\n",
      "[x=65.91071 y=-0.02857 orient=0.07684] 0.0104805695803\n",
      "[x=66.90776 y=0.04819 orient=0.07698] 0.00285687488975\n",
      "[x=67.90480 y=0.12509 orient=0.07674] -0.00481907100619\n",
      "[x=68.90186 y=0.20175 orient=0.07611] -0.0125092590929\n",
      "[x=69.89900 y=0.27729 orient=0.07510] -0.0201754227701\n",
      "[x=70.89623 y=0.35163 orient=0.07372] -0.0277289188223\n",
      "[x=71.89358 y=0.42440 orient=0.07196] -0.035162965946\n",
      "[x=72.89107 y=0.49524 orient=0.06983] -0.0424401550807\n",
      "[x=73.88872 y=0.56378 orient=0.06736] -0.0495237370919\n",
      "[x=74.88654 y=0.62967 orient=0.06453] -0.0563778032893\n",
      "[x=75.88456 y=0.69259 orient=0.06138] -0.0629674638147\n",
      "[x=76.88278 y=0.75220 orient=0.05791] -0.06925902318\n",
      "[x=77.88121 y=0.80820 orient=0.05414] -0.0752201521712\n",
      "[x=78.87986 y=0.86030 orient=0.05009] -0.0808200552658\n",
      "[x=79.87871 y=0.90822 orient=0.04578] -0.0860296326455\n",
      "[x=80.87776 y=0.95171 orient=0.04123] -0.0908216358291\n",
      "[x=81.87700 y=0.99054 orient=0.03646] -0.0951708158967\n",
      "[x=82.87643 y=1.02451 orient=0.03149] -0.0990540632447\n",
      "[x=83.87601 y=1.05342 orient=0.02635] -0.102450537793\n",
      "[x=84.87572 y=1.07712 orient=0.02106] -0.105341788565\n",
      "[x=85.87555 y=1.09547 orient=0.01565] -0.107711861598\n",
      "[x=86.87547 y=1.10838 orient=0.01015] -0.109547395169\n",
      "[x=87.87544 y=1.11575 orient=0.00459] -0.110837701437\n",
      "[x=88.87544 y=1.11754 orient=6.28217] -0.111574833648\n",
      "[x=89.87543 y=1.11372 orient=6.27656] -0.111753638231\n",
      "[x=90.87538 y=1.10430 orient=6.27097] -0.111371791205\n",
      "[x=91.87527 y=1.08931 orient=6.26543] -0.110429818507\n",
      "[x=92.87506 y=1.06882 orient=6.25996] -0.108931100014\n",
      "[x=93.87472 y=1.04291 orient=6.25459] -0.106881857196\n",
      "[x=94.87423 y=1.01171 orient=6.24936] -0.10429112454\n",
      "[x=95.87357 y=0.97535 orient=6.24428] -0.101170705027\n",
      "[x=96.87272 y=0.93401 orient=6.23939] -0.0975351101346\n",
      "[x=97.87165 y=0.88790 orient=6.23471] -0.0934014849732\n",
      "[x=98.87037 y=0.83721 orient=6.23026] -0.0887895192955\n",
      "[x=99.86885 y=0.78221 orient=6.22606] -0.0837213452249\n"
     ]
    }
   ],
   "source": [
    "# Quiz: Implement P Controller\n",
    "# -----------\n",
    "# User Instructions\n",
    "#\n",
    "# Implement a P controller by running 100 iterations\n",
    "# of robot motion. The desired trajectory for the \n",
    "# robot is the x-axis. The steering angle should be set\n",
    "# by the parameter tau so that:\n",
    "#\n",
    "# steering = -tau * crosstrack_error\n",
    "#\n",
    "# Note that tau is called \"param\" in the function\n",
    "# below.\n",
    "#\n",
    "# Your code should print output that looks like\n",
    "# the output shown in the video. That is, at each step:\n",
    "# print myrobot, steering\n",
    "#\n",
    "# Only modify code at the bottom!\n",
    "# ------------\n",
    "\n",
    "# ------------------------------------------------\n",
    "# \n",
    "# this is the Robot class\n",
    "#\n",
    "\n",
    "class Robot(object):\n",
    "    def __init__(self, length=20.0):\n",
    "        \"\"\"\n",
    "        Creates robot and initializes location/orientation to 0, 0, 0.\n",
    "        \"\"\"\n",
    "        self.x = 0.0\n",
    "        self.y = 0.0\n",
    "        self.orientation = 0.0\n",
    "        self.length = length\n",
    "        self.steering_noise = 0.0\n",
    "        self.distance_noise = 0.0\n",
    "        self.steering_drift = 0.0\n",
    "\n",
    "    def set(self, x, y, orientation):\n",
    "        \"\"\"\n",
    "        Sets a robot coordinate.\n",
    "        \"\"\"\n",
    "        self.x = x\n",
    "        self.y = y\n",
    "        self.orientation = orientation % (2.0 * np.pi)\n",
    "\n",
    "    def set_noise(self, steering_noise, distance_noise):\n",
    "        \"\"\"\n",
    "        Sets the noise parameters.\n",
    "        \"\"\"\n",
    "        # makes it possible to change the noise parameters\n",
    "        # this is often useful in particle filters\n",
    "        self.steering_noise = steering_noise\n",
    "        self.distance_noise = distance_noise\n",
    "\n",
    "    def set_steering_drift(self, drift):\n",
    "        \"\"\"\n",
    "        Sets the systematical steering drift parameter\n",
    "        \"\"\"\n",
    "        self.steering_drift = drift\n",
    "\n",
    "    def move(self, steering, distance, tolerance=0.001, max_steering_angle=np.pi / 4.0):\n",
    "        \"\"\"\n",
    "        steering = front wheel steering angle, limited by max_steering_angle\n",
    "        distance = total distance driven, most be non-negative\n",
    "        \"\"\"\n",
    "        if steering > max_steering_angle:\n",
    "            steering = max_steering_angle\n",
    "        if steering < -max_steering_angle:\n",
    "            steering = -max_steering_angle\n",
    "        if distance < 0.0:\n",
    "            distance = 0.0\n",
    "\n",
    "        # make a new copy\n",
    "        # res = Robot()\n",
    "        # res.length = self.length\n",
    "        # res.steering_noise = self.steering_noise\n",
    "        # res.distance_noise = self.distance_noise\n",
    "        # res.steering_drift = self.steering_drift\n",
    "\n",
    "        # apply noise\n",
    "        steering2 = random.gauss(steering, self.steering_noise)\n",
    "        distance2 = random.gauss(distance, self.distance_noise)\n",
    "\n",
    "        # apply steering drift\n",
    "        steering2 += self.steering_drift\n",
    "\n",
    "        # Execute motion\n",
    "        turn = np.tan(steering2) * distance2 / self.length\n",
    "\n",
    "        if abs(turn) < tolerance:\n",
    "            # approximate by straight line motion\n",
    "            self.x += distance2 * np.cos(self.orientation)\n",
    "            self.y += distance2 * np.sin(self.orientation)\n",
    "            self.orientation = (self.orientation + turn) % (2.0 * np.pi)\n",
    "        else:\n",
    "            # approximate bicycle model for motion\n",
    "            radius = distance2 / turn\n",
    "            cx = self.x - (np.sin(self.orientation) * radius)\n",
    "            cy = self.y + (np.cos(self.orientation) * radius)\n",
    "            self.orientation = (self.orientation + turn) % (2.0 * np.pi)\n",
    "            self.x = cx + (np.sin(self.orientation) * radius)\n",
    "            self.y = cy - (np.cos(self.orientation) * radius)\n",
    "\n",
    "    def __repr__(self):\n",
    "        return ('[x=%.5f y=%.5f orient=%.5f]' % (self.x, self.y, self.orientation))\n",
    "\n",
    "############## ADD / MODIFY CODE BELOW ####################\n",
    "# ------------------------------------------------------------------------\n",
    "#\n",
    "# run - does a single control run\n",
    "robot = Robot()\n",
    "robot.set(0, 1, 0) \n",
    "\n",
    "def run(robot, tau, n=100, speed=1.0):\n",
    "    x_trajectory = []\n",
    "    y_trajectory = []\n",
    "    # TODO: your code here\n",
    "    for i in range(n):\n",
    "        x, y = robot.x, robot.y\n",
    "        x_trajectory.append(x)\n",
    "        y_trajectory.append(y)\n",
    "        \n",
    "        steering = - tau * y\n",
    "        \n",
    "        robot.move(steering, speed)\n",
    "        print(robot, steering)\n",
    "    \n",
    "    return x_trajectory, y_trajectory\n",
    "   \n",
    "x_trajectory, y_trajectory = run(robot, 0.1)"
   ]
  },
  {
   "cell_type": "code",
   "execution_count": 51,
   "metadata": {},
   "outputs": [
    {
     "data": {
      "text/plain": [
       "[<matplotlib.lines.Line2D at 0x10da5e5c0>]"
      ]
     },
     "execution_count": 51,
     "metadata": {},
     "output_type": "execute_result"
    },
    {
     "data": {
      "image/png": "[encoded data removed]",
      "text/plain": [
       "<matplotlib.figure.Figure at 0x10da5ed68>"
      ]
     },
     "metadata": {},
     "output_type": "display_data"
    }
   ],
   "source": [
    "n = len(x_trajectory)\n",
    "\n",
    "plt.plot(x_trajectory, y_trajectory, 'g', label='proportional controller')\n",
    "plt.plot(x_trajectory, np.zeros(n), 'r', label='reference')"
   ]
  },
  {
   "cell_type": "code",
   "execution_count": 52,
   "metadata": {},
   "outputs": [
    {
     "name": "stdout",
     "output_type": "stream",
     "text": [
      "[x=100.86686 y=0.71915 orient=6.21411] -0.234664267914\n",
      "[x=101.86407 y=0.64467 orient=6.20315] -0.215746434467\n",
      "[x=102.86046 y=0.55984 orient=6.19336] -0.193400060463\n",
      "[x=103.85604 y=0.46591 orient=6.18488] -0.167951041615\n",
      "[x=104.85086 y=0.36426 orient=6.17784] -0.139772512012\n",
      "[x=105.84502 y=0.25639 orient=6.17236] -0.109278332626\n",
      "[x=106.83867 y=0.14387 orient=6.16851] -0.0769164281923\n",
      "[x=107.83198 y=0.02837 orient=6.16635] -0.0431621574285\n",
      "[x=108.82516 y=-0.08820 orient=6.16592] -0.00851182269096\n",
      "[x=109.81837 y=-0.20454 orient=6.16724] 0.026460248008\n",
      "[x=110.81183 y=-0.31870 orient=6.17032] 0.0613619802538\n",
      "[x=111.80574 y=-0.42894 orient=6.17511] 0.0956088031867\n",
      "[x=112.80024 y=-0.53359 orient=6.18158] 0.128683007902\n",
      "[x=113.79548 y=-0.63100 orient=6.18965] 0.160077229892\n",
      "[x=114.79155 y=-0.71963 orient=6.19923] 0.189301168232\n",
      "[x=115.78846 y=-0.79802 orient=6.21020] 0.215888668879\n",
      "[x=116.78622 y=-0.86485 orient=6.22240] 0.239405168455\n",
      "[x=117.78475 y=-0.91897 orient=6.23567] 0.259455409405\n",
      "[x=118.78392 y=-0.95940 orient=6.24982] 0.275691240259\n",
      "[x=119.78358 y=-0.98536 orient=6.26462] 0.28781921793\n",
      "[x=120.78351 y=-0.99631 orient=6.27985] 0.295607648593\n",
      "[x=121.78349 y=-0.99194 orient=0.01207] 0.298892657323\n",
      "[x=122.78328 y=-0.97221 orient=0.02740] 0.297582879607\n",
      "[x=123.78266 y=-0.93731 orient=0.04241] 0.291662428369\n",
      "[x=124.78142 y=-0.88769 orient=0.05686] 0.281191905279\n",
      "[x=125.77939 y=-0.82406 orient=0.07050] 0.266307379584\n",
      "[x=126.77643 y=-0.74733 orient=0.08312] 0.24721742613\n",
      "[x=127.77249 y=-0.65863 orient=0.09452] 0.224198467676\n",
      "[x=128.76754 y=-0.55927 orient=0.10453] 0.197588779337\n",
      "[x=129.76162 y=-0.45073 orient=0.11300] 0.167781569443\n",
      "[x=130.75486 y=-0.33459 orient=0.11980] 0.135217548127\n",
      "[x=131.74738 y=-0.21258 orient=0.12483] 0.100377340833\n",
      "[x=132.73940 y=-0.08649 orient=0.12803] 0.0637740145054\n",
      "[x=133.73113 y=0.04183 orient=0.12932] 0.0259458775149\n",
      "[x=134.72278 y=0.17080 orient=0.12870] -0.0125503928964\n",
      "[x=135.71468 y=0.29787 orient=0.12613] -0.0512396865227\n",
      "[x=136.70701 y=0.42145 orient=0.12165] -0.0893607835518\n",
      "[x=137.70000 y=0.53964 orient=0.11530] -0.126433561228\n",
      "[x=138.69382 y=0.65063 orient=0.10713] -0.161892899527\n",
      "[x=139.68860 y=0.75264 orient=0.09725] -0.195188304879\n",
      "[x=140.68441 y=0.84401 orient=0.08576] -0.225791378623\n",
      "[x=141.68126 y=0.92322 orient=0.07282] -0.253203858922\n",
      "[x=142.67909 y=0.98889 orient=0.05861] -0.276966203352\n",
      "[x=143.67778 y=1.03983 orient=0.04332] -0.296666553855\n",
      "[x=144.67715 y=1.07509 orient=0.02720] -0.311949788714\n",
      "[x=145.67696 y=1.09393 orient=0.01049] -0.322526237108\n",
      "[x=146.67695 y=1.09591 orient=6.27665] -0.328179535859\n",
      "[x=147.67682 y=1.08085 orient=6.25959] -0.328773071141\n",
      "[x=148.67630 y=1.04886 orient=6.24279] -0.324254489741\n",
      "[x=149.67511 y=1.00035 orient=6.22651] -0.314657890242\n",
      "[x=150.67303 y=0.93598 orient=6.21104] -0.300103500064\n",
      "[x=151.66987 y=0.85671 orient=6.19662] -0.280794877187\n",
      "[x=152.66553 y=0.76371 orient=6.18348] -0.257013902496\n",
      "[x=153.65996 y=0.65837 orient=6.17182] -0.229114007919\n",
      "[x=154.65319 y=0.54227 orient=6.16181] -0.197512187801\n",
      "[x=155.64533 y=0.41712 orient=6.15361] -0.162680356414\n",
      "[x=156.63653 y=0.28479 orient=6.14732] -0.12513655235\n",
      "[x=157.62702 y=0.14722 orient=6.14303] -0.0854363732223\n",
      "[x=158.61706 y=0.00643 orient=6.14083] -0.0441648786182\n",
      "[x=159.60695 y=-0.13545 orient=6.14073] -0.00192905059756\n",
      "[x=160.59696 y=-0.27642 orient=6.14276] 0.0406349110397\n",
      "[x=161.58741 y=-0.41432 orient=6.14692] 0.0829256455185\n",
      "[x=162.57855 y=-0.54707 orient=6.15316] 0.12429712495\n",
      "[x=163.57064 y=-0.67262 orient=6.16144] 0.164122494816\n",
      "[x=164.56384 y=-0.78898 orient=6.17167] 0.201786926656\n",
      "[x=165.55828 y=-0.89427 orient=6.18373] 0.236695334235\n",
      "[x=166.55399 y=-0.98672 orient=6.19748] 0.268280905467\n",
      "[x=167.55093 y=-1.06472 orient=6.21273] 0.296014503015\n",
      "[x=168.54899 y=-1.12686 orient=6.22927] 0.319414831461\n",
      "[x=169.54796 y=-1.17198 orient=6.24684] 0.338059084403\n",
      "[x=170.54757 y=-1.19915 orient=6.26519] 0.351593592669\n",
      "[x=171.54752 y=-1.20774 orient=0.00081] 0.359743828115\n",
      "[x=172.54745 y=-1.19746 orient=0.01976] 0.362323016776\n",
      "[x=173.54701 y=-1.16832 orient=0.03853] 0.359238617746\n",
      "[x=174.54586 y=-1.12066 orient=0.05681] 0.350496050876\n",
      "[x=175.54370 y=-1.05516 orient=0.07429] 0.336199299503\n",
      "[x=176.54029 y=-0.97278 orient=0.09067] 0.316548334216\n",
      "[x=177.53547 y=-0.87476 orient=0.10569] 0.291833637067\n",
      "[x=178.52915 y=-0.76260 orient=0.11912] 0.262428384678\n",
      "[x=179.52135 y=-0.63798 orient=0.13076] 0.228779021409\n",
      "[x=180.51217 y=-0.50279 orient=0.14045] 0.191394998305\n",
      "[x=181.50178 y=-0.35905 orient=0.14805] 0.150838379905\n",
      "[x=182.49043 y=-0.20887 orient=0.15345] 0.107713862321\n",
      "[x=183.47844 y=-0.05446 orient=0.15659] 0.062659544079\n",
      "[x=184.46621 y=0.10149 orient=0.15741] 0.0163385842488\n",
      "[x=185.45396 y=0.25750 orient=0.15589] -0.03044725696\n",
      "[x=186.44213 y=0.41084 orient=0.15202] -0.0772495650968\n",
      "[x=187.43107 y=0.55921 orient=0.14582] -0.123252632821\n",
      "[x=188.42106 y=0.70033 orient=0.13735] -0.167763305258\n",
      "[x=189.41235 y=0.83197 orient=0.12669] -0.210097819681\n",
      "[x=190.40511 y=0.95199 orient=0.11395] -0.249589596349\n",
      "[x=191.39943 y=1.05840 orient=0.09927] -0.285598124897\n",
      "[x=192.39527 y=1.14932 orient=0.08283] -0.317519120433\n",
      "[x=193.39253 y=1.22311 orient=0.06488] -0.344795938713\n",
      "[x=194.39099 y=1.27835 orient=0.04566] -0.366932000473\n",
      "[x=195.39034 y=1.31391 orient=0.02549] -0.383503702236\n",
      "[x=196.39021 y=1.32900 orient=0.00469] -0.394173025545\n",
      "[x=197.39017 y=1.32315 orient=6.26681] -0.398698858068\n",
      "[x=198.38979 y=1.29630 orient=6.24585] -0.396945972838\n",
      "[x=199.38865 y=1.24874 orient=6.22536] -0.388890724196\n"
     ]
    }
   ],
   "source": [
    "# Quiz: Oscillations\n",
    "# faster\n",
    "x_trajectory, y_trajectory = run(robot, 0.3)"
   ]
  },
  {
   "cell_type": "code",
   "execution_count": 53,
   "metadata": {},
   "outputs": [
    {
     "data": {
      "text/plain": [
       "[<matplotlib.lines.Line2D at 0x10dbc5c50>]"
      ]
     },
     "execution_count": 53,
     "metadata": {},
     "output_type": "execute_result"
    },
    {
     "data": {
      "image/png": "[encoded data removed]",
      "text/plain": [
       "<matplotlib.figure.Figure at 0x10dbc5c18>"
      ]
     },
     "metadata": {},
     "output_type": "display_data"
    }
   ],
   "source": [
    "n = len(x_trajectory)\n",
    "\n",
    "plt.plot(x_trajectory, y_trajectory, 'g', label='proportional controller')\n",
    "plt.plot(x_trajectory, np.zeros(n), 'r', label='reference')"
   ]
  },
  {
   "cell_type": "code",
   "execution_count": 59,
   "metadata": {},
   "outputs": [
    {
     "name": "stdout",
     "output_type": "stream",
     "text": [
      "[x=0.99998 y=0.99493 orient=6.27305] -0.2\n",
      "[x=1.99987 y=0.98015 orient=6.26376] -0.183783335986\n",
      "[x=2.99960 y=0.95690 orient=6.25611] -0.151684277587\n",
      "[x=3.99914 y=0.92678 orient=6.25000] -0.12163374202\n",
      "[x=4.99851 y=0.89122 orient=6.24524] -0.0949841761938\n",
      "[x=5.99772 y=0.85149 orient=6.24165] -0.0715681419784\n",
      "[x=6.99680 y=0.80869 orient=6.23910] -0.051108951395\n",
      "[x=7.99579 y=0.76378 orient=6.23743] -0.0333438382448\n",
      "[x=8.99475 y=0.71804 orient=6.23653] -0.0180299179573\n",
      "[x=9.99366 y=0.67140 orient=6.23621] -0.0063823756277\n",
      "[x=10.99255 y=0.62444 orient=6.23649] 0.0056480269145\n",
      "[x=11.99146 y=0.57776 orient=6.23729] 0.0159966108536\n",
      "[x=12.99044 y=0.53249 orient=6.23851] 0.0244861716904\n",
      "[x=13.98947 y=0.48856 orient=6.23998] 0.0293078245412\n",
      "[x=14.98858 y=0.44622 orient=6.24168] 0.0340612290127\n",
      "[x=15.98775 y=0.40568 orient=6.24357] 0.0377796340959\n",
      "[x=16.98701 y=0.36709 orient=6.24560] 0.0405030903054\n",
      "[x=17.98634 y=0.33057 orient=6.24772] 0.0423513955459\n",
      "[x=18.98575 y=0.29619 orient=6.24989] 0.0434418365105\n",
      "[x=19.98523 y=0.26400 orient=6.25209] 0.0438821838886\n",
      "[x=20.98478 y=0.23401 orient=6.25428] 0.0437704382338\n",
      "[x=21.98440 y=0.20618 orient=6.25644] 0.0431952196343\n",
      "[x=22.98407 y=0.18049 orient=6.25855] 0.042236248297\n",
      "[x=23.98379 y=0.15689 orient=6.26060] 0.0409648571941\n",
      "[x=24.98355 y=0.13529 orient=6.26257] 0.0394445221994\n",
      "[x=25.98336 y=0.11562 orient=6.26446] 0.037731399894\n",
      "[x=26.98320 y=0.09780 orient=6.26626] 0.0358748647636\n",
      "[x=27.98307 y=0.08172 orient=6.26795] 0.0339180388448\n",
      "[x=28.98297 y=0.06728 orient=6.26955] 0.0318983082123\n",
      "[x=29.98288 y=0.05439 orient=6.27104] 0.0298478218925\n",
      "[x=30.98282 y=0.04294 orient=6.27243] 0.0277939699035\n",
      "[x=31.98277 y=0.03283 orient=6.27372] 0.0257598380325\n",
      "[x=32.98273 y=0.02396 orient=6.27491] 0.0237646377632\n",
      "[x=33.98270 y=0.01623 orient=6.27600] 0.0218241103973\n",
      "[x=34.98267 y=0.00904 orient=6.27700] 0.0199509049412\n",
      "[x=35.98265 y=0.00285 orient=6.27798] 0.0197511764223\n",
      "[x=36.98264 y=-0.00235 orient=6.27888] 0.017995972518\n",
      "[x=37.98263 y=-0.00665 orient=6.27969] 0.0160731865752\n",
      "[x=38.98262 y=-0.01015 orient=6.28040] 0.0142337803659\n",
      "[x=39.98262 y=-0.01293 orient=6.28103] 0.0125221191971\n",
      "[x=40.98262 y=-0.01509 orient=6.28157] 0.0109440778786\n",
      "[x=41.98262 y=-0.01671 orient=6.28205] 0.00949759959244\n",
      "[x=42.98262 y=-0.01784 orient=6.28246] 0.00817841235712\n",
      "[x=43.98261 y=-0.01857 orient=6.28281] 0.0069812392289\n",
      "[x=44.98261 y=-0.01895 orient=6.28310] 0.00590017294341\n",
      "[x=45.98261 y=-0.01904 orient=0.00016] 0.00492887907439\n",
      "[x=46.98261 y=-0.01887 orient=0.00036] 0.00406074933967\n",
      "[x=47.98261 y=-0.01851 orient=0.00053] 0.00328902875384\n",
      "[x=48.98261 y=-0.01798 orient=0.00066] 0.00260692257194\n",
      "[x=49.98261 y=-0.01732 orient=0.00076] 0.00200768567185\n",
      "[x=50.98261 y=-0.01656 orient=0.00083] 0.00148469633156\n",
      "[x=51.98261 y=-0.01573 orient=0.00089] 0.0010315161355\n",
      "[x=52.98261 y=-0.01484 orient=0.00092] 0.000641937606777\n",
      "[x=53.98261 y=-0.01392 orient=0.00093] 0.000310021041455\n",
      "[x=54.98261 y=-0.01299 orient=0.00094] 3.01219046731e-05\n",
      "[x=55.98261 y=-0.01205 orient=0.00092] -0.000203089964004\n",
      "[x=56.98261 y=-0.01113 orient=0.00091] -0.000394618197549\n",
      "[x=57.98261 y=-0.01022 orient=0.00088] -0.000549133766727\n",
      "[x=58.98261 y=-0.00934 orient=0.00084] -0.000670973929299\n",
      "[x=59.98261 y=-0.00850 orient=0.00081] -0.0007641454232\n",
      "[x=60.98261 y=-0.00769 orient=0.00076] -0.000832331152652\n",
      "[x=61.98261 y=-0.00693 orient=0.00072] -0.000878899699409\n",
      "[x=62.98261 y=-0.00621 orient=0.00068] -0.000906917068816\n",
      "[x=63.98261 y=-0.00554 orient=0.00063] -0.000919160152108\n",
      "[x=64.98261 y=-0.00491 orient=0.00058] -0.000918131452456\n",
      "[x=65.98261 y=-0.00432 orient=0.00054] -0.000906074682825\n",
      "[x=66.98261 y=-0.00378 orient=0.00049] -0.000884990898843\n",
      "[x=67.98261 y=-0.00329 orient=0.00045] -0.000856654879978\n",
      "[x=68.98261 y=-0.00284 orient=0.00041] -0.000822631517429\n",
      "[x=69.98261 y=-0.00243 orient=0.00037] -0.000784292007663\n",
      "[x=70.98261 y=-0.00206 orient=0.00033] -0.000742829686703\n",
      "[x=71.98261 y=-0.00173 orient=0.00030] -0.000699275372362\n",
      "[x=72.98261 y=-0.00143 orient=0.00027] -0.000654512109966\n",
      "[x=73.98261 y=-0.00116 orient=0.00024] -0.000609289241937\n",
      "[x=74.98261 y=-0.00093 orient=0.00021] -0.000564235743242\n",
      "[x=75.98261 y=-0.00072 orient=0.00018] -0.00051987278344\n",
      "[x=76.98261 y=-0.00054 orient=0.00016] -0.000476625492079\n",
      "[x=77.98261 y=-0.00038 orient=0.00014] -0.000434833917838\n",
      "[x=78.98261 y=-0.00025 orient=0.00012] -0.000394763183253\n",
      "[x=79.98261 y=-0.00013 orient=0.00010] -0.000356612846377\n",
      "[x=80.98261 y=-0.00003 orient=0.00008] -0.000320525488486\n",
      "[x=81.98261 y=0.00005 orient=0.00007] -0.000286594553179\n",
      "[x=82.98261 y=0.00012 orient=0.00005] -0.000254871467083\n",
      "[x=83.98261 y=0.00017 orient=0.00004] -0.000225372076076\n",
      "[x=84.98261 y=0.00021 orient=0.00003] -0.000198082433563\n",
      "[x=85.98261 y=0.00025 orient=0.00002] -0.00017296397913\n",
      "[x=86.98261 y=0.00027 orient=0.00002] -0.000149958146879\n",
      "[x=87.98261 y=0.00029 orient=0.00001] -0.000128990443104\n",
      "[x=88.98261 y=0.00030 orient=0.00001] -0.00010997403277\n",
      "[x=89.98261 y=0.00031 orient=0.00000] -9.28128736236e-05\n",
      "[x=90.98261 y=0.00031 orient=6.28318] -7.74044357341e-05\n",
      "[x=91.98261 y=0.00030 orient=6.28318] -6.36420430037e-05\n",
      "[x=92.98261 y=0.00030 orient=6.28318] -5.14168716151e-05\n",
      "[x=93.98261 y=0.00029 orient=6.28317] -4.0619638716e-05\n",
      "[x=94.98261 y=0.00028 orient=6.28317] -3.11420128129e-05\n",
      "[x=95.98261 y=0.00026 orient=6.28317] -2.28777754606e-05\n",
      "[x=96.98261 y=0.00025 orient=6.28317] -1.5723761868e-05\n",
      "[x=97.98261 y=0.00024 orient=6.28317] -9.58060612564e-06\n",
      "[x=98.98261 y=0.00022 orient=6.28317] -4.35331480382e-06\n",
      "[x=99.98261 y=0.00021 orient=6.28317] 4.83092176815e-08\n"
     ]
    }
   ],
   "source": [
    "# -----------\n",
    "# User Instructions\n",
    "#\n",
    "# Implement a PD controller by running 100 iterations\n",
    "# of robot motion. The steering angle should be set\n",
    "# by the parameter tau so that:\n",
    "#\n",
    "# steering = -tau_p * CTE - tau_d * diff_CTE\n",
    "# where differential crosstrack error (diff_CTE)\n",
    "# is given by CTE(t) - CTE(t-1)\n",
    "#\n",
    "# Your code should print output that looks like\n",
    "# the output shown in the video.\n",
    "#\n",
    "# Only modify code at the bottom!\n",
    "# ------------\n",
    " \n",
    "\n",
    "############## ADD / MODIFY CODE BELOW ####################\n",
    "# ------------------------------------------------------------------------\n",
    "#\n",
    "# run - does a single control run\n",
    "\n",
    "# previous P controller\n",
    "def run_p(robot, tau, n=100, speed=1.0):\n",
    "    x_trajectory = []\n",
    "    y_trajectory = []\n",
    "    for i in range(n):\n",
    "        cte = robot.y\n",
    "        steer = -tau * cte\n",
    "        robot.move(steer, speed)\n",
    "        x_trajectory.append(robot.x)\n",
    "        y_trajectory.append(robot.y)\n",
    "    return x_trajectory, y_trajectory\n",
    "    \n",
    "robot = Robot()\n",
    "robot.set(0, 1, 0)\n",
    "\n",
    "def run2(robot, tau_p, tau_d, n=100, speed=1.0):\n",
    "    x_trajectory = []\n",
    "    y_trajectory = []\n",
    "    y = robot.y\n",
    "    for i in range(n):\n",
    "        cte = robot.y\n",
    "        steer = -tau_p * cte - tau_d * (cte - y)\n",
    "        y = robot.y\n",
    "        \n",
    "        robot.move(steer, speed)\n",
    "        x_trajectory.append(robot.x)\n",
    "        y_trajectory.append(robot.y)    \n",
    "        print(robot, steer)\n",
    "    # TODO: your code here\n",
    "    return x_trajectory, y_trajectory\n",
    "    \n",
    "x_trajectory, y_trajectory = run2(robot, 0.2, 3.0)"
   ]
  },
  {
   "cell_type": "code",
   "execution_count": 60,
   "metadata": {},
   "outputs": [
    {
     "data": {
      "text/plain": [
       "<matplotlib.legend.Legend at 0x10dfdb940>"
      ]
     },
     "execution_count": 60,
     "metadata": {},
     "output_type": "execute_result"
    },
    {
     "data": {
      "image/png": "[encoded data removed]",
      "text/plain": [
       "<matplotlib.figure.Figure at 0x10de4ecf8>"
      ]
     },
     "metadata": {},
     "output_type": "display_data"
    }
   ],
   "source": [
    "n = len(x_trajectory)\n",
    "\n",
    "plt.plot(x_trajectory, y_trajectory, 'g', label='PD controller')\n",
    "plt.plot(x_trajectory, np.zeros(n), 'r', label='reference')\n",
    "plt.legend()"
   ]
  },
  {
   "cell_type": "code",
   "execution_count": 63,
   "metadata": {},
   "outputs": [
    {
     "name": "stdout",
     "output_type": "stream",
     "text": [
      "[x=0.99998 y=0.99493 orient=6.27305] -0.2\n",
      "[x=1.99986 y=0.97976 orient=6.26297] -0.198986458499\n",
      "[x=2.99954 y=0.95458 orient=6.25304] -0.195951212214\n",
      "[x=3.99893 y=0.91961 orient=6.24338] -0.190915622537\n",
      "[x=4.99794 y=0.87517 orient=6.23408] -0.183922094195\n",
      "[x=5.99650 y=0.82166 orient=6.22524] -0.175033603781\n",
      "[x=6.99457 y=0.75961 orient=6.21694] -0.164332961057\n",
      "[x=7.99211 y=0.68960 orient=6.20929] -0.151921828324\n",
      "[x=8.98912 y=0.61231 orient=6.20235] -0.13791952938\n",
      "[x=9.98560 y=0.52849 orient=6.19619] -0.122461683194\n",
      "[x=10.98158 y=0.43897 orient=6.19089] -0.105698698399\n",
      "[x=11.97712 y=0.34462 orient=6.18649] -0.0877941631454\n",
      "[x=12.97228 y=0.24635 orient=6.18304] -0.0689231612047\n",
      "[x=13.96715 y=0.14515 orient=6.18057] -0.0492705399587\n",
      "[x=14.96181 y=0.04199 orient=6.17912] -0.0290291498044\n",
      "[x=15.95640 y=-0.06189 orient=6.17870] -0.00839806806266\n",
      "[x=16.95095 y=-0.16618 orient=6.17932] 0.0123774220424\n",
      "[x=17.94564 y=-0.26903 orient=6.18098] 0.0332364386308\n",
      "[x=18.94056 y=-0.36972 orient=6.18367] 0.0538069887421\n",
      "[x=19.93580 y=-0.46722 orient=6.18738] 0.0739442582484\n",
      "[x=20.93143 y=-0.56055 orient=6.19206] 0.0934449800517\n",
      "[x=21.92753 y=-0.64874 orient=6.19769] 0.112110538209\n",
      "[x=22.92415 y=-0.73088 orient=6.20422] 0.129748845882\n",
      "[x=23.92132 y=-0.80610 orient=6.21158] 0.146176242541\n",
      "[x=24.91904 y=-0.87359 orient=6.21971] 0.161219400215\n",
      "[x=25.91729 y=-0.93261 orient=6.22854] 0.174717221364\n",
      "[x=26.91604 y=-0.98252 orient=6.23797] 0.186522703386\n",
      "[x=27.91522 y=-1.02275 orient=6.24793] 0.196504737422\n",
      "[x=28.91477 y=-1.05282 orient=6.25830] 0.204549802872\n",
      "[x=29.91457 y=-1.07236 orient=6.26898] 0.210563514652\n",
      "[x=30.91453 y=-1.08111 orient=6.27988] 0.214471978379\n",
      "[x=31.91452 y=-1.07893 orient=0.00767] 0.216222909978\n",
      "[x=32.91443 y=-1.06578 orient=0.01863] 0.215786480844\n",
      "[x=33.91414 y=-1.04174 orient=0.02946] 0.213155857571\n",
      "[x=34.91353 y=-1.00700 orient=0.04003] 0.208347415878\n",
      "[x=35.91251 y=-0.96189 orient=0.05023] 0.201400620835\n",
      "[x=36.91098 y=-0.90681 orient=0.05997] 0.192377578684\n",
      "[x=37.90890 y=-0.84230 orient=0.06914] 0.181362278276\n",
      "[x=38.90620 y=-0.76897 orient=0.07765] 0.168459551179\n",
      "[x=39.90288 y=-0.68754 orient=0.08540] 0.153793787904\n",
      "[x=40.89893 y=-0.59880 orient=0.09232] 0.137507452887\n",
      "[x=41.89439 y=-0.50362 orient=0.09833] 0.11975944253\n",
      "[x=42.88931 y=-0.40293 orient=0.10339] 0.100723329002\n",
      "[x=43.88376 y=-0.29772 orient=0.10742] 0.080585528068\n",
      "[x=44.87783 y=-0.18902 orient=0.11041] 0.0595434226207\n",
      "[x=45.87164 y=-0.07790 orient=0.11230] 0.0378034657673\n",
      "[x=46.86534 y=0.03416 orient=0.11308] 0.0155792789836\n",
      "[x=47.85895 y=0.14700 orient=0.11273] -0.00683283740785\n",
      "[x=48.85269 y=0.25876 orient=0.11126] -0.0293997710188\n",
      "[x=49.84665 y=0.36851 orient=0.10867] -0.0517526943182\n",
      "[x=50.84094 y=0.47513 orient=0.10498] -0.073702075682\n",
      "[x=51.83569 y=0.57755 orient=0.10022] -0.0950269644577\n",
      "[x=52.83095 y=0.67472 orient=0.09441] -0.115510729847\n",
      "[x=53.82681 y=0.76561 orient=0.08763] -0.134943056865\n",
      "[x=54.82330 y=0.84928 orient=0.07991] -0.153121979295\n",
      "[x=55.82044 y=0.92483 orient=0.07133] -0.169855943084\n",
      "[x=56.81822 y=0.99144 orient=0.06198] -0.184965884827\n",
      "[x=57.81659 y=1.04836 orient=0.05193] -0.198287300266\n",
      "[x=58.81550 y=1.09496 orient=0.04129] -0.209672268006\n",
      "[x=59.81486 y=1.13068 orient=0.03016] -0.218991384777\n",
      "[x=60.81455 y=1.15509 orient=0.01866] -0.226135561709\n",
      "[x=61.81447 y=1.16787 orient=0.00690] -0.231017627123\n",
      "[x=62.81446 y=1.16882 orient=6.27819] -0.233573681299\n",
      "[x=63.81439 y=1.15787 orient=6.26628] -0.233764152783\n",
      "[x=64.81413 y=1.13508 orient=6.25449] -0.231574514417\n",
      "[x=65.81353 y=1.10062 orient=6.24294] -0.227015629619\n",
      "[x=66.81247 y=1.05480 orient=6.23176] -0.220123714675\n",
      "[x=67.81086 y=0.99805 orient=6.22105] -0.210959919468\n",
      "[x=68.80860 y=0.93090 orient=6.21093] -0.199609545475\n",
      "[x=69.80563 y=0.85402 orient=6.20152] -0.186180934448\n",
      "[x=70.80193 y=0.76814 orient=6.19289] -0.170804072584\n",
      "[x=71.79750 y=0.67412 orient=6.18515] -0.153628962219\n",
      "[x=72.79236 y=0.57287 orient=6.17837] -0.134823815844\n",
      "[x=73.78657 y=0.46538 orient=6.17261] -0.114573125572\n",
      "[x=74.78020 y=0.35271 orient=6.16795] -0.0930756557995\n",
      "[x=75.77336 y=0.23597 orient=6.16441] -0.070542398533\n",
      "[x=76.76617 y=0.11631 orient=6.16205] -0.047194520808\n",
      "[x=77.75878 y=-0.00511 orient=6.16089] -0.0232613228701\n",
      "[x=78.75131 y=-0.12710 orient=6.16094] 0.0010217846456\n",
      "[x=79.74392 y=-0.24841 orient=6.16221] 0.0254203563939\n",
      "[x=80.73676 y=-0.36786 orient=6.16470] 0.0496825995972\n",
      "[x=81.72997 y=-0.48424 orient=6.16838] 0.0735718239951\n",
      "[x=82.72366 y=-0.59638 orient=6.17324] 0.0968482050617\n",
      "[x=83.71794 y=-0.70313 orient=6.17923] 0.119275887762\n",
      "[x=84.71290 y=-0.80337 orient=6.18631] 0.140625094766\n",
      "[x=85.70859 y=-0.89606 orient=6.19441] 0.160674292045\n",
      "[x=86.70504 y=-0.98021 orient=6.20347] 0.179212410555\n",
      "[x=87.70225 y=-1.05489 orient=6.21340] 0.196041112016\n",
      "[x=88.70017 y=-1.11927 orient=6.22411] 0.210977074669\n",
      "[x=89.69874 y=-1.17263 orient=6.23549] 0.22385426214\n",
      "[x=90.69786 y=-1.21434 orient=6.24744] 0.234526126431\n",
      "[x=91.69742 y=-1.24389 orient=6.25983] 0.242867685897\n",
      "[x=92.69727 y=-1.26089 orient=6.27253] 0.248777412241\n",
      "[x=93.69725 y=-1.26511 orient=0.00223] 0.252178858379\n",
      "[x=94.69721 y=-1.25642 orient=0.01515] 0.253021962241\n",
      "[x=95.69697 y=-1.23485 orient=0.02799] 0.251283970684\n",
      "[x=96.69637 y=-1.20056 orient=0.04060] 0.246969942046\n",
      "[x=97.69528 y=-1.15386 orient=0.05284] 0.240112804533\n",
      "[x=98.69355 y=-1.09519 orient=0.06459] 0.230772968621\n",
      "[x=99.69108 y=-1.02509 orient=0.07572] 0.219037512941\n"
     ]
    }
   ],
   "source": [
    "# Quiz: Systematic Bias\n",
    "# causes a new error\n",
    "robot = Robot()\n",
    "robot.set(0, 1, 0)\n",
    "x_trajectory, y_trajectory = run2(robot, 0.2, 0.)"
   ]
  },
  {
   "cell_type": "code",
   "execution_count": 64,
   "metadata": {},
   "outputs": [
    {
     "data": {
      "text/plain": [
       "<matplotlib.legend.Legend at 0x10e28da58>"
      ]
     },
     "execution_count": 64,
     "metadata": {},
     "output_type": "execute_result"
    },
    {
     "data": {
      "image/png": "[encoded data removed]",
      "text/plain": [
       "<matplotlib.figure.Figure at 0x10e1d06d8>"
      ]
     },
     "metadata": {},
     "output_type": "display_data"
    }
   ],
   "source": [
    "n = len(x_trajectory)\n",
    "\n",
    "plt.plot(x_trajectory, y_trajectory, 'g', label='PD controller')\n",
    "plt.plot(x_trajectory, np.zeros(n), 'r', label='reference')\n",
    "plt.legend()"
   ]
  },
  {
   "cell_type": "code",
   "execution_count": 65,
   "metadata": {
    "collapsed": true
   },
   "outputs": [],
   "source": [
    "# Quiz: Is PD Enough\n",
    "# No"
   ]
  },
  {
   "cell_type": "code",
   "execution_count": 68,
   "metadata": {},
   "outputs": [
    {
     "name": "stdout",
     "output_type": "stream",
     "text": [
      "[x=0.99998 y=0.99493 orient=6.27305] -0.2\n",
      "[x=1.99987 y=0.98005 orient=6.26355] -0.187783335986\n",
      "[x=2.99959 y=0.95640 orient=6.25551] -0.159332747485\n",
      "[x=3.99910 y=0.92540 orient=6.24886] -0.132223802996\n",
      "[x=4.99842 y=0.88838 orient=6.24345] -0.107832268174\n",
      "[x=5.99754 y=0.84651 orient=6.23914] -0.0860466137088\n",
      "[x=6.99649 y=0.80081 orient=6.23580] -0.0666474686074\n",
      "[x=7.99531 y=0.75221 orient=6.23333] -0.0494291003924\n",
      "[x=8.99403 y=0.70151 orient=6.23162] -0.034205456088\n",
      "[x=9.99267 y=0.64945 orient=6.23058] -0.020807094169\n",
      "[x=10.99129 y=0.59686 orient=6.23012] -0.00907834913764\n",
      "[x=11.98988 y=0.54383 orient=6.23014] 0.000399464248068\n",
      "[x=12.98847 y=0.49081 orient=6.23064] 0.00997953965959\n",
      "[x=13.98709 y=0.43829 orient=6.23156] 0.0183480541129\n",
      "[x=14.98579 y=0.38732 orient=6.23283] 0.025393922297\n",
      "[x=15.98456 y=0.33771 orient=6.23429] 0.0291834414466\n",
      "[x=16.98341 y=0.28967 orient=6.23596] 0.0334663137957\n",
      "[x=17.98233 y=0.24339 orient=6.23781] 0.037029100278\n",
      "[x=18.98135 y=0.19903 orient=6.23981] 0.0398430289415\n",
      "[x=19.98045 y=0.15671 orient=6.24191] 0.0419790675132\n",
      "[x=20.97965 y=0.11654 orient=6.24408] 0.0435116045429\n",
      "[x=21.97892 y=0.07856 orient=6.24631] 0.0445101211471\n",
      "[x=22.97829 y=0.04282 orient=6.24857] 0.0450386959745\n",
      "[x=23.97772 y=0.00934 orient=6.25082] 0.0451562080973\n",
      "[x=24.97724 y=-0.02190 orient=6.25307] 0.0449166024676\n",
      "[x=25.97682 y=-0.05090 orient=6.25529] 0.0443691606244\n",
      "[x=26.97646 y=-0.07770 orient=6.25747] 0.0435587703105\n",
      "[x=27.97615 y=-0.10234 orient=6.25960] 0.042526192\n",
      "[x=28.97590 y=-0.12490 orient=6.26167] 0.0413083207036\n",
      "[x=29.97569 y=-0.14542 orient=6.26366] 0.0399384415393\n",
      "[x=30.97551 y=-0.16397 orient=6.26559] 0.0384464777699\n",
      "[x=31.97538 y=-0.18065 orient=6.26743] 0.0368592302025\n",
      "[x=32.97526 y=-0.19552 orient=6.26919] 0.0352006071125\n",
      "[x=33.97518 y=-0.20868 orient=6.27087] 0.0334918440513\n",
      "[x=34.97511 y=-0.22021 orient=6.27245] 0.0317517131398\n",
      "[x=35.97506 y=-0.23019 orient=6.27395] 0.0299967215944\n",
      "[x=36.97503 y=-0.23871 orient=6.27537] 0.0282412994319\n",
      "[x=37.97500 y=-0.24587 orient=6.27669] 0.026497976389\n",
      "[x=38.97498 y=-0.25174 orient=6.27793] 0.0247775482217\n",
      "[x=39.97497 y=-0.25641 orient=6.27909] 0.0230892326251\n",
      "[x=40.97497 y=-0.25998 orient=6.28016] 0.021440815071\n",
      "[x=41.97496 y=-0.26300 orient=6.28115] 0.0198387849139\n",
      "[x=42.97496 y=-0.26504 orient=6.28214] 0.0198757673666\n",
      "[x=43.97496 y=-0.26608 orient=6.28306] 0.0183585437423\n",
      "[x=44.97496 y=-0.26620 orient=0.00071] 0.0166451200676\n",
      "[x=45.97496 y=-0.26549 orient=0.00146] 0.0149799175069\n",
      "[x=46.97496 y=-0.26404 orient=0.00213] 0.0134058316822\n",
      "[x=47.97495 y=-0.26191 orient=0.00273] 0.0119289416615\n",
      "[x=48.97495 y=-0.25918 orient=0.00325] 0.0105483136896\n",
      "[x=49.97495 y=-0.25593 orient=0.00372] 0.00926144658055\n",
      "[x=50.97494 y=-0.25221 orient=0.00412] 0.00806531364364\n",
      "[x=51.97493 y=-0.24809 orient=0.00447] 0.00695660338575\n",
      "[x=52.97492 y=-0.24363 orient=0.00476] 0.00593180964536\n",
      "[x=53.97491 y=-0.23886 orient=0.00501] 0.00498728908127\n",
      "[x=54.97490 y=-0.23385 orient=0.00522] 0.00411930776647\n",
      "[x=55.97488 y=-0.22863 orient=0.00539] 0.00332408125122\n",
      "[x=56.97487 y=-0.22325 orient=0.00552] 0.00259780929188\n",
      "[x=57.97485 y=-0.21773 orient=0.00561] 0.00193670584242\n",
      "[x=58.97484 y=-0.21212 orient=0.00568] 0.00133702477048\n",
      "[x=59.97482 y=-0.20644 orient=0.00572] 0.000795081710163\n",
      "[x=60.97480 y=-0.20072 orient=0.00573] 0.000307272431225\n",
      "[x=61.97479 y=-0.19499 orient=0.00573] -0.000129911924465\n",
      "[x=62.97477 y=-0.18926 orient=0.00570] -0.000519872414464\n",
      "[x=63.97476 y=-0.18356 orient=0.00566] -0.000865892375675\n",
      "[x=64.97474 y=-0.17790 orient=0.00560] -0.00117112973644\n",
      "[x=65.97472 y=-0.17230 orient=0.00553] -0.0014386113068\n",
      "[x=66.97471 y=-0.16677 orient=0.00544] -0.00167122881391\n",
      "[x=67.97469 y=-0.16133 orient=0.00535] -0.00187173646901\n",
      "[x=68.97468 y=-0.15598 orient=0.00525] -0.00204274987129\n",
      "[x=69.97467 y=-0.15073 orient=0.00514] -0.00218674607074\n",
      "[x=70.97465 y=-0.14559 orient=0.00502] -0.0023060646288\n",
      "[x=71.97464 y=-0.14057 orient=0.00490] -0.00240290953053\n",
      "[x=72.97463 y=-0.13567 orient=0.00478] -0.00247935181605\n",
      "[x=73.97462 y=-0.13089 orient=0.00465] -0.00253733281237\n",
      "[x=74.97461 y=-0.12623 orient=0.00452] -0.00257866785867\n",
      "[x=75.97460 y=-0.12171 orient=0.00439] -0.00260505042946\n",
      "[x=76.97459 y=-0.11732 orient=0.00426] -0.00261805657046\n",
      "[x=77.97458 y=-0.11305 orient=0.00413] -0.0026191495715\n",
      "[x=78.97457 y=-0.10892 orient=0.00400] -0.00260968480973\n",
      "[x=79.97456 y=-0.10492 orient=0.00387] -0.00259091470428\n",
      "[x=80.97455 y=-0.10105 orient=0.00374] -0.00256399373104\n",
      "[x=81.97455 y=-0.09731 orient=0.00362] -0.00252998345282\n",
      "[x=82.97454 y=-0.09369 orient=0.00349] -0.00248985752639\n",
      "[x=83.97453 y=-0.09020 orient=0.00337] -0.00244450665336\n",
      "[x=84.97453 y=-0.08683 orient=0.00325] -0.00239474344681\n",
      "[x=85.97452 y=-0.08358 orient=0.00313] -0.00234130719027\n",
      "[x=86.97452 y=-0.08044 orient=0.00302] -0.00228486846945\n",
      "[x=87.97451 y=-0.07742 orient=0.00291] -0.00222603366106\n",
      "[x=88.97451 y=-0.07452 orient=0.00280] -0.00216534926601\n",
      "[x=89.97450 y=-0.07172 orient=0.00269] -0.00210330607729\n",
      "[x=90.97450 y=-0.06902 orient=0.00259] -0.00204034317548\n",
      "[x=91.97450 y=-0.06643 orient=0.00249] -0.00197685174676\n",
      "[x=92.97449 y=-0.06394 orient=0.00240] -0.00191317872076\n",
      "[x=93.97449 y=-0.06154 orient=0.00231] -0.00184963022667\n",
      "[x=94.97449 y=-0.05923 orient=0.00222] -0.00178647486818\n",
      "[x=95.97449 y=-0.05702 orient=0.00213] -0.00172394681856\n",
      "[x=96.97448 y=-0.05489 orient=0.00205] -0.0016622487385\n",
      "[x=97.97448 y=-0.05284 orient=0.00197] -0.00160155452039\n",
      "[x=98.97448 y=-0.05087 orient=0.00189] -0.00154201186311\n",
      "[x=99.97448 y=-0.04898 orient=0.00182] -0.00148374468237\n"
     ]
    }
   ],
   "source": [
    "# Quiz: PID Implementation\n",
    "# -----------\n",
    "# User Instructions\n",
    "#\n",
    "# Implement a P controller by running 100 iterations\n",
    "# of robot motion. The steering angle should be set\n",
    "# by the parameter tau so that:\n",
    "#\n",
    "# steering = -tau_p * CTE - tau_d * diff_CTE - tau_i * int_CTE\n",
    "#\n",
    "# where the integrated crosstrack error (int_CTE) is\n",
    "# the sum of all the previous crosstrack errors.\n",
    "# This term works to cancel out steering drift.\n",
    "#\n",
    "# Your code should print a list that looks just like\n",
    "# the list shown in the video.\n",
    "#\n",
    "# Only modify code at the bottom!\n",
    "# ------------\n",
    "\n",
    "############## ADD / MODIFY CODE BELOW ####################\n",
    "# ------------------------------------------------------------------------\n",
    "#\n",
    "# run - does a single control run\n",
    "\n",
    "robot = Robot()\n",
    "robot.set(0, 1, 0)\n",
    "\n",
    "def run3(robot, tau_p, tau_d, tau_i, n=100, speed=1.0):\n",
    "    x_trajectory = []\n",
    "    y_trajectory = []\n",
    "    y = robot.y\n",
    "    error = 0\n",
    "    \n",
    "    for i in range(n):\n",
    "        cte = robot.y\n",
    "        steer = -tau_p * cte - tau_d * (cte - y) - tau_i * error\n",
    "        \n",
    "        y = robot.y\n",
    "        error += y\n",
    "        \n",
    "        robot.move(steer, speed)\n",
    "        x_trajectory.append(robot.x)\n",
    "        y_trajectory.append(robot.y) \n",
    "        \n",
    "        print(robot, steer)\n",
    "    # TODO: your code here\n",
    "    return x_trajectory, y_trajectory\n",
    "\n",
    "\n",
    "x_trajectory, y_trajectory = run3(robot, 0.2, 3.0, 0.004)"
   ]
  },
  {
   "cell_type": "code",
   "execution_count": 69,
   "metadata": {},
   "outputs": [
    {
     "data": {
      "text/plain": [
       "<matplotlib.legend.Legend at 0x10e3dd400>"
      ]
     },
     "execution_count": 69,
     "metadata": {},
     "output_type": "execute_result"
    },
    {
     "data": {
      "image/png": "[encoded data removed]",
      "text/plain": [
       "<matplotlib.figure.Figure at 0x10e3a2c18>"
      ]
     },
     "metadata": {},
     "output_type": "display_data"
    }
   ],
   "source": [
    "n = len(x_trajectory)\n",
    "\n",
    "plt.plot(x_trajectory, y_trajectory, 'g', label='PID controller')\n",
    "plt.plot(x_trajectory, np.zeros(n), 'r', label='reference')\n",
    "plt.legend()"
   ]
  },
  {
   "cell_type": "code",
   "execution_count": null,
   "metadata": {
    "collapsed": true
   },
   "outputs": [],
   "source": [
    "# Quiz: Parameter Optimization"
   ]
  },
  {
   "cell_type": "code",
   "execution_count": 87,
   "metadata": {},
   "outputs": [
    {
     "name": "stdout",
     "output_type": "stream",
     "text": [
      "Iteration 0, best error = 924.5423429905028\n",
      "Iteration 1, best error = 0.04349708072568837\n",
      "Iteration 2, best error = 0.030653993380141714\n",
      "Iteration 3, best error = 0.007751981884793309\n",
      "Iteration 4, best error = 0.003260633549218086\n",
      "Iteration 5, best error = 0.0016928884593758891\n",
      "Iteration 6, best error = 0.000991822966402048\n",
      "Iteration 7, best error = 0.0009886469259407526\n",
      "Iteration 8, best error = 0.0006529302111197805\n",
      "Iteration 9, best error = 9.052174410557022e-05\n",
      "Iteration 10, best error = 1.1356109473956427e-06\n",
      "Iteration 11, best error = 7.229373950914318e-07\n",
      "Iteration 12, best error = 8.421238122912581e-13\n",
      "Iteration 13, best error = 2.1745555734191394e-14\n",
      "Iteration 14, best error = 2.1745555734191394e-14\n",
      "Iteration 15, best error = 2.1745555734191394e-14\n",
      "Iteration 16, best error = 2.1745555734191394e-14\n",
      "Iteration 17, best error = 2.1745555734191394e-14\n",
      "Iteration 18, best error = 2.1745555734191394e-14\n",
      "Iteration 19, best error = 1.457832296113217e-14\n",
      "Iteration 20, best error = 1.457832296113217e-14\n",
      "Iteration 21, best error = 7.976292430125126e-15\n",
      "Iteration 22, best error = 2.4607147090520188e-15\n",
      "Iteration 23, best error = 1.1123490034123178e-16\n",
      "Iteration 24, best error = 1.1123490034123178e-16\n",
      "Iteration 25, best error = 1.1123490034123178e-16\n",
      "Iteration 26, best error = 1.1123490034123178e-16\n",
      "Iteration 27, best error = 1.1123490034123178e-16\n",
      "Iteration 28, best error = 4.672585395122625e-17\n",
      "Iteration 29, best error = 2.3935284839256542e-17\n",
      "Iteration 30, best error = 2.3935284839256542e-17\n",
      "Iteration 31, best error = 2.3935284839256542e-17\n",
      "Iteration 32, best error = 2.3935284839256542e-17\n",
      "Iteration 33, best error = 1.1881959573239903e-17\n",
      "Iteration 34, best error = 3.538043927829184e-18\n",
      "Iteration 35, best error = 3.538043927829184e-18\n",
      "Iteration 36, best error = 3.538043927829184e-18\n",
      "Iteration 37, best error = 1.077110601632056e-18\n",
      "Iteration 38, best error = 1.077110601632056e-18\n",
      "Iteration 39, best error = 1.7072793214223447e-19\n",
      "Iteration 40, best error = 1.7072793214223447e-19\n",
      "Iteration 41, best error = 1.7072793214223447e-19\n",
      "Iteration 42, best error = 1.7072793214223447e-19\n",
      "Iteration 43, best error = 1.7072793214223447e-19\n",
      "Iteration 44, best error = 8.368742046995111e-20\n",
      "Iteration 45, best error = 8.368742046995111e-20\n",
      "Iteration 46, best error = 8.368742046995111e-20\n",
      "Iteration 47, best error = 8.368742046995111e-20\n",
      "Iteration 48, best error = 4.9210656334657206e-20\n",
      "Iteration 49, best error = 4.9210656334657206e-20\n",
      "Iteration 50, best error = 4.9210656334657206e-20\n",
      "Iteration 51, best error = 4.9210656334657206e-20\n",
      "Iteration 52, best error = 4.9210656334657206e-20\n"
     ]
    }
   ],
   "source": [
    "# ----------------\n",
    "# User Instructions\n",
    "#\n",
    "# Implement twiddle as shown in the previous two videos.\n",
    "# Your accumulated error should be very small!\n",
    "#\n",
    "# Your twiddle function should RETURN the accumulated\n",
    "# error. Try adjusting the parameters p and dp to make\n",
    "# this error as small as possible.\n",
    "#\n",
    "# Try to get your error below 1.0e-10 with as few iterations\n",
    "# as possible (too many iterations will cause a timeout).\n",
    "# No cheating!\n",
    "# ------------\n",
    "\n",
    "############## ADD / MODIFY CODE BELOW ####################\n",
    "# ------------------------------------------------------------------------\n",
    "#\n",
    "# run - does a single control run\n",
    "\n",
    "\n",
    "def make_robot():\n",
    "    \"\"\"\n",
    "    Resets the robot back to the initial position and drift.\n",
    "    You'll want to call this after you call `run`.\n",
    "    \"\"\"\n",
    "    robot = Robot()\n",
    "    robot.set(0, 1, 0)\n",
    "    robot.set_steering_drift(10 / 180 * np.pi)\n",
    "    return robot\n",
    "\n",
    "\n",
    "# NOTE: We use params instead of tau_p, tau_d, tau_i\n",
    "def run4(robot, params, n=100, speed=1.0):\n",
    "    x_trajectory = []\n",
    "    y_trajectory = []\n",
    "    err = 0\n",
    "    # TODO: your code here\n",
    "    prev_cte = robot.y\n",
    "    int_cte = 0\n",
    "    for i in range(2 * n):\n",
    "        cte = robot.y\n",
    "        diff_cte = (cte - prev_cte) / speed\n",
    "        int_cte += cte\n",
    "        prev_cte = cte\n",
    "        steer = -params[0] * cte - params[1] * diff_cte - params[2] * int_cte\n",
    "        robot.move(steer, speed)\n",
    "        x_trajectory.append(robot.x)\n",
    "        y_trajectory.append(robot.y)\n",
    "        if i >= n:\n",
    "            err += cte ** 2\n",
    "    return x_trajectory, y_trajectory, err / n\n",
    "\n",
    "\n",
    "# Make this tolerance bigger if you are timing out!\n",
    "def twiddle(tol=0.2): \n",
    "    # TODO: Add code here\n",
    "    # Don't forget to call `make_robot` before you call `run`!\n",
    "    p = [0.01, 0.01, 0.]\n",
    "    dp = [0.99, 0.99, 1.]\n",
    "    robot = make_robot()\n",
    "    x_trajectory, y_trajectory, best_err = run4(robot, p)\n",
    "\n",
    "    it = 0\n",
    "    while sum(dp) > tol:\n",
    "        print(\"Iteration {}, best error = {}\".format(it, best_err))\n",
    "        for i in range(len(p)):\n",
    "            p[i] += dp[i]\n",
    "            robot = make_robot()\n",
    "            x_trajectory, y_trajectory, err = run4(robot, p)\n",
    "\n",
    "            if err < best_err:\n",
    "                best_err = err\n",
    "                dp[i] *= 1.1\n",
    "            else:\n",
    "                p[i] -= 2 * dp[i]\n",
    "                robot = make_robot()\n",
    "                x_trajectory, y_trajectory, err = run4(robot, p)\n",
    "\n",
    "                if err < best_err:\n",
    "                    best_err = err\n",
    "                    dp[i] *= 1.1\n",
    "                else:\n",
    "                    p[i] += dp[i]\n",
    "                    dp[i] *= 0.9\n",
    "        it += 1\n",
    "    return p\n",
    "\n",
    "\n",
    "params = twiddle()\n",
    "robot = make_robot()\n",
    "x_trajectory, y_trajectory, err = run4(robot, params)"
   ]
  },
  {
   "cell_type": "code",
   "execution_count": 88,
   "metadata": {},
   "outputs": [
    {
     "data": {
      "text/plain": [
       "<matplotlib.legend.Legend at 0x10e6e2160>"
      ]
     },
     "execution_count": 88,
     "metadata": {},
     "output_type": "execute_result"
    },
    {
     "data": {
      "image/png": "[encoded data removed]",
      "text/plain": [
       "<matplotlib.figure.Figure at 0x10e6862b0>"
      ]
     },
     "metadata": {},
     "output_type": "display_data"
    }
   ],
   "source": [
    "n = len(x_trajectory)\n",
    "\n",
    "plt.plot(x_trajectory, y_trajectory, 'g', label='twiddle PID controller')\n",
    "plt.plot(x_trajectory, np.zeros(n), 'r', label='reference')\n",
    "plt.legend()"
   ]
  },
  {
   "cell_type": "markdown",
   "metadata": {},
   "source": [
    "##   &#x1F916; &nbsp; <span style=\"color:red\">Section 16. Problem Set 5</span>"
   ]
  },
  {
   "cell_type": "code",
   "execution_count": null,
   "metadata": {
    "collapsed": true
   },
   "outputs": [],
   "source": []
  },
  {
   "cell_type": "code",
   "execution_count": null,
   "metadata": {
    "collapsed": true
   },
   "outputs": [],
   "source": []
  },
  {
   "cell_type": "code",
   "execution_count": null,
   "metadata": {
    "collapsed": true
   },
   "outputs": [],
   "source": []
  },
  {
   "cell_type": "markdown",
   "metadata": {},
   "source": [
    "##   &#x1F916; &nbsp; <span style=\"color:red\">Section 17. Problem Set 5 Help</span>"
   ]
  },
  {
   "cell_type": "code",
   "execution_count": null,
   "metadata": {
    "collapsed": true
   },
   "outputs": [],
   "source": []
  },
  {
   "cell_type": "markdown",
   "metadata": {},
   "source": [
    "##   &#x1F916; &nbsp; <span style=\"color:red\">Section 18. Office Hours Week 5</span>"
   ]
  },
  {
   "cell_type": "code",
   "execution_count": null,
   "metadata": {
    "collapsed": true
   },
   "outputs": [],
   "source": []
  }
 ],
 "metadata": {
  "anaconda-cloud": {},
  "hide_input": false,
  "kernelspec": {
   "display_name": "Python [conda root]",
   "language": "python",
   "name": "conda-root-py"
  },
  "language_info": {
   "codemirror_mode": {
    "name": "ipython",
    "version": 3
   },
   "file_extension": ".py",
   "mimetype": "text/x-python",
   "name": "python",
   "nbconvert_exporter": "python",
   "pygments_lexer": "ipython3",
   "version": "3.5.2"
  },
  "latex_envs": {
   "bibliofile": "biblio.bib",
   "cite_by": "apalike",
   "current_citInitial": 1,
   "eqLabelWithNumbers": true,
   "eqNumInitial": 0
  }
 },
 "nbformat": 4,
 "nbformat_minor": 2
}
