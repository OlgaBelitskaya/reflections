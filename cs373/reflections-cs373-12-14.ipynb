{
 "cells": [
  {
   "cell_type": "markdown",
   "metadata": {},
   "source": [
    "# &#x1F4D1; &nbsp; <span style=\"color:red\"> Reflections. Artificial Intelligence for Robotics. Sections 12-14</span>"
   ]
  },
  {
   "cell_type": "markdown",
   "metadata": {},
   "source": [
    "##   &#x1F916; &nbsp; <span style=\"color:red\">Links</span>"
   ]
  },
  {
   "cell_type": "markdown",
   "metadata": {
    "collapsed": true
   },
   "source": [
    "Applied Motion Lab http://motion.cs.umn.edu/"
   ]
  },
  {
   "cell_type": "code",
   "execution_count": null,
   "metadata": {
    "collapsed": true
   },
   "outputs": [],
   "source": []
  },
  {
   "cell_type": "code",
   "execution_count": null,
   "metadata": {
    "collapsed": true
   },
   "outputs": [],
   "source": []
  },
  {
   "cell_type": "markdown",
   "metadata": {},
   "source": [
    "##   &#x1F916; &nbsp; <span style=\"color:red\">Libraries</span>"
   ]
  },
  {
   "cell_type": "code",
   "execution_count": 1,
   "metadata": {
    "collapsed": true
   },
   "outputs": [],
   "source": [
    "from math import *\n",
    "import numpy as np\n",
    "import pandas as pd\n",
    "import random\n",
    "import os\n",
    "from time import time"
   ]
  },
  {
   "cell_type": "code",
   "execution_count": 2,
   "metadata": {
    "collapsed": true
   },
   "outputs": [],
   "source": [
    "from IPython.display import display, Image\n",
    "import matplotlib.pylab as plt\n",
    "import matplotlib.cm as cm\n",
    "from matplotlib import offsetbox\n",
    "%matplotlib inline"
   ]
  },
  {
   "cell_type": "code",
   "execution_count": 3,
   "metadata": {
    "collapsed": true
   },
   "outputs": [],
   "source": [
    "import skimage\n",
    "from skimage import data, restoration, io\n",
    "import networkx as nx"
   ]
  },
  {
   "cell_type": "markdown",
   "metadata": {},
   "source": [
    "##   &#x1F916; &nbsp; <span style=\"color:red\">Section 12. Search</span>"
   ]
  },
  {
   "cell_type": "markdown",
   "metadata": {
    "collapsed": true
   },
   "source": [
    "### Notes"
   ]
  },
  {
   "cell_type": "code",
   "execution_count": null,
   "metadata": {
    "collapsed": true
   },
   "outputs": [],
   "source": []
  },
  {
   "cell_type": "markdown",
   "metadata": {},
   "source": [
    "### Examples"
   ]
  },
  {
   "cell_type": "code",
   "execution_count": 4,
   "metadata": {},
   "outputs": [
    {
     "data": {
      "text/plain": [
       "{'a': [(2, 3)],\n",
       " 'c': [(1, 0)],\n",
       " 'e': [(0, 2)],\n",
       " 'g': [(2, 1)],\n",
       " 'h': [(2, 2), (4, 3), (1, 4)],\n",
       " 'i': [(1, 2)],\n",
       " 'j': [(4, 4)],\n",
       " 'l': [(4, 0), (3, 3)],\n",
       " 'm': [(0, 1)],\n",
       " 'n': [(3, 1)],\n",
       " 'o': [(0, 0), (4, 2), (3, 4)],\n",
       " 'p': [(1, 1)],\n",
       " 'r': [(3, 0), (1, 3)],\n",
       " 't': [(0, 3)],\n",
       " 'u': [(2, 0)],\n",
       " 'v': [(0, 4)],\n",
       " 'x': [(4, 1)],\n",
       " 'y': [(3, 2), (2, 4)]}"
      ]
     },
     "execution_count": 4,
     "metadata": {},
     "output_type": "execute_result"
    }
   ],
   "source": [
    "matrix1 = [['o', 'c', 'u', 'r', 'l'],\n",
    "           ['m', 'p', 'g', 'n', 'x'],\n",
    "           ['e', 'i', 'h', 'y', 'o'],\n",
    "           ['t', 'r', 'a', 'l', 'h'],\n",
    "           ['v', 'h', 'y', 'o', 'j']]\n",
    "\n",
    "def letter_positions(matrix):\n",
    "    positions = {}\n",
    "    for (y, row) in enumerate(matrix):\n",
    "        for (x, letter) in enumerate(row):\n",
    "             positions.setdefault(letter, []).append((x, y))\n",
    "    return positions\n",
    "    \n",
    "letter_positions(matrix1)"
   ]
  },
  {
   "cell_type": "code",
   "execution_count": 5,
   "metadata": {
    "collapsed": true
   },
   "outputs": [],
   "source": [
    "def search(x, y):\n",
    "    \n",
    "    if grid[x][y] == 2:\n",
    "        print ('found at %d,%d' % (x, y))\n",
    "        return True\n",
    "    elif grid[x][y] == 1:\n",
    "        print ('wall at %d,%d' % (x, y))\n",
    "        return False\n",
    "    elif grid[x][y] == 3:\n",
    "        print ('visited at %d,%d' % (x, y))\n",
    "        return False\n",
    "     \n",
    "    print ('visiting %d,%d' % (x, y))\n",
    "\n",
    "    grid[x][y] = 3\n",
    "\n",
    "    if ((x < len(grid)-1 and search(x+1, y))\n",
    "\n",
    "        or (y > 0 and search(x, y-1))\n",
    "\n",
    "        or (x > 0 and search(x-1, y))\n",
    "\n",
    "        or (y < len(grid)-1 and search(x, y+1))):\n",
    "\n",
    "        return True\n",
    "\n",
    "    return False"
   ]
  },
  {
   "cell_type": "code",
   "execution_count": 6,
   "metadata": {
    "collapsed": true
   },
   "outputs": [],
   "source": [
    "grid = [[0, 0, 0, 0, 0, 1],\n",
    "        [1, 1, 0, 0, 0, 1],\n",
    "        [0, 0, 0, 1, 0, 0],\n",
    "        [0, 1, 1, 0, 0, 1],\n",
    "        [0, 1, 0, 0, 1, 0],\n",
    "        [0, 1, 0, 0, 0, 2]]"
   ]
  },
  {
   "cell_type": "code",
   "execution_count": 7,
   "metadata": {},
   "outputs": [
    {
     "name": "stdout",
     "output_type": "stream",
     "text": [
      "visiting 0,0\n",
      "wall at 1,0\n",
      "visiting 0,1\n",
      "wall at 1,1\n",
      "visited at 0,0\n",
      "visiting 0,2\n",
      "visiting 1,2\n",
      "visiting 2,2\n",
      "wall at 3,2\n",
      "visiting 2,1\n",
      "wall at 3,1\n",
      "visiting 2,0\n",
      "visiting 3,0\n",
      "visiting 4,0\n",
      "visiting 5,0\n",
      "visited at 4,0\n",
      "wall at 5,1\n",
      "visited at 3,0\n",
      "wall at 4,1\n",
      "visited at 2,0\n",
      "wall at 3,1\n",
      "wall at 1,0\n",
      "visited at 2,1\n",
      "wall at 1,1\n",
      "visited at 2,2\n",
      "visited at 1,2\n",
      "wall at 2,3\n",
      "wall at 1,1\n",
      "visited at 0,2\n",
      "visiting 1,3\n",
      "wall at 2,3\n",
      "visited at 1,2\n",
      "visiting 0,3\n",
      "visited at 1,3\n",
      "visited at 0,2\n",
      "visiting 0,4\n",
      "visiting 1,4\n",
      "visiting 2,4\n",
      "visiting 3,4\n",
      "wall at 4,4\n",
      "visiting 3,3\n",
      "visiting 4,3\n",
      "visiting 5,3\n",
      "visiting 5,2\n",
      "wall at 5,1\n",
      "visiting 4,2\n",
      "visited at 5,2\n",
      "wall at 4,1\n",
      "wall at 3,2\n",
      "visited at 4,3\n",
      "visited at 5,3\n",
      "visited at 4,3\n",
      "visiting 5,4\n",
      "visited at 5,3\n",
      "wall at 4,4\n",
      "found at 5,5\n"
     ]
    },
    {
     "data": {
      "text/plain": [
       "True"
      ]
     },
     "execution_count": 7,
     "metadata": {},
     "output_type": "execute_result"
    }
   ],
   "source": [
    "search(0,0)"
   ]
  },
  {
   "cell_type": "code",
   "execution_count": 8,
   "metadata": {},
   "outputs": [
    {
     "data": {
      "image/png": "[encoded data removed]",
      "text/plain": [
       "<matplotlib.figure.Figure at 0x1192527b8>"
      ]
     },
     "metadata": {},
     "output_type": "display_data"
    }
   ],
   "source": [
    "check = np.zeros((7, 7))\n",
    "check[::3, 1::2] = 1\n",
    "check[1::2, ::3] = 1\n",
    "plt.imshow(check, cmap='gray', interpolation='nearest', alpha=0.5);"
   ]
  },
  {
   "cell_type": "code",
   "execution_count": null,
   "metadata": {
    "collapsed": true
   },
   "outputs": [],
   "source": []
  },
  {
   "cell_type": "markdown",
   "metadata": {},
   "source": [
    "### Quizes"
   ]
  },
  {
   "cell_type": "code",
   "execution_count": 9,
   "metadata": {
    "collapsed": true
   },
   "outputs": [],
   "source": [
    "# Quiz: Compute Cost\n",
    "# 7"
   ]
  },
  {
   "cell_type": "code",
   "execution_count": 10,
   "metadata": {
    "collapsed": true
   },
   "outputs": [],
   "source": [
    "# Quiz: Compute Cost 2\n",
    "# 6"
   ]
  },
  {
   "cell_type": "code",
   "execution_count": 11,
   "metadata": {
    "collapsed": true
   },
   "outputs": [],
   "source": [
    "# Quiz: Optimal Path\n",
    "# 15"
   ]
  },
  {
   "cell_type": "code",
   "execution_count": 12,
   "metadata": {
    "collapsed": true
   },
   "outputs": [],
   "source": [
    "# Quiz: Optimal Path 2\n",
    "# 16"
   ]
  },
  {
   "cell_type": "code",
   "execution_count": 13,
   "metadata": {
    "collapsed": true
   },
   "outputs": [],
   "source": [
    "# Quiz: Maze\n",
    "# 7"
   ]
  },
  {
   "cell_type": "code",
   "execution_count": 14,
   "metadata": {
    "collapsed": true
   },
   "outputs": [],
   "source": [
    "# Quiz: Maze 2\n",
    "# 11"
   ]
  },
  {
   "cell_type": "code",
   "execution_count": 15,
   "metadata": {
    "collapsed": true
   },
   "outputs": [],
   "source": [
    "# Quiz: First Search Program\n",
    "# ----------\n",
    "# User Instructions:\n",
    "# \n",
    "# Define a function, search() that returns a list\n",
    "# in the form of [optimal path length, row, col]. For\n",
    "# the grid shown below, your function should output\n",
    "# [11, 4, 5].\n",
    "#\n",
    "# If there is no valid path from the start point\n",
    "# to the goal, your function should return the string\n",
    "# 'fail'\n",
    "# ----------\n",
    "\n",
    "# Grid format:\n",
    "#   0 = Navigable space\n",
    "#   1 = Occupied space\n",
    "\n",
    "grid1 = [[0, 0, 1, 0, 0, 0],\n",
    "         [0, 0, 1, 0, 0, 0],\n",
    "         [0, 0, 0, 0, 1, 0],\n",
    "         [0, 0, 1, 1, 1, 0],\n",
    "         [0, 0, 0, 0, 1, 0]]\n",
    "init1 = [0, 0]\n",
    "goal1 = [len(grid1)-1, len(grid1[0])-1]\n",
    "cost1 = 1\n",
    "\n",
    "delta = [[-1, 0], # go up\n",
    "         [ 0,-1], # go left\n",
    "         [ 1, 0], # go down\n",
    "         [ 0, 1]] # go right\n",
    "\n",
    "delta_name = ['^', '<', 'v', '>']\n",
    "\n",
    "\n",
    "def search(grid,init,goal,cost):\n",
    "    # ----------------------------------------\n",
    "    # insert code here\n",
    "    # ----------------------------------------\n",
    "    path = 'fail'\n",
    "    way = [0, init[0], init[1]]\n",
    "    ways = []\n",
    "    \n",
    "    while True:        \n",
    "        if way[1] == goal[0] and way[2] == goal[1]:\n",
    "            path = way\n",
    "            break\n",
    "            \n",
    "        for direction in delta:\n",
    "            new_way = [way[0] + cost, way[1] + direction[0], way[2] + direction[1]]\n",
    "            \n",
    "            if (new_way[1] > -1) & (new_way[1] < len(grid)) & (new_way[2] > -1) & (new_way[2] < len(grid[0])):\n",
    "                if (grid[new_way[1]][new_way[2]] == 0):\n",
    "                    ways.append(new_way)\n",
    "                \n",
    "        grid[way[1]][way[2]] = 3\n",
    "        \n",
    "        if len(ways) == 0:\n",
    "            break\n",
    "            \n",
    "        ways.sort()\n",
    "\n",
    "        way = ways[0]\n",
    "#        print (way)\n",
    "        ways.pop(0)\n",
    "        \n",
    "    return path"
   ]
  },
  {
   "cell_type": "code",
   "execution_count": 16,
   "metadata": {},
   "outputs": [
    {
     "data": {
      "text/plain": [
       "[11, 4, 5]"
      ]
     },
     "execution_count": 16,
     "metadata": {},
     "output_type": "execute_result"
    }
   ],
   "source": [
    "search(grid1,init1,goal1,cost1)"
   ]
  },
  {
   "cell_type": "code",
   "execution_count": 17,
   "metadata": {
    "collapsed": true
   },
   "outputs": [],
   "source": [
    "def search2(grid,init,goal,cost):\n",
    "    # ----------------------------------------\n",
    "    # insert code here\n",
    "    # ----------------------------------------\n",
    "    path = 'fail'\n",
    "    way = [0, init[0], init[1], 'start']\n",
    "    ways = []\n",
    "    directions = []\n",
    "    \n",
    "    while True:        \n",
    "        if way[1] == goal[0] and way[2] == goal[1]:\n",
    "            path = way[:3]\n",
    "            break\n",
    "            \n",
    "        for i in range(len(delta)):\n",
    "            new_way = [way[0] + cost, way[1] + delta[i][0], way[2] + delta[i][1], delta_name[i]]\n",
    "            \n",
    "            if (new_way[1] > -1) & (new_way[1] < len(grid)) & (new_way[2] > -1) & (new_way[2] < len(grid[0])):\n",
    "                if (grid[new_way[1]][new_way[2]] == 0):\n",
    "                    ways.append(new_way)\n",
    "                    \n",
    "                \n",
    "        grid[way[1]][way[2]] = 3\n",
    "        \n",
    "        if len(ways) == 0:\n",
    "            break\n",
    "            \n",
    "        ways.sort()\n",
    "\n",
    "        way = ways[0]\n",
    "        \n",
    "        directions.append([ways[0][0],ways[0][3]])\n",
    "#        print (way)\n",
    "        ways.pop(0)\n",
    "\n",
    "    return path, directions"
   ]
  },
  {
   "cell_type": "code",
   "execution_count": 18,
   "metadata": {
    "collapsed": true
   },
   "outputs": [],
   "source": [
    "grid1 = [[0, 0, 1, 0, 0, 0],\n",
    "         [0, 0, 1, 0, 0, 0],\n",
    "         [0, 0, 0, 0, 1, 0],\n",
    "         [0, 0, 1, 1, 1, 0],\n",
    "         [0, 0, 0, 0, 1, 0]]\n",
    "init1 = [0, 0]\n",
    "goal1 = [len(grid1)-1, len(grid1[0])-1]\n",
    "cost1 = 1\n",
    "directions = search2(grid1,init1,goal1,cost1)[1]"
   ]
  },
  {
   "cell_type": "code",
   "execution_count": 19,
   "metadata": {},
   "outputs": [
    {
     "name": "stdout",
     "output_type": "stream",
     "text": [
      "[[1, '>'], [1, 'v'], [2, '>'], [2, 'v'], [2, 'v'], [3, '>'], [3, 'v'], [3, 'v'], [3, 'v'], [4, '>'], [4, '>'], [4, '>'], [4, '>'], [4, 'v'], [4, 'v'], [4, 'v'], [4, 'v'], [5, '>'], [5, '>'], [5, '>'], [5, '>'], [5, 'v'], [5, 'v'], [5, 'v'], [5, 'v'], [6, '^'], [6, '^'], [6, '^'], [6, '>'], [6, '>'], [6, '>'], [6, '>'], [6, '>'], [7, '^'], [7, '^'], [7, '^'], [7, '>'], [7, '>'], [7, '>'], [7, '>'], [7, '>'], [7, '>'], [7, '>'], [7, '>'], [8, '>'], [8, '>'], [8, '>'], [8, '^'], [8, '^'], [8, '^'], [8, '>'], [8, '>'], [8, '>'], [9, '>'], [9, '>'], [9, '>'], [9, '>'], [9, '>'], [9, '>'], [9, '^'], [9, '^'], [9, '^'], [9, 'v'], [9, 'v'], [9, 'v'], [10, 'v'], [10, 'v'], [10, 'v'], [11, 'v']]\n"
     ]
    }
   ],
   "source": [
    "print(directions)"
   ]
  },
  {
   "cell_type": "code",
   "execution_count": 20,
   "metadata": {},
   "outputs": [
    {
     "data": {
      "text/plain": [
       "[[1, ['>', 'v']],\n",
       " [2, ['>', 'v', 'v']],\n",
       " [3, ['>', 'v', 'v', 'v']],\n",
       " [4, ['>', '>', '>', '>', 'v', 'v', 'v', 'v']],\n",
       " [5, ['>', '>', '>', '>', 'v', 'v', 'v', 'v']],\n",
       " [6, ['^', '^', '^', '>', '>', '>', '>', '>']],\n",
       " [7, ['^', '^', '^', '>', '>', '>', '>', '>', '>', '>', '>']],\n",
       " [8, ['>', '>', '>', '^', '^', '^', '>', '>', '>']],\n",
       " [9, ['>', '>', '>', '>', '>', '>', '^', '^', '^', 'v', 'v', 'v']],\n",
       " [10, ['v', 'v', 'v']],\n",
       " [11, ['v']]]"
      ]
     },
     "execution_count": 20,
     "metadata": {},
     "output_type": "execute_result"
    }
   ],
   "source": [
    "values = set(map(lambda x:x[0], directions))\n",
    "values\n",
    "newlist = [[x, [y[1] for y in directions if y[0]==x]] for x in values]\n",
    "newlist"
   ]
  },
  {
   "cell_type": "code",
   "execution_count": 22,
   "metadata": {},
   "outputs": [],
   "source": [
    "# Quiz: Expansion Grid\n",
    "# -----------\n",
    "# User Instructions:\n",
    "# \n",
    "# Modify the function search so that it returns\n",
    "# a table of values called expand. This table\n",
    "# will keep track of which step each node was\n",
    "# expanded.\n",
    "#\n",
    "# Make sure that the initial cell in the grid \n",
    "# you return has the value 0.\n",
    "# ----------\n",
    "\n",
    "grid = [[0, 0, 1, 0, 0, 0],\n",
    "        [0, 0, 0, 0, 0, 0],\n",
    "        [0, 0, 1, 0, 1, 0],\n",
    "        [0, 0, 1, 0, 1, 0],\n",
    "        [0, 0, 1, 0, 1, 0]]\n",
    "init = [0, 0]\n",
    "goal = [len(grid)-1, len(grid[0])-1]\n",
    "cost = 1\n",
    "\n",
    "delta = [[-1, 0], # go up\n",
    "         [ 0,-1], # go left\n",
    "         [ 1, 0], # go down\n",
    "         [ 0, 1]] # go right\n",
    "\n",
    "delta_name = ['^', '<', 'v', '>']\n",
    "\n",
    "def search3(grid,init,goal,cost):\n",
    "    # ----------------------------------------\n",
    "    # modify code below\n",
    "    # ----------------------------------------\n",
    "    closed = [[0 for row in range(len(grid[0]))] for col in range(len(grid))]\n",
    "    closed[init[0]][init[1]] = 1\n",
    "\n",
    "    x = init[0]\n",
    "    y = init[1]\n",
    "    g = 0\n",
    "\n",
    "    open = [[g, x, y]]\n",
    "    \n",
    "    expand = [[-1 for i in range(len(grid[0]))] for j in range(len(grid))]\n",
    "    count = 0\n",
    "    \n",
    "    found = False  # flag that is set when search is complete\n",
    "    resign = False # flag set if we can't find expand\n",
    " \n",
    "    while not found and not resign:\n",
    "        if len(open) == 0:\n",
    "            resign = True\n",
    "        else:\n",
    "            open.sort()\n",
    "            open.reverse()\n",
    "            next = open.pop()\n",
    "            x = next[1]\n",
    "            y = next[2]\n",
    "            g = next[0]\n",
    "            \n",
    "            expand[x][y] = count\n",
    "            count += 1\n",
    "            \n",
    "            if x == goal[0] and y == goal[1]:\n",
    "                found = True\n",
    "            else:\n",
    "                for i in range(len(delta)):\n",
    "                    x2 = x + delta[i][0]\n",
    "                    y2 = y + delta[i][1]\n",
    "                    if x2 >= 0 and x2 < len(grid) and y2 >=0 and y2 < len(grid[0]):\n",
    "                        if closed[x2][y2] == 0 and grid[x2][y2] == 0:\n",
    "                            g2 = g + cost\n",
    "                            open.append([g2, x2, y2])\n",
    "                            closed[x2][y2] = 1\n",
    "    return expand"
   ]
  },
  {
   "cell_type": "code",
   "execution_count": 23,
   "metadata": {},
   "outputs": [
    {
     "data": {
      "text/plain": [
       "[[0, 1, -1, 11, 15, 18],\n",
       " [2, 3, 5, 8, 12, 16],\n",
       " [4, 6, -1, 13, -1, 19],\n",
       " [7, 9, -1, 17, -1, 21],\n",
       " [10, 14, -1, 20, -1, 22]]"
      ]
     },
     "execution_count": 23,
     "metadata": {},
     "output_type": "execute_result"
    }
   ],
   "source": [
    "search3(grid,init,goal,cost)"
   ]
  },
  {
   "cell_type": "code",
   "execution_count": 24,
   "metadata": {
    "collapsed": true
   },
   "outputs": [],
   "source": [
    "# Quiz: Print Path\n",
    "# -----------\n",
    "# User Instructions:\n",
    "#\n",
    "# Modify the the search function so that it returns\n",
    "# a shortest path as follows:\n",
    "# \n",
    "# [['>', 'v', ' ', ' ', ' ', ' '],\n",
    "#  [' ', '>', '>', '>', '>', 'v'],\n",
    "#  [' ', ' ', ' ', ' ', ' ', 'v'],\n",
    "#  [' ', ' ', ' ', ' ', ' ', 'v'],\n",
    "#  [' ', ' ', ' ', ' ', ' ', '*']]\n",
    "#\n",
    "# Where '>', '<', '^', and 'v' refer to right, left, \n",
    "# up, and down motions. Note that the 'v' should be \n",
    "# lowercase. '*' should mark the goal cell.\n",
    "#\n",
    "# You may assume that all test cases for this function\n",
    "# will have a path from init to goal.\n",
    "# ----------\n",
    "\n",
    "grid = [[0, 0, 1, 0, 0, 0],\n",
    "        [0, 0, 0, 0, 0, 0],\n",
    "        [0, 0, 1, 0, 1, 0],\n",
    "        [0, 0, 1, 0, 1, 0],\n",
    "        [0, 0, 1, 0, 1, 0]]\n",
    "init = [0, 0]\n",
    "goal = [len(grid)-1, len(grid[0])-1]\n",
    "cost = 1\n",
    "\n",
    "delta = [[-1, 0 ], # go up\n",
    "         [ 0, -1], # go left\n",
    "         [ 1, 0 ], # go down\n",
    "         [ 0, 1 ]] # go right\n",
    "\n",
    "delta_name = ['^', '<', 'v', '>']\n",
    "\n",
    "def search4(grid,init,goal,cost):\n",
    "    # ----------------------------------------\n",
    "    # modify code below\n",
    "    # ----------------------------------------\n",
    "    closed = [[0 for row in range(len(grid[0]))] for col in range(len(grid))]\n",
    "    closed[init[0]][init[1]] = 1\n",
    "\n",
    "    x = init[0]\n",
    "    y = init[1]\n",
    "    g = 0\n",
    "\n",
    "    open = [[g, x, y]]\n",
    "\n",
    "    found = False  # flag that is set when search is complete\n",
    "    resign = False # flag set if we can't find expand\n",
    "\n",
    "    result = [[-1 for i in range(len(grid[0]))] for j in range(len(grid))]\n",
    "    count = 0\n",
    "    \n",
    "    while not found and not resign:\n",
    "        if len(open) == 0:\n",
    "            resign = True\n",
    "            return 'fail'\n",
    "        else:\n",
    "            open.sort()\n",
    "            open.reverse()\n",
    "            next = open.pop()\n",
    "            x = next[1]\n",
    "            y = next[2]\n",
    "            g = next[0]\n",
    "            \n",
    "            result[x][y] = count\n",
    "            count += 1\n",
    "            \n",
    "            if x == goal[0] and y == goal[1]:\n",
    "                found = True\n",
    "            else:\n",
    "                for i in range(len(delta)):\n",
    "                    x2 = x + delta[i][0]\n",
    "                    y2 = y + delta[i][1]\n",
    "                    if x2 >= 0 and x2 < len(grid) and y2 >=0 and y2 < len(grid[0]):\n",
    "                        if closed[x2][y2] == 0 and grid[x2][y2] == 0:\n",
    "                            g2 = g + cost\n",
    "                            open.append([g2, x2, y2])\n",
    "                            closed[x2][y2] = 1\n",
    "            \n",
    "    edges = []\n",
    "    for i in range(len(result)):\n",
    "        for j in range(len(result[0])):\n",
    "            if  result[i][j] == -1:\n",
    "                continue\n",
    "            else:\n",
    "                next_elements = []\n",
    "\n",
    "                for l in range(len(delta)):\n",
    "                    i2, j2 = i + delta[l][0], j + delta[l][1]\n",
    "                    if i2 >= 0 and i2 < len(result) and j2 >=0 and j2 < len(result[0]):\n",
    "                        if result[i2][j2] > result[i][j]:\n",
    "                            next_elements.append([result[i][j], result[i2][j2], delta_name[l]])\n",
    "                                \n",
    "            if next_elements != []:\n",
    "                for el in next_elements:\n",
    "                    edges.append(el)\n",
    "                    \n",
    "    edges.sort(key=lambda x: x[0], reverse=True)\n",
    "    edges.sort(key=lambda y: y[1], reverse=True)\n",
    "    path = [edges[0]]\n",
    "    i=1\n",
    "    while i < len(edges):    \n",
    "        if edges[i][1] == path[-1][0]:\n",
    "            path.append(edges[i])\n",
    "        i+=1\n",
    "        \n",
    "    expand = [[' ' for row in range(len(grid[0]))] for col in range(len(grid))]\n",
    "    expand[goal[0]][goal[1]]='*'\n",
    "    \n",
    "    positions = []\n",
    " \n",
    "    def find(target, matrix):\n",
    "        for i, row in enumerate(matrix):\n",
    "            for j, el in enumerate(row):\n",
    "                if el == target:\n",
    "                    return [i, j]\n",
    "        return (None, None)\n",
    "\n",
    "    for element in path:\n",
    "        position = find(element[0], result)\n",
    "        expand[position[0]][position[1]]=element[2]\n",
    "       \n",
    "    return expand # make sure you return the shortest path"
   ]
  },
  {
   "cell_type": "code",
   "execution_count": 25,
   "metadata": {},
   "outputs": [
    {
     "data": {
      "text/plain": [
       "[['v', ' ', ' ', ' ', ' ', ' '],\n",
       " ['>', '>', '>', '>', '>', 'v'],\n",
       " [' ', ' ', ' ', ' ', ' ', 'v'],\n",
       " [' ', ' ', ' ', ' ', ' ', 'v'],\n",
       " [' ', ' ', ' ', ' ', ' ', '*']]"
      ]
     },
     "execution_count": 25,
     "metadata": {},
     "output_type": "execute_result"
    }
   ],
   "source": [
    "search4(grid,init,goal,cost)"
   ]
  },
  {
   "cell_type": "code",
   "execution_count": 26,
   "metadata": {
    "collapsed": true
   },
   "outputs": [],
   "source": [
    "# Quiz: Print Path\n",
    "# -----------\n",
    "# User Instructions:\n",
    "#\n",
    "# Modify the the search function so that it returns\n",
    "# a shortest path as follows:\n",
    "# \n",
    "# [['>', 'v', ' ', ' ', ' ', ' '],\n",
    "#  [' ', '>', '>', '>', '>', 'v'],\n",
    "#  [' ', ' ', ' ', ' ', ' ', 'v'],\n",
    "#  [' ', ' ', ' ', ' ', ' ', 'v'],\n",
    "#  [' ', ' ', ' ', ' ', ' ', '*']]\n",
    "#\n",
    "# Where '>', '<', '^', and 'v' refer to right, left, \n",
    "# up, and down motions. Note that the 'v' should be \n",
    "# lowercase. '*' should mark the goal cell.\n",
    "#\n",
    "# You may assume that all test cases for this function\n",
    "# will have a path from init to goal.\n",
    "# ----------\n",
    "\n",
    "grid = [[0, 0, 1, 0, 0, 0],\n",
    "        [0, 0, 0, 0, 0, 0],\n",
    "        [0, 0, 1, 0, 1, 0],\n",
    "        [0, 0, 1, 0, 1, 0],\n",
    "        [0, 0, 1, 0, 1, 0]]\n",
    "init = [0, 0]\n",
    "goal = [len(grid)-1, len(grid[0])-1]\n",
    "cost = 1\n",
    "\n",
    "delta = [[-1, 0 ], # go up\n",
    "         [ 0, -1], # go left\n",
    "         [ 1, 0 ], # go down\n",
    "         [ 0, 1 ]] # go right\n",
    "\n",
    "delta_name = ['^', '<', 'v', '>']\n",
    "\n",
    "def search5(grid,init,goal,cost):\n",
    "    # ----------------------------------------\n",
    "    # modify code below\n",
    "    # ----------------------------------------\n",
    "    closed = [[0 for row in range(len(grid[0]))] for col in range(len(grid))]\n",
    "    closed[init[0]][init[1]] = 1\n",
    "\n",
    "    x = init[0]\n",
    "    y = init[1]\n",
    "    g = 0\n",
    "\n",
    "    open = [[g, x, y]]\n",
    "\n",
    "    found = False  # flag that is set when search is complete\n",
    "    resign = False # flag set if we can't find expand\n",
    "    \n",
    "    expand = [[' ' for col in range(len(grid[0]))] for row in range(len(grid))]\n",
    "    \n",
    "    class node:\n",
    "        def __init__(self, x, y):\n",
    "            self.children = [None,None,None,None]\n",
    "            self.parent = None\n",
    "            self.y = y\n",
    "            self.x = x\n",
    "            \n",
    "        def coordinate_find(self,x,y):\n",
    "            if self.x == x and self.y == y:\n",
    "                return self\n",
    "            else:\n",
    "                for child in self.children:\n",
    "                    if child != None:\n",
    "                        if child.coordinate_find(x,y) != None:\n",
    "                            return child.coordinate_find(x,y)\n",
    "    \n",
    "    init_node = node(x,y)\n",
    "    next_node = init_node\n",
    "  \n",
    "    while not found and not resign:\n",
    "        if len(open) == 0:\n",
    "            resign = True\n",
    "            return 'fail'\n",
    "            \n",
    "        else:\n",
    "            open.sort()\n",
    "            open.reverse()\n",
    "            next = open.pop()\n",
    "            x = next[1]\n",
    "            y = next[2]\n",
    "            g = next[0]\n",
    "            \n",
    "            next_node = init_node.coordinate_find(x,y)\n",
    "            \n",
    "            if x == goal[0] and y == goal[1]:\n",
    "                found = True\n",
    "                expand[x][y] = '*'\n",
    "                while True:\n",
    "                    parent_node = next_node.parent\n",
    "                    for i in range(len(parent_node.children)):\n",
    "                        if parent_node.children[i] == next_node:\n",
    "                            expand[parent_node.x][parent_node.y] = delta_name[i]\n",
    "                    if parent_node == init_node:\n",
    "                        break\n",
    "                    next_node = parent_node\n",
    "            else:\n",
    "                for i in range(len(delta)):\n",
    "                    x2 = x + delta[i][0]\n",
    "                    y2 = y + delta[i][1]\n",
    "                    if x2 >= 0 and x2 < len(grid) and y2 >=0 and y2 < len(grid[0]):\n",
    "                        if closed[x2][y2] == 0 and grid[x2][y2] == 0:\n",
    "                            g2 = g + cost\n",
    "                            open.append([g2, x2, y2])\n",
    "                            next_node.children[i] = node(x2,y2)\n",
    "                            child_node = next_node.children[i]\n",
    "                            child_node.parent = next_node\n",
    "                            closed[x2][y2] = 1             \n",
    "       \n",
    "    return expand # make sure you return the shortest path"
   ]
  },
  {
   "cell_type": "code",
   "execution_count": 27,
   "metadata": {},
   "outputs": [
    {
     "data": {
      "text/plain": [
       "[['>', 'v', ' ', ' ', ' ', ' '],\n",
       " [' ', '>', '>', '>', '>', 'v'],\n",
       " [' ', ' ', ' ', ' ', ' ', 'v'],\n",
       " [' ', ' ', ' ', ' ', ' ', 'v'],\n",
       " [' ', ' ', ' ', ' ', ' ', '*']]"
      ]
     },
     "execution_count": 27,
     "metadata": {},
     "output_type": "execute_result"
    }
   ],
   "source": [
    "search5(grid,init,goal,cost)"
   ]
  },
  {
   "cell_type": "code",
   "execution_count": 28,
   "metadata": {
    "collapsed": true
   },
   "outputs": [],
   "source": [
    "# Quiz: Implement A*\n",
    "    \n",
    "# -----------\n",
    "# User Instructions:\n",
    "#\n",
    "# Modify the the search function so that it becomes\n",
    "# an A* search algorithm as defined in the previous\n",
    "# lectures.\n",
    "#\n",
    "# Your function should return the expanded grid\n",
    "# which shows, for each element, the count when\n",
    "# it was expanded or -1 if the element was never expanded.\n",
    "# \n",
    "# If there is no path from init to goal,\n",
    "# the function should return the string 'fail'\n",
    "# ----------\n",
    "\n",
    "grid = [[0, 1, 0, 0, 0, 0],\n",
    "        [0, 1, 0, 0, 0, 0],\n",
    "        [0, 1, 0, 0, 0, 0],\n",
    "        [0, 1, 0, 0, 0, 0],\n",
    "        [0, 0, 0, 0, 1, 0]]\n",
    "heuristic = [[9, 8, 7, 6, 5, 4],\n",
    "             [8, 7, 6, 5, 4, 3],\n",
    "             [7, 6, 5, 4, 3, 2],\n",
    "             [6, 5, 4, 3, 2, 1],\n",
    "             [5, 4, 3, 2, 1, 0]]\n",
    "\n",
    "init = [0, 0]\n",
    "goal = [len(grid)-1, len(grid[0])-1]\n",
    "cost = 1\n",
    "\n",
    "delta = [[-1, 0 ], # go up\n",
    "         [ 0, -1], # go left\n",
    "         [ 1, 0 ], # go down\n",
    "         [ 0, 1 ]] # go right\n",
    "\n",
    "delta_name = ['^', '<', 'v', '>']\n",
    "\n",
    "def search6(grid,init,goal,cost,heuristic):\n",
    "    # ----------------------------------------\n",
    "    # modify the code below\n",
    "    # ----------------------------------------\n",
    "    closed = [[0 for col in range(len(grid[0]))] for row in range(len(grid))]\n",
    "    closed[init[0]][init[1]] = 1\n",
    "\n",
    "    expand = [[-1 for col in range(len(grid[0]))] for row in range(len(grid))]\n",
    "#     action = [[-1 for col in range(len(grid[0]))] for row in range(len(grid))]\n",
    "\n",
    "    x, y = init[0], init[1]\n",
    "    g, step, count = 0, 0, 0\n",
    "\n",
    "    open = [[step, g, x, y]]\n",
    "\n",
    "    found = False  # flag that is set when search is complete\n",
    "    resign = False # flag set if we can't find expand\n",
    "    \n",
    "    while not found and not resign:\n",
    "        if len(open) == 0:\n",
    "            resign = True\n",
    "            return \"Fail\"\n",
    "        else:\n",
    "            open.sort(reverse=True)\n",
    "            next_open = open.pop()\n",
    "            \n",
    "            x, y = next_open[2], next_open[3]\n",
    "            step, g = next_open[0], next_open[1]\n",
    "\n",
    "            expand[x][y] = count\n",
    "            count += 1\n",
    "            \n",
    "            if x == goal[0] and y == goal[1]:\n",
    "                found = True\n",
    "            else:\n",
    "                for i in range(len(delta)):\n",
    "                    x2, y2 = x + delta[i][0], y + delta[i][1]\n",
    "                    \n",
    "                    if x2 >= 0 and x2 < len(grid) and y2 >=0 and y2 < len(grid[0]):\n",
    "                        if closed[x2][y2] == 0 and grid[x2][y2] == 0:\n",
    "                            g2 = g + cost\n",
    "                            step2 = g2 + heuristic[x2][y2]\n",
    "                            open.append([step2, g2, x2, y2])\n",
    "                            closed[x2][y2] = 1\n",
    "\n",
    "    return expand"
   ]
  },
  {
   "cell_type": "code",
   "execution_count": 29,
   "metadata": {},
   "outputs": [
    {
     "data": {
      "text/plain": [
       "[[0, -1, -1, -1, -1, -1],\n",
       " [1, -1, -1, -1, -1, -1],\n",
       " [2, -1, -1, -1, -1, -1],\n",
       " [3, -1, 8, 9, 10, 11],\n",
       " [4, 5, 6, 7, -1, 12]]"
      ]
     },
     "execution_count": 29,
     "metadata": {},
     "output_type": "execute_result"
    }
   ],
   "source": [
    "search6(grid,init,goal,cost,heuristic)"
   ]
  },
  {
   "cell_type": "code",
   "execution_count": 34,
   "metadata": {},
   "outputs": [
    {
     "data": {
      "text/plain": [
       "[[0, -1, -1, -1, -1, -1],\n",
       " [1, 2, 4, 6, 9, 11],\n",
       " [3, -1, 7, 10, 12, 14],\n",
       " [5, -1, -1, 13, 15, 17],\n",
       " [8, -1, -1, 16, -1, 18]]"
      ]
     },
     "execution_count": 34,
     "metadata": {},
     "output_type": "execute_result"
    }
   ],
   "source": [
    "grid2 = [[0, 1, 0, 1, 0, 0],\n",
    "         [0, 0, 0, 0, 0, 0],\n",
    "         [0, 1, 0, 0, 0, 0],\n",
    "         [0, 1, 1, 0, 0, 0],\n",
    "         [0, 1, 0, 0, 1, 0]]\n",
    "\n",
    "search6(grid2,init,goal,cost,heuristic)"
   ]
  },
  {
   "cell_type": "code",
   "execution_count": 35,
   "metadata": {},
   "outputs": [
    {
     "data": {
      "text/plain": [
       "[[0, -1, 6, -1, 12, 16],\n",
       " [1, 2, 4, 7, 10, 13],\n",
       " [3, -1, 8, 11, 14, 17],\n",
       " [5, -1, -1, 15, 18, 20],\n",
       " [9, -1, 21, 19, -1, 22]]"
      ]
     },
     "execution_count": 35,
     "metadata": {},
     "output_type": "execute_result"
    }
   ],
   "source": [
    "heuristic2 = [[0 for col in range(len(grid2[0]))] for row in range(len(grid2))]\n",
    "search6(grid2,init,goal,cost,heuristic2)"
   ]
  },
  {
   "cell_type": "code",
   "execution_count": null,
   "metadata": {
    "collapsed": true
   },
   "outputs": [],
   "source": []
  },
  {
   "cell_type": "code",
   "execution_count": null,
   "metadata": {
    "collapsed": true
   },
   "outputs": [],
   "source": []
  },
  {
   "cell_type": "code",
   "execution_count": null,
   "metadata": {
    "collapsed": true
   },
   "outputs": [],
   "source": []
  },
  {
   "cell_type": "markdown",
   "metadata": {},
   "source": [
    "##   &#x1F916; &nbsp; <span style=\"color:red\">Section 13. Problem Set 4</span>"
   ]
  },
  {
   "cell_type": "code",
   "execution_count": null,
   "metadata": {
    "collapsed": true
   },
   "outputs": [],
   "source": []
  },
  {
   "cell_type": "markdown",
   "metadata": {},
   "source": [
    "##   &#x1F916; &nbsp; <span style=\"color:red\">Section 14. Office Hours Week 4</span>"
   ]
  },
  {
   "cell_type": "code",
   "execution_count": null,
   "metadata": {
    "collapsed": true
   },
   "outputs": [],
   "source": []
  }
 ],
 "metadata": {
  "anaconda-cloud": {},
  "hide_input": false,
  "kernelspec": {
   "display_name": "Python [conda root]",
   "language": "python",
   "name": "conda-root-py"
  },
  "language_info": {
   "codemirror_mode": {
    "name": "ipython",
    "version": 3
   },
   "file_extension": ".py",
   "mimetype": "text/x-python",
   "name": "python",
   "nbconvert_exporter": "python",
   "pygments_lexer": "ipython3",
   "version": "3.5.2"
  },
  "latex_envs": {
   "bibliofile": "biblio.bib",
   "cite_by": "apalike",
   "current_citInitial": 1,
   "eqLabelWithNumbers": true,
   "eqNumInitial": 0
  }
 },
 "nbformat": 4,
 "nbformat_minor": 2
}
