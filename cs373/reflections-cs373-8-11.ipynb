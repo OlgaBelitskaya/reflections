{
 "cells": [
  {
   "cell_type": "markdown",
   "metadata": {},
   "source": [
    "# &#x1F4D1; &nbsp; <span style=\"color:red\"> Reflections. Artificial Intelligence for Robotics. Lesson 8-11</span>"
   ]
  },
  {
   "cell_type": "markdown",
   "metadata": {},
   "source": [
    "##   &#x1F916; &nbsp; <span style=\"color:red\">Links</span>"
   ]
  },
  {
   "cell_type": "markdown",
   "metadata": {},
   "source": [
    "Particle filter http://scipy-cookbook.readthedocs.io/items/ParticleFilter.html"
   ]
  },
  {
   "cell_type": "markdown",
   "metadata": {},
   "source": [
    "Particle Filtering for Face Tracking http://vision.cse.psu.edu/people/kyleB/faceTracker/index.shtml"
   ]
  },
  {
   "cell_type": "markdown",
   "metadata": {},
   "source": [
    "Particle filters with Python https://salzis.wordpress.com/2015/05/25/particle-filters-with-python/"
   ]
  },
  {
   "cell_type": "markdown",
   "metadata": {},
   "source": [
    "##   &#x1F916; &nbsp; <span style=\"color:red\">Libraries</span>"
   ]
  },
  {
   "cell_type": "code",
   "execution_count": 5,
   "metadata": {
    "collapsed": true
   },
   "outputs": [],
   "source": [
    "from math import *\n",
    "import os\n",
    "import numpy as np\n",
    "import pandas as pd\n",
    "import random\n",
    "import scipy.stats\n",
    "import scipy.optimize\n",
    "from time import time"
   ]
  },
  {
   "cell_type": "code",
   "execution_count": 6,
   "metadata": {
    "collapsed": true
   },
   "outputs": [],
   "source": [
    "from IPython.display import display, Image\n",
    "import matplotlib.pylab as plt\n",
    "import matplotlib.cm as cm\n",
    "from matplotlib import offsetbox\n",
    "%matplotlib inline"
   ]
  },
  {
   "cell_type": "markdown",
   "metadata": {},
   "source": [
    "##   &#x1F916; &nbsp; <span style=\"color:red\">Lesson 8. Particle Filters</span>"
   ]
  },
  {
   "cell_type": "markdown",
   "metadata": {},
   "source": [
    "### Notes"
   ]
  },
  {
   "cell_type": "code",
   "execution_count": null,
   "metadata": {
    "collapsed": true
   },
   "outputs": [],
   "source": []
  },
  {
   "cell_type": "markdown",
   "metadata": {},
   "source": [
    "### Quizes"
   ]
  },
  {
   "cell_type": "code",
   "execution_count": 4,
   "metadata": {
    "collapsed": true
   },
   "outputs": [],
   "source": [
    "# Quiz: State Space\n",
    "# Histogram Filters - Discrete\n",
    "# Kalman Filters - Continuous\n",
    "# Particle Filters - Continuous"
   ]
  },
  {
   "cell_type": "code",
   "execution_count": 1,
   "metadata": {
    "collapsed": true
   },
   "outputs": [],
   "source": [
    "# Quiz: Belief Modality\n",
    "# Histogram Filters - Multimodal\n",
    "# Kalman Filters - Unimodal\n",
    "# Particle Filters"
   ]
  },
  {
   "cell_type": "code",
   "execution_count": 2,
   "metadata": {
    "collapsed": true
   },
   "outputs": [],
   "source": [
    "# Quiz: Efficiency\n",
    "# Histogram Filters - Exponentional\n",
    "# Kalman Filters - Quadratic\n",
    "# Particle Filters    "
   ]
  },
  {
   "cell_type": "code",
   "execution_count": 4,
   "metadata": {
    "collapsed": true
   },
   "outputs": [],
   "source": [
    "# Quiz: Exact Or Approximate\n",
    "# Histogram Filters - Approximate\n",
    "# Kalman Filters - Approximate\n",
    "# Particle Filters"
   ]
  },
  {
   "cell_type": "code",
   "execution_count": 11,
   "metadata": {},
   "outputs": [
    {
     "name": "stdout",
     "output_type": "stream",
     "text": [
      "[39.05124837953327, 46.09772228646444, 39.05124837953327, 46.09772228646444]\n",
      "[32.01562118716424, 53.150729063673246, 47.16990566028302, 40.311288741492746]\n"
     ]
    }
   ],
   "source": [
    "# Quiz: Moving Robot\n",
    "# Make a robot called myrobot that starts at\n",
    "# coordinates 30, 50 heading north (pi/2).\n",
    "# Have your robot turn clockwise by pi/2, move\n",
    "# 15 m, and sense. Then have it turn clockwise\n",
    "# by pi/2 again, move 10 m, and sense again.\n",
    "#\n",
    "# Your program should print out the result of\n",
    "# your two sense measurements.\n",
    "#\n",
    "# Don't modify the code below. Please enter\n",
    "# your code at the bottom.\n",
    "\n",
    "landmarks  = [[20.0, 20.0], [80.0, 80.0], [20.0, 80.0], [80.0, 20.0]]\n",
    "world_size = 100.0\n",
    "\n",
    "\n",
    "class robot:\n",
    "    def __init__(self):\n",
    "        self.x = random.random() * world_size\n",
    "        self.y = random.random() * world_size\n",
    "        self.orientation = random.random() * 2.0 * pi\n",
    "        self.forward_noise = 0.0;\n",
    "        self.turn_noise    = 0.0;\n",
    "        self.sense_noise   = 0.0;\n",
    "    \n",
    "    def set(self, new_x, new_y, new_orientation):\n",
    "        if new_x < 0 or new_x >= world_size:\n",
    "            raise (ValueError, 'X coordinate out of bound')\n",
    "        if new_y < 0 or new_y >= world_size:\n",
    "            raise (ValueError, 'Y coordinate out of bound')\n",
    "        if new_orientation < 0 or new_orientation >= 2 * pi:\n",
    "            raise (ValueError, 'Orientation must be in [0..2pi]')\n",
    "        self.x = float(new_x)\n",
    "        self.y = float(new_y)\n",
    "        self.orientation = float(new_orientation)\n",
    "    \n",
    "    \n",
    "    def set_noise(self, new_f_noise, new_t_noise, new_s_noise):\n",
    "        # makes it possible to change the noise parameters\n",
    "        # this is often useful in particle filters\n",
    "        self.forward_noise = float(new_f_noise);\n",
    "        self.turn_noise    = float(new_t_noise);\n",
    "        self.sense_noise   = float(new_s_noise);\n",
    "    \n",
    "    \n",
    "    def sense(self):\n",
    "        Z = []\n",
    "        for i in range(len(landmarks)):\n",
    "            dist = sqrt((self.x - landmarks[i][0]) ** 2 + (self.y - landmarks[i][1]) ** 2)\n",
    "            dist += random.gauss(0.0, self.sense_noise)\n",
    "            Z.append(dist)\n",
    "        return Z\n",
    "    \n",
    "    \n",
    "    def move(self, turn, forward):\n",
    "        if forward < 0:\n",
    "            raise (ValueError, 'Robot cant move backwards')        \n",
    "        \n",
    "        # turn, and add randomness to the turning command\n",
    "        orientation = self.orientation + float(turn) + random.gauss(0.0, self.turn_noise)\n",
    "        orientation %= 2 * pi\n",
    "        \n",
    "        # move, and add randomness to the motion command\n",
    "        dist = float(forward) + random.gauss(0.0, self.forward_noise)\n",
    "        x = self.x + (cos(orientation) * dist)\n",
    "        y = self.y + (sin(orientation) * dist)\n",
    "        x %= world_size    # cyclic truncate\n",
    "        y %= world_size\n",
    "        \n",
    "        # set particle\n",
    "        res = robot()\n",
    "        res.set(x, y, orientation)\n",
    "        res.set_noise(self.forward_noise, self.turn_noise, self.sense_noise)\n",
    "        return res\n",
    "    \n",
    "    def Gaussian(self, mu, sigma, x):\n",
    "        \n",
    "        # calculates the probability of x for 1-dim Gaussian with mean mu and var. sigma\n",
    "        return exp(- ((mu - x) ** 2) / (sigma ** 2) / 2.0) / sqrt(2.0 * pi * (sigma ** 2))\n",
    "    \n",
    "    \n",
    "    def measurement_prob(self, measurement):\n",
    "        \n",
    "        # calculates how likely a measurement should be\n",
    "        \n",
    "        prob = 1.0;\n",
    "        for i in range(len(landmarks)):\n",
    "            dist = sqrt((self.x - landmarks[i][0]) ** 2 + (self.y - landmarks[i][1]) ** 2)\n",
    "            prob *= self.Gaussian(dist, self.sense_noise, measurement[i])\n",
    "        return prob\n",
    "    \n",
    "    \n",
    "    \n",
    "    def __repr__(self):\n",
    "        return ('[x=%.6s y=%.6s orient=%.6s]' % (str(self.x), str(self.y), str(self.orientation)))\n",
    "\n",
    "\n",
    "\n",
    "def eval(r, p):\n",
    "    sum = 0.0;\n",
    "    for i in range(len(p)): # calculate mean error\n",
    "        dx = (p[i].x - r.x + (world_size/2.0)) % world_size - (world_size/2.0)\n",
    "        dy = (p[i].y - r.y + (world_size/2.0)) % world_size - (world_size/2.0)\n",
    "        err = sqrt(dx * dx + dy * dy)\n",
    "        sum += err\n",
    "    return sum / float(len(p))\n",
    "\n",
    "\n",
    "\n",
    "####   DON'T MODIFY ANYTHING ABOVE HERE! ENTER CODE BELOW ####\n",
    "\n",
    "myrobot = robot()\n",
    "myrobot.set(30.0, 50.0, pi/2)\n",
    "myrobot = myrobot.move(-pi/2, 15.0)\n",
    "print(myrobot.sense())\n",
    "myrobot = myrobot.move(-pi/2, 10.0)\n",
    "print(myrobot.sense())"
   ]
  },
  {
   "cell_type": "code",
   "execution_count": 15,
   "metadata": {},
   "outputs": [
    {
     "name": "stdout",
     "output_type": "stream",
     "text": [
      "[39.177884832169305, 52.57796778849527, 35.506341107185165, 39.68813531044975]\n",
      "[42.23209502846281, 47.36038911846527, 52.12259622083096, 48.99218223654593]\n"
     ]
    }
   ],
   "source": [
    "\n",
    "# Now add noise to your robot as follows:\n",
    "# forward_noise = 5.0, turn_noise = 0.1,\n",
    "# sense_noise = 5.0.\n",
    "#\n",
    "# Once again, your robot starts at 30, 50,\n",
    "# heading north (pi/2), then turns clockwise\n",
    "# by pi/2, moves 15 meters, senses,\n",
    "# then turns clockwise by pi/2 again, moves\n",
    "# 10 m, then senses again.\n",
    "#\n",
    "# Your program should print out the result of\n",
    "# your two sense measurements.\n",
    "#\n",
    "# Don't modify the code below. Please enter\n",
    "# your code at the bottom.\n",
    "\n",
    "myrobot = robot()\n",
    "myrobot.set(30.0, 50.0, pi/2)\n",
    "myrobot.set_noise(5.0, 0.1, 5.0)\n",
    "\n",
    "myrobot = myrobot.move(-pi/2, 15.0)\n",
    "print(myrobot.sense())\n",
    "myrobot = myrobot.move(-pi/2, 10.0)\n",
    "print(myrobot.sense())"
   ]
  },
  {
   "cell_type": "code",
   "execution_count": null,
   "metadata": {
    "collapsed": true
   },
   "outputs": [],
   "source": [
    "# Quiz: Creating Particles"
   ]
  }
 ],
 "metadata": {
  "kernelspec": {
   "display_name": "Python [conda root]",
   "language": "python",
   "name": "conda-root-py"
  },
  "language_info": {
   "codemirror_mode": {
    "name": "ipython",
    "version": 3
   },
   "file_extension": ".py",
   "mimetype": "text/x-python",
   "name": "python",
   "nbconvert_exporter": "python",
   "pygments_lexer": "ipython3",
   "version": "3.5.2"
  },
  "latex_envs": {
   "bibliofile": "biblio.bib",
   "cite_by": "apalike",
   "current_citInitial": 1,
   "eqLabelWithNumbers": true,
   "eqNumInitial": 0
  }
 },
 "nbformat": 4,
 "nbformat_minor": 2
}
