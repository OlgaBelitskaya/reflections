{
 "cells": [
  {
   "cell_type": "markdown",
   "metadata": {},
   "source": [
    "## &#x1F4D1; &nbsp; <span style=\"color:red\"> Reflections. Introduction To Reinforcement Learning. Lessons 11-12-C</span>"
   ]
  },
  {
   "cell_type": "markdown",
   "metadata": {},
   "source": [
    "##   &#x1F916; &nbsp; <span style=\"color:red\">Links & Libraries</span>"
   ]
  },
  {
   "cell_type": "markdown",
   "metadata": {
    "collapsed": true
   },
   "source": [
    " Algorithmic Game Theory http://www.cs.cmu.edu/~sandholm/cs15-892F13/algorithmic-game-theory.pdf"
   ]
  },
  {
   "cell_type": "markdown",
   "metadata": {},
   "source": [
    "CS364A: Algorithmic Game Theory (Fall 2013) http://theory.stanford.edu/~tim/f13/f13.html"
   ]
  },
  {
   "cell_type": "markdown",
   "metadata": {
    "collapsed": true
   },
   "source": [
    "#### extremely short and useful\n",
    "Game Theory & Reinforcement Learning https://csl.anthropomatik.kit.edu/downloads/vorlesungsinhalte/KM2012-V11-GameTheoryRL.pdf"
   ]
  },
  {
   "cell_type": "markdown",
   "metadata": {
    "collapsed": true
   },
   "source": [
    "Machine Learning, Game Theory, and Mechanism Design for a Networked World\n",
    "\n",
    "https://www.cs.cmu.edu/~mblum/search/AGTML35.pdf"
   ]
  },
  {
   "cell_type": "markdown",
   "metadata": {},
   "source": [
    "Machine learning Decision theory: https://www.cs.ubc.ca/~murphyk/Teaching/CS340-Fall07/dtheory.pdf"
   ]
  },
  {
   "cell_type": "markdown",
   "metadata": {},
   "source": [
    "Prediction algorithms and zero-sum games http://www.cs.cornell.edu/courses/cs683/2007sp/lecnotes/week2.pdf"
   ]
  },
  {
   "cell_type": "markdown",
   "metadata": {},
   "source": [
    "Learning in non-zero sum games http://www.cs.cornell.edu/courses/cs683/2007sp/lecnotes/week3.pdf"
   ]
  },
  {
   "cell_type": "markdown",
   "metadata": {},
   "source": [
    "Mixed Strategies, Expected Payoffs, and Nash Equilibrium http://www.inf.ed.ac.uk/teaching/courses/agta/lec2-2017.pdf"
   ]
  },
  {
   "cell_type": "markdown",
   "metadata": {},
   "source": [
    "2-player zero-sum games, and the Minimax Theorem http://www.inf.ed.ac.uk/teaching/courses/agta/lec4_2016.pdf"
   ]
  },
  {
   "cell_type": "markdown",
   "metadata": {},
   "source": [
    "Introduction to Linear Programming http://www.inf.ed.ac.uk/teaching/courses/agta/lec5.pdf"
   ]
  },
  {
   "cell_type": "markdown",
   "metadata": {},
   "source": [
    "Linear Programming: https://www.princeton.edu/~rvdb/542/lectures/lec8.pdf"
   ]
  },
  {
   "cell_type": "markdown",
   "metadata": {},
   "source": [
    "The Simplex Algorithm http://www.inf.ed.ac.uk/teaching/courses/agta/lec6.pdf"
   ]
  },
  {
   "cell_type": "markdown",
   "metadata": {},
   "source": [
    "Regression https://www.princeton.edu/~rvdb/542/lectures/lec9.pdf"
   ]
  },
  {
   "cell_type": "markdown",
   "metadata": {},
   "source": [
    "Impartial Combinatorial Games http://www.calpoly.edu/~aamendes/GTweb/GameTheoryChapter1.pdf"
   ]
  },
  {
   "cell_type": "markdown",
   "metadata": {},
   "source": [
    "Games in Coalitional Form http://www.calpoly.edu/~aamendes/GTweb/GameTheoryChapter4.pdf"
   ]
  },
  {
   "cell_type": "markdown",
   "metadata": {},
   "source": [
    "The LP Duality Theorem http://www.inf.ed.ac.uk/teaching/courses/agta/lec7.pdf"
   ]
  },
  {
   "cell_type": "code",
   "execution_count": null,
   "metadata": {
    "collapsed": true
   },
   "outputs": [],
   "source": []
  },
  {
   "cell_type": "code",
   "execution_count": null,
   "metadata": {
    "collapsed": true
   },
   "outputs": [],
   "source": []
  },
  {
   "cell_type": "code",
   "execution_count": null,
   "metadata": {
    "collapsed": true
   },
   "outputs": [],
   "source": []
  },
  {
   "cell_type": "code",
   "execution_count": null,
   "metadata": {
    "collapsed": true
   },
   "outputs": [],
   "source": []
  },
  {
   "cell_type": "markdown",
   "metadata": {},
   "source": [
    "Gambit http://www.gambit-project.org/gambit15/pyapi.html"
   ]
  },
  {
   "cell_type": "markdown",
   "metadata": {},
   "source": [
    "Game Theory Explorer – Software for the Applied Game Theorist http://www.maths.lse.ac.uk/Personal/stengel/TEXTE/largeongte.pdf"
   ]
  },
  {
   "cell_type": "markdown",
   "metadata": {
    "collapsed": true
   },
   "source": [
    "##  &#x1F916; &nbsp;  <span style=\"color:red\"> Lesson 11A. Game Theory</span>"
   ]
  },
  {
   "cell_type": "markdown",
   "metadata": {
    "collapsed": true
   },
   "source": [
    "Modeling Decision Behavior\n",
    "\n",
    "- To predict the actions of a human (e.g. the user of a system), we need to model how he decides for a certain behavior\n",
    "- Steps of decision making (according to Kepner & Tregoe, 1965):\n",
    "  - Establish objectives\n",
    "  - Priorize objectives\n",
    "  - Establish available actions\n",
    "  - Evaluate actions against objectives\n",
    "  - Make a tentative decision for an action\n",
    "  - Evaluate side-effects of chosen action\n",
    "- Many alternatives to design the evaluation and priorization steps of decision making\n",
    "\n",
    "In general: a decision procedure δ(x) or policy π(x) is a mapping from X to A, which specifies which action a to perform for every possible observed feature vector x."
   ]
  },
  {
   "cell_type": "markdown",
   "metadata": {},
   "source": [
    "In Economics - Utility Functions\n",
    "\n",
    "- Von Neumann, Morgenstern (1944): Utility theory\n",
    "  - B = set of baskets for consumption\n",
    "  - u: B -> R maps each basket to a real rating\n",
    "  - u(X) > u(Y) iff the agent prefers X over Y (X » Y)\n",
    "  - Not for every set of preferences, a utility function exists\n",
    "- The Von-Neumann-Morgenstern utility theorem states that for every agent that is rational, a utility function exists:\n",
    "  - Completeness: For every pair X, Y, we have: X » Y or Y » X or X = Y\n",
    "  - Transitivity: If X » Y and Y » Z then : X » Z\n",
    "  - Continuity: If X » Y » Z then there is a probability p that pX + (1-p)Z = Y\n",
    "  - Independence: If X » Y, for any Z and probability p: pX + (1-p)Z » pY + (1-p)Z\n",
    "  - u allows to quantify preference in a way which allows to add utilities , e.g. to calculate expected utility in a lottery\n",
    "- Note that we still have in general u(x) + u(y) ≠ u(x and y)\n",
    "\n",
    "In Statistics - Loss Functions"
   ]
  },
  {
   "cell_type": "markdown",
   "metadata": {},
   "source": [
    "Example for „sub-optimal“ Utility Function:\n",
    "\n",
    "- If we model decision making as rational optimization of a utility function, how can we model “irrational” behavior?\n",
    "- Sankt-Petersburg paradox: How much would you pay for participation in the following (repeatable) experiment?\n",
    "  - Flip a coin until „tail“ comes up for the first time\n",
    "  - Payoff: $2^k$ €, if the coin was flipped k times\n",
    "- Expected value = ∞ -> Accepting any price to play this game seems to be the “rational” decision\n",
    "- This result is neither intuitive nor in accordance with empirical evidence on human behavior\n",
    "- Possible solution: diminishing utility, e.g. utility depends in a non-linear, capped way on the received payoff: $u(x) = 1 - e ^ {-x}$"
   ]
  },
  {
   "cell_type": "markdown",
   "metadata": {
    "collapsed": true
   },
   "source": [
    "**Game Theory** is the formal study of interaction between ‘goal-oriented’ ’agents’ (or ’players’), and the strategic scenarios that arise in such settings. \n",
    "\n",
    "  - maths of conflicts\n",
    "  - applications: economics regulation, politics strategies, species behavior,  etc.\n",
    "  - part of AI/Machine Learning\n",
    "  - multiplie agents"
   ]
  },
  {
   "cell_type": "markdown",
   "metadata": {},
   "source": [
    "- Model moments of decisions as game:   \n",
    "  - Multiple players have a set of actions Ai and a utility function Ui A1 x … x An -> R (i.e. utility depends on actions of all players)\n",
    "  - All players simultaneous decide for one action\n",
    "  - All action choices are revealed simultaneously and utility is received\n",
    "- Each player decides for a strategy which describes which action to take\n",
    "  - Pure strategy: Deterministically chose one specific action\n",
    "  - Mixed strategy: Probability distribution across all available actions\n",
    "- Prisoner’s dilemma can be directly transformed to a game\n",
    "  - A1 = A2 = { confess, don’t confess}\n",
    "  - U1 = U2 = … (see table on previous slide)\n",
    "  - This matrix is often called the normal form of a game\n",
    "- Game theory is used to model decision situations from stock market over marriage proposals to decisions of peace and war"
   ]
  },
  {
   "cell_type": "markdown",
   "metadata": {
    "collapsed": true
   },
   "source": [
    "**Two-player zero-sum discrete finite deterministic games of perfect information** (Simple Games)\n",
    "\n",
    "- Zero-sum: one player’s gain is the other player’s loss. Does not mean fair.\n",
    "- Discrete: states and decisions have discrete values\n",
    "- Finite: finite number of states and decisions\n",
    "- Deterministic: no coin flips, die rolls – no chance\n",
    "- Perfect information: each player can see the complete game state. No simultaneous decisions."
   ]
  },
  {
   "cell_type": "code",
   "execution_count": null,
   "metadata": {
    "collapsed": true
   },
   "outputs": [],
   "source": []
  },
  {
   "cell_type": "code",
   "execution_count": null,
   "metadata": {
    "collapsed": true
   },
   "outputs": [],
   "source": []
  },
  {
   "cell_type": "markdown",
   "metadata": {
    "collapsed": true
   },
   "source": [
    "##  &#x1F916; &nbsp;  <span style=\"color:red\"> Lesson 11B. Game Theory</span>"
   ]
  },
  {
   "cell_type": "code",
   "execution_count": null,
   "metadata": {
    "collapsed": true
   },
   "outputs": [],
   "source": []
  },
  {
   "cell_type": "code",
   "execution_count": null,
   "metadata": {
    "collapsed": true
   },
   "outputs": [],
   "source": []
  },
  {
   "cell_type": "code",
   "execution_count": null,
   "metadata": {
    "collapsed": true
   },
   "outputs": [],
   "source": []
  },
  {
   "cell_type": "code",
   "execution_count": null,
   "metadata": {
    "collapsed": true
   },
   "outputs": [],
   "source": []
  },
  {
   "cell_type": "code",
   "execution_count": null,
   "metadata": {
    "collapsed": true
   },
   "outputs": [],
   "source": []
  },
  {
   "cell_type": "code",
   "execution_count": null,
   "metadata": {
    "collapsed": true
   },
   "outputs": [],
   "source": []
  },
  {
   "cell_type": "markdown",
   "metadata": {},
   "source": [
    "##  &#x1F916; &nbsp;  <span style=\"color:red\"> Lesson 11C. Game Theory</span>"
   ]
  },
  {
   "cell_type": "code",
   "execution_count": null,
   "metadata": {
    "collapsed": true
   },
   "outputs": [],
   "source": []
  },
  {
   "cell_type": "code",
   "execution_count": null,
   "metadata": {
    "collapsed": true
   },
   "outputs": [],
   "source": []
  },
  {
   "cell_type": "code",
   "execution_count": null,
   "metadata": {
    "collapsed": true
   },
   "outputs": [],
   "source": []
  },
  {
   "cell_type": "code",
   "execution_count": null,
   "metadata": {
    "collapsed": true
   },
   "outputs": [],
   "source": []
  },
  {
   "cell_type": "code",
   "execution_count": null,
   "metadata": {
    "collapsed": true
   },
   "outputs": [],
   "source": []
  },
  {
   "cell_type": "markdown",
   "metadata": {},
   "source": [
    "##  &#x1F916; &nbsp;  <span style=\"color:red\"> Lesson 12. </span>"
   ]
  },
  {
   "cell_type": "code",
   "execution_count": null,
   "metadata": {
    "collapsed": true
   },
   "outputs": [],
   "source": []
  },
  {
   "cell_type": "code",
   "execution_count": null,
   "metadata": {
    "collapsed": true
   },
   "outputs": [],
   "source": []
  },
  {
   "cell_type": "code",
   "execution_count": null,
   "metadata": {
    "collapsed": true
   },
   "outputs": [],
   "source": []
  },
  {
   "cell_type": "code",
   "execution_count": null,
   "metadata": {
    "collapsed": true
   },
   "outputs": [],
   "source": []
  },
  {
   "cell_type": "code",
   "execution_count": null,
   "metadata": {
    "collapsed": true
   },
   "outputs": [],
   "source": []
  },
  {
   "cell_type": "code",
   "execution_count": null,
   "metadata": {
    "collapsed": true
   },
   "outputs": [],
   "source": []
  }
 ],
 "metadata": {
  "anaconda-cloud": {},
  "hide_input": false,
  "kernelspec": {
   "display_name": "Python 2",
   "language": "python",
   "name": "python2"
  },
  "language_info": {
   "codemirror_mode": {
    "name": "ipython",
    "version": 2
   },
   "file_extension": ".py",
   "mimetype": "text/x-python",
   "name": "python",
   "nbconvert_exporter": "python",
   "pygments_lexer": "ipython2",
   "version": "2.7.13"
  },
  "latex_envs": {
   "bibliofile": "biblio.bib",
   "cite_by": "apalike",
   "current_citInitial": 1,
   "eqLabelWithNumbers": true,
   "eqNumInitial": 0
  }
 },
 "nbformat": 4,
 "nbformat_minor": 2
}
