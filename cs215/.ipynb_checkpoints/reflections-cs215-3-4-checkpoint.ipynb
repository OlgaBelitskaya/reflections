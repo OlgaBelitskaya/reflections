{
 "cells": [
  {
   "cell_type": "markdown",
   "metadata": {},
   "source": [
    "# &#x1F4D1; &nbsp; <span style=\"color:#338DD4\"> Reflections. Intro to Algorithms. Lessons 3-4</span>"
   ]
  },
  {
   "cell_type": "markdown",
   "metadata": {},
   "source": [
    "###  &#x1F578; &nbsp; Links"
   ]
  },
  {
   "cell_type": "markdown",
   "metadata": {
    "collapsed": true
   },
   "source": [
    "DFS, BFS: https://visualgo.net/dfsbfs"
   ]
  },
  {
   "cell_type": "code",
   "execution_count": null,
   "metadata": {
    "collapsed": true
   },
   "outputs": [],
   "source": []
  },
  {
   "cell_type": "markdown",
   "metadata": {},
   "source": [
    "###  &#x1F578; &nbsp;  Lesson 3. Basic Graph Algorithms"
   ]
  },
  {
   "cell_type": "markdown",
   "metadata": {
    "collapsed": true
   },
   "source": [
    "<span style=\"color:#338DD4\">Clustering coefficient</span>\n",
    "\n",
    "In undirected networks, the clustering coefficient Cn of a node n is defined as Cn = 2en/(kn(kn-1)), where kn is the number of neighbors of n and en is the number of connected pairs between all neighbors of n. In directed networks, the definition is slightly different: Cn = en/(kn(kn-1)).\n",
    "\n",
    "In both cases, the clustering coefficient is a ratio N / M, where N is the number of edges between the neighbors of n, and M is the maximum number of edges that could possibly exist between the neighbors of n. The clustering coefficient of a node is always a number between 0 and 1.\n",
    "\n",
    "The network clustering coefficient is the average of the clustering coefficients for all nodes in the network. Here, nodes with less than two neighbors are assumed to have a clustering coefficient of 0."
   ]
  },
  {
   "cell_type": "code",
   "execution_count": 3,
   "metadata": {
    "collapsed": false
   },
   "outputs": [
    {
     "name": "stdout",
     "output_type": "stream",
     "text": [
      "{0: 0.0, 1: 0.0, 2: 1.0, 3: 0.0, 4: 0.16666666666666666, 5: 0.16666666666666666, 6: 0.0, 7: 0.0, 8: 0.0, 9: 0.0}\n"
     ]
    }
   ],
   "source": [
    "import networkx as nx\n",
    "graph = [(0, 1), (1, 5), (1, 7), (4, 5), (4, 8), (1, 6), (3, 7), (5, 9), (2, 4), (0, 4), (2, 5), (3, 6), (8, 9)]\n",
    "G1=nx.Graph()\n",
    "G1.add_edges_from(graph)\n",
    "print(nx.clustering(G1))"
   ]
  },
  {
   "cell_type": "code",
   "execution_count": 5,
   "metadata": {
    "collapsed": false
   },
   "outputs": [
    {
     "name": "stdout",
     "output_type": "stream",
     "text": [
      "{0: {1: 2, 2: 2, 3: 1, 4: 2, 5: 2, 6: 1, 7: 1, 8: 2, 9: 2}, 1: {0: 2, 2: 2, 3: 2, 4: 2, 5: 2, 6: 2, 7: 2, 8: 2, 9: 2}, 2: {0: 2, 1: 2, 3: 1, 4: 2, 5: 2, 6: 1, 7: 1, 8: 2, 9: 2}, 3: {0: 1, 1: 2, 2: 1, 4: 1, 5: 1, 6: 2, 7: 2, 8: 1, 9: 1}, 4: {0: 2, 1: 2, 2: 2, 3: 1, 5: 4, 6: 1, 7: 1, 8: 2, 9: 2}, 5: {0: 2, 1: 2, 2: 2, 3: 1, 4: 4, 6: 1, 7: 1, 8: 2, 9: 2}, 6: {0: 1, 1: 2, 2: 1, 3: 2, 4: 1, 5: 1, 7: 2, 8: 1, 9: 1}, 7: {0: 1, 1: 2, 2: 1, 3: 2, 4: 1, 5: 1, 6: 2, 8: 1, 9: 1}, 8: {0: 2, 1: 2, 2: 2, 3: 1, 4: 2, 5: 2, 6: 1, 7: 1, 9: 2}, 9: {0: 2, 1: 2, 2: 2, 3: 1, 4: 2, 5: 2, 6: 1, 7: 1, 8: 2}}\n"
     ]
    }
   ],
   "source": [
    "print(nx.all_pairs_node_connectivity(G1))"
   ]
  },
  {
   "cell_type": "code",
   "execution_count": 7,
   "metadata": {
    "collapsed": false
   },
   "outputs": [
    {
     "name": "stdout",
     "output_type": "stream",
     "text": [
      "1\n",
      "0.13333333333333336\n"
     ]
    }
   ],
   "source": [
    "print(nx.node_connectivity(G1))\n",
    "print(nx.average_clustering(G1))"
   ]
  },
  {
   "cell_type": "code",
   "execution_count": 4,
   "metadata": {
    "collapsed": false
   },
   "outputs": [
    {
     "name": "stdout",
     "output_type": "stream",
     "text": [
      "0.3333333333333333\n",
      "0.2222222222222222\n"
     ]
    }
   ],
   "source": [
    "def make_link(G, node1, node2):\n",
    "    if node1 not in G:\n",
    "        G[node1] = {}\n",
    "    (G[node1])[node2] = 1\n",
    "    if node2 not in G:\n",
    "        G[node2] = {}\n",
    "    (G[node2])[node1] = 1\n",
    "    return G\n",
    "\n",
    "flights = [(\"ORD\", \"SEA\"), (\"ORD\", \"LAX\"), ('ORD', 'DFW'), ('ORD', 'PIT'),\n",
    "           ('SEA', 'LAX'), ('LAX', 'DFW'), ('ATL', 'PIT'), ('ATL', 'RDU'),\n",
    "           ('RDU', 'PHL'), ('PIT', 'PHL'), ('PHL', 'PVD')]\n",
    "\n",
    "G = {}\n",
    "for (x,y) in flights: make_link(G,x,y)\n",
    "\n",
    "def clustering_coefficient(G,v):\n",
    "    neighbors = G[v].keys()\n",
    "    if len(neighbors) == 1: return -1.0\n",
    "    links = 0\n",
    "    for w in neighbors:\n",
    "        for u in neighbors:\n",
    "            if u in G[w]: links += 0.5\n",
    "    return 2.0*links/(len(neighbors)*(len(neighbors)-1))\n",
    "\n",
    "print (clustering_coefficient(G,\"ORD\"))\n",
    "\n",
    "total = 0\n",
    "for v in G.keys():\n",
    "    total += clustering_coefficient(G,v)\n",
    "\n",
    "print (total/len(G))"
   ]
  },
  {
   "cell_type": "code",
   "execution_count": 12,
   "metadata": {
    "collapsed": false
   },
   "outputs": [
    {
     "name": "stdout",
     "output_type": "stream",
     "text": [
      "[[(0, 1), (0, 2), (0, 3), (2, 1), (3, 4), (3, 5), (4, 3), (4, 5), (5, 3), (5, 4), (5, 7)], [(6, 8), (8, 9)]]\n"
     ]
    }
   ],
   "source": [
    "# http://stackoverflow.com/questions/10301000/python-connected-components\n",
    "def connected_components(neighbors):\n",
    "    seen = set()\n",
    "    def component(node):\n",
    "        nodes = set([node])\n",
    "        while nodes:\n",
    "            node = nodes.pop()\n",
    "            seen.add(node)\n",
    "            nodes |= neighbors[node] - seen\n",
    "            yield node\n",
    "    for node in neighbors:\n",
    "        if node not in seen:\n",
    "            yield component(node)\n",
    "old_graph = {\n",
    "    0: [(0, 1), (0, 2), (0, 3)],\n",
    "    1: [],\n",
    "    2: [(2, 1)],\n",
    "    3: [(3, 4), (3, 5)],\n",
    "    4: [(4, 3), (4, 5)],\n",
    "    5: [(5, 3), (5, 4), (5, 7)],\n",
    "    6: [(6, 8)],\n",
    "    7: [],\n",
    "    8: [(8, 9)],\n",
    "    9: []}\n",
    "\n",
    "new_graph = {node: set(each for edge in edges for each in edge)\n",
    "             for node, edges in old_graph.items()}\n",
    "components = []\n",
    "for component in connected_components(new_graph):\n",
    "    c = set(component)\n",
    "    components.append([edge for edges in old_graph.values()\n",
    "                            for edge in edges\n",
    "                            if c.intersection(edge)])\n",
    "print (components)"
   ]
  },
  {
   "cell_type": "code",
   "execution_count": 14,
   "metadata": {
    "collapsed": false
   },
   "outputs": [
    {
     "name": "stdout",
     "output_type": "stream",
     "text": [
      "1\n",
      "{'c': True, 'a': True, 'g': True, 'd': True}\n",
      "1\n",
      "{'c': True, 'a': True, 'g': True, 'd': True}\n",
      "None\n"
     ]
    }
   ],
   "source": [
    "##################################################################\n",
    "# Traversal...\n",
    "# Call this routine on nodes being visited for the first time\n",
    "def mark_component(G, node, marked):\n",
    "    marked[node] = True\n",
    "    total_marked = 1\n",
    "    for neighbor in G[node]:\n",
    "        if neighbor not in marked:\n",
    "            total_marked += mark_component(G, neighbor, marked)\n",
    "    return total_marked\n",
    "\n",
    "    \n",
    "def check_connection(G, v1, v2):\n",
    "    marked = {}\n",
    "    mark_component(G, v1, marked)\n",
    "    print (mark_component(G, v1, marked))\n",
    "    print (marked)\n",
    "    if v2 not in marked:\n",
    "        return False\n",
    "    # Return True if v1 is connected to v2 in G\n",
    "    # or False if otherwise\n",
    "    return True\n",
    "    \n",
    "def make_link(G, node1, node2):\n",
    "    if node1 not in G:\n",
    "        G[node1] = {}\n",
    "    (G[node1])[node2] = 1\n",
    "    if node2 not in G:\n",
    "        G[node2] = {}\n",
    "    (G[node2])[node1] = 1\n",
    "    return G\n",
    "\n",
    "def test():\n",
    "    edges = [('a', 'g'), ('a', 'd'), ('g', 'c'), ('g', 'd'), \n",
    "             ('b', 'f'), ('f', 'e'), ('e', 'h')]\n",
    "    G = {}\n",
    "    for v1, v2 in edges:\n",
    "        make_link(G, v1, v2)\n",
    "    assert check_connection(G, \"a\", \"c\") == True\n",
    "    assert check_connection(G, 'a', 'b') == False\n",
    "    \n",
    "print (test())"
   ]
  },
  {
   "cell_type": "markdown",
   "metadata": {},
   "source": [
    "In graph theory, the shortest path problem is the problem of finding a path between two vertices (or nodes) in a graph such that the sum of the weights of its constituent edges is minimized.\n",
    "\n",
    "The problem of finding the shortest path between two intersections on a road map (the graph's vertices correspond to intersections and the edges correspond to road segments, each weighted by the length of its road segment) may be modeled by a special case of the shortest path problem in graphs.\n",
    "\n",
    "An algorithm for finding a graph geodesic, i.e., the shortest path between two graph vertices in a graph. It functions by constructing a shortest-path tree from the initial vertex to every other vertex in the graph. The algorithm is implemented as Dijkstra[g] in the Wolfram Language package Combinatorica` .\n",
    "\n",
    "The worst-case running time for the Dijkstra algorithm on a graph with n nodes and m edges is O(n^2) because it allows for directed cycles. It even finds the shortest paths from a source node s to all other nodes in the graph. This is basically  O(n^2) for node selection and O(m) for distance updates. While O(n^2) is the best possible complexity for dense graphs, the complexity can be improved significantly for sparse graphs.\n",
    "\n",
    "With slight modifications, Dijkstra's algorithm can be used as a reverse algorithm that maintains minimum spanning trees for the sink node. With further modifications, it can be extended to become bidirectional.\n",
    "\n",
    "The bottleneck in Dijkstra's algorithm is node selection. However, using Dial's implementation, this can be significantly improved for sparse graphs.\n",
    "\n",
    "\n",
    "A bridge of a connected graph is a graph edge whose removal disconnects the graph (Chartrand 1985, p. 45; Skiena 1990, p. 177). More generally, a bridge is an edge of a graph G whose removal increases the number of components of G (Harary 1994, p. 26). An edge of a connected graph is a bridge iff it does not lie on any cycle.\n",
    "\n",
    "A bridge is also known as an isthmus, cut-edge, or cut arc.\n",
    "\n",
    "A graph containing one or more bridges is said to be a bridged graph, while a graph containing no bridges is called a bridgeless graph.\n",
    "\n",
    "The bridges of a graph can be found using Bridges[g] in the Wolfram Language package Combinatorica` . Precomputed bridges for many named graphs can be obtained using GraphData[graph, \"Bridges\"].\n",
    "\n",
    "Every edge of a tree is a bridge.\n",
    "\n",
    "A connected cubic graph contains a bridge iff it contains an articulation vertex (Skiena 1990, p. 177), i.e., if it is not a biconnected graph."
   ]
  },
  {
   "cell_type": "code",
   "execution_count": 15,
   "metadata": {
    "collapsed": false
   },
   "outputs": [
    {
     "data": {
      "text/plain": [
       "[1, 5, 9]"
      ]
     },
     "execution_count": 15,
     "metadata": {},
     "output_type": "execute_result"
    }
   ],
   "source": [
    "nx.shortest_path(G1, 1, 9)"
   ]
  },
  {
   "cell_type": "code",
   "execution_count": 23,
   "metadata": {
    "collapsed": false
   },
   "outputs": [
    {
     "data": {
      "text/plain": [
       "[(9, 8), (8, 4), (4, 0), (0, 1), (1, 5), (5, 2), (1, 6), (6, 3), (3, 7)]"
      ]
     },
     "execution_count": 23,
     "metadata": {},
     "output_type": "execute_result"
    }
   ],
   "source": [
    "list(nx.dfs_edges(G1, 9))"
   ]
  },
  {
   "cell_type": "code",
   "execution_count": 24,
   "metadata": {
    "collapsed": false
   },
   "outputs": [
    {
     "data": {
      "text/plain": [
       "[(9, 8), (9, 5), (8, 4), (5, 1), (5, 2), (4, 0), (1, 6), (1, 7), (6, 3)]"
      ]
     },
     "execution_count": 24,
     "metadata": {},
     "output_type": "execute_result"
    }
   ],
   "source": [
    "list(nx.bfs_edges(G1,9))"
   ]
  },
  {
   "cell_type": "code",
   "execution_count": 27,
   "metadata": {
    "collapsed": false
   },
   "outputs": [
    {
     "name": "stdout",
     "output_type": "stream",
     "text": [
      "{0: 0.2222222222222222, 1: 0.4444444444444444, 2: 0.2222222222222222, 3: 0.2222222222222222, 4: 0.4444444444444444, 5: 0.4444444444444444, 6: 0.2222222222222222, 7: 0.2222222222222222, 8: 0.2222222222222222, 9: 0.2222222222222222}\n"
     ]
    }
   ],
   "source": [
    "print(nx.degree_centrality(G1))"
   ]
  },
  {
   "cell_type": "code",
   "execution_count": 31,
   "metadata": {
    "collapsed": false
   },
   "outputs": [
    {
     "name": "stdout",
     "output_type": "stream",
     "text": [
      "{0: 2.6908484946807016, 1: 2.525226443096554, 2: 1.4234945740662528, 3: 0.49758837300959513, 4: 2.6458567830821575, 5: 2.223325994565211, 6: 0.9439105189547612, 7: 0.9439105189547612, 8: 1.0351181095383615, 9: 0.8317220509192724}\n"
     ]
    }
   ],
   "source": [
    "print(nx.communicability(G1)[0])"
   ]
  },
  {
   "cell_type": "code",
   "execution_count": 54,
   "metadata": {
    "collapsed": false
   },
   "outputs": [
    {
     "name": "stdout",
     "output_type": "stream",
     "text": [
      "{0: 0.07731247277044273, 1: 0.1488471249911273, 2: 0.07613693987781689, 3: 0.08553476756623052, 4: 0.14438533920765131, 5: 0.1433180126167715, 6: 0.0829831519369428, 7: 0.0829831519369428, 8: 0.07932940821878037, 9: 0.07916963087729367}\n"
     ]
    }
   ],
   "source": [
    "print(nx.pagerank(G1))"
   ]
  },
  {
   "cell_type": "markdown",
   "metadata": {},
   "source": [
    "###  &#x1F578; &nbsp;  Problem Set 3"
   ]
  },
  {
   "cell_type": "code",
   "execution_count": null,
   "metadata": {
    "collapsed": true
   },
   "outputs": [],
   "source": [
    "#1\n",
    "\n",
    "c\t5\t0\t0\n",
    "b\t7\t2\t0.09523809524\n",
    "f\t5\t2\t0.2\n",
    "e\t7\t7\t0.3333333333\n",
    "a\t5\t5\t0.5\n",
    "d\t4\t6\t1\n",
    "\tkv\tnv\tccv"
   ]
  },
  {
   "cell_type": "markdown",
   "metadata": {},
   "source": [
    "#2\n",
    "\n",
    "A bipartite graph (or bigraph) is a graph whose vertices can be divided into two disjoint sets U  and V  (that is, U and V are each independent sets) such that every edge connects a vertex in U  to one in V. Vertex sets U and V are usually called the parts of the graph. Equivalently, a bipartite graph is a graph that does not contain any odd-length cycles.\n",
    "Every tree is bipartite.\n",
    "Cycle graphs with an even number of vertices are bipartite.\n",
    "Every planar graph whose faces all have even length is bipartite. Special cases of this are grid graphs and squaregraphs, in which every inner face consists of 4 edges and every inner vertex has four or more neighbors.\n",
    "The complete bipartite graph on m and n vertices, denoted by Kn,m is the bipartite graph G = (U, V, E), where U and V are disjoint sets of size m and n, respectively, and E connects every vertex in U with all vertices in V. It follows that Km,n has mn edges. Closely related to the complete bipartite graphs are the crown graphs, formed from complete bipartite graphs by removing the edges of a perfect matching.\n",
    "Hypercube graphs, partial cubes, and median graphs are bipartite. In these graphs, the vertices may be labeled by bitvectors, in such a way that two vertices are adjacent if and only if the corresponding bitvectors differ in a single position. A bipartition may be formed by separating the vertices whose bitvectors have an even number of ones from the vertices with an odd number of ones. Trees and squaregraphs form examples of median graphs, and every median graph is a partial cube.\n",
    "\n",
    "################################################################\n",
    "\n",
    "Consider a bipartite graph, that has 5 nodes in one group and 3 in the other:\n",
    "\n",
    "- what is the smallest number of edges to make the graph have a single reachable component consisting of all the nodes?\n",
    "\n",
    "7"
   ]
  },
  {
   "cell_type": "code",
   "execution_count": null,
   "metadata": {
    "collapsed": true
   },
   "outputs": [],
   "source": [
    "#3\n",
    "- what is the maximum number of edges the graph can have?\n",
    "\n",
    "5*3 = 15\n",
    "\n",
    "#4\n",
    "\n",
    "- what is the maximum possible path length in the graph?\n",
    "\n",
    "6\n",
    "\n",
    "#5\n",
    "\n",
    "- what is the maximum possible clustering coefficient for a node in the graph (nodes degree >=2)?\n",
    "\n",
    "2*0/Kv = 0"
   ]
  },
  {
   "cell_type": "code",
   "execution_count": 33,
   "metadata": {
    "collapsed": false
   },
   "outputs": [
    {
     "name": "stdout",
     "output_type": "stream",
     "text": [
      "None\n"
     ]
    }
   ],
   "source": [
    "# 6\n",
    "# Rewrite `mark_component` to not use recursion \n",
    "# and instead use the `open_list` data structure \n",
    "# discussed in lecture\n",
    "#\n",
    "\n",
    "def mark_component(G, node, marked):\n",
    "    marked[node] = True\n",
    "    total_marked = 1\n",
    "    for neighbor in G[node]:\n",
    "        if neighbor not in marked:\n",
    "            total_marked = total_marked + 1\n",
    "            marked[neighbor] = True\n",
    "            for element in G[neighbor]:\n",
    "                if element not in marked:\n",
    "                    total_marked = total_marked + 1\n",
    "                    marked[element] = True \n",
    "    return total_marked\n",
    "\n",
    "#########\n",
    "# Code for testing\n",
    "#\n",
    "def make_link(G, node1, node2):\n",
    "    if node1 not in G:\n",
    "        G[node1] = {}\n",
    "    (G[node1])[node2] = 1\n",
    "    if node2 not in G:\n",
    "        G[node2] = {}\n",
    "    (G[node2])[node1] = 1\n",
    "    return G\n",
    "\n",
    "def test():\n",
    "    test_edges = [(1, 2), (2, 3), (4, 5), (5, 6)]\n",
    "    G = {}\n",
    "    for n1, n2 in test_edges:\n",
    "        make_link(G, n1, n2)\n",
    "    marked = {}\n",
    "    assert mark_component(G, 1, marked) == 3\n",
    "    assert 1 in marked\n",
    "    assert 2 in marked\n",
    "    assert 3 in marked\n",
    "    assert 4 not in marked\n",
    "    assert 5 not in marked\n",
    "    assert 6 not in marked\n",
    "\n",
    "print (test())"
   ]
  },
  {
   "cell_type": "code",
   "execution_count": 39,
   "metadata": {
    "collapsed": false
   },
   "outputs": [
    {
     "name": "stdout",
     "output_type": "stream",
     "text": [
      "{1: 0, 2: 1, 3: 2, 4: 3, 5: 4, 6: 5}\n",
      "{1: 2, 2: 1, 3: 0, 4: 1, 5: 2, 6: 3}\n",
      "{1: 0, 2: 1, 3: 1, 4: 2, 5: 2, 6: 2, 7: 2, 8: 3, 9: 3, 10: 3, 11: 3}\n",
      "{1: 3, 2: 4, 3: 2, 4: 5, 5: 5, 6: 1, 7: 3, 8: 6, 9: 6, 10: 2, 11: 0}\n",
      "None\n"
     ]
    }
   ],
   "source": [
    "# 7\n",
    "#\n",
    "# Write centrality_max to return the maximum distance\n",
    "# from a node to all the other nodes it can reach\n",
    "#\n",
    "\n",
    "def centrality_max(G, v):\n",
    "    # your code here\n",
    "    distance_from_start = {}\n",
    "    open_list = [v]\n",
    "    distance_from_start[v] = 0\n",
    "    while len(open_list) >0:\n",
    "        current = open_list[0]\n",
    "        del open_list[0]\n",
    "        for neighbor in G[current].keys():\n",
    "            if neighbor not in distance_from_start:\n",
    "                distance_from_start[neighbor] = distance_from_start[current] + 1\n",
    "                open_list.append(neighbor)\n",
    "    print (distance_from_start)\n",
    "    return max(distance_from_start.values())\n",
    "\n",
    "#################\n",
    "# Testing code\n",
    "#\n",
    "def make_link(G, node1, node2):\n",
    "    if node1 not in G:\n",
    "        G[node1] = {}\n",
    "    (G[node1])[node2] = 1\n",
    "    if node2 not in G:\n",
    "        G[node2] = {}\n",
    "    (G[node2])[node1] = 1\n",
    "    return G\n",
    "\n",
    "def test():\n",
    "    chain = ((1,2), (2,3), (3,4), (4,5), (5,6))\n",
    "    G = {}\n",
    "    for n1, n2 in chain:\n",
    "        make_link(G, n1, n2)\n",
    "    assert centrality_max(G, 1) == 5\n",
    "    assert centrality_max(G, 3) == 3\n",
    "    tree = ((1, 2), (1, 3),\n",
    "            (2, 4), (2, 5),\n",
    "            (3, 6), (3, 7),\n",
    "            (4, 8), (4, 9),\n",
    "            (6, 10), (6, 11))\n",
    "    G = {}\n",
    "    for n1, n2 in tree:\n",
    "        make_link(G, n1, n2)\n",
    "    assert centrality_max(G, 1) == 3\n",
    "    assert centrality_max(G, 11) == 6\n",
    "print(test())"
   ]
  },
  {
   "cell_type": "code",
   "execution_count": 40,
   "metadata": {
    "collapsed": false
   },
   "outputs": [
    {
     "name": "stdout",
     "output_type": "stream",
     "text": [
      "None\n"
     ]
    }
   ],
   "source": [
    "# 8\n",
    "# Bridge Edges v4\n",
    "#\n",
    "# Find the bridge edges in a graph given the\n",
    "# algorithm in lecture.\n",
    "# Complete the intermediate steps\n",
    "#  - create_rooted_spanning_tree\n",
    "#  - post_order\n",
    "#  - number_of_descendants\n",
    "#  - lowest_post_order\n",
    "#  - highest_post_order\n",
    "#\n",
    "# And then combine them together in\n",
    "# `bridge_edges`\n",
    "\n",
    "# So far, we've represented graphs \n",
    "# as a dictionary where G[n1][n2] == 1\n",
    "# meant there was an edge between n1 and n2\n",
    "# \n",
    "# In order to represent a spanning tree\n",
    "# we need to create two classes of edges\n",
    "# we'll refer to them as \"green\" and \"red\"\n",
    "# for the green and red edges as specified in lecture\n",
    "#\n",
    "# So, for example, the graph given in lecture\n",
    "# G = {'a': {'c': 1, 'b': 1}, \n",
    "#      'b': {'a': 1, 'd': 1}, \n",
    "#      'c': {'a': 1, 'd': 1}, \n",
    "#      'd': {'c': 1, 'b': 1, 'e': 1}, \n",
    "#      'e': {'d': 1, 'g': 1, 'f': 1}, \n",
    "#      'f': {'e': 1, 'g': 1},\n",
    "#      'g': {'e': 1, 'f': 1} \n",
    "#      }\n",
    "# would be written as a spanning tree\n",
    "# S = {'a': {'c': 'green', 'b': 'green'}, \n",
    "#      'b': {'a': 'green', 'd': 'red'}, \n",
    "#      'c': {'a': 'green', 'd': 'green'}, \n",
    "#      'd': {'c': 'green', 'b': 'red', 'e': 'green'}, \n",
    "#      'e': {'d': 'green', 'g': 'green', 'f': 'green'}, \n",
    "#      'f': {'e': 'green', 'g': 'red'},\n",
    "#      'g': {'e': 'green', 'f': 'red'} \n",
    "#      }\n",
    "#       \n",
    "#\n",
    "# First some utility functions\n",
    "#\n",
    "\n",
    "def make_link(G, node1, node2, r_or_g):\n",
    "    # modified make_link to apply\n",
    "    # a color to the edge instead of just 1\n",
    "    if node1 not in G:\n",
    "        G[node1] = {}\n",
    "    (G[node1])[node2] = r_or_g\n",
    "    if node2 not in G:\n",
    "        G[node2] = {}\n",
    "    (G[node2])[node1] = r_or_g\n",
    "    return G\n",
    "\n",
    "def get_children(S, root, parent):\n",
    "    \"\"\"returns the children from following the\n",
    "    green edges\"\"\"\n",
    "    return [n for n, e in S[root].items()\n",
    "            if ((not n == parent) and\n",
    "                (e == 'green'))]\n",
    "\n",
    "def get_children_all(S, root, parent):\n",
    "    \"\"\"returns the children from following\n",
    "    green edges and the children from following\n",
    "    red edges\"\"\"\n",
    "    green = []\n",
    "    red = []\n",
    "    for n, e in S[root].items():\n",
    "        if n == parent:\n",
    "            continue\n",
    "        if e == 'green':\n",
    "            green.append(n)\n",
    "        if e == 'red':\n",
    "            red.append(n)\n",
    "    return green, red\n",
    "\n",
    "#################\n",
    "\n",
    "def create_rooted_spanning_tree(G, root):\n",
    "    # use DFS from the root to add edges and nodes\n",
    "    # to the tree.  The first time we see a node\n",
    "    # the edge is green, but after that its red\n",
    "    open_list = [root]\n",
    "    S = {root:{}}\n",
    "    while len(open_list) > 0:\n",
    "        node = open_list.pop()\n",
    "        neighbors = G[node]\n",
    "        for n in neighbors:\n",
    "            if n not in S:\n",
    "                # we haven't seen this node, so\n",
    "                # need to use a green edge to connect\n",
    "                # it\n",
    "                make_link(S, node, n, 'green')\n",
    "                open_list.append(n)\n",
    "            else:\n",
    "                # we have seen this node,\n",
    "                # but, first make sure that \n",
    "                # don't already have the edge\n",
    "                # in S\n",
    "                if node not in S[n]:\n",
    "                    make_link(S, node, n, 'red')\n",
    "    return S\n",
    "\n",
    "##################\n",
    "\n",
    "def _post_order(S, root, parent, val, po):\n",
    "    children = get_children(S, root, parent)    \n",
    "    for c in children:\n",
    "        val = _post_order(S, c, root, val, po)\n",
    "    po[root] = val\n",
    "    return val + 1\n",
    "\n",
    "def post_order(S, root):\n",
    "    po = {}\n",
    "    _post_order(S, root, None, 1, po)\n",
    "    return po\n",
    "\n",
    "\n",
    "##################\n",
    "\n",
    "def _number_descendants(S, root, parent, nd):\n",
    "    # number of descendants is the \n",
    "    # sum of the number of descendants of a nodes\n",
    "    # children plus one\n",
    "    children = get_children(S, root, parent)\n",
    "    nd_val = 1\n",
    "    for c in children:\n",
    "        # recursively calculate the number of descendants\n",
    "        # for the children\n",
    "        nd_val += _number_descendants(S, c, root, nd)\n",
    "    nd[root] = nd_val\n",
    "    return nd_val\n",
    "\n",
    "def number_of_descendants(S, root):\n",
    "    nd = {}\n",
    "    _number_descendants(S, root, None, nd)\n",
    "    return nd\n",
    "\n",
    "\n",
    "#\n",
    "# Since highest and lowest post order will follow\n",
    "# a similar method, I only wrote one method\n",
    "# that can be used for both\n",
    "#\n",
    "def _general_post_order(S, root, parent, po, gpo, comp):\n",
    "    green, red = get_children_all(S, root, parent)\n",
    "    val = po[root]\n",
    "    for c in green:\n",
    "        # recursively find the low/high post order value of the children\n",
    "        test = _general_post_order(S, c, root, po, gpo, comp)\n",
    "        # and save the low/highest one\n",
    "        if comp(val, test):\n",
    "            val = test\n",
    "    for c in red:\n",
    "        test = po[c]\n",
    "        # and also look at the direct children\n",
    "        # from following red edges\n",
    "        # and save the low/highest one if needed\n",
    "        if comp(val, test):\n",
    "            val = test\n",
    "    gpo[root] = val\n",
    "    return val\n",
    "\n",
    "def lowest_post_order(S, root, po):\n",
    "    lpo = {}\n",
    "    _general_post_order(S, root, None, po, lpo, lambda x, y: x > y) \n",
    "    return lpo\n",
    "\n",
    "def highest_post_order(S, root, po):\n",
    "    hpo = {}\n",
    "    _general_post_order(S, root, None, po, hpo, lambda x, y: x < y)\n",
    "    return hpo\n",
    "\n",
    "#\n",
    "# Now put everything together\n",
    "#\n",
    "\n",
    "def bridge_edges(G, root):\n",
    "    S = create_rooted_spanning_tree(G, root)\n",
    "    po = post_order(S, root)\n",
    "    nd = number_of_descendants(S, root)\n",
    "    lpo = lowest_post_order(S, root, po)\n",
    "    hpo = highest_post_order(S, root, po)\n",
    "    bridges = []\n",
    "    open_list = [(root, None)]\n",
    "    # walk down the tree and see which edges are\n",
    "    # tree edges\n",
    "    while len(open_list) > 0:\n",
    "        node, parent = open_list.pop()\n",
    "        for child in get_children(S, node, parent):\n",
    "            # all of these edges are automatically green (get_children only\n",
    "            # follows green edges)\n",
    "            # so only need to check the other two conditions\n",
    "            if hpo[child] <= po[child] and lpo[child] > (po[child] - nd[child]):\n",
    "                bridges.append((node, child))\n",
    "            open_list.append((child, node))\n",
    "    return bridges\n",
    "\n",
    "def test_create_rooted_spanning_tree():\n",
    "    G = {'a': {'c': 1, 'b': 1}, \n",
    "         'b': {'a': 1, 'd': 1}, \n",
    "         'c': {'a': 1, 'd': 1}, \n",
    "         'd': {'c': 1, 'b': 1, 'e': 1}, \n",
    "         'e': {'d': 1, 'g': 1, 'f': 1}, \n",
    "         'f': {'e': 1, 'g': 1},\n",
    "         'g': {'e': 1, 'f': 1} \n",
    "         }\n",
    "    S = create_rooted_spanning_tree(G, \"a\")\n",
    "    assert S == {'a': {'c': 'green', 'b': 'green'}, \n",
    "                 'b': {'a': 'green', 'd': 'red'}, \n",
    "                 'c': {'a': 'green', 'd': 'green'}, \n",
    "                 'd': {'c': 'green', 'b': 'red', 'e': 'green'}, \n",
    "                 'e': {'d': 'green', 'g': 'green', 'f': 'green'}, \n",
    "                 'f': {'e': 'green', 'g': 'red'},\n",
    "                 'g': {'e': 'green', 'f': 'red'} \n",
    "                 }\n",
    "\n",
    "def test_post_order():\n",
    "    S = {'a': {'c': 'green', 'b': 'green'}, \n",
    "         'b': {'a': 'green', 'd': 'red'}, \n",
    "         'c': {'a': 'green', 'd': 'green'}, \n",
    "         'd': {'c': 'green', 'b': 'red', 'e': 'green'}, \n",
    "         'e': {'d': 'green', 'g': 'green', 'f': 'green'}, \n",
    "         'f': {'e': 'green', 'g': 'red'},\n",
    "         'g': {'e': 'green', 'f': 'red'} \n",
    "         }\n",
    "    po = post_order(S, 'a')\n",
    "    assert po == {'a':7, 'b':1, 'c':6, 'd':5, 'e':4, 'f':2, 'g':3}\n",
    "    \n",
    "def test_lowest_post_order():\n",
    "    S = {'a': {'c': 'green', 'b': 'green'}, \n",
    "         'b': {'a': 'green', 'd': 'red'}, \n",
    "         'c': {'a': 'green', 'd': 'green'}, \n",
    "         'd': {'c': 'green', 'b': 'red', 'e': 'green'}, \n",
    "         'e': {'d': 'green', 'g': 'green', 'f': 'green'}, \n",
    "         'f': {'e': 'green', 'g': 'red'},\n",
    "         'g': {'e': 'green', 'f': 'red'} \n",
    "         }\n",
    "    po = post_order(S, 'a')\n",
    "    l = lowest_post_order(S, 'a', po)\n",
    "    assert l == {'a':1, 'b':1, 'c':1, 'd':1, 'e':2, 'f':2, 'g':2}\n",
    "\n",
    "def test_highest_post_order():\n",
    "    S = {'a': {'c': 'green', 'b': 'green'}, \n",
    "         'b': {'a': 'green', 'd': 'red'}, \n",
    "         'c': {'a': 'green', 'd': 'green'}, \n",
    "         'd': {'c': 'green', 'b': 'red', 'e': 'green'}, \n",
    "         'e': {'d': 'green', 'g': 'green', 'f': 'green'}, \n",
    "         'f': {'e': 'green', 'g': 'red'},\n",
    "         'g': {'e': 'green', 'f': 'red'} \n",
    "         }\n",
    "    po = post_order(S, 'a')\n",
    "    h = highest_post_order(S, 'a', po)\n",
    "    assert h == {'a':7, 'b':5, 'c':6, 'd':5, 'e':4, 'f':3, 'g':3}\n",
    "\n",
    "def test_bridge_edges():\n",
    "    G = {'a': {'c': 1, 'b': 1}, \n",
    "         'b': {'a': 1, 'd': 1}, \n",
    "         'c': {'a': 1, 'd': 1}, \n",
    "         'd': {'c': 1, 'b': 1, 'e': 1}, \n",
    "         'e': {'d': 1, 'g': 1, 'f': 1}, \n",
    "         'f': {'e': 1, 'g': 1},\n",
    "         'g': {'e': 1, 'f': 1} \n",
    "         }\n",
    "    bridges = bridge_edges(G, 'a')\n",
    "    assert bridges == [('d', 'e')]\n",
    "\n",
    "print(test_bridge_edges())"
   ]
  },
  {
   "cell_type": "markdown",
   "metadata": {},
   "source": [
    "###  &#x1F578; &nbsp;  Lesson 4. It's Who You Know"
   ]
  },
  {
   "cell_type": "markdown",
   "metadata": {
    "collapsed": true
   },
   "source": [
    "In graph theory and network analysis, indicators of centrality identify the most important vertices within a graph. Applications include identifying the most influential person(s) in a social network, key infrastructure nodes in the Internet or urban networks, and super-spreaders of disease. Centrality concepts were first developed in social network analysis, and many of the terms used to measure centrality reflect their sociological origin.\n",
    "\n",
    "Degree (node) centrality\n",
    "\n",
    "\"An important node is involved in large number of interactions\"\n",
    "Historically first and conceptually simplest is degree centrality, which is defined as the number of links incident upon a node (i.e., the number of ties that a node has). The degree can be interpreted in terms of the immediate risk of a node for catching whatever is flowing through the network (such as a virus, or some information). In the case of a directed network (where ties have direction), we usually define two separate measures of degree centrality, namely indegree and outdegree. \n",
    "\n",
    "Closeness centrality\n",
    "\n",
    "In connected graphs there is a natural distance metric between all pairs of nodes, defined by the length of their shortest paths.\n",
    "The information centrality of Stephenson and Zelen (1989) is another closeness measure, which computes the harmonic mean of the resistance distances towards a vertex x, which is smaller if x has many paths of small resistance connecting it to other vertices.\n",
    "\n",
    "Betweenness\n",
    "\n",
    "is a centrality measure of a vertex within a graph. It quantifies the number of times a node acts as a bridge along the shortest path between two other nodes. It was introduced as a measure for quantifying the control of a human on the communication between other humans in a social network by Linton Freeman. In his conception, vertices that have a high probability to occur on a randomly chosen shortest path between two randomly chosen vertices have a high betweenness.\n",
    "\n",
    "Eigenvector centrality (also called eigencentrality) \n",
    "\n",
    "is a measure of the influence of a node in a network. It assigns relative scores to all nodes in the network based on the concept that connections to high-scoring nodes contribute more to the score of the node in question than equal connections to low-scoring nodes. Google's PageRank is a variant of the eigenvector centrality measure."
   ]
  },
  {
   "cell_type": "code",
   "execution_count": 41,
   "metadata": {
    "collapsed": false
   },
   "outputs": [
    {
     "name": "stdout",
     "output_type": "stream",
     "text": [
      "0 mouse ( 30.7 )\n",
      "1 frog ( 70.5 )\n",
      "2 sparrow ( 83.072 )\n",
      "3 rabbit ( 186 )\n",
      "4 dog ( 568 )\n",
      "5 shark ( 974 )\n",
      "6 lion ( 1514 )\n",
      "7 horse ( 2087 )\n",
      "8 human ( 2840 )\n",
      "9 hippopotamus ( 5778 )\n",
      "10 elephant ( 17160 )\n"
     ]
    }
   ],
   "source": [
    "#            animal       speed   weight lifespan brain\n",
    "#                          (mph)   (kg)  (years) mass (g)\n",
    "animals = [(\"dog\",          46,   35,     13,  280    ),\n",
    "           (\"elephant\",     30, 3500,     50, 6250    ),\n",
    "           (\"frog\",          5,    0.5,    8,    3    ),\n",
    "           (\"hippopotamus\", 45, 1600,     45,  573    ),\n",
    "           (\"horse\",        40,  385,     30, 642     ),\n",
    "           (\"human\",        27,   80,     78, 2000    ),\n",
    "           (\"lion\",         50,  250,     30,  454    ),\n",
    "           (\"mouse\",         8,    0.025,  2,    0.625),\n",
    "           (\"rabbit\",       25,    4,     12,   40    ), \n",
    "           (\"shark\",        26,  230,     20,   92    ),\n",
    "           (\"sparrow\",      16,    0.024,  7,    2    )]\n",
    "\n",
    "def importance_rank(items, weights):\n",
    "    names = [item[0] for item in items]  # get the list of animal names\n",
    "    scores = [sum([a*b for (a,b) in zip(item[1:], weights)]) for item in items]  \n",
    "    # get the list of overall scores for each animal\n",
    "    results = zip(scores,names) # make a list of tuple\n",
    "    res2 = sorted(results) # sort the tuple based on the score\n",
    "    return res2\n",
    "\n",
    "answer = importance_rank(animals, (2,3,7,1))\n",
    "\n",
    "for i in range(len(answer)):\n",
    "    print (i, answer[i][1], \"(\", answer[i][0], \")\")"
   ]
  },
  {
   "cell_type": "code",
   "execution_count": 43,
   "metadata": {
    "collapsed": false
   },
   "outputs": [
    {
     "name": "stdout",
     "output_type": "stream",
     "text": [
      "None\n"
     ]
    }
   ],
   "source": [
    "#\n",
    "# Write `max`\n",
    "# \n",
    "\n",
    "def max(L):\n",
    "    maxL = L[0]\n",
    "    for i in range(1, len(L)):\n",
    "        if L[i] >= maxL:\n",
    "            maxL = L[i]\n",
    "    return maxL\n",
    "\n",
    "def test():\n",
    "    L = [1, 2, 3, 4]\n",
    "    assert 4 == max(L)\n",
    "    L = [3, 6, 10, 9, 3]\n",
    "    assert 10 == max(L)\n",
    "\n",
    "print (test())"
   ]
  },
  {
   "cell_type": "code",
   "execution_count": 50,
   "metadata": {
    "collapsed": false
   },
   "outputs": [
    {
     "name": "stdout",
     "output_type": "stream",
     "text": [
      "('Jessica', 27931)\n"
     ]
    }
   ],
   "source": [
    "f = open(\"yob1995.txt\", \"r\")\n",
    "def first_count_f(a):\n",
    "    max_count = 0\n",
    "    for line in a:\n",
    "        name,sex,count = line.split(\",\")\n",
    "        count = int(count)\n",
    "\n",
    "        if sex == \"F\" and max_count < count:\n",
    "            max_count = count\n",
    "            fmost_popular = name\n",
    "    return fmost_popular, max_count \n",
    "\n",
    "print (first_count_f(f))"
   ]
  },
  {
   "cell_type": "code",
   "execution_count": 51,
   "metadata": {
    "collapsed": false
   },
   "outputs": [
    {
     "name": "stdout",
     "output_type": "stream",
     "text": [
      "('Ashley', 26596)\n"
     ]
    }
   ],
   "source": [
    "f = open(\"yob1995.txt\", \"r\")\n",
    "def second_count_f(a):\n",
    "    first_count = 0\n",
    "    second_count = 0\n",
    "    first_name = None\n",
    "    second_name = None\n",
    "    for line in a:\n",
    "        name,sex,count = line.split(\",\")\n",
    "        count = int(count)\n",
    "\n",
    "        if sex == \"F\":\n",
    "            if first_count < count:\n",
    "                second_count = first_count\n",
    "                second_name = first_name\n",
    "                first_count = count\n",
    "                first_name = name\n",
    "    return second_name, second_count\n",
    "\n",
    "print (second_count_f(f))"
   ]
  },
  {
   "cell_type": "code",
   "execution_count": 52,
   "metadata": {
    "collapsed": false
   },
   "outputs": [
    {
     "name": "stdout",
     "output_type": "stream",
     "text": [
      "[12, 24, 35, 18, 65, 98, 73, 76]\n"
     ]
    }
   ],
   "source": [
    "#\n",
    "# Write partition to return a new array with \n",
    "# all values less then `v` to the left \n",
    "# and all values greater then `v` to the right\n",
    "#\n",
    "\n",
    "def partition(L, v):\n",
    "    p1 = []\n",
    "    p2 = []\n",
    "\n",
    "    for element in L:\n",
    "        if element < v:\n",
    "            p1.append(element)\n",
    "        elif element > v:\n",
    "            p2.append(element)\n",
    "    p1.append(v)\n",
    "                   \n",
    "    # your code here\n",
    "    return p1 + p2\n",
    "\n",
    "L = [12, 24, 98, 35, 73, 76, 18, 65]\n",
    "\n",
    "print (partition(L,65))"
   ]
  },
  {
   "cell_type": "markdown",
   "metadata": {},
   "source": [
    "In computer science, a heap is a specialized tree-based data structure that satisfies the heap property: If A is a parent node of B then the key (the value) of node A is ordered with respect to the key of node B with the same ordering applying across the heap. A heap can be classified further as either a \"max heap\" or a \"min heap\". In a max heap, the keys of parent nodes are always greater than or equal to those of the children and the highest key is in the root node. In a min heap, the keys of parent nodes are less than or equal to those of the children and the lowest key is in the root node. Heaps are crucial in several efficient graph algorithms such as Dijkstra's algorithm, and in the sorting algorithm heapsort. A common implementation of a heap is the binary heap, in which the tree is a complete binary tree (see figure).\n",
    "\n",
    "In a heap, the highest (or lowest) priority element is always stored at the root. A heap is not a sorted structure and can be regarded as partially ordered. As visible from the heap-diagram, there is no particular relationship among nodes on any given level, even among the siblings. When a heap is a complete binary tree, it has a smallest possible height—a heap with N nodes always has log N height. A heap is a useful data structure when you need to remove the object with the highest (or lowest) priority.\n",
    "\n",
    "A binary heap is a heap data structure created using a binary tree. It can be seen as a binary tree with two additional constraints:\n",
    "\n",
    "Shape property\n",
    "\n",
    "A binary heap is a complete binary tree; that is, all levels of the tree, except possibly the last one (deepest) are fully filled, and, if the last level of the tree is not complete, the nodes of that level are filled from left to right.\n",
    "\n",
    "Heap property\n",
    "\n",
    "All nodes are either greater than or equal to or less than or equal to each of their children, according to a comparison predicate defined for the heap.\n",
    "Heaps with a mathematical \"greater than or equal to\" (≥) comparison predicate are called max-heaps; those with a mathematical \"less than or equal to\" (≤) comparison predicate are called min-heaps. Min-heaps are often used to implement priority queues."
   ]
  },
  {
   "cell_type": "code",
   "execution_count": 56,
   "metadata": {
    "collapsed": false
   },
   "outputs": [],
   "source": [
    "#\n",
    "# Implement remove_min\n",
    "#\n",
    "\n",
    "def remove_min(L):\n",
    "    if len(L) == 1:\n",
    "        return []\n",
    "    # your code here\n",
    "    L[0] = L.pop()\n",
    "    down_heapify(L, 0)\n",
    "    return L\n",
    "\n",
    "def parent(i): \n",
    "    return (i-1)/2\n",
    "def left_child(i): \n",
    "    return 2*i+1\n",
    "def right_child(i): \n",
    "    return 2*i+2\n",
    "def is_leaf(L,i): \n",
    "    return (left_child(i) >= len(L)) and (right_child(i) >= len(L))\n",
    "def one_child(L,i): \n",
    "    return (left_child(i) < len(L)) and (right_child(i) >= len(L))\n",
    "\n",
    "# Call this routine if the heap rooted at i satisfies the heap property\n",
    "# *except* perhaps i to its immediate children\n",
    "def down_heapify(L, i):\n",
    "    # If i is a leaf, heap property holds\n",
    "    if is_leaf(L, i): \n",
    "        return\n",
    "    # If i has one child...\n",
    "    if one_child(L, i):\n",
    "        # check heap property\n",
    "        if L[i] > L[left_child(i)]:\n",
    "            # If it fails, swap, fixing i and its child (a leaf)\n",
    "            (L[i], L[left_child(i)]) = (L[left_child(i)], L[i])\n",
    "        return\n",
    "    # If i has two children...\n",
    "    # check heap property\n",
    "    if min(L[left_child(i)], L[right_child(i)]) >= L[i]: \n",
    "        return\n",
    "    # If it fails, see which child is the smaller\n",
    "    # and swap i's value into that child\n",
    "    # Afterwards, recurse into that child, which might violate\n",
    "    if L[left_child(i)] < L[right_child(i)]:\n",
    "        # Swap into left child\n",
    "        (L[i], L[left_child(i)]) = (L[left_child(i)], L[i])\n",
    "        down_heapify(L, left_child(i))\n",
    "        return\n",
    "    else:\n",
    "        (L[i], L[right_child(i)]) = (L[right_child(i)], L[i])\n",
    "        down_heapify(L, right_child(i))\n",
    "        return\n",
    "\n",
    "#########\n",
    "# Testing Code\n",
    "#\n",
    "\n",
    "# build_heap\n",
    "def build_heap(L):\n",
    "    for i in range(len(L)-1, -1, -1):\n",
    "        down_heapify(L, i)\n",
    "    return L\n",
    "\n",
    "def test():\n",
    "    L = range(10)\n",
    "    build_heap(L)\n",
    "    remove_min(L)\n",
    "    # now, the new minimum should be 1\n",
    "    assert L[0] == 1"
   ]
  },
  {
   "cell_type": "markdown",
   "metadata": {},
   "source": [
    "###  &#x1F578; &nbsp;  Problem Set 4"
   ]
  },
  {
   "cell_type": "code",
   "execution_count": null,
   "metadata": {
    "collapsed": true
   },
   "outputs": [],
   "source": [
    "#1\n",
    "heap = []\n",
    "for v in vals:\n",
    "    insert_heap(heap,v)\n",
    "\n",
    "Θ(n*log(n))"
   ]
  },
  {
   "cell_type": "code",
   "execution_count": 59,
   "metadata": {
    "collapsed": false
   },
   "outputs": [
    {
     "name": "stdout",
     "output_type": "stream",
     "text": [
      "[169, 338, 160, 148, 156, 194, 243]\n",
      "148\n",
      "27\n"
     ]
    }
   ],
   "source": [
    "#2\n",
    "#\n",
    "# Given a list of numbers, L, find a number, x, that\n",
    "# minimizes the sum of the absolute value of the difference\n",
    "# between each element in L and x: SUM_{i=0}^{n-1} |L[i] - x|\n",
    "# \n",
    "# Your code should run in Theta(n) time\n",
    "#\n",
    "L = [12,83,15,27,35,7,64]\n",
    "\n",
    "def minimize_absolute(L):\n",
    "    S = []\n",
    "    for element in L:\n",
    "        se = 0\n",
    "        for i in range(len(L)):\n",
    "            se = se + abs(L[i] - element)\n",
    "        S.append(se)\n",
    "    print (S)\n",
    "    k = min(S)\n",
    "    print (k)\n",
    "    ik = S.index(k)\n",
    "    # your code here\n",
    "    return L[ik]\n",
    "\n",
    "print (minimize_absolute(L))"
   ]
  },
  {
   "cell_type": "code",
   "execution_count": 61,
   "metadata": {
    "collapsed": false
   },
   "outputs": [
    {
     "name": "stdout",
     "output_type": "stream",
     "text": [
      "[5, 5, 3, 9]\n",
      "3\n",
      "3\n",
      "[2, 2, 3, 4]\n",
      "{2: 5, 3: 3, 4: 9}\n",
      "3\n"
     ]
    }
   ],
   "source": [
    "#3\n",
    "#\n",
    "# Given a list of numbers, L, find a number, x, that\n",
    "# minimizes the sum of the square of the difference\n",
    "# between each element in L and x: SUM_{i=0}^{n-1} (L[i] - x)^2\n",
    "# \n",
    "# Your code should run in Theta(n) time\n",
    "# \n",
    "L = [2,2,3,4]\n",
    "\n",
    "def minimize_square(L):\n",
    "    S = []\n",
    "    for element in L:\n",
    "        sq = 0\n",
    "        for j in range(len(L)):\n",
    "            se = element - L[j]\n",
    "            sq = sq + se*se\n",
    "        S.append(sq)\n",
    "    print (S)\n",
    "    k = min(S)\n",
    "    print (k)\n",
    "    ik = S.index(k)\n",
    "    # your code here\n",
    "    return L[ik]\n",
    "    \n",
    "print (minimize_square(L))\n",
    "\n",
    "#########################################################################\n",
    "L = [2,2,3,4]\n",
    "\n",
    "def minimize_square(L):\n",
    "    S = {}\n",
    "    print (L)\n",
    "    for element in L:\n",
    "        sq = 0\n",
    "        for j in range(len(L)):\n",
    "            se = element - L[j]\n",
    "            sq = sq + se*se\n",
    "        S[element] = sq\n",
    "    print (S)\n",
    "    for key, value in S.items():\n",
    "        if value == min(S.values()):\n",
    "            return key\n",
    "    \n",
    "print (minimize_square(L))  "
   ]
  },
  {
   "cell_type": "code",
   "execution_count": 62,
   "metadata": {
    "collapsed": false
   },
   "outputs": [
    {
     "name": "stdout",
     "output_type": "stream",
     "text": [
      "7.659794 7.661003\n",
      "7.66153 7.664897\n",
      "7.665318 7.669446\n",
      "7.670306 7.68201\n",
      "7.682916 7.709335\n",
      "7.712084 7.754483\n",
      "7.75774 7.868742\n",
      "7.880584 8.42664\n",
      "8.452693 9.81753\n",
      "9.907831 12.651829\n",
      "12.722011 16.175378\n",
      "10 20\n",
      "20 30\n",
      "30 100\n",
      "100 200\n",
      "200 300\n",
      "300 1000\n",
      "1000 5000\n",
      "5000 10000\n",
      "10000 20000\n",
      "20000 30000\n",
      "[0.00021579999999996602, 7.609999999997896e-05, 0.00010822857142857498, 0.000147150000000007, 0.00015979999999998995, 9.80042857142863e-05, 0.00010876350000000024, 0.00016375619999999972, 0.00013791609999999998, 7.093689999999989e-05]\n",
      "None\n"
     ]
    }
   ],
   "source": [
    "#4\n",
    "\n",
    "4.1\n",
    "\n",
    "#\n",
    "# Given a list L of n numbers, find the mode \n",
    "# (the number that appears the most times).  \n",
    "# Your algorithm should run in Theta(n).\n",
    "# If there are ties - just pick one value to return \n",
    "#\n",
    "from operator import itemgetter\n",
    "\n",
    "def mode(L):\n",
    "    counts = {}\n",
    "    maxelement = None\n",
    "    maxn = 0\n",
    "    for element in L:\n",
    "        if element not in counts:\n",
    "            counts[element] = 1\n",
    "        else:\n",
    "            counts[element] += 1\n",
    "        if counts[element] > maxn:\n",
    "            maxelement = element\n",
    "            maxn = counts[element]\n",
    "    return maxelement\n",
    "    \n",
    "    # your code here\n",
    "\n",
    "####\n",
    "# Test\n",
    "#\n",
    "import time\n",
    "from random import randint\n",
    "\n",
    "def test():\n",
    "    assert 5 == mode([1, 5, 2, 5, 3, 5])\n",
    "    iterations = (10, 20, 30, 100, 200, 300, 1000, 5000, 10000, 20000, 30000)\n",
    "    times = []\n",
    "    for i in iterations:\n",
    "        L = []\n",
    "        for j in range(i):\n",
    "            L.append(randint(1, 10))\n",
    "        start = time.clock()\n",
    "        for j in range(500):\n",
    "            mode(L)\n",
    "        end = time.clock()\n",
    "        print (start, end)\n",
    "        times.append(float(end - start))\n",
    "    slopes = []\n",
    "    for (x1, x2), (y1, y2) in zip(zip(iterations[:-1], iterations[1:]), zip(times[:-1], times[1:])):\n",
    "        print (x1, x2), (y1, y2)\n",
    "        slopes.append((y2 - y1) / (x2 - x1))\n",
    "    # if mode runs in linear time, \n",
    "    # these factors should be close (kind of)\n",
    "    print (slopes)\n",
    "\n",
    "print (test())"
   ]
  },
  {
   "cell_type": "code",
   "execution_count": 63,
   "metadata": {
    "collapsed": false
   },
   "outputs": [
    {
     "name": "stdout",
     "output_type": "stream",
     "text": [
      "16.197991 16.200585\n",
      "16.201876 16.205876\n",
      "16.206623 16.211498\n",
      "16.212018 16.226508\n",
      "16.227582 16.25121\n",
      "16.252549 16.284379\n",
      "16.287709 16.387546\n",
      "16.399333 16.871984\n",
      "16.893806 17.877824\n",
      "17.924832 19.937713\n",
      "20.007938 23.007543\n",
      "10 20\n",
      "20 30\n",
      "30 100\n",
      "100 200\n",
      "200 300\n",
      "300 1000\n",
      "1000 5000\n",
      "5000 10000\n",
      "10000 20000\n",
      "20000 30000\n",
      "[0.00014059999999993522, 8.749999999970725e-05, 0.000137357142857145, 9.13800000000009e-05, 8.202000000004261e-05, 9.715285714285419e-05, 9.320350000000044e-05, 0.00010227339999999927, 0.00010288630000000012, 9.867239999999989e-05]\n",
      "None\n"
     ]
    }
   ],
   "source": [
    "# 4.2\n",
    "from operator import itemgetter\n",
    "from collections import defaultdict\n",
    "\n",
    "def mode(L):\n",
    "    counts = defaultdict(int)\n",
    "    mode = None\n",
    "    maxn = 0\n",
    "    for e in L:\n",
    "        counts[e] += 1\n",
    "        current = counts[e]\n",
    "        if current > maxn:\n",
    "            mode = e\n",
    "            maxn = current                         \n",
    "    return mode\n",
    "print (test())"
   ]
  },
  {
   "cell_type": "code",
   "execution_count": 72,
   "metadata": {
    "collapsed": false
   },
   "outputs": [
    {
     "name": "stdout",
     "output_type": "stream",
     "text": [
      "[2, 4, 3, 5, 9, 7, 7, 1]\n",
      "7 1\n",
      "3 5\n",
      "[2, 4, 3, 1, 9, 7, 7, 5]\n",
      "3 1\n",
      "1 4\n",
      "[2, 1, 3, 4, 9, 7, 7, 5]\n",
      "1 1\n",
      "0 2\n",
      "None\n"
     ]
    }
   ],
   "source": [
    "# 5\n",
    "# write up_heapify, an algorithm that checks if\n",
    "# node i and its parent satisfy the heap\n",
    "# property, swapping and recursing if they don't\n",
    "#\n",
    "# L should be a heap when up_heapify is done\n",
    "#\n",
    "\n",
    "def up_heapify(L, i):\n",
    "    while L[i] < L[parent(i)] and parent(i) != -1:\n",
    "        print (L)\n",
    "        print (i, L[i])\n",
    "        print (parent(i), L[parent(i)])\n",
    "        (L[parent(i)], L[i]) = (L[i], L[parent(i)])\n",
    "        i = parent(i)\n",
    "    # your code here\n",
    "    return L\n",
    "\n",
    "def parent(i): \n",
    "    return int((i-1)/2)\n",
    "def left_child(i): \n",
    "    return 2*i+1\n",
    "def right_child(i): \n",
    "    return 2*i+2\n",
    "def is_leaf(L,i): \n",
    "    return (left_child(i) >= len(L)) and (right_child(i) >= len(L))\n",
    "def one_child(L,i): \n",
    "    return (left_child(i) < len(L)) and (right_child(i) >= len(L))\n",
    "\n",
    "def test():\n",
    "    L = [2, 4, 3, 5, 9, 7, 7]\n",
    "    L.append(1)\n",
    "    up_heapify(L, 7)\n",
    "    assert 1 == L[0]\n",
    "    assert 2 == L[1]\n",
    "print(test())"
   ]
  },
  {
   "cell_type": "code",
   "execution_count": null,
   "metadata": {
    "collapsed": false
   },
   "outputs": [],
   "source": [
    "#6\n",
    "import random\n",
    "import csv\n",
    "\n",
    "def make_link(G, node1, node2):\n",
    "    if node1 not in G:\n",
    "        G[node1] = {}\n",
    "    (G[node1])[node2] = 1\n",
    "    if node2 not in G:\n",
    "        G[node2] = {}\n",
    "    (G[node2])[node1] = 1\n",
    "    return G\n",
    "\n",
    "def make_data(file_name):\n",
    "    data = csv.reader(open(file_name), delimiter='\\t')\n",
    "    G = {}\n",
    "    actors = {}\n",
    "    movies = {}\n",
    "    for (actor, movie, year) in data:\n",
    "        actor = str(actor)\n",
    "        movie_year = str(movie) + \",\" + str(year)\n",
    "        actors[actor] = 1\n",
    "        movies[movie_year] = 1\n",
    "        make_link(G, actor, movie_year)\n",
    "    return (G,actors,movies)\n",
    "\n",
    "def centrality(G, v):\n",
    "    distance_from_start = {}\n",
    "    open_list = [v]\n",
    "    distance_from_start[v] = 0\n",
    "    while len(open_list) > 0:\n",
    "        current = open_list.pop(0)\n",
    "        for neighbor in G[current].keys():\n",
    "            if neighbor not in distance_from_start:\n",
    "                distance_from_start[neighbor] = distance_from_start[current] + 1\n",
    "                open_list.append(neighbor)\n",
    "    return (float(sum(distance_from_start.values())))/len(distance_from_start)\n",
    "\n",
    "def rank(L,v):\n",
    "    rank = 0\n",
    "    for element in L:\n",
    "        if element < v:\n",
    "            rank += 1\n",
    "    return rank\n",
    "    \n",
    "def find_rank(L, t):\n",
    "    less_t = {}\n",
    "    equal_t = {}\n",
    "    greater_t = {}\n",
    "    \n",
    "    v = random.choice(list(L)) #.keys())\n",
    "    \n",
    "    for t in list(L): #.keys():\n",
    "        if L[t] < L[v]:\n",
    "            less_t[t] = L[t]\n",
    "        elif L[t] == L[v]:\n",
    "            equal_t[t] = L[t]\n",
    "        elif L[t] > L[v]:\n",
    "            greater_t[t] = L[t]\n",
    "    if len(less_t) >= t: return find_rank(less_t, t)\n",
    "    elif len(less_t) + len(equal_t) >= t: return v\n",
    "    else: return find_rank(greater_t, int(t) - len(less_t) - len(equal_t))\n",
    "\n",
    "(G, actors, movies) = make_data('actors.tsv')\n",
    "\n",
    "centralities = {}\n",
    "                         \n",
    "for actor in actors.keys():\n",
    "    centralities[actor] = centrality(G, actor)\n",
    "\n",
    "actor_rank = find_rank(centralities, 20)\n",
    "\n",
    "print (actor_rank)\n",
    "print (centralities[actor_rank])"
   ]
  },
  {
   "cell_type": "code",
   "execution_count": null,
   "metadata": {
    "collapsed": true
   },
   "outputs": [],
   "source": []
  }
 ],
 "metadata": {
  "anaconda-cloud": {},
  "hide_input": false,
  "kernelspec": {
   "display_name": "Python [conda root]",
   "language": "python",
   "name": "conda-root-py"
  },
  "language_info": {
   "codemirror_mode": {
    "name": "ipython",
    "version": 3
   },
   "file_extension": ".py",
   "mimetype": "text/x-python",
   "name": "python",
   "nbconvert_exporter": "python",
   "pygments_lexer": "ipython3",
   "version": "3.5.2"
  },
  "latex_envs": {
   "bibliofile": "biblio.bib",
   "cite_by": "apalike",
   "current_citInitial": 1,
   "eqLabelWithNumbers": true,
   "eqNumInitial": 0
  }
 },
 "nbformat": 4,
 "nbformat_minor": 2
}
