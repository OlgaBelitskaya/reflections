{
 "cells": [
  {
   "cell_type": "markdown",
   "metadata": {},
   "source": [
    "# &#x1F4D1; &nbsp; <span style=\"color:#338DD4\"> Reflections. Intro to Algorithms. Lessons 5-6</span>"
   ]
  },
  {
   "cell_type": "markdown",
   "metadata": {},
   "source": [
    "###  &#x1F578; &nbsp; Links"
   ]
  },
  {
   "cell_type": "markdown",
   "metadata": {
    "collapsed": true
   },
   "source": [
    "NP-Completeness: http://web.mst.edu/~ercal/253/SLIDES/PDF/Lec-34.pdf\n",
    "\n",
    " Networks, Crowds, and Markets: http://www.cs.cornell.edu/home/kleinber/networks-book/"
   ]
  },
  {
   "cell_type": "markdown",
   "metadata": {},
   "source": [
    "###  &#x1F578; &nbsp;  Lesson 5. Strong and Weak Bonds"
   ]
  },
  {
   "cell_type": "markdown",
   "metadata": {},
   "source": [
    "In mathematics, matrix multiplication is a binary operation that takes a pair of matrices, and produces another matrix. Numbers such as the real or complex numbers can be multiplied according to elementary arithmetic. On the other hand, matrices are arrays of numbers, so there is no unique way to define \"the\" multiplication of matrices. As such, in general the term \"matrix multiplication\" refers to a number of different ways to multiply matrices. The key features of any matrix multiplication include: the number of rows and columns the original matrices have (called the \"size\", \"order\" or \"dimension\"), and specifying how the entries of the matrices generate the new matrix."
   ]
  },
  {
   "cell_type": "code",
   "execution_count": 3,
   "metadata": {
    "collapsed": false
   },
   "outputs": [
    {
     "data": {
      "text/plain": [
       "array([[  0.,   1.,   4.,   9.],\n",
       "       [  0.,   5.,  12.,  21.],\n",
       "       [  0.,   9.,  20.,  33.],\n",
       "       [  0.,  13.,  28.,  45.]])"
      ]
     },
     "execution_count": 3,
     "metadata": {},
     "output_type": "execute_result"
    }
   ],
   "source": [
    "import numpy as np\n",
    "x1 = np.arange(16.0).reshape((4, 4))\n",
    "x2 = np.arange(4.0)\n",
    "np.multiply(x1, x2)"
   ]
  },
  {
   "cell_type": "markdown",
   "metadata": {},
   "source": [
    "Dijkstra's shortest path algorithm (http://www.bogotobogo.com/python/python_Dijkstras_Shortest_Path_Algorithm.php)\n",
    "\n",
    "Dijkstra's algorithm is an iterative algorithm that provides us with the shortest path from one particular starting node (a in our case) to all other nodes in the graph.\n",
    "\n",
    "To keep track of the total cost from the start node to each destination we will make use of the distance instance variable in the Vertex class. The distance instance variable will contain the current total weight of the smallest weight path from the start to the vertex in question. The algorithm iterates once for every vertex in the graph; however, the order that we iterate over the vertices is controlled by a priority queue (actually, in the code, I used heapq).\n",
    "\n",
    "The value that is used to determine the order of the objects in the priority queue is distance. When a vertex is first created distance is set to a very large number.\n",
    "\n",
    "When the algorithm finishes the distances are set correctly as are the predecessor (previous in the code) links for each vertex in the graph."
   ]
  },
  {
   "cell_type": "code",
   "execution_count": 5,
   "metadata": {
    "collapsed": false
   },
   "outputs": [],
   "source": [
    "import networkx as nx\n",
    "g = {1:{2:.5, 3:.2}, 2:{4:.7}, 4:{5:.6, 3:.3}}\n",
    "G = nx.Graph(g)"
   ]
  },
  {
   "cell_type": "code",
   "execution_count": 6,
   "metadata": {
    "collapsed": false
   },
   "outputs": [
    {
     "data": {
      "text/plain": [
       "[(1, 2), (1, 3), (2, 4), (3, 4), (4, 5)]"
      ]
     },
     "execution_count": 6,
     "metadata": {},
     "output_type": "execute_result"
    }
   ],
   "source": [
    "G.edges()"
   ]
  },
  {
   "cell_type": "code",
   "execution_count": 8,
   "metadata": {
    "collapsed": false
   },
   "outputs": [
    {
     "data": {
      "text/plain": [
       "[1, 2, 4]"
      ]
     },
     "execution_count": 8,
     "metadata": {},
     "output_type": "execute_result"
    }
   ],
   "source": [
    "nx.dijkstra_path(G,1,4)"
   ]
  },
  {
   "cell_type": "code",
   "execution_count": 9,
   "metadata": {
    "collapsed": true
   },
   "outputs": [],
   "source": [
    "# CS215Unit5Code. Code for Dijkstra\n",
    "def shortest_dist_node(dist):\n",
    "    best_node = 'undefined'\n",
    "    best_value = 100000\n",
    "    for v in dist:\n",
    "        if dist[v] < best_value:\n",
    "            (best_node, best_value) = (v, dist[v])\n",
    "    return best_node\n",
    "\n",
    "def dijkstra(G,v):\n",
    "    dist_so_far = {}\n",
    "    dist_so_far[v] = 0\n",
    "    final_dist = {}\n",
    "    while len(final_dist) < len(G):\n",
    "        w = shortest_dist_node(dist_so_far)\n",
    "        # lock it down!                                                                                                                                                                                     \n",
    "        final_dist[w] = dist_so_far[w]\n",
    "        del dist_so_far[w]\n",
    "        for x in G[w]:\n",
    "            if x not in final_dist:\n",
    "                new_dist = final_dist[w] + G[w][x]\n",
    "                if (x not in dist_so_far) or (new_dist < dist_so_far[x]):\n",
    "                    dist_so_far[x] = new_dist\n",
    "    return final_dist"
   ]
  },
  {
   "cell_type": "code",
   "execution_count": 13,
   "metadata": {
    "collapsed": false
   },
   "outputs": [
    {
     "name": "stdout",
     "output_type": "stream",
     "text": [
      "1\n",
      "1.0\n",
      "1.0\n",
      "2\n",
      "0.3\n",
      "0.3\n",
      "3\n",
      "0.6666666666666666\n",
      "0.6666666666666666\n",
      "4\n",
      "1.0\n",
      "1.0\n",
      "5\n",
      "1.0\n",
      "1.0\n",
      "6\n",
      "1.0\n",
      "1.0\n"
     ]
    }
   ],
   "source": [
    "#\n",
    "# Modify `expected_c`\n",
    "# to return the expected value of C[w,x],\n",
    "# where C[w,x] is the clustering coefficient\n",
    "# given w and x - two randomly choosen neighbors of v\n",
    "# \n",
    "def expected_C(G,v):\n",
    "    # G[v].keys() is the set of neighbors of v\n",
    "    neighbors = G[v].keys()\n",
    "    degree = len(neighbors)\n",
    "    exp_ccv = 0\n",
    "    links = 0.0\n",
    "    pairs = 0.0\n",
    "    for w in neighbors:\n",
    "        for u in neighbors:\n",
    "            if w != u:\n",
    "                pairs += 0.5\n",
    "            if u in G[w].keys(): links += 0.5\n",
    "    exp_ccv = links/pairs \n",
    "    # x in G[w][x] if x and w are connected in the graph (C[w,x])\n",
    "    return exp_ccv\n",
    "# YOUR ANSWER HERE: expected value of C[w,x]\n",
    "\n",
    "def make_link(G, node1, node2):\n",
    "    if node1 not in G:\n",
    "        G[node1] = {}\n",
    "    (G[node1])[node2] = 1\n",
    "    if node2 not in G:\n",
    "        G[node2] = {}\n",
    "    (G[node2])[node1] = 1\n",
    "    return G\n",
    "\n",
    "def clustering_coefficient(G,v):\n",
    "    neighbors = G[v].keys()\n",
    "    if len(neighbors) == 1: return 0.0\n",
    "    links = 0.0\n",
    "    for w in neighbors:\n",
    "        for u in neighbors:\n",
    "            if u in G[w]: links += 0.5\n",
    "    return 2.0*links/(len(neighbors)*(len(neighbors)-1))\n",
    "\n",
    "flights = [(1,2),(1,3),(2,3),(2,6),(2,4),(2,5),(3,6),(4,5)]\n",
    "G = {}\n",
    "for (x,y) in flights: make_link(G,x,y)\n",
    "\n",
    "for v in [1,2,3,4,5,6]:\n",
    "    print (v)\n",
    "    print (expected_C(G,v))\n",
    "    print (clustering_coefficient(G,v))"
   ]
  },
  {
   "cell_type": "code",
   "execution_count": 14,
   "metadata": {
    "collapsed": false
   },
   "outputs": [
    {
     "name": "stdout",
     "output_type": "stream",
     "text": [
      "CC: 0.3\n",
      "1 0.0\n",
      "2 0.0\n",
      "3 0.0\n",
      "4 0.0\n",
      "5 0.0\n",
      "6 0.16666666666666666\n",
      "7 0.2857142857142857\n",
      "8 0.375\n",
      "9 0.4444444444444444\n"
     ]
    }
   ],
   "source": [
    "# CS215Unit5Code. Bounds on the Estimate\n",
    "import random\n",
    "\n",
    "def make_link(G, node1, node2):\n",
    "    if node1 not in G:\n",
    "        G[node1] = {}\n",
    "    (G[node1])[node2] = 1\n",
    "    if node2 not in G:\n",
    "        G[node2] = {}\n",
    "    (G[node2])[node1] = 1\n",
    "    return G\n",
    "\n",
    "flights = [(1,2),(1,3),(2,3),(2,6),(2,4),(2,5),(3,6),(4,5)]\n",
    "G = {}\n",
    "for (x,y) in flights: make_link(G,x,y)\n",
    "\n",
    "def clustering_coefficient(G,v):\n",
    "    neighbors = G[v].keys()\n",
    "    if len(neighbors) == 1: return 0.0\n",
    "    links = 0.0\n",
    "    for w in neighbors:\n",
    "        for u in neighbors:\n",
    "            if u in G[w]: links += 0.5\n",
    "    return 2.0*links/(len(neighbors)*(len(neighbors)-1))\n",
    "\n",
    "v = 2\n",
    "print (\"CC:\", clustering_coefficient(G,v))\n",
    "\n",
    "vindex = {}\n",
    "d = 0\n",
    "for w in G[v].keys():\n",
    "    vindex[d] = w\n",
    "    d += 1\n",
    "\n",
    "total = 0\n",
    "for i in range(1,10):\n",
    "    if d > 1:\n",
    "        pick = random.randint(0,d-1)\n",
    "        v1 = vindex[pick]\n",
    "        v2 = vindex[(pick+random.randint(1,d-1))%d]\n",
    "        if v2 in G[v1]: total += 1\n",
    "    print (i, (total+0.0)/i)"
   ]
  },
  {
   "cell_type": "markdown",
   "metadata": {},
   "source": [
    "In probability theory, the Chernoff bound, named after Herman Chernoff but due to Herman Rubin,[1] gives exponentially decreasing bounds on tail distributions of sums of independent random variables. It is a sharper bound than the known first or second moment based tail bounds such as Markov's inequality or Chebyshev inequality, which only yield power-law bounds on tail decay. However, the Chernoff bound requires that the variates be independent – a condition that neither the Markov nor the Chebyshev inequalities require."
   ]
  },
  {
   "cell_type": "markdown",
   "metadata": {},
   "source": [
    "###  &#x1F578; &nbsp;  Problem Set 5"
   ]
  },
  {
   "cell_type": "code",
   "execution_count": 15,
   "metadata": {
    "collapsed": false
   },
   "outputs": [
    {
     "name": "stdout",
     "output_type": "stream",
     "text": [
      "None\n"
     ]
    }
   ],
   "source": [
    "# 1\n",
    "# The code below uses a linear\n",
    "# scan to find the unfinished node\n",
    "# with the smallest distance from\n",
    "# the source.\n",
    "#\n",
    "# Modify it to use a heap instead\n",
    "# \n",
    "\n",
    "def shortest_dist_node(dist):\n",
    "    best_node = 'undefined'\n",
    "    best_value = 1000000\n",
    "    for v in dist:\n",
    "        if dist[v] < best_value:\n",
    "            (best_node, best_value) = (v, dist[v])\n",
    "    return best_node\n",
    "\n",
    "def dijkstra(G,v):\n",
    "    dist_so_far = {}\n",
    "    dist_so_far[v] = 0\n",
    "    final_dist = {}\n",
    "    while len(final_dist) < len(G):\n",
    "        w = shortest_dist_node(dist_so_far)\n",
    "        # lock it down!\n",
    "        final_dist[w] = dist_so_far[w]\n",
    "        del dist_so_far[w]\n",
    "        for x in G[w]:\n",
    "            if x not in final_dist:\n",
    "                if x not in dist_so_far:\n",
    "                    dist_so_far[x] = final_dist[w] + G[w][x]\n",
    "                elif final_dist[w] + G[w][x] < dist_so_far[x]:\n",
    "                    dist_so_far[x] = final_dist[w] + G[w][x]\n",
    "    return final_dist\n",
    "\n",
    "############\n",
    "# \n",
    "# Test\n",
    "\n",
    "def make_link(G, node1, node2, w):\n",
    "    if node1 not in G:\n",
    "        G[node1] = {}\n",
    "    if node2 not in G[node1]:\n",
    "        (G[node1])[node2] = 0\n",
    "    (G[node1])[node2] += w\n",
    "    if node2 not in G:\n",
    "        G[node2] = {}\n",
    "    if node1 not in G[node2]:\n",
    "        (G[node2])[node1] = 0\n",
    "    (G[node2])[node1] += w\n",
    "    return G\n",
    "\n",
    "\n",
    "def test():\n",
    "    # shortcuts\n",
    "    (a,b,c,d,e,f,g) = ('A', 'B', 'C', 'D', 'E', 'F', 'G')\n",
    "    triples = ((a,c,3),(c,b,10),(a,b,15),(d,b,9),(a,d,4),(d,f,7),(d,e,3), \n",
    "               (e,g,1),(e,f,5),(f,g,2),(b,f,1))\n",
    "    G = {}\n",
    "    for (i,j,k) in triples:\n",
    "        make_link(G, i, j, k)\n",
    "\n",
    "    dist = dijkstra(G, a)\n",
    "    assert dist[g] == 8 #(a -> d -> e -> g)\n",
    "    assert dist[b] == 11 #(a -> d -> e -> g -> f -> b)\n",
    "print (test())"
   ]
  },
  {
   "cell_type": "markdown",
   "metadata": {},
   "source": [
    "#2 \n",
    "\n",
    "Use your code from earlier to change the Marvel graph to only have characters as nodes. Use 1.0/count as the weight, where count is the number of comic books each character appeared in together\n",
    "\n",
    "For each character in this list\n",
    "\n",
    "- 'SPIDER-MAN/PETER PAR'\n",
    "- 'GREEN GOBLIN/NORMAN '\n",
    "- 'WOLVERINE/LOGAN '\n",
    "- 'PROFESSOR X/CHARLES '\n",
    "- 'CAPTAIN AMERICA'\n",
    "\n",
    "search your weighted graph. Find all the characters where the shortest path by weight to that character is different by weight from the shortest path measured by counting the number of hops.\n",
    "\n",
    "For example, there is a direct link between 'SPIDER-MAN/PETER PAR' and 'YAP', but the shortest weighted path between the two is\n",
    "['SPIDER-MAN/PETER PAR', 'WOLVERINE/LOGAN ', 'SHADOWCAT/KATHERINE ', 'YAP']\n",
    "\n",
    "As another example, the shortest path by hops between 'WOLVERINE/LOGAN ' and 'HOARFROST/' is \n",
    "['WOLVERINE/LOGAN ', 'CITIZEN V II/HELMUT ', 'HOARFROST/'] but by weight, the shortest path is\n",
    "['WOLVERINE/LOGAN ', 'CYCLOPS/SCOTT SUMMER', 'BEAST/HENRY &HANK& P', 'CAPTAIN AMERICA', 'HAWK', 'HOARFROST/']\n",
    "\n",
    "We've given you two of the paths. There are over 20 000 more.\n",
    "When you've found the total number, fill your answer in box.\n",
    "\n",
    "This is the same data that we've used before, and its available here: Marvel Social Network"
   ]
  },
  {
   "cell_type": "code",
   "execution_count": null,
   "metadata": {
    "collapsed": true
   },
   "outputs": [],
   "source": [
    "# 3\n",
    "# Another way of thinking of a path in the Kevin Bacon game \n",
    "# is not about finding *short* paths, but by finding paths \n",
    "# that don’t use obscure movies.  We will give you a \n",
    "# list of movies along with their obscureness score.  \n",
    "#\n",
    "# For this assignment, we'll approximate obscurity \n",
    "# based on the multiplicative inverse of the amount of \n",
    "# money the movie made.  Though, its not really important where\n",
    "# the obscurity score came from.\n",
    "#\n",
    "# Use the the imdb-1.tsv and imdb-weights.tsv files to find\n",
    "# the obscurity of the “least obscure” \n",
    "# path from a given actor to another.  \n",
    "# The obscurity of a path is the maximum obscurity of \n",
    "# any of the movies used along the path.\n",
    "#\n",
    "# You will have to do the processing in your local environment\n",
    "# and then copy in your answer.\n",
    "#\n",
    "# Hint: A variation of Dijkstra can be used to solve this problem.\n",
    "#\n",
    "\n",
    "# Change the `None` values in this dictionary to be the obscurity score\n",
    "# of the least obscure path between the two actors\n",
    "answer = {(u'Boone Junior, Mark', u'Del Toro, Benicio'): None,\n",
    "          (u'Braine, Richard', u'Coogan, Will'): None,\n",
    "          (u'Byrne, Michael (I)', u'Quinn, Al (I)'): None,\n",
    "          (u'Cartwright, Veronica', u'Edelstein, Lisa'): None,\n",
    "          (u'Curry, Jon (II)', u'Wise, Ray (I)'): None,\n",
    "          (u'Di Benedetto, John', u'Hallgrey, Johnathan'): None,\n",
    "          (u'Hochendoner, Jeff', u'Cross, Kendall'): None,\n",
    "          (u'Izquierdo, Ty', u'Kimball, Donna'): None,\n",
    "          (u'Jace, Michael', u'Snell, Don'): None,\n",
    "          (u'James, Charity', u'Tuerpe, Paul'): None,\n",
    "          (u'Kay, Dominic Scott', u'Cathey, Reg E.'): None,\n",
    "          (u'McCabe, Richard', u'Washington, Denzel'): None,\n",
    "          (u'Reid, Kevin (I)', u'Affleck, Rab'): None,\n",
    "          (u'Reid, R.D.', u'Boston, David (IV)'): None,\n",
    "          (u'Restivo, Steve', u'Preston, Carrie (I)'): None,\n",
    "          (u'Rodriguez, Ramon (II)', u'Mulrooney, Kelsey'): None,\n",
    "          (u'Rooker, Michael (I)', u'Grady, Kevin (I)'): None,\n",
    "          (u'Ruscoe, Alan', u'Thornton, Cooper'): None,\n",
    "          (u'Sloan, Tina', u'Dever, James D.'): None,\n",
    "          (u'Wasserman, Jerry', u'Sizemore, Tom'): None}\n",
    "\n",
    "# Here are some test cases.\n",
    "# For example, the obscurity score of the least obscure path\n",
    "# between 'Ali, Tony' and 'Allen, Woody' is 0.5657\n",
    "test = {(u'Ali, Tony', u'Allen, Woody'): 0.5657,\n",
    "        (u'Auberjonois, Rene', u'MacInnes, Angus'): 0.0814,\n",
    "        (u'Avery, Shondrella', u'Dorsey, Kimberly (I)'): 0.7837,\n",
    "        (u'Bollo, Lou', u'Jeremy, Ron'): 0.4763,\n",
    "        (u'Byrne, P.J.', u'Clarke, Larry'): 0.109,\n",
    "        (u'Couturier, Sandra-Jessica', u'Jean-Louis, Jimmy'): 0.3649,\n",
    "        (u'Crawford, Eve (I)', u'Cutler, Tom'): 0.2052,\n",
    "        (u'Flemyng, Jason', u'Newman, Laraine'): 0.139,\n",
    "        (u'French, Dawn', u'Smallwood, Tucker'): 0.2979,\n",
    "        (u'Gunton, Bob', u'Nagra, Joti'): 0.2136,\n",
    "        (u'Hoffman, Jake (I)', u'Shook, Carol'): 0.6073,\n",
    "        (u'Kamiki, Ry\\xfbnosuke', u'Thor, Cameron'): 0.3644,\n",
    "        (u'Roache, Linus', u'Dreyfuss, Richard'): 0.6731,\n",
    "        (u'Sanchez, Phillip (I)', u'Wiest, Dianne'): 0.5083,\n",
    "        (u'Sheppard, William Morgan', u'Crook, Mackenzie'): 0.0849,\n",
    "        (u'Stan, Sebastian', u'Malahide, Patrick'): 0.2857,\n",
    "        (u'Tessiero, Michael A.', u'Molen, Gerald R.'): 0.2056,\n",
    "        (u'Thomas, Ken (I)', u'Bell, Jamie (I)'): 0.3941,\n",
    "        (u'Thompson, Sophie (I)', u'Foley, Dave (I)'): 0.1095,\n",
    "        (u'Tzur, Mira', u'Heston, Charlton'): 0.3642}\n"
   ]
  },
  {
   "cell_type": "markdown",
   "metadata": {},
   "source": [
    "###  &#x1F578; &nbsp;  Lesson 6. Hardness of Network Problems"
   ]
  },
  {
   "cell_type": "code",
   "execution_count": 14,
   "metadata": {
    "collapsed": false
   },
   "outputs": [
    {
     "name": "stdout",
     "output_type": "stream",
     "text": [
      "{1: {3: 1}, 2: {5: 1, 6: 1}, 3: {1: 1, 6: 1}, 4: {}, 5: {2: 1}, 6: {2: 1, 3: 1}}\n",
      "[1, 3, 6, 2, 5]\n",
      "{1: {3: 1}, 2: {5: 1, 6: 1}, 3: {1: 1, 6: 1}, 4: {5: 1}, 5: {2: 1, 4: 1}, 6: {2: 1, 3: 1}}\n",
      "[1, 3, 6, 2, 5, 4]\n"
     ]
    }
   ],
   "source": [
    "#\n",
    "# Modify long_and_simple_path \n",
    "# to build and return the path\n",
    "# \n",
    "\n",
    "# Find me that path!\n",
    "def long_and_simple_path(G,u,v,l):\n",
    "    \"\"\"\n",
    "    G: Graph\n",
    "    u: starting node\n",
    "    v: ending node\n",
    "    l: minimum length of path\n",
    "    \"\"\"\n",
    "\n",
    "    for v1 in G:\n",
    "        neighbors = list(G[v1]) #.keys()\n",
    "        for v2 in neighbors:\n",
    "            break_link(G, v1, v2)\n",
    "            condition = long_and_simple_decision(G,u,v,l)\n",
    "            if not condition:\n",
    "                make_link(G, v1, v2)\n",
    "    print (G)\n",
    "    min_path = [u]\n",
    "    start = u\n",
    "    current = list(G[start])[0] #.keys()[0]\n",
    "    i = 0\n",
    "    while (current != v) and i < 5:\n",
    "        min_path.append(current)\n",
    "        next1 = list(G[current])[0] #.keys()[0]\n",
    "        next2 = list(G[current])[1] #.keys()[1]\n",
    "        if next1 == start: (start,current) = (current, next2)\n",
    "        else: (start,current) = (current, next1)\n",
    "        i +=1\n",
    "    return min_path + [v]    \n",
    "\n",
    "    # Otherwise, build and return the path\n",
    "\n",
    "#############\n",
    "\n",
    "def make_link(G, node1, node2):\n",
    "    if node1 not in G:\n",
    "        G[node1] = {}\n",
    "    (G[node1])[node2] = 1\n",
    "    if node2 not in G:\n",
    "        G[node2] = {}\n",
    "    (G[node2])[node1] = 1\n",
    "    return G\n",
    "\n",
    "def break_link(G, node1, node2):\n",
    "    if node1 not in G:\n",
    "        print (\"error: breaking link in a non-existent node\")\n",
    "        return\n",
    "    if node2 not in G:\n",
    "        print (\"error: breaking link in a non-existent node\")\n",
    "        return\n",
    "    if node2 not in G[node1]:\n",
    "        print (\"error: breaking non-existent link\")\n",
    "        return\n",
    "    if node1 not in G[node2]:\n",
    "        print (\"error: breaking non-existent link\")\n",
    "        return\n",
    "    del G[node1][node2]\n",
    "    del G[node2][node1]\n",
    "    return G\n",
    "\n",
    "flights = [(1,2),(1,3),(2,3),(2,6),(2,4),(2,5),(3,6),(4,5)]\n",
    "G = {}\n",
    "for (x,y) in flights: make_link(G,x,y)\n",
    "\n",
    "def all_perms(seq):\n",
    "    if len(seq) == 0: return [[]]\n",
    "    if len(seq) == 1: return [seq, []]\n",
    "    most = all_perms(list(seq)[1:])\n",
    "    first = list(seq)[0]\n",
    "    rest = []\n",
    "    for perm in most:\n",
    "        for i in range(len(perm)+1):\n",
    "            rest.append(perm[0:i] + [first] + perm[i:])\n",
    "    return most + rest\n",
    "\n",
    "def check_path(G,path):\n",
    "    for i in range(len(path)-1):\n",
    "        if path[i+1] not in G[path[i]]: return False\n",
    "    return True\n",
    "    \n",
    "def long_and_simple_decision(G,u,v,l):\n",
    "    if l == 0:\n",
    "        return False\n",
    "    n = len(G)\n",
    "    perms = all_perms(G.keys())\n",
    "    for perm in perms:\n",
    "        # check path\n",
    "        if (len(perm) >= l and check_path(G,perm) and perm[0] == u \n",
    "            and perm[len(perm)-1] == v): \n",
    "            return True\n",
    "    return False\n",
    "\n",
    "print (long_and_simple_path(G,1,5,4))\n",
    "\n",
    "G1 = {1: {2: 1, 3: 1}, 2: {1: 1, 3: 1, 4: 1, 5: 1, 6: 1}, 3: {1: 1, 2: 1, 6: 1}, \n",
    "      4: {2: 1, 5: 1}, 5: {2: 1, 4: 1}, 6: {2: 1, 3: 1}}\n",
    "\n",
    "print (long_and_simple_path(G1,1,4,6))"
   ]
  },
  {
   "cell_type": "markdown",
   "metadata": {
    "collapsed": true
   },
   "source": [
    " Decision problems\n",
    "\n",
    "◦ Given an input and a question regarding a problem, determine if the\n",
    "answer is yes or no\n",
    "\n",
    " Optimization problems\n",
    "\n",
    "◦ Find a solution with the “best” or “optimum” value\n",
    "\n",
    " Optimization problems can be cast as decision problems\n",
    "that are easier to study\n",
    "\n",
    "◦ e.g.: Shortest path: G = unweighted directed graph\n",
    "\n",
    " Find a path between u and v that uses the fewest edges (optimization)\n",
    " Does a path exist from u to v consisting of at most k edges? (decision)"
   ]
  },
  {
   "cell_type": "markdown",
   "metadata": {},
   "source": [
    " Class P consists of (decision) problems that are solvable in polynomial time\n",
    "\n",
    " Polynomial-time algorithms\n",
    "\n",
    "◦ Worst-case running time is O(n^k), for some constant k\n",
    "\n",
    "◦ Examples: O(n^2), O(n^3), O(1), O(n lg n)\n",
    "    \n",
    " Examples of non-polynomial time: O(2^n) O(n^n), O(n!)"
   ]
  },
  {
   "cell_type": "markdown",
   "metadata": {},
   "source": [
    "Problems in P are called tractable\n",
    "\n",
    " Problems not in P are intractable or unsolvable\n",
    "\n",
    "◦ Can be solved in reasonable time only for small input size\n",
    "\n",
    "◦ Or, can not be solved at all\n",
    "\n",
    " Are non-polynomial algorithms always worst than polynomial ones?\n",
    "\n",
    "◦ n^500 is technically tractable, but almost impossible to solve\n",
    "\n",
    "◦ ((n^lg )^lg)^ lg n is technically intractable, but possible to solve for reasonable size n"
   ]
  },
  {
   "cell_type": "markdown",
   "metadata": {},
   "source": [
    "Examples of Intractable Problems\n",
    "\n",
    "Hamiltonian Path: Given a graph G = (V, E), determine a path that\n",
    "contains each and every vertex in V only once.\n",
    "\n",
    "Traveling Salesman: Find a minimum weight Hamiltonian Path.\n",
    "The most popular unsolvable problem\n",
    "\n",
    " Alan Turing discovered in the 1930’s that there are problems which\n",
    "are unsolvable by any algorithm.\n",
    "\n",
    " The most famous unsolvable problem is\n",
    "\n",
    "Halting Problem: Given an arbitrary algorithm and its input, will that algorithm eventually halt,\n",
    "or will it continue forever in an “infinite loop? ”"
   ]
  },
  {
   "cell_type": "markdown",
   "metadata": {},
   "source": [
    "Nondeterministic algorithm = two stage procedure:\n",
    "\n",
    "1) Nondeterministic (“guessing”) stage:\n",
    "generate randomly an arbitrary string that can be thought of as a candidate solution (“certificate”)\n",
    "\n",
    "2) Deterministic (“verification”) stage:\n",
    "take the certificate and the instance to the problem and return YES if the certificate represents a solution NP algorithms (Nondeterministic polynomial) verification stage is polynomial\n",
    "\n",
    "Warning!: NP does not mean “non-polynomial”\n",
    "Class NP consists of problems that could be solved by NP\n",
    "algorithms (i.e., verifiable in polynomial time)"
   ]
  },
  {
   "cell_type": "markdown",
   "metadata": {},
   "source": [
    "NP-complete problems are defined as the hardest problems in NP\n",
    "\n",
    " Most practical problems turn out to be either P or NP-complete.\n",
    "\n",
    "Reduction is a way of saying that one problem is “easier” than another.\n",
    "\n",
    " We say that problem A is easier than problem B, (i.e., we write “A ≤ B”)\n",
    " if we can solve A using the algorithm that solves B.\n",
    " \n",
    " Idea: transform the inputs of A to inputs of B"
   ]
  },
  {
   "cell_type": "markdown",
   "metadata": {},
   "source": [
    " Given two problems A, B, we say that A is polynomially\n",
    "reducible to B (A ≤p B) if:\n",
    "1. There exists a function f that converts the input of A to inputs of B in\n",
    "polynomial time\n",
    "2. A(i) = YES ⇔ B(f(i)) = YES"
   ]
  },
  {
   "cell_type": "markdown",
   "metadata": {},
   "source": [
    "P & NP-Complete Problems\n",
    "\n",
    " Shortest simple path\n",
    "\n",
    "◦ Given a graph G = (V, E) find a shortest path from a source to all other vertices\n",
    "\n",
    "◦ Polynomial solution: O(VE)\n",
    "\n",
    " Longest simple path\n",
    "\n",
    "◦ Given a graph G = (V, E) find a longest path from a source to all other vertices\n",
    "\n",
    "◦ NP-complete\n",
    "\n",
    " Euler tour\n",
    "\n",
    "◦ G = (V, E) a connected, directed graph find a cycle that traverses each edge of G exactly once (may visit a vertex multiple times)\n",
    "\n",
    "◦ Polynomial solution O(E)\n",
    "\n",
    " Hamiltonian cycle\n",
    "\n",
    "◦ G = (V, E) a connected, directed graph find a cycle that visits each vertex of G exactly once\n",
    "\n",
    "◦ NP-complete"
   ]
  },
  {
   "cell_type": "markdown",
   "metadata": {},
   "source": [
    "Satisfiability problem: given a logical expression Φ, find an assignment of values (T/F) to variables xi\n",
    "that causes Φ to evaluate to T(True)\n",
    "\n",
    "Ф= x1 or not x2 and x3 or not x4\n",
    "\n",
    " SAT was the first problem shown to be NP-complete!\n",
    "\n",
    "CNF is a special case of SAT\n",
    "\n",
    " Φ is in “Conjuctive Normal Form” (CNF)\n",
    "\n",
    "◦ “AND” of expressions (i.e., clauses)\n",
    "\n",
    "◦ Each clause contains only “OR”s of the variables and their complements\n",
    "\n",
    " E.g.: Ф = (x1 or x2) and (x1 or not x2) and (not x1 or not x2)\n",
    "\n",
    "A subcase of CNF problem:\n",
    "    \n",
    "◦ each clause is limited to at most three literals\n",
    "\n",
    "e.g.: W = (x1 or not x2 or not x3) and (x2 or x3 or x4) and (not x1 or not x3 or not x4) and (x1 or x2 or x4)\n",
    "\n",
    "3-CNF is NP-Complete\n",
    "\n",
    " Interestingly enough, 2-CNF is in P!\n",
    "\n",
    "Clique Problem:\n",
    "    \n",
    "◦ Undirected graph G = (V, E)\n",
    "\n",
    "◦ Clique: a subset of vertices in V all connected to each other by edges in E (i.e., forming a complete graph)\n",
    "\n",
    "◦ Size of a clique: number of vertices it contains\n",
    "    \n",
    "Optimization problem:\n",
    "    \n",
    "◦ Find a clique of maximum size\n",
    "\n",
    "Decision problem:\n",
    "    \n",
    "◦ Does G have a clique of size k?\n"
   ]
  },
  {
   "cell_type": "markdown",
   "metadata": {},
   "source": [
    "In graph theory, graph coloring is a special case of graph labeling; it is an assignment of labels traditionally called \"colors\" to elements of a graph subject to certain constraints. In its simplest form, it is a way of coloring the vertices of a graph such that no two adjacentvertices share the same color; this is called a vertex coloring. Similarly, an edge coloringassigns a color to each edge so that no two adjacent edges share the same color, and aface coloring of a planar graph assigns a color to each face or region so that no two faces that share a boundary have the same color.\n",
    "Vertex coloring is the starting point of the subject, and other coloring problems can be transformed into a vertex version. For example, an edge coloring of a graph is just a vertex coloring of its line graph, and a face coloring of a plane graph is just a vertex coloring of itsdual. However, non-vertex coloring problems are often stated and studied as is. That is partly for perspective, and partly because some problems are best studied in non-vertex form, as for instance is edge coloring.\n",
    "\n",
    "A coloring using at most k colors is called a (proper) k-coloring. The smallest number of colors needed to color a graph G is called its chromatic number, and is often denoted χ(G). Sometimes γ(G) is used, since χ(G) is also used to denote the Euler characteristic of a graph. A graph that can be assigned a (proper) k-coloring is k-colorable, and it is k-chromatic if its chromatic number is exactly k. A subset of vertices assigned to the same color is called a color class, every such class forms an independent set. Thus, a k-coloring is the same as a partition of the vertex set into k independent sets, and the terms k-partite and k-colorable have the same meaning."
   ]
  },
  {
   "cell_type": "code",
   "execution_count": 15,
   "metadata": {
    "collapsed": false
   },
   "outputs": [
    {
     "name": "stdout",
     "output_type": "stream",
     "text": [
      "True\n",
      "False\n"
     ]
    }
   ],
   "source": [
    "############\n",
    "#\n",
    "# Verify a coloring of a graph\n",
    "#\n",
    "############\n",
    "\n",
    "# if cert a k-coloring of G?\n",
    "#   colors in {0, ..., k-1}\n",
    "def verify(G, cert, k):\n",
    "    if len(cert) != len(G): \n",
    "        return False\n",
    "    for element in cert.keys():\n",
    "        if cert[element] not in range(k):\n",
    "            return False\n",
    "        for neighbor in G[element]:\n",
    "            if cert[neighbor] == cert[element]:\n",
    "                return False\n",
    "    return True\n",
    "\n",
    "#######\n",
    "#\n",
    "# Testing\n",
    "\n",
    "def make_link(G, node1, node2):\n",
    "    if node1 not in G:\n",
    "        G[node1] = {}\n",
    "    (G[node1])[node2] = 1\n",
    "    if node2 not in G:\n",
    "        G[node2] = {}\n",
    "    (G[node2])[node1] = 1\n",
    "    return G\n",
    "\n",
    "\n",
    "(a,b,c,d,e,f,g,h) = ('a','b','c','d','e','f','g','h')\n",
    "cxns = [(a,c),(a,b),(c,d),(b,d),(d,e),(d,f),(e,g),(f,g),(f,h),(g,h)]\n",
    "\n",
    "G = {}\n",
    "for (x,y) in cxns: make_link(G,x,y)\n",
    "\n",
    "\n",
    "cert = {}\n",
    "for (node, color) in [(a,0),(b,1),(c,2),(d,0),(e,1),(f,2),(g,0),(h,1)]:\n",
    "    cert[node] = color\n",
    "print (verify(G,cert,3))\n",
    "\n",
    "cert = {}\n",
    "for (node, color) in [(a,0),(b,1),(c,2),(d,0),(e,0),(f,1),(g,2),(h,0)]:\n",
    "    cert[node] = color\n",
    "print (verify(G,cert,4))"
   ]
  },
  {
   "cell_type": "code",
   "execution_count": 37,
   "metadata": {
    "collapsed": false
   },
   "outputs": [
    {
     "name": "stdout",
     "output_type": "stream",
     "text": [
      "True\n"
     ]
    }
   ],
   "source": [
    "import networkx as nx\n",
    "import matplotlib.pyplot as plt\n",
    "% matplotlib inline\n",
    "CG = nx.cycle_graph(4)\n",
    "d = nx.coloring.greedy_color(CG, strategy=nx.coloring.strategy_largest_first)\n",
    "print (d in [{0: 0, 1: 1, 2: 0, 3: 1}, {0: 1, 1: 0, 2: 1, 3: 0}])"
   ]
  },
  {
   "cell_type": "code",
   "execution_count": 38,
   "metadata": {
    "collapsed": false
   },
   "outputs": [
    {
     "data": {
      "text/plain": [
       "{0: 0, 1: 1, 2: 0, 3: 1}"
      ]
     },
     "execution_count": 38,
     "metadata": {},
     "output_type": "execute_result"
    }
   ],
   "source": [
    "d"
   ]
  },
  {
   "cell_type": "code",
   "execution_count": 39,
   "metadata": {
    "collapsed": false
   },
   "outputs": [
    {
     "data": {
      "image/png": "[encoded data removed]",
      "text/plain": [
       "<matplotlib.figure.Figure at 0x1109134e0>"
      ]
     },
     "metadata": {},
     "output_type": "display_data"
    }
   ],
   "source": [
    "pos=nx.circular_layout(CG)\n",
    "nx.draw_networkx(CG, pos)"
   ]
  },
  {
   "cell_type": "markdown",
   "metadata": {},
   "source": [
    "###  &#x1F578; &nbsp;  Problem Set 6"
   ]
  },
  {
   "cell_type": "code",
   "execution_count": 40,
   "metadata": {
    "collapsed": false
   },
   "outputs": [],
   "source": [
    "# 1\n",
    "# In the lecture, we described how a solution to k_clique_decision(G, k)\n",
    "# can be used to solve independent_set_decision(H,s).  \n",
    "# Write a Python function that carries out this transformation.  \n",
    "\n",
    "# Returns a list of all the subsets of a list of size k\n",
    "def k_subsets(lst, k):\n",
    "    if len(lst) < k:\n",
    "        return []\n",
    "    if len(lst) == k:\n",
    "        return [lst]\n",
    "    if k == 1:\n",
    "        return [[i] for i in lst]\n",
    "    return k_subsets(lst[1:],k) + map(lambda x: x + [lst[0]], k_subsets(lst[1:], k-1))\n",
    "\n",
    "# Checks if the given list of nodes forms a clique in the given graph.\n",
    "def is_clique(G, nodes):\n",
    "    for pair in k_subsets(nodes, 2):\n",
    "        if pair[1] not in G[pair[0]]:\n",
    "            return False\n",
    "    return True\n",
    "\n",
    "# Determines if there is clique of size k or greater in the given graph.\n",
    "def k_clique_decision(G, k):\n",
    "    nodes = G.keys()\n",
    "    for i in range(k, len(nodes) + 1):\n",
    "        for subset in k_subsets(nodes, i):\n",
    "            if is_clique(G, subset):\n",
    "                return True\n",
    "    return False\n",
    "    \n",
    "def make_link(G, node1, node2):\n",
    "    if node1 not in G:\n",
    "        G[node1] = {}\n",
    "    (G[node1])[node2] = 1\n",
    "    if node2 not in G:\n",
    "        G[node2] = {}\n",
    "    (G[node2])[node1] = 1\n",
    "    return G\n",
    "\n",
    "def break_link(G, node1, node2):\n",
    "    if node1 not in G:\n",
    "        print (\"error: breaking link in a non-existent node\")\n",
    "        return\n",
    "    if node2 not in G:\n",
    "        print (\"error: breaking link in a non-existent node\")\n",
    "        return\n",
    "    if node2 not in G[node1]:\n",
    "        print (\"error: breaking non-existent link\")\n",
    "        return\n",
    "    if node1 not in G[node2]:\n",
    "        print (\"error: breaking non-existent link\")\n",
    "        return\n",
    "    del G[node1][node2]\n",
    "    del G[node2][node1]\n",
    "    return G\n",
    "   \n",
    "# This function should use the k_clique_decision function\n",
    "# to solve the independent set decision problem\n",
    "def independent_set_decision(H, s):\n",
    "    # your code here\n",
    "    return True"
   ]
  },
  {
   "cell_type": "code",
   "execution_count": 41,
   "metadata": {
    "collapsed": true
   },
   "outputs": [],
   "source": [
    "#2\n",
    "# Decision problems are often just as hard as actually returning an answer.\n",
    "# Show how a k-clique can be found using a solution to the k-clique decision \n",
    "# problem.  Write a Python function that takes a graph G and a number k \n",
    "# as input, and returns a list of k nodes from G that are all connected \n",
    "# in the graph.  Your function should make use of \"k_clique_decision(G, k)\", \n",
    "# which takes a graph G and a number k and answers whether G contains a k-clique.  \n",
    "# We will also provide the standard routines for adding and removing edges from a graph.\n",
    "\n",
    "# Returns a list of all the subsets of a list of size k\n",
    "def k_subsets(lst, k):\n",
    "    if len(lst) < k:\n",
    "        return []\n",
    "    if len(lst) == k:\n",
    "        return [lst]\n",
    "    if k == 1:\n",
    "        return [[i] for i in lst]\n",
    "    return k_subsets(lst[1:],k) + map(lambda x: x + [lst[0]], k_subsets(lst[1:], k-1))\n",
    "\n",
    "# Checks if the given list of nodes forms a clique in the given graph.\n",
    "def is_clique(G, nodes):\n",
    "    for pair in k_subsets(nodes, 2):\n",
    "        if pair[1] not in G[pair[0]]:\n",
    "            return False\n",
    "    return True\n",
    "\n",
    "# Determines if there is clique of size k or greater in the given graph.\n",
    "def k_clique_decision(G, k):\n",
    "    nodes = G.keys()\n",
    "    for i in range(k, len(nodes) + 1):\n",
    "        for subset in k_subsets(nodes, i):\n",
    "            if is_clique(G, subset):\n",
    "                return True\n",
    "    return False\n",
    "\n",
    "def make_link(G, node1, node2):\n",
    "    if node1 not in G:\n",
    "        G[node1] = {}\n",
    "    (G[node1])[node2] = 1\n",
    "    if node2 not in G:\n",
    "        G[node2] = {}\n",
    "    (G[node2])[node1] = 1\n",
    "    return G\n",
    "\n",
    "def break_link(G, node1, node2):\n",
    "    if node1 not in G:\n",
    "        print (\"error: breaking link in a non-existent node\")\n",
    "        return\n",
    "    if node2 not in G:\n",
    "        print (\"error: breaking link in a non-existent node\")\n",
    "        return\n",
    "    if node2 not in G[node1]:\n",
    "        print (\"error: breaking non-existent link\")\n",
    "        return\n",
    "    if node1 not in G[node2]:\n",
    "        print (\"error: breaking non-existent link\")\n",
    "        return\n",
    "    del G[node1][node2]\n",
    "    del G[node2][node1]\n",
    "    return G\n",
    "    \n",
    "def k_clique(G, k):\n",
    "    if not k_clique_decision(G, k):\n",
    "        return False\n",
    "    # your code here"
   ]
  }
 ],
 "metadata": {
  "anaconda-cloud": {},
  "hide_input": false,
  "kernelspec": {
   "display_name": "Python [conda root]",
   "language": "python",
   "name": "conda-root-py"
  },
  "language_info": {
   "codemirror_mode": {
    "name": "ipython",
    "version": 3
   },
   "file_extension": ".py",
   "mimetype": "text/x-python",
   "name": "python",
   "nbconvert_exporter": "python",
   "pygments_lexer": "ipython3",
   "version": "3.5.2"
  },
  "latex_envs": {
   "bibliofile": "biblio.bib",
   "cite_by": "apalike",
   "current_citInitial": 1,
   "eqLabelWithNumbers": true,
   "eqNumInitial": 0
  }
 },
 "nbformat": 4,
 "nbformat_minor": 2
}
