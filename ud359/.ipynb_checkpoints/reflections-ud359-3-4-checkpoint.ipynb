{
 "cells": [
  {
   "cell_type": "markdown",
   "metadata": {},
   "source": [
    "# &#x1F4D1; &nbsp; <span style=\"color:#338DD4\"> Reflections. Intro to Data Science. Lessons 3-4</span>"
   ]
  },
  {
   "cell_type": "markdown",
   "metadata": {},
   "source": [
    "###  &#x1F4CA; &nbsp; Links"
   ]
  },
  {
   "cell_type": "markdown",
   "metadata": {
    "collapsed": true
   },
   "source": [
    "http://www.scipy-lectures.org/packages/statistics/index.html\n",
    "\n",
    "https://docs.scipy.org/doc/scipy-0.15.1/reference/generated/scipy.stats.ttest_ind.html\n",
    "\n",
    "https://hbfs.wordpress.com/2012/04/24/introduction-to-gradient-descent/\n",
    "\n",
    "http://machinelearningmastery.com/linear-regression-tutorial-using-gradient-descent-for-machine-learning/\n"
   ]
  },
  {
   "cell_type": "markdown",
   "metadata": {
    "collapsed": true
   },
   "source": [
    "###  &#x1F4CA; &nbsp;  Lesson 3. Analyzing Subway Data"
   ]
  },
  {
   "cell_type": "markdown",
   "metadata": {},
   "source": [
    "### Gaussian Normal Distribution: &nbsp; $P(x) = \\frac{1}{{\\sigma \\sqrt {2\\pi } }}$ $e^{{ - \\left( {x - \\mu } \\right) ^2} / {2\\sigma ^2 }}$"
   ]
  },
  {
   "cell_type": "markdown",
   "metadata": {},
   "source": [
    "### Standard Normal Distribution: &nbsp; $y = \\frac{1}{{\\sqrt {2\\pi } }}e^{ - \\frac{{z^2 }}{2}} = .3989e^{ - 5z^2 }$"
   ]
  },
  {
   "cell_type": "code",
   "execution_count": 34,
   "metadata": {
    "collapsed": false
   },
   "outputs": [
    {
     "name": "stdout",
     "output_type": "stream",
     "text": [
      "-0.2796823595120407 307.1987997516727\n"
     ]
    }
   ],
   "source": [
    "import math\n",
    "t = (0.299 - 0.307) / math.sqrt(0.05 / 150 + 0.08/165)\n",
    "v0 = math.pow((0.05 / 150.0 + 0.08 / 165.0), 2)\n",
    "v1 =  math.pow(0.05, 2) / ((150 - 1) * math.pow(150, 2))\n",
    "v2 =  math.pow(0.08, 2) / ((165 - 1) * math.pow(165, 2))\n",
    "print (t, v0/(v1+v2))"
   ]
  },
  {
   "cell_type": "code",
   "execution_count": 191,
   "metadata": {
    "collapsed": false
   },
   "outputs": [],
   "source": [
    "import pandas as pd\n",
    "import numpy as np\n",
    "import sys\n",
    "import matplotlib\n",
    "\n",
    "import matplotlib.pyplot as plt\n",
    "% matplotlib inline\n",
    "\n",
    "from scipy.stats import ttest_ind\n",
    "# two sample\n",
    "# t, p = ttest_ind(a, b, equal_var=False)\n",
    "\n",
    "import statsmodels.api as sm\n",
    "import sklearn.metrics\n",
    "\n",
    "import scipy\n",
    "from ggplot import *"
   ]
  },
  {
   "cell_type": "code",
   "execution_count": 44,
   "metadata": {
    "collapsed": true
   },
   "outputs": [],
   "source": [
    "def compare_averages(filename):\n",
    "    \"\"\"\n",
    "    Performs a t-test on two sets of baseball data (left-handed and right-handed hitters).\n",
    "\n",
    "    You will be given a csv file that has three columns.  A player's\n",
    "    name, handedness (L for lefthanded or R for righthanded) and their\n",
    "    career batting average (called 'avg'). You can look at the csv\n",
    "    file by downloading the baseball_stats file from Downloadables below. \n",
    "    \n",
    "    Write a function that will read that the csv file into a pandas data frame,\n",
    "    and run Welch's t-test on the two cohorts defined by handedness.\n",
    "    \n",
    "    One cohort should be a data frame of right-handed batters. And the other\n",
    "    cohort should be a data frame of left-handed batters.\n",
    "    \n",
    "    We have included the scipy.stats library to help you write\n",
    "    or implement Welch's t-test:\n",
    "    http://docs.scipy.org/doc/scipy/reference/stats.html\n",
    "    \n",
    "    With a significance level of 95%, if there is no difference\n",
    "    between the two cohorts, return a tuple consisting of\n",
    "    True, and then the tuple returned by scipy.stats.ttest.  \n",
    "    \n",
    "    If there is a difference, return a tuple consisting of\n",
    "    False, and then the tuple returned by scipy.stats.ttest.\n",
    "    \n",
    "    For example, the tuple that you return may look like:\n",
    "    (True, (9.93570222, 0.000023))\n",
    "    \"\"\"\n",
    "    df = pd.read_csv(filename)\n",
    "    a = df['avg'][df['handedness'] == 'R']\n",
    "    b = df['avg'][df['handedness'] == 'L']\n",
    "    t, p = ttest_ind(a, b, equal_var=False)\n",
    "    if p <= 0.05:\n",
    "        r = False\n",
    "    else:\n",
    "        r = True\n",
    "    return (r, (t, p))"
   ]
  },
  {
   "cell_type": "code",
   "execution_count": 45,
   "metadata": {
    "collapsed": false
   },
   "outputs": [
    {
     "data": {
      "text/plain": [
       "(False, (-9.9357022262420944, 3.8102742258887383e-23))"
      ]
     },
     "execution_count": 45,
     "metadata": {},
     "output_type": "execute_result"
    }
   ],
   "source": [
    "compare_averages('baseball_stats.csv')"
   ]
  },
  {
   "cell_type": "markdown",
   "metadata": {},
   "source": [
    "##### Linear Regression With Gradient Descent\n"
   ]
  },
  {
   "cell_type": "code",
   "execution_count": 48,
   "metadata": {
    "collapsed": true
   },
   "outputs": [],
   "source": [
    "def compute_cost(features, values, theta):\n",
    "    \"\"\"\n",
    "    Compute the cost of a list of parameters, theta, given a list of features \n",
    "    (input data points) and values (output data points).\n",
    "    \"\"\"\n",
    "    m = len(values)\n",
    "    sum_of_square_errors = np.square(np.dot(features, theta) - values).sum()\n",
    "    cost = sum_of_square_errors / (2 * m)\n",
    "\n",
    "    return cost\n",
    "\n",
    "def gradient_descent(features, values, theta, alpha, num_iterations):\n",
    "    \"\"\"\n",
    "    Perform gradient descent given a data set with an arbitrary number of features.\n",
    "    \"\"\"\n",
    "\n",
    "    # Write code here that performs num_iterations updates to the elements of theta.\n",
    "    # times. Every time you compute the cost for a given list of thetas, append it \n",
    "    # to cost_history.\n",
    "    # See the Instructor notes for hints. \n",
    "    \n",
    "    cost_history = []\n",
    "\n",
    "    ###########################\n",
    "    ### YOUR CODE GOES HERE ###\n",
    "    ###########################\n",
    "    for i in range(num_iterations):\n",
    "        \n",
    "        delta = (np.dot((values - np.dot(features, theta)), features)) / len(values)\n",
    "        theta = theta + alpha * delta\n",
    "        cost_history.append(compute_cost(features, values, theta))\n",
    "\n",
    "    return theta, pd.Series(cost_history) # leave this line for the grader"
   ]
  },
  {
   "cell_type": "code",
   "execution_count": 52,
   "metadata": {
    "collapsed": false
   },
   "outputs": [],
   "source": [
    "def compute_r_squared(data, predictions):\n",
    "    # Write a function that, given two input numpy arrays, 'data', and 'predictions,'\n",
    "    # returns the coefficient of determination, R^2, for the model that produced \n",
    "    # predictions.\n",
    "    # \n",
    "    # Numpy has a couple of functions -- np.mean() and np.sum() --\n",
    "    # that you might find useful, but you don't have to use them.\n",
    "\n",
    "    # YOUR CODE GOES HERE\n",
    "    \n",
    "    r_squared = 1 - np.sum(np.square(data - predictions)) / np.sum(np.square(data - np.mean(data)))\n",
    "\n",
    "    return r_squared"
   ]
  },
  {
   "cell_type": "code",
   "execution_count": 166,
   "metadata": {
    "collapsed": false
   },
   "outputs": [
    {
     "data": {
      "text/plain": [
       "0.94860813704496794"
      ]
     },
     "execution_count": 166,
     "metadata": {},
     "output_type": "execute_result"
    }
   ],
   "source": [
    "# sklearn.metrics \n",
    "y_true = [3, -0.5, 2, 7]\n",
    "y_pred = [2.5, 0.0, 2, 8]\n",
    "r2_score(y_true, y_pred)"
   ]
  },
  {
   "cell_type": "code",
   "execution_count": 167,
   "metadata": {
    "collapsed": false
   },
   "outputs": [
    {
     "data": {
      "text/plain": [
       "0.93825665859564167"
      ]
     },
     "execution_count": 167,
     "metadata": {},
     "output_type": "execute_result"
    }
   ],
   "source": [
    "# sklearn.metrics \n",
    "y_true = [[0.5, 1], [-1, 1], [7, -6]]\n",
    "y_pred = [[0, 2], [-1, 2], [8, -5]]\n",
    "r2_score(y_true, y_pred, multioutput='variance_weighted')  "
   ]
  },
  {
   "cell_type": "code",
   "execution_count": 168,
   "metadata": {
    "collapsed": false
   },
   "outputs": [
    {
     "data": {
      "text/plain": [
       "0.5"
      ]
     },
     "execution_count": 168,
     "metadata": {},
     "output_type": "execute_result"
    }
   ],
   "source": [
    "# sklearn.metrics \n",
    "y_pred = [0, 2, 1, 3]\n",
    "y_true = [0, 1, 2, 3]\n",
    "accuracy_score(y_true, y_pred)"
   ]
  },
  {
   "cell_type": "code",
   "execution_count": 169,
   "metadata": {
    "collapsed": false
   },
   "outputs": [
    {
     "data": {
      "text/plain": [
       "2"
      ]
     },
     "execution_count": 169,
     "metadata": {},
     "output_type": "execute_result"
    }
   ],
   "source": [
    "# sklearn.metrics \n",
    "accuracy_score(y_true, y_pred, normalize=False)"
   ]
  },
  {
   "cell_type": "markdown",
   "metadata": {},
   "source": [
    "##### Three types of machine learning: supervised learning, unsupervised learning, and reinforcement learning.\n",
    "\n",
    "The *supervised* is learning a model from labeled training data to make predictions about unseen or future data (in a set of samples the desired outputs are already known).   \n",
    "\n",
    "The *unsupervised* is learning with unlabeled data or data of the unknown structure (extracting meaningful information without a known outcome variable or a reward function).\n",
    "\n",
    "The *reinforcement* is to develop a system that improves its performance based on interactions with the environment (an exploratory trial-and-error approach or a deliberative planning). "
   ]
  },
  {
   "cell_type": "markdown",
   "metadata": {},
   "source": [
    "select of features &#x1F449; &nbsp; choose a metric &#x1F449; &nbsp; choose a classifier and an optimization algorithm &#x1F449; &nbsp; evaluate of the model &#x1F449; &nbsp; tune the algorithm"
   ]
  },
  {
   "cell_type": "markdown",
   "metadata": {},
   "source": [
    "##### Underfitting and overfitting are two main reasons for non-effective work of machine learning algorithms. It leads to poor predictions for new data sets.\n",
    "Underfitting means constructing a model which does not work with the training data or any new data. In this case, the machine learning algorithm cannot capture the data trend. It happens because of simplifying the model.\n",
    "\n",
    "Overfitting means constructing a model which fits the training data too well and does not work with any new data. Here the machine learning algorithm can capture the trend of data noise (or the non-exist trend). It happens because of complicating the model.\n",
    "\n",
    "Underfitting is much easier to detect with a good performance metric. Overfitting can be overcome by using techniques to estimate model accuracy (for example, k-fold cross validation).\n",
    "\n",
    "An ideal fit in machine learning is to catch a moment between these two critical points. The best way to find a good balance is to increase (for underfitting) or to decrease(for overfitting) the flexibility of the model by adding new features."
   ]
  },
  {
   "cell_type": "markdown",
   "metadata": {},
   "source": [
    "###  &#x1F4CA; &nbsp;  Problem Set 3"
   ]
  },
  {
   "cell_type": "code",
   "execution_count": 75,
   "metadata": {
    "collapsed": true
   },
   "outputs": [],
   "source": [
    "import datetime\n",
    "def time_to_hour(time):\n",
    "    hour = int(time[0:2]) # your code here    \n",
    "    return hour\n",
    "def reformat_subway_dates(date):\n",
    "    date_formatted = datetime.datetime.strptime(date,\"%m-%d-%y\").strftime(\"%Y-%m-%d\")# your code here\n",
    "    return date_formatted"
   ]
  },
  {
   "cell_type": "code",
   "execution_count": 135,
   "metadata": {
    "collapsed": false
   },
   "outputs": [
    {
     "name": "stdout",
     "output_type": "stream",
     "text": [
      "2011-05-01 2011-05-30\n"
     ]
    }
   ],
   "source": [
    "turnstile_data = pd.read_csv('master_turnstile.csv')\n",
    "\n",
    "turnstile_data[\"ENTRIESn_hourly\"] = turnstile_data[\"ENTRIESn\"] - turnstile_data[\"ENTRIESn\"].shift(periods=1)\n",
    "turnstile_data[\"ENTRIESn_hourly\"].fillna(value=1, inplace=True)\n",
    "turnstile_data[\"EXITSn_hourly\"] = turnstile_data[\"EXITSn\"] - turnstile_data[\"EXITSn\"].shift(periods=1)\n",
    "turnstile_data[\"EXITSn_hourly\"].fillna(value=0, inplace=True)\n",
    "turnstile_data['HOUR'] = turnstile_data['TIMEn'].apply(time_to_hour)\n",
    "turnstile_data['DATEn'] = turnstile_data['DATEn'].apply(reformat_subway_dates)\n",
    "\n",
    "weather_data = pd.read_csv('weather-underground.csv')\n",
    "min_date = np.min(weather_data['date'].values)\n",
    "max_date = np.max(weather_data['date'].values)\n",
    "print(min_date, max_date)\n",
    "turnstile_data1 = turnstile_data[(turnstile_data['DATEn'] >= min_date) & (turnstile_data['DATEn'] <= max_date)]"
   ]
  },
  {
   "cell_type": "code",
   "execution_count": 156,
   "metadata": {
    "collapsed": false
   },
   "outputs": [],
   "source": [
    "data = pd.read_csv('turnstile_data_master_with_weather.csv')"
   ]
  },
  {
   "cell_type": "code",
   "execution_count": 145,
   "metadata": {
    "collapsed": false
   },
   "outputs": [
    {
     "data": {
      "text/html": [
       "<div>\n",
       "<table border=\"1\" class=\"dataframe\">\n",
       "  <thead>\n",
       "    <tr style=\"text-align: right;\">\n",
       "      <th></th>\n",
       "      <th>0</th>\n",
       "      <th>1</th>\n",
       "      <th>2</th>\n",
       "      <th>3</th>\n",
       "      <th>4</th>\n",
       "    </tr>\n",
       "  </thead>\n",
       "  <tbody>\n",
       "    <tr>\n",
       "      <th>UNIT</th>\n",
       "      <td>R003</td>\n",
       "      <td>R003</td>\n",
       "      <td>R003</td>\n",
       "      <td>R003</td>\n",
       "      <td>R003</td>\n",
       "    </tr>\n",
       "    <tr>\n",
       "      <th>DATEn</th>\n",
       "      <td>05-01-11</td>\n",
       "      <td>05-01-11</td>\n",
       "      <td>05-01-11</td>\n",
       "      <td>05-01-11</td>\n",
       "      <td>05-01-11</td>\n",
       "    </tr>\n",
       "    <tr>\n",
       "      <th>TIMEn</th>\n",
       "      <td>00:00:00</td>\n",
       "      <td>04:00:00</td>\n",
       "      <td>12:00:00</td>\n",
       "      <td>16:00:00</td>\n",
       "      <td>20:00:00</td>\n",
       "    </tr>\n",
       "    <tr>\n",
       "      <th>ENTRIESn</th>\n",
       "      <td>4388333</td>\n",
       "      <td>4388333</td>\n",
       "      <td>4388333</td>\n",
       "      <td>4388333</td>\n",
       "      <td>4388333</td>\n",
       "    </tr>\n",
       "    <tr>\n",
       "      <th>EXITSn</th>\n",
       "      <td>2911002</td>\n",
       "      <td>2911002</td>\n",
       "      <td>2911002</td>\n",
       "      <td>2911002</td>\n",
       "      <td>2911002</td>\n",
       "    </tr>\n",
       "    <tr>\n",
       "      <th>ENTRIESn_hourly</th>\n",
       "      <td>0</td>\n",
       "      <td>0</td>\n",
       "      <td>0</td>\n",
       "      <td>0</td>\n",
       "      <td>0</td>\n",
       "    </tr>\n",
       "    <tr>\n",
       "      <th>EXITSn_hourly</th>\n",
       "      <td>0</td>\n",
       "      <td>0</td>\n",
       "      <td>0</td>\n",
       "      <td>0</td>\n",
       "      <td>0</td>\n",
       "    </tr>\n",
       "    <tr>\n",
       "      <th>datetime</th>\n",
       "      <td>2011-05-01 00:00:00</td>\n",
       "      <td>2011-05-01 04:00:00</td>\n",
       "      <td>2011-05-01 12:00:00</td>\n",
       "      <td>2011-05-01 16:00:00</td>\n",
       "      <td>2011-05-01 20:00:00</td>\n",
       "    </tr>\n",
       "    <tr>\n",
       "      <th>hour</th>\n",
       "      <td>0</td>\n",
       "      <td>4</td>\n",
       "      <td>12</td>\n",
       "      <td>16</td>\n",
       "      <td>20</td>\n",
       "    </tr>\n",
       "    <tr>\n",
       "      <th>day_week</th>\n",
       "      <td>6</td>\n",
       "      <td>6</td>\n",
       "      <td>6</td>\n",
       "      <td>6</td>\n",
       "      <td>6</td>\n",
       "    </tr>\n",
       "    <tr>\n",
       "      <th>weekday</th>\n",
       "      <td>0</td>\n",
       "      <td>0</td>\n",
       "      <td>0</td>\n",
       "      <td>0</td>\n",
       "      <td>0</td>\n",
       "    </tr>\n",
       "    <tr>\n",
       "      <th>station</th>\n",
       "      <td>CYPRESS HILLS</td>\n",
       "      <td>CYPRESS HILLS</td>\n",
       "      <td>CYPRESS HILLS</td>\n",
       "      <td>CYPRESS HILLS</td>\n",
       "      <td>CYPRESS HILLS</td>\n",
       "    </tr>\n",
       "    <tr>\n",
       "      <th>latitude</th>\n",
       "      <td>40.6899</td>\n",
       "      <td>40.6899</td>\n",
       "      <td>40.6899</td>\n",
       "      <td>40.6899</td>\n",
       "      <td>40.6899</td>\n",
       "    </tr>\n",
       "    <tr>\n",
       "      <th>longitude</th>\n",
       "      <td>-73.8726</td>\n",
       "      <td>-73.8726</td>\n",
       "      <td>-73.8726</td>\n",
       "      <td>-73.8726</td>\n",
       "      <td>-73.8726</td>\n",
       "    </tr>\n",
       "    <tr>\n",
       "      <th>conds</th>\n",
       "      <td>Clear</td>\n",
       "      <td>Partly Cloudy</td>\n",
       "      <td>Mostly Cloudy</td>\n",
       "      <td>Mostly Cloudy</td>\n",
       "      <td>Mostly Cloudy</td>\n",
       "    </tr>\n",
       "    <tr>\n",
       "      <th>fog</th>\n",
       "      <td>0</td>\n",
       "      <td>0</td>\n",
       "      <td>0</td>\n",
       "      <td>0</td>\n",
       "      <td>0</td>\n",
       "    </tr>\n",
       "    <tr>\n",
       "      <th>precipi</th>\n",
       "      <td>0</td>\n",
       "      <td>0</td>\n",
       "      <td>0</td>\n",
       "      <td>0</td>\n",
       "      <td>0</td>\n",
       "    </tr>\n",
       "    <tr>\n",
       "      <th>pressurei</th>\n",
       "      <td>30.22</td>\n",
       "      <td>30.25</td>\n",
       "      <td>30.28</td>\n",
       "      <td>30.26</td>\n",
       "      <td>30.28</td>\n",
       "    </tr>\n",
       "    <tr>\n",
       "      <th>rain</th>\n",
       "      <td>0</td>\n",
       "      <td>0</td>\n",
       "      <td>0</td>\n",
       "      <td>0</td>\n",
       "      <td>0</td>\n",
       "    </tr>\n",
       "    <tr>\n",
       "      <th>tempi</th>\n",
       "      <td>55.9</td>\n",
       "      <td>52</td>\n",
       "      <td>62.1</td>\n",
       "      <td>57.9</td>\n",
       "      <td>52</td>\n",
       "    </tr>\n",
       "    <tr>\n",
       "      <th>wspdi</th>\n",
       "      <td>3.5</td>\n",
       "      <td>3.5</td>\n",
       "      <td>6.9</td>\n",
       "      <td>15</td>\n",
       "      <td>10.4</td>\n",
       "    </tr>\n",
       "    <tr>\n",
       "      <th>meanprecipi</th>\n",
       "      <td>0</td>\n",
       "      <td>0</td>\n",
       "      <td>0</td>\n",
       "      <td>0</td>\n",
       "      <td>0</td>\n",
       "    </tr>\n",
       "    <tr>\n",
       "      <th>meanpressurei</th>\n",
       "      <td>30.258</td>\n",
       "      <td>30.258</td>\n",
       "      <td>30.258</td>\n",
       "      <td>30.258</td>\n",
       "      <td>30.258</td>\n",
       "    </tr>\n",
       "    <tr>\n",
       "      <th>meantempi</th>\n",
       "      <td>55.98</td>\n",
       "      <td>55.98</td>\n",
       "      <td>55.98</td>\n",
       "      <td>55.98</td>\n",
       "      <td>55.98</td>\n",
       "    </tr>\n",
       "    <tr>\n",
       "      <th>meanwspdi</th>\n",
       "      <td>7.86</td>\n",
       "      <td>7.86</td>\n",
       "      <td>7.86</td>\n",
       "      <td>7.86</td>\n",
       "      <td>7.86</td>\n",
       "    </tr>\n",
       "    <tr>\n",
       "      <th>weather_lat</th>\n",
       "      <td>40.7003</td>\n",
       "      <td>40.7003</td>\n",
       "      <td>40.7003</td>\n",
       "      <td>40.7003</td>\n",
       "      <td>40.7003</td>\n",
       "    </tr>\n",
       "    <tr>\n",
       "      <th>weather_lon</th>\n",
       "      <td>-73.8872</td>\n",
       "      <td>-73.8872</td>\n",
       "      <td>-73.8872</td>\n",
       "      <td>-73.8872</td>\n",
       "      <td>-73.8872</td>\n",
       "    </tr>\n",
       "  </tbody>\n",
       "</table>\n",
       "</div>"
      ],
      "text/plain": [
       "                                   0                    1  \\\n",
       "UNIT                            R003                 R003   \n",
       "DATEn                       05-01-11             05-01-11   \n",
       "TIMEn                       00:00:00             04:00:00   \n",
       "ENTRIESn                     4388333              4388333   \n",
       "EXITSn                       2911002              2911002   \n",
       "ENTRIESn_hourly                    0                    0   \n",
       "EXITSn_hourly                      0                    0   \n",
       "datetime         2011-05-01 00:00:00  2011-05-01 04:00:00   \n",
       "hour                               0                    4   \n",
       "day_week                           6                    6   \n",
       "weekday                            0                    0   \n",
       "station                CYPRESS HILLS        CYPRESS HILLS   \n",
       "latitude                     40.6899              40.6899   \n",
       "longitude                   -73.8726             -73.8726   \n",
       "conds                          Clear        Partly Cloudy   \n",
       "fog                                0                    0   \n",
       "precipi                            0                    0   \n",
       "pressurei                      30.22                30.25   \n",
       "rain                               0                    0   \n",
       "tempi                           55.9                   52   \n",
       "wspdi                            3.5                  3.5   \n",
       "meanprecipi                        0                    0   \n",
       "meanpressurei                 30.258               30.258   \n",
       "meantempi                      55.98                55.98   \n",
       "meanwspdi                       7.86                 7.86   \n",
       "weather_lat                  40.7003              40.7003   \n",
       "weather_lon                 -73.8872             -73.8872   \n",
       "\n",
       "                                   2                    3                    4  \n",
       "UNIT                            R003                 R003                 R003  \n",
       "DATEn                       05-01-11             05-01-11             05-01-11  \n",
       "TIMEn                       12:00:00             16:00:00             20:00:00  \n",
       "ENTRIESn                     4388333              4388333              4388333  \n",
       "EXITSn                       2911002              2911002              2911002  \n",
       "ENTRIESn_hourly                    0                    0                    0  \n",
       "EXITSn_hourly                      0                    0                    0  \n",
       "datetime         2011-05-01 12:00:00  2011-05-01 16:00:00  2011-05-01 20:00:00  \n",
       "hour                              12                   16                   20  \n",
       "day_week                           6                    6                    6  \n",
       "weekday                            0                    0                    0  \n",
       "station                CYPRESS HILLS        CYPRESS HILLS        CYPRESS HILLS  \n",
       "latitude                     40.6899              40.6899              40.6899  \n",
       "longitude                   -73.8726             -73.8726             -73.8726  \n",
       "conds                  Mostly Cloudy        Mostly Cloudy        Mostly Cloudy  \n",
       "fog                                0                    0                    0  \n",
       "precipi                            0                    0                    0  \n",
       "pressurei                      30.28                30.26                30.28  \n",
       "rain                               0                    0                    0  \n",
       "tempi                           62.1                 57.9                   52  \n",
       "wspdi                            6.9                   15                 10.4  \n",
       "meanprecipi                        0                    0                    0  \n",
       "meanpressurei                 30.258               30.258               30.258  \n",
       "meantempi                      55.98                55.98                55.98  \n",
       "meanwspdi                       7.86                 7.86                 7.86  \n",
       "weather_lat                  40.7003              40.7003              40.7003  \n",
       "weather_lon                 -73.8872             -73.8872             -73.8872  "
      ]
     },
     "execution_count": 145,
     "metadata": {},
     "output_type": "execute_result"
    }
   ],
   "source": [
    "data2 = pd.read_csv('turnstile_weather_v2.csv')\n",
    "data2.head().T"
   ]
  },
  {
   "cell_type": "code",
   "execution_count": 195,
   "metadata": {
    "collapsed": false
   },
   "outputs": [],
   "source": [
    "# 1\n",
    "def entries_histogram(turnstile_weather):\n",
    "    '''\n",
    "    Before we perform any analysis, it might be useful to take a\n",
    "    look at the data we're hoping to analyze. More specifically, let's \n",
    "    examine the hourly entries in our NYC subway data and determine what\n",
    "    distribution the data follows. This data is stored in a dataframe\n",
    "    called turnstile_weather under the ['ENTRIESn_hourly'] column.\n",
    "    \n",
    "    Let's plot two histograms on the same axes to show hourly\n",
    "    entries when raining vs. when not raining. Here's an example on how\n",
    "    to plot histograms with pandas and matplotlib:\n",
    "    turnstile_weather['column_to_graph'].hist()\n",
    "    \n",
    "    Your histogram may look similar to bar graph in the instructor notes below.\n",
    "    \n",
    "    You can read a bit about using matplotlib and pandas to plot histograms here:\n",
    "    http://pandas.pydata.org/pandas-docs/stable/visualization.html#histograms\n",
    "    \n",
    "    You can see the information contained within the turnstile weather data here:\n",
    "    https://s3.amazonaws.com/content.udacity-data.com/courses/ud359/turnstile_data_master_with_weather.csv\n",
    "    '''\n",
    "    \n",
    "    plt.figure()\n",
    "    turnstile_weather['ENTRIESn_hourly'][turnstile_weather['rain']==0].hist(bins=50) \n",
    "    # your code here to plot a historgram for hourly entries when it is raining\n",
    "    turnstile_weather['ENTRIESn_hourly'][turnstile_weather['rain']==1].hist(bins=50) \n",
    "    plt.title(\"Histogram of ENTRIESn_hourly\")\n",
    "    plt.legend(['Non-Rainy','Rainy'])\n",
    "    # your code here to plot a historgram for hourly entries when it is not raining\n",
    "    return plt"
   ]
  },
  {
   "cell_type": "code",
   "execution_count": 198,
   "metadata": {
    "collapsed": false
   },
   "outputs": [
    {
     "data": {
      "text/plain": [
       "<module 'matplotlib.pyplot' from '/Users/olgabelitskaya/anaconda/lib/python3.5/site-packages/matplotlib/pyplot.py'>"
      ]
     },
     "execution_count": 198,
     "metadata": {},
     "output_type": "execute_result"
    },
    {
     "data": {
      "image/png": "[encoded data removed]",
      "text/plain": [
       "<matplotlib.figure.Figure at 0x125578ef0>"
      ]
     },
     "metadata": {},
     "output_type": "display_data"
    }
   ],
   "source": [
    "matplotlib.rcParams['figure.figsize'] = (14, 5)\n",
    "plt.style.use('ggplot')\n",
    "entries_histogram(data)"
   ]
  },
  {
   "cell_type": "code",
   "execution_count": 199,
   "metadata": {
    "collapsed": false
   },
   "outputs": [
    {
     "data": {
      "text/plain": [
       "<module 'matplotlib.pyplot' from '/Users/olgabelitskaya/anaconda/lib/python3.5/site-packages/matplotlib/pyplot.py'>"
      ]
     },
     "execution_count": 199,
     "metadata": {},
     "output_type": "execute_result"
    },
    {
     "data": {
      "image/png": "[encoded data removed]",
      "text/plain": [
       "<matplotlib.figure.Figure at 0x12555f470>"
      ]
     },
     "metadata": {},
     "output_type": "display_data"
    }
   ],
   "source": [
    "entries_histogram(data2)"
   ]
  },
  {
   "cell_type": "markdown",
   "metadata": {
    "collapsed": true
   },
   "source": [
    "##### 2\n",
    "No, the data for both types of days is not normally distributed."
   ]
  },
  {
   "cell_type": "code",
   "execution_count": 157,
   "metadata": {
    "collapsed": false
   },
   "outputs": [],
   "source": [
    "# 3\n",
    "import scipy.stats\n",
    "\n",
    "def mann_whitney_plus_means(turnstile_weather):\n",
    "    '''\n",
    "    This function will consume the turnstile_weather dataframe containing\n",
    "    our final turnstile weather data. \n",
    "    \n",
    "    You will want to take the means and run the Mann Whitney U-test on the \n",
    "    ENTRIESn_hourly column in the turnstile_weather dataframe.\n",
    "    \n",
    "    This function should return:\n",
    "        1) the mean of entries with rain\n",
    "        2) the mean of entries without rain\n",
    "        3) the Mann-Whitney U-statistic and p-value comparing the number of entries\n",
    "           with rain and the number of entries without rain\n",
    "    \n",
    "    You should feel free to use scipy's Mann-Whitney implementation, and you \n",
    "    might also find it useful to use numpy's mean function.\n",
    "    \n",
    "    Here are the functions' documentation:\n",
    "    http://docs.scipy.org/doc/scipy/reference/generated/scipy.stats.mannwhitneyu.html\n",
    "    http://docs.scipy.org/doc/numpy/reference/generated/numpy.mean.html\n",
    "    \n",
    "    You can look at the final turnstile weather data at the link below:\n",
    "    https://s3.amazonaws.com/content.udacity-data.com/courses/ud359/turnstile_data_master_with_weather.csv\n",
    "    '''\n",
    "    \n",
    "    ### YOUR CODE HERE ###\n",
    "    rainy_entries_hourly = turnstile_weather['ENTRIESn_hourly'][turnstile_weather['rain']==1]\n",
    "    non_rainy_entries_hourly = turnstile_weather['ENTRIESn_hourly'][turnstile_weather['rain']==0]\n",
    "    with_rain_mean = np.mean(rainy_entries_hourly)\n",
    "    without_rain_mean = np.mean(non_rainy_entries_hourly)\n",
    "    U, p = scipy.stats.mannwhitneyu(rainy_entries_hourly, non_rainy_entries_hourly)\n",
    "    \n",
    "    return with_rain_mean, without_rain_mean, U, p # leave this line for the grader"
   ]
  },
  {
   "cell_type": "code",
   "execution_count": 158,
   "metadata": {
    "collapsed": false
   },
   "outputs": [
    {
     "data": {
      "text/plain": [
       "(1105.4463767458733, 1090.278780151855, 1924409167.0, 0.024940392294493356)"
      ]
     },
     "execution_count": 158,
     "metadata": {},
     "output_type": "execute_result"
    }
   ],
   "source": [
    "mann_whitney_plus_means(data)"
   ]
  },
  {
   "cell_type": "code",
   "execution_count": 159,
   "metadata": {
    "collapsed": false
   },
   "outputs": [
    {
     "data": {
      "text/plain": [
       "(2028.1960354720918, 1845.5394386644084, 153635120.5, 2.7410695712437496e-06)"
      ]
     },
     "execution_count": 159,
     "metadata": {},
     "output_type": "execute_result"
    }
   ],
   "source": [
    "mann_whitney_plus_means(data2)"
   ]
  },
  {
   "cell_type": "code",
   "execution_count": null,
   "metadata": {
    "collapsed": true
   },
   "outputs": [],
   "source": [
    "# 4\n"
   ]
  },
  {
   "cell_type": "code",
   "execution_count": 170,
   "metadata": {
    "collapsed": true
   },
   "outputs": [],
   "source": [
    "# 5\n",
    "\n",
    "\"\"\"\n",
    "In this question, you need to:\n",
    "1) implement the compute_cost() and gradient_descent() procedures\n",
    "2) Select features (in the predictions procedure) and make predictions.\n",
    "\n",
    "\"\"\"\n",
    "\n",
    "def normalize_features(df):\n",
    "    \"\"\"\n",
    "    Normalize the features in the data set.\n",
    "    \"\"\"\n",
    "    mu = df.mean()\n",
    "    sigma = df.std()\n",
    "    \n",
    "    if (sigma == 0).any():\n",
    "        raise Exception(\"One or more features had the same value for all samples, and thus could \" + \\\n",
    "                         \"not be normalized. Please do not include features with only a single value \" + \\\n",
    "                         \"in your model.\")\n",
    "    df_normalized = (df - df.mean()) / df.std()\n",
    "    return df_normalized, mu, sigma\n",
    "\n",
    "def compute_cost(features, values, theta):\n",
    "    \"\"\"\n",
    "    Compute the cost function given a set of features / values, \n",
    "    and the values for our thetas.\n",
    "    \n",
    "    This can be the same code as the compute_cost function in the lesson #3 exercises,\n",
    "    but feel free to implement your own.\n",
    "    \"\"\"\n",
    "    sum_of_square_errors = np.square(np.dot(features, theta) - values).sum()\n",
    "    cost = sum_of_square_errors / (2 * len(values))\n",
    "\n",
    "    # your code here\n",
    "\n",
    "    return cost\n",
    "\n",
    "def gradient_descent(features, values, theta, alpha, num_iterations):\n",
    "    \"\"\"\n",
    "    Perform gradient descent given a data set with an arbitrary number of features.\n",
    "    \n",
    "    This can be the same gradient descent code as in the lesson #3 exercises,\n",
    "    but feel free to implement your own.\n",
    "    \"\"\"\n",
    "    cost_history = []\n",
    "\n",
    "    for i in range(num_iterations):\n",
    "        delta = (np.dot((values - np.dot(features, theta)), features)) / len(values)\n",
    "        theta = theta + alpha * delta\n",
    "        cost_history.append(compute_cost(features, values, theta))\n",
    "        # your code here\n",
    "    return theta, pd.Series(cost_history)\n",
    "\n",
    "def predictions(dataframe):\n",
    "    '''\n",
    "    The NYC turnstile data is stored in a pandas dataframe called weather_turnstile.\n",
    "    Using the information stored in the dataframe, let's predict the ridership of\n",
    "    the NYC subway using linear regression with gradient descent.\n",
    "    \n",
    "    You can download the complete turnstile weather dataframe here:\n",
    "    https://www.dropbox.com/s/meyki2wl9xfa7yk/turnstile_data_master_with_weather.csv    \n",
    "    \n",
    "    Your prediction should have a R^2 value of 0.40 or better.\n",
    "    You need to experiment using various input features contained in the dataframe. \n",
    "    We recommend that you don't use the EXITSn_hourly feature as an input to the \n",
    "    linear model because we cannot use it as a predictor: we cannot use exits \n",
    "    counts as a way to predict entry counts. \n",
    "    \n",
    "    Note: Due to the memory and CPU limitation of our Amazon EC2 instance, we will\n",
    "    give you a random subet (~15%) of the data contained in \n",
    "    turnstile_data_master_with_weather.csv. You are encouraged to experiment with \n",
    "    this computer on your own computer, locally. \n",
    "    \n",
    "    \n",
    "    If you'd like to view a plot of your cost history, uncomment the call to \n",
    "    plot_cost_history below. The slowdown from plotting is significant, so if you \n",
    "    are timing out, the first thing to do is to comment out the plot command again.\n",
    "    \n",
    "    If you receive a \"server has encountered an error\" message, that means you are \n",
    "    hitting the 30-second limit that's placed on running your program. Try using a \n",
    "    smaller number for num_iterations if that's the case.\n",
    "    \n",
    "    If you are using your own algorithm/models, see if you can optimize your code so \n",
    "    that it runs faster.\n",
    "    '''\n",
    "    # Select Features (try different features!)\n",
    "    features = dataframe[['rain', 'precipi', 'Hour', 'meantempi']]\n",
    "    \n",
    "    # Add UNIT to features using dummy variables\n",
    "    dummy_units = pd.get_dummies(dataframe['UNIT'], prefix='unit')\n",
    "    features = features.join(dummy_units)\n",
    "    \n",
    "    # Values\n",
    "    values = dataframe['ENTRIESn_hourly']\n",
    "    m = len(values)\n",
    "\n",
    "    features, mu, sigma = normalize_features(features)\n",
    "    features['ones'] = np.ones(m) # Add a column of 1s (y intercept)\n",
    "    \n",
    "    # Convert features and values to numpy arrays\n",
    "    features_array = np.array(features)\n",
    "    values_array = np.array(values)\n",
    "\n",
    "    # Set values for alpha, number of iterations.\n",
    "    alpha = 0.1 # please feel free to change this value\n",
    "    num_iterations = 75 # please feel free to change this value\n",
    "\n",
    "    # Initialize theta, perform gradient descent\n",
    "    theta_gradient_descent = np.zeros(len(features.columns))\n",
    "    theta_gradient_descent, cost_history = gradient_descent(features_array, \n",
    "                                                            values_array, \n",
    "                                                            theta_gradient_descent, \n",
    "                                                            alpha, \n",
    "                                                            num_iterations)\n",
    "    \n",
    "    plot = None\n",
    "    # -------------------------------------------------\n",
    "    # Uncomment the next line to see your cost history\n",
    "    # -------------------------------------------------\n",
    "    plot = plot_cost_history(alpha, cost_history)\n",
    "    # \n",
    "    # Please note, there is a possibility that plotting\n",
    "    # this in addition to your calculation will exceed \n",
    "    # the 30 second limit on the compute servers.\n",
    "    \n",
    "    predictions = np.dot(features_array, theta_gradient_descent)\n",
    "    return predictions, plot\n",
    "\n",
    "\n",
    "def plot_cost_history(alpha, cost_history):\n",
    "    \"\"\"This function is for viewing the plot of your cost history.\n",
    "    You can run it by uncommenting this\n",
    "\n",
    "        plot_cost_history(alpha, cost_history) \n",
    "\n",
    "    call in predictions.\n",
    "   \n",
    "    If you want to run this locally, you should print the return value\n",
    "    from this function.\n",
    "    \"\"\"\n",
    "    cost_df = pd.DataFrame({\n",
    "      'Cost_History': cost_history,\n",
    "      'Iteration': range(len(cost_history))\n",
    "    })\n",
    "    return ggplot(cost_df, aes('Iteration', 'Cost_History')) + \\\n",
    "      geom_point() + ggtitle('Cost History for alpha = %.3f' % alpha )\n"
   ]
  },
  {
   "cell_type": "code",
   "execution_count": 174,
   "metadata": {
    "collapsed": false
   },
   "outputs": [
    {
     "data": {
      "image/png": "[encoded data removed]",
      "text/plain": [
       "<matplotlib.figure.Figure at 0x13d03ccc0>"
      ]
     },
     "metadata": {},
     "output_type": "display_data"
    },
    {
     "data": {
      "text/plain": [
       "(array([ 3379.34466358,  3648.71075058,  3918.07683757, ...,   856.38536737,\n",
       "          856.38536737,   856.38536737]), <ggplot: (-9223372036522361740)>)"
      ]
     },
     "execution_count": 174,
     "metadata": {},
     "output_type": "execute_result"
    }
   ],
   "source": [
    "predict = predictions(data)\n",
    "predict"
   ]
  },
  {
   "cell_type": "code",
   "execution_count": 184,
   "metadata": {
    "collapsed": true
   },
   "outputs": [],
   "source": [
    "# 6\n",
    "\n",
    "def plot_residuals(turnstile_weather, predictions):\n",
    "    '''\n",
    "    Using the same methods that we used to plot a histogram of entries\n",
    "    per hour for our data, why don't you make a histogram of the residuals\n",
    "    (that is, the difference between the original hourly entry data and the predicted values).\n",
    "    Try different binwidths for your histogram.\n",
    "\n",
    "    Based on this residual histogram, do you have any insight into how our model\n",
    "    performed?  Reading a bit on this webpage might be useful:\n",
    "\n",
    "    http://www.itl.nist.gov/div898/handbook/pri/section2/pri24.htm\n",
    "    '''\n",
    "    \n",
    "    plt.figure()\n",
    "    (turnstile_weather['ENTRIESn_hourly'] - predictions).hist(bins=50)\n",
    "    return plt"
   ]
  },
  {
   "cell_type": "code",
   "execution_count": 200,
   "metadata": {
    "collapsed": false
   },
   "outputs": [
    {
     "data": {
      "text/plain": [
       "<module 'matplotlib.pyplot' from '/Users/olgabelitskaya/anaconda/lib/python3.5/site-packages/matplotlib/pyplot.py'>"
      ]
     },
     "execution_count": 200,
     "metadata": {},
     "output_type": "execute_result"
    },
    {
     "data": {
      "image/png": "[encoded data removed]",
      "text/plain": [
       "<matplotlib.figure.Figure at 0x120991da0>"
      ]
     },
     "metadata": {},
     "output_type": "display_data"
    }
   ],
   "source": [
    "plot_residuals(data, predict[0])"
   ]
  },
  {
   "cell_type": "code",
   "execution_count": 187,
   "metadata": {
    "collapsed": true
   },
   "outputs": [],
   "source": [
    "# 7\n",
    "\n",
    "def compute_r_squared(data, predictions):\n",
    "    '''\n",
    "    In exercise 5, we calculated the R^2 value for you. But why don't you try and\n",
    "    and calculate the R^2 value yourself.\n",
    "    \n",
    "    Given a list of original data points, and also a list of predicted data points,\n",
    "    write a function that will compute and return the coefficient of determination (R^2)\n",
    "    for this data.  numpy.mean() and numpy.sum() might both be useful here, but\n",
    "    not necessary.\n",
    "\n",
    "    Documentation about numpy.mean() and numpy.sum() below:\n",
    "    http://docs.scipy.org/doc/numpy/reference/generated/numpy.mean.html\n",
    "    http://docs.scipy.org/doc/numpy/reference/generated/numpy.sum.html\n",
    "    '''\n",
    "    # your code here\n",
    "    r_squared = 1 - np.sum(np.square(data - predictions)) / np.sum(np.square(data - np.mean(data)))\n",
    "    \n",
    "    return r_squared"
   ]
  },
  {
   "cell_type": "code",
   "execution_count": 189,
   "metadata": {
    "collapsed": false
   },
   "outputs": [
    {
     "data": {
      "text/plain": [
       "0.4580443140394266"
      ]
     },
     "execution_count": 189,
     "metadata": {},
     "output_type": "execute_result"
    }
   ],
   "source": [
    "compute_r_squared(data['ENTRIESn_hourly'], predict[0])"
   ]
  },
  {
   "cell_type": "code",
   "execution_count": 142,
   "metadata": {
    "collapsed": true
   },
   "outputs": [],
   "source": [
    "# 8\n",
    "# -*- coding: utf-8 -*-\n",
    "\n",
    "\"\"\"\n",
    "In this optional exercise, you should complete the function called \n",
    "predictions(turnstile_weather). This function takes in our pandas \n",
    "turnstile weather dataframe, and returns a set of predicted ridership values,\n",
    "based on the other information in the dataframe.  \n",
    "\n",
    "In exercise 3.5 we used Gradient Descent in order to compute the coefficients\n",
    "theta used for the ridership prediction. Here you should attempt to implement \n",
    "another way of computing the coeffcients theta. You may also try using a reference implementation such as: \n",
    "http://statsmodels.sourceforge.net/devel/generated/statsmodels.regression.linear_model.OLS.html\n",
    "\n",
    "One of the advantages of the statsmodels implementation is that it gives you\n",
    "easy access to the values of the coefficients theta. This can help you infer relationships \n",
    "between variables in the dataset.\n",
    "\n",
    "You may also experiment with polynomial terms as part of the input variables.  \n",
    "\n",
    "The following links might be useful: \n",
    "http://en.wikipedia.org/wiki/Ordinary_least_squares\n",
    "http://en.wikipedia.org/w/index.php?title=Linear_least_squares_(mathematics)\n",
    "http://en.wikipedia.org/wiki/Polynomial_regression\n",
    "\n",
    "This is your playground. Go wild!\n",
    "\n",
    "How does your choice of linear regression compare to linear regression\n",
    "with gradient descent computed in Exercise 3.5?\n",
    "\n",
    "You can look at the information contained in the turnstile_weather dataframe below:\n",
    "https://s3.amazonaws.com/content.udacity-data.com/courses/ud359/turnstile_data_master_with_weather.csv\n",
    "\n",
    "Note: due to the memory and CPU limitation of our amazon EC2 instance, we will\n",
    "give you a random subset (~10%) of the data contained in turnstile_data_master_with_weather.csv\n",
    "\n",
    "If you receive a \"server has encountered an error\" message, that means you are hitting \n",
    "the 30 second limit that's placed on running your program. See if you can optimize your code so it\n",
    "runs faster.\n",
    "\"\"\"\n",
    "\n",
    "def predictions(weather_turnstile):\n",
    "    #\n",
    "    # Your implementation goes here. Feel free to write additional\n",
    "    # helper functions\n",
    "    # \n",
    "    return prediction\n"
   ]
  },
  {
   "cell_type": "markdown",
   "metadata": {
    "collapsed": true
   },
   "source": [
    "###  &#x1F4CA; &nbsp;  Lesson 4. Data Visualization"
   ]
  },
  {
   "cell_type": "code",
   "execution_count": null,
   "metadata": {
    "collapsed": true
   },
   "outputs": [],
   "source": []
  },
  {
   "cell_type": "markdown",
   "metadata": {},
   "source": [
    "###  &#x1F4CA; &nbsp;  Problem Set 4"
   ]
  },
  {
   "cell_type": "code",
   "execution_count": null,
   "metadata": {
    "collapsed": true
   },
   "outputs": [],
   "source": [
    "# 1\n",
    "\n",
    "def plot_weather_data(turnstile_weather):\n",
    "    '''\n",
    "    You are passed in a dataframe called turnstile_weather. \n",
    "    Use turnstile_weather along with ggplot to make a data visualization\n",
    "    focused on the MTA and weather data we used in assignment #3.  \n",
    "    You should feel free to implement something that we discussed in class \n",
    "    (e.g., scatterplots, line plots, or histograms) or attempt to implement\n",
    "    something more advanced if you'd like.  \n",
    "\n",
    "    Here are some suggestions for things to investigate and illustrate:\n",
    "     * Ridership by time of day or day of week\n",
    "     * How ridership varies based on Subway station (UNIT)\n",
    "     * Which stations have more exits or entries at different times of day\n",
    "       (You can use UNIT as a proxy for subway station.)\n",
    "\n",
    "    If you'd like to learn more about ggplot and its capabilities, take\n",
    "    a look at the documentation at:\n",
    "    https://pypi.python.org/pypi/ggplot/\n",
    "     \n",
    "    You can check out:\n",
    "    https://s3.amazonaws.com/content.udacity-data.com/courses/ud359/turnstile_data_master_with_weather.csv\n",
    "     \n",
    "    To see all the columns and data points included in the turnstile_weather \n",
    "    dataframe. \n",
    "     \n",
    "    However, due to the limitation of our Amazon EC2 server, we are giving you a random\n",
    "    subset, about 1/3 of the actual data in the turnstile_weather dataframe.\n",
    "    '''\n",
    "\n",
    "    plot = # your code here\n",
    "    return plot\n"
   ]
  },
  {
   "cell_type": "code",
   "execution_count": null,
   "metadata": {
    "collapsed": true
   },
   "outputs": [],
   "source": [
    "# 2\n",
    "\n",
    "def plot_weather_data(turnstile_weather):\n",
    "    ''' \n",
    "    plot_weather_data is passed a dataframe called turnstile_weather. \n",
    "    Use turnstile_weather along with ggplot to make another data visualization\n",
    "    focused on the MTA and weather data we used in Project 3.\n",
    "    \n",
    "    Make a type of visualization different than what you did in the previous exercise.\n",
    "    Try to use the data in a different way (e.g., if you made a lineplot concerning \n",
    "    ridership and time of day in exercise #1, maybe look at weather and try to make a \n",
    "    histogram in this exercise). Or try to use multiple encodings in your graph if \n",
    "    you didn't in the previous exercise.\n",
    "    \n",
    "    You should feel free to implement something that we discussed in class \n",
    "    (e.g., scatterplots, line plots, or histograms) or attempt to implement\n",
    "    something more advanced if you'd like.\n",
    "\n",
    "    Here are some suggestions for things to investigate and illustrate:\n",
    "     * Ridership by time-of-day or day-of-week\n",
    "     * How ridership varies by subway station (UNIT)\n",
    "     * Which stations have more exits or entries at different times of day\n",
    "       (You can use UNIT as a proxy for subway station.)\n",
    "\n",
    "    If you'd like to learn more about ggplot and its capabilities, take\n",
    "    a look at the documentation at:\n",
    "    https://pypi.python.org/pypi/ggplot/\n",
    "     \n",
    "    You can check out the link \n",
    "    https://s3.amazonaws.com/content.udacity-data.com/courses/ud359/turnstile_data_master_with_weather.csv\n",
    "    to see all the columns and data points included in the turnstile_weather \n",
    "    dataframe.\n",
    "     \n",
    "   However, due to the limitation of our Amazon EC2 server, we are giving you a random\n",
    "    subset, about 1/3 of the actual data in the turnstile_weather dataframe.\n",
    "    '''\n",
    "\n",
    "    plot = # your code here\n",
    "    return plot\n"
   ]
  }
 ],
 "metadata": {
  "anaconda-cloud": {},
  "hide_input": false,
  "kernelspec": {
   "display_name": "Python [conda root]",
   "language": "python",
   "name": "conda-root-py"
  },
  "language_info": {
   "codemirror_mode": {
    "name": "ipython",
    "version": 3
   },
   "file_extension": ".py",
   "mimetype": "text/x-python",
   "name": "python",
   "nbconvert_exporter": "python",
   "pygments_lexer": "ipython3",
   "version": "3.5.2"
  },
  "latex_envs": {
   "bibliofile": "biblio.bib",
   "cite_by": "apalike",
   "current_citInitial": 1,
   "eqLabelWithNumbers": true,
   "eqNumInitial": 0
  }
 },
 "nbformat": 4,
 "nbformat_minor": 2
}
