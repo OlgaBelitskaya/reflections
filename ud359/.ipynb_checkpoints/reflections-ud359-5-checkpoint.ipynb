{
 "cells": [
  {
   "cell_type": "markdown",
   "metadata": {},
   "source": [
    "# &#x1F4D1; &nbsp; <span style=\"color:#338DD4\"> Reflections. Intro to Data Science. Lesson 5</span>"
   ]
  },
  {
   "cell_type": "markdown",
   "metadata": {},
   "source": [
    "###  &#x1F4CA; &nbsp; Links"
   ]
  },
  {
   "cell_type": "markdown",
   "metadata": {
    "collapsed": true
   },
   "source": [
    "Python Data Science Handbook (Jake VanderPlas):\n",
    "https://www.safaribooksonline.com/library/view/python-data-science/9781491912126/"
   ]
  },
  {
   "cell_type": "markdown",
   "metadata": {},
   "source": [
    "Python 3 4.7.1. String Methods: https://docs.python.org/3/library/stdtypes.html\n",
    "\n",
    "Python 3 string: http://www.w3ii.com/en-US/python3/python_strings.html\n",
    "\n",
    "Pandas. String handling: http://pandas.pydata.org/pandas-docs/stable/api.html#string-handling\n",
    "\n",
    "Implementing MapReduce with multiprocessing: https://pymotw.com/2/multiprocessing/mapreduce.html\n",
    "\n",
    "Mrs MapReduce: https://pythonhosted.org/mrs-mapreduce/index.html"
   ]
  },
  {
   "cell_type": "markdown",
   "metadata": {},
   "source": [
    "###  &#x1F4CA; &nbsp; Code Library"
   ]
  },
  {
   "cell_type": "code",
   "execution_count": 47,
   "metadata": {
    "collapsed": false
   },
   "outputs": [],
   "source": [
    "import logging\n",
    "import sys\n",
    "import string\n",
    "import math\n",
    "\n",
    "from operator import itemgetter\n",
    "from collections import defaultdict\n",
    "from functools import reduce\n",
    "import operator\n",
    "\n",
    "# import hadoopy\n",
    "# from util import logfile\n",
    "# logging.basicConfig(filename=logfile, format='%(message)s',\n",
    "#                     level=logging.INFO, filemode='w')"
   ]
  },
  {
   "cell_type": "markdown",
   "metadata": {
    "collapsed": true
   },
   "source": [
    "###  &#x1F4CA; &nbsp;  Lesson 5. Map Reduce"
   ]
  },
  {
   "cell_type": "markdown",
   "metadata": {},
   "source": [
    "##### Expression Oriented Programming\n",
    "##### map"
   ]
  },
  {
   "cell_type": "code",
   "execution_count": 32,
   "metadata": {
    "collapsed": false
   },
   "outputs": [
    {
     "name": "stdout",
     "output_type": "stream",
     "text": [
      "[1, 32, 243, 1024, 3125]\n",
      "[2.302585092994046, 5.298317366548036, 8.006367567650246, 10.596634733096073, 13.122363377404328]\n",
      "[10, 40000, 27000000000, 2560000000000000000, 31250000000000000000000000000L]\n",
      "[(10, 1), (200, 2), (3000, 3), (40000, 4), (500000, 5)]\n"
     ]
    }
   ],
   "source": [
    "n = [1, 2, 3, 4, 5]\n",
    "m = [10, 200, 3000, 40000, 500000]\n",
    "def pow5(x): return x ** 5\n",
    "\n",
    "print(list(map(pow5, n)))\n",
    "print(list(map((lambda x: math.log(x)), m)))\n",
    "print(list(map(pow, m, n)))\n",
    "print(list(map(None, m, n)))"
   ]
  },
  {
   "cell_type": "markdown",
   "metadata": {},
   "source": [
    "##### filter and reduce"
   ]
  },
  {
   "cell_type": "code",
   "execution_count": 35,
   "metadata": {
    "collapsed": false
   },
   "outputs": [
    {
     "name": "stdout",
     "output_type": "stream",
     "text": [
      "[-10, -8, -6, -4, -2, 0, 2, 4, 6, 8]\n"
     ]
    }
   ],
   "source": [
    "print(list(filter((lambda x: x % 2 == 0), range(-10,10))))"
   ]
  },
  {
   "cell_type": "code",
   "execution_count": 39,
   "metadata": {
    "collapsed": false
   },
   "outputs": [
    {
     "name": "stdout",
     "output_type": "stream",
     "text": [
      "120000000000000000\n",
      "aaa bbb ccc\n"
     ]
    }
   ],
   "source": [
    "print(reduce((lambda x, y: x * y), m))\n",
    "print(reduce(operator.add, ['aaa ', 'bbb', ' ', 'ccc']))"
   ]
  },
  {
   "cell_type": "markdown",
   "metadata": {},
   "source": [
    "##### Hadoop Mapper and Reducer"
   ]
  },
  {
   "cell_type": "code",
   "execution_count": 41,
   "metadata": {
    "collapsed": true
   },
   "outputs": [],
   "source": [
    "def mapper():\n",
    "    for line in sys.stdin:\n",
    "        line = line.strip()\n",
    "        words = line.split()\n",
    "        for word in words:\n",
    "            print '%s\\t%s' % (word, 1)\n",
    "# mapper()\n",
    "\n",
    "def reducer():\n",
    "    current_word = None\n",
    "    current_count = 0\n",
    "    word = None\n",
    "    for line in sys.stdin:\n",
    "        line = line.strip()\n",
    "        word, count = line.split('\\t', 1)\n",
    "        \n",
    "        try:\n",
    "            count = int(count)\n",
    "        except ValueError:\n",
    "            continue\n",
    "\n",
    "        if current_word == word:\n",
    "            current_count += count\n",
    "        else:\n",
    "            if current_word != None:\n",
    "                print '%s\\t%s' % (current_word, current_count)\n",
    "            current_count = count\n",
    "            current_word = word\n",
    "            \n",
    "    if current_word == word:\n",
    "        print '%s\\t%s' % (current_word, current_count)\n",
    "# reducer()"
   ]
  },
  {
   "cell_type": "code",
   "execution_count": null,
   "metadata": {
    "collapsed": true
   },
   "outputs": [],
   "source": [
    "# handoopy\n",
    "# sudo pip2 install -e git+https://github.com/bwhite/hadoopy#egg=hadoopy"
   ]
  },
  {
   "cell_type": "code",
   "execution_count": null,
   "metadata": {
    "collapsed": true
   },
   "outputs": [],
   "source": []
  },
  {
   "cell_type": "code",
   "execution_count": 49,
   "metadata": {
    "collapsed": false
   },
   "outputs": [
    {
     "name": "stdout",
     "output_type": "stream",
     "text": [
      "{}\n"
     ]
    }
   ],
   "source": [
    "# Python 2\n",
    "def word_count():\n",
    "    # For this exercise, write a program that serially counts the number of occurrences\n",
    "    # of each word in the book Alice in Wonderland.\n",
    "    #\n",
    "    # The text of Alice in Wonderland will be fed into your program line-by-line.\n",
    "    # Your program needs to take each line and do the following:\n",
    "    # 1) Tokenize the line into string tokens by whitespace\n",
    "    #    Example: \"Hello, World!\" should be converted into \"Hello,\" and \"World!\"\n",
    "    #    (This part has been done for you.)\n",
    "    #\n",
    "    # 2) Remove all punctuation\n",
    "    #    Example: \"Hello,\" and \"World!\" should be converted into \"Hello\" and \"World\"\n",
    "    #\n",
    "    # 3) Make all letters lowercase\n",
    "    #    Example: \"Hello\" and \"World\" should be converted to \"hello\" and \"world\"\n",
    "    #\n",
    "    # Store the the number of times that a word appears in Alice in Wonderland\n",
    "    # in the word_counts dictionary, and then *print* (don't return) that dictionary\n",
    "    #\n",
    "    # In this exercise, print statements will be considered your final output. Because\n",
    "    # of this, printing a debug statement will cause the grader to break. Instead, \n",
    "    # you can use the logging module which we've configured for you.\n",
    "    #\n",
    "    # For example:\n",
    "    # logging.info(\"My debugging message\")\n",
    "    #\n",
    "    # The logging module can be used to give you more control over your\n",
    "    # debugging or other messages than you can get by printing them. Messages \n",
    "    # logged via the logger we configured will be saved to a\n",
    "    # file. If you click \"Test Run\", then you will see the contents of that file\n",
    "    # once your program has finished running.\n",
    "    # \n",
    "    # The logging module also has other capabilities; see \n",
    "    # https://docs.python.org/2/library/logging.html\n",
    "    # for more information.\n",
    "    \n",
    "    word_counts = defaultdict(int)\n",
    "    for line in sys.stdin:\n",
    "        data = line.strip().split(\" \")\n",
    "        for i in data:\n",
    "            word = i.translate(string.maketrans(\"\",\"\"),string.punctuation).lower()\n",
    "            word_counts[word] += 1\n",
    "            \n",
    "    word_counts = dict(word_counts)\n",
    "    print word_counts        \n",
    "        # Your code here\n",
    "word_count()"
   ]
  },
  {
   "cell_type": "code",
   "execution_count": 3,
   "metadata": {
    "collapsed": false
   },
   "outputs": [
    {
     "name": "stdout",
     "output_type": "stream",
     "text": [
      "{'a': 1, 'adf': 1, 'ld': 1, 'cost': 1, 'lll': 1, 'll': 1, 'wor': 1}\n"
     ]
    }
   ],
   "source": [
    "# Python 2\n",
    "s = ['adf', 'wor ld', 'co,st', 'a', 'lll ll']\n",
    "word_counts0 = defaultdict(int)\n",
    "for e in s:\n",
    "    data = e.strip().split(\" \")\n",
    "    for i in data:\n",
    "        word = i.translate(string.maketrans(\"\",\"\"),string.punctuation).lower()\n",
    "        word_counts0[word] += 1\n",
    "word_counts0 = dict(word_counts0)\n",
    "print (word_counts0)"
   ]
  },
  {
   "cell_type": "code",
   "execution_count": 4,
   "metadata": {
    "collapsed": false
   },
   "outputs": [
    {
     "name": "stdout",
     "output_type": "stream",
     "text": [
      "th#s #s str#ng @^!&pl@....w$w!!!\n"
     ]
    }
   ],
   "source": [
    "# Python 3 maketrans\n",
    "  \n",
    "intab = \"aeiouxm\"\n",
    "outtab = \"!@#$%^&\"\n",
    "trantab = str.maketrans(intab, outtab)\n",
    "\n",
    "string1 = \"this is string example....wow!!!\";\n",
    "print (string1.translate(trantab))"
   ]
  },
  {
   "cell_type": "code",
   "execution_count": 6,
   "metadata": {
    "collapsed": false
   },
   "outputs": [
    {
     "name": "stdout",
     "output_type": "stream",
     "text": [
      "Hello world Translate string with punctuation Does this work I hope so\n"
     ]
    }
   ],
   "source": [
    "# Python 3 string.punctuation\n",
    "\n",
    "translator = str.maketrans('', '', string.punctuation)\n",
    "string2 = '\"Hello, world!\" Translate string with punctuation!!! Does this work?! I hope so...'\n",
    "print(string2.translate(translator))"
   ]
  },
  {
   "cell_type": "code",
   "execution_count": 42,
   "metadata": {
    "collapsed": false
   },
   "outputs": [],
   "source": [
    "def mapper():\n",
    "\n",
    "    #Also make sure to fill out the reducer code before clicking \"Test Run\" or \"Submit\".\n",
    "\n",
    "    #Each line will be a comma-separated list of values. The\n",
    "    #header row WILL be included. Tokenize each row using the \n",
    "    #commas, and emit (i.e. print) a key-value pair containing the \n",
    "    #district (not state) and Aadhaar generated, separated by a tab. \n",
    "    #Skip rows without the correct number of tokens and also skip \n",
    "    #the header row.\n",
    "\n",
    "    #You can see a copy of the the input Aadhaar data\n",
    "    #in the link below:\n",
    "    #https://www.dropbox.com/s/vn8t4uulbsfmalo/aadhaar_data.csv\n",
    "\n",
    "    #Since you are printing the output of your program, printing a debug \n",
    "    #statement will interfere with the operation of the grader. Instead, \n",
    "    #use the logging module, which we've configured to log to a file printed \n",
    "    #when you click \"Test Run\". For example:\n",
    "    #logging.info(\"My debugging message\")\n",
    "    #\n",
    "    #Note that, unlike print, logging.info will take only a single argument.\n",
    "    #So logging.info(\"my message\") will work, but logging.info(\"my\",\"message\") will not.\n",
    "\n",
    "    for line in sys.stdin:\n",
    "        #your code here        \n",
    "        data = line.strip().split(',')\n",
    "        if len(data) == 12 and data[3]!='District':\n",
    "            print ('{0}\\t{1}'.format(data[3], data[8]))\n",
    "mapper()"
   ]
  },
  {
   "cell_type": "code",
   "execution_count": 43,
   "metadata": {
    "collapsed": false
   },
   "outputs": [
    {
     "name": "stdout",
     "output_type": "stream",
     "text": [
      "None\t0\n"
     ]
    }
   ],
   "source": [
    "def reducer():\n",
    "    \n",
    "    #Also make sure to fill out the mapper code before clicking \"Test Run\" or \"Submit\".\n",
    "\n",
    "    #Each line will be a key-value pair separated by a tab character.\n",
    "    #Print out each key once, along with the total number of Aadhaar \n",
    "    #generated, separated by a tab. Make sure each key-value pair is \n",
    "    #formatted correctly! Here's a sample final key-value pair: 'Gujarat\\t5.0'\n",
    "\n",
    "    #Since you are printing the output of your program, printing a debug \n",
    "    #statement will interfere with the operation of the grader. Instead, \n",
    "    #use the logging module, which we've configured to log to a file printed \n",
    "    #when you click \"Test Run\". For example:\n",
    "    #logging.info(\"My debugging message\")\n",
    "    #Note that, unlike print, logging.info will take only a single argument.\n",
    "    #So logging.info(\"my message\") will work, but logging.info(\"my\",\"message\") will not.\n",
    "    d, n = None, 0    \n",
    "    for line in sys.stdin:\n",
    "        # your code here\n",
    "        data = line.strip().split('\\t')\n",
    "        \n",
    "        if len(data) != 2:\n",
    "            continue\n",
    "        \n",
    "        if d != None and data[0] == d:\n",
    "            n += float(data[1])\n",
    "            \n",
    "        else:\n",
    "            if d != None:\n",
    "                print '{0}\\t{1}'.format(d, n)\n",
    "                \n",
    "            d = data[0]\n",
    "            n = float(data[1])\n",
    "            \n",
    "    print ('{0}\\t{1}'.format(d, n))\n",
    "reducer()"
   ]
  },
  {
   "cell_type": "markdown",
   "metadata": {
    "collapsed": true
   },
   "source": [
    "###  &#x1F4CA; &nbsp;  Problem Set 5"
   ]
  },
  {
   "cell_type": "code",
   "execution_count": 44,
   "metadata": {
    "collapsed": true
   },
   "outputs": [],
   "source": [
    "# 1\n",
    "# riders_per_station_mapper.py\n",
    "\n",
    "def mapper():\n",
    "    \"\"\"\n",
    "    The input to this mapper will be the final Subway-MTA dataset, the same as\n",
    "    in the previous exercise.  You can check out the csv and its structure below:\n",
    "    https://s3.amazonaws.com/content.udacity-data.com/courses/ud359/turnstile_data_master_with_weather.csv\n",
    "\n",
    "    For each line of input, the mapper output should PRINT (not return) the UNIT as \n",
    "    the key, the number of ENTRIESn_hourly as the value, and separate the key and \n",
    "    the value by a tab. For example: 'R002\\t105105.0'\n",
    "\n",
    "    Since you are printing the output of your program, printing a debug \n",
    "    statement will interfere with the operation of the grader. Instead, \n",
    "    use the logging module, which we've configured to log to a file printed \n",
    "    when you click \"Test Run\". For example:\n",
    "    logging.info(\"My debugging message\")\n",
    "    Note that, unlike print, logging.info will take only a single argument.\n",
    "    So logging.info(\"my message\") will work, but logging.info(\"my\",\"message\") will not.\n",
    "    \n",
    "    The logging module can be used to give you more control over your debugging\n",
    "    or other messages than you can get by printing them. In this exercise, print\n",
    "    statements from your mapper will go to your reducer, and print statements\n",
    "    from your reducer will be considered your final output. By contrast, messages\n",
    "    logged via the loggers we configured will be saved to two files, one\n",
    "    for the mapper and one for the reducer. If you click \"Test Run\", then we\n",
    "    will show the contents of those files once your program has finished running.\n",
    "    The logging module also has other capabilities; see \n",
    "    https://docs.python.org/2/library/logging.html for more information.\n",
    "    \"\"\"\n",
    "\n",
    "    for line in sys.stdin:\n",
    "        # your code here\n",
    "        data = line.strip().split(',')\n",
    "        if data[1] != 'UNIT' and len(data) == 22:\n",
    "            print ('{0}\\t{1}'.format(data[1], data[6]))\n",
    "\n",
    "mapper()"
   ]
  },
  {
   "cell_type": "code",
   "execution_count": 45,
   "metadata": {
    "collapsed": true
   },
   "outputs": [],
   "source": [
    "# 1\n",
    "# riders_per_station_reducer.py\n",
    "\n",
    "def reducer():\n",
    "    '''\n",
    "    Given the output of the mapper for this exercise, the reducer should PRINT \n",
    "    (not return) one line per UNIT along with the total number of ENTRIESn_hourly \n",
    "    over the course of May (which is the duration of our data), separated by a tab.\n",
    "    An example output row from the reducer might look like this: 'R001\\t500625.0'\n",
    "\n",
    "    You can assume that the input to the reducer is sorted such that all rows\n",
    "    corresponding to a particular UNIT are grouped together.\n",
    "\n",
    "    Since you are printing the output of your program, printing a debug \n",
    "    statement will interfere with the operation of the grader. Instead, \n",
    "    use the logging module, which we've configured to log to a file printed \n",
    "    when you click \"Test Run\". For example:\n",
    "    logging.info(\"My debugging message\")\n",
    "    Note that, unlike print, logging.info will take only a single argument.\n",
    "    So logging.info(\"my message\") will work, but logging.info(\"my\",\"message\") will not.\n",
    "    '''\n",
    "    u, n= None, 0\n",
    "    for line in sys.stdin:\n",
    "        # your code here\n",
    "        data = line.strip().split('\\t')\n",
    "        if len(data) != 2:\n",
    "            continue\n",
    "            \n",
    "        if u != None and data[0]==u:\n",
    "            n += float(data[1])\n",
    "            \n",
    "        else:\n",
    "            if u != None:\n",
    "                print ('{0}\\t{1}'.format(u, n))\n",
    "            \n",
    "            # reset the unit and count\n",
    "            u = data[0]\n",
    "            n = float(data[1])\n",
    "            \n",
    "    if u != None:\n",
    "        print ('{0}\\t{1}'.format(u, n))\n",
    "        \n",
    "reducer()"
   ]
  },
  {
   "cell_type": "code",
   "execution_count": null,
   "metadata": {
    "collapsed": true
   },
   "outputs": [],
   "source": [
    "# 2\n",
    "# ridership_by_weather_mapper.py\n",
    "\n",
    "def mapper():\n",
    "    '''\n",
    "    For this exercise, compute the average value of the ENTRIESn_hourly column \n",
    "    for different weather types. Weather type will be defined based on the \n",
    "    combination of the columns fog and rain (which are boolean values).\n",
    "    For example, one output of our reducer would be the average hourly entries \n",
    "    across all hours when it was raining but not foggy.\n",
    "\n",
    "    Each line of input will be a row from our final Subway-MTA dataset in csv format.\n",
    "    You can check out the input csv file and its structure below:\n",
    "    https://s3.amazonaws.com/content.udacity-data.com/courses/ud359/turnstile_data_master_with_weather.csv\n",
    "    \n",
    "    Note that this is a comma-separated file.\n",
    "\n",
    "    This mapper should PRINT (not return) the weather type as the key (use the \n",
    "    given helper function to format the weather type correctly) and the number in \n",
    "    the ENTRIESn_hourly column as the value. They should be separated by a tab.\n",
    "    For example: 'fog-norain\\t12345'\n",
    "    \n",
    "    Since you are printing the output of your program, printing a debug \n",
    "    statement will interfere with the operation of the grader. Instead, \n",
    "    use the logging module, which we've configured to log to a file printed \n",
    "    when you click \"Test Run\". For example:\n",
    "    logging.info(\"My debugging message\")\n",
    "    Note that, unlike print, logging.info will take only a single argument.\n",
    "    So logging.info(\"my message\") will work, but logging.info(\"my\",\"message\") will not.\n",
    "    '''\n",
    "\n",
    "    # Takes in variables indicating whether it is foggy and/or rainy and\n",
    "    # returns a formatted key that you should output.  The variables passed in\n",
    "    # can be booleans, ints (0 for false and 1 for true) or floats (0.0 for\n",
    "    # false and 1.0 for true), but the strings '0.0' and '1.0' will not work,\n",
    "    # so make sure you convert these values to an appropriate type before\n",
    "    # calling the function.\n",
    "    def format_key(fog, rain):\n",
    "        return '{}fog-{}rain'.format(\n",
    "            '' if fog else 'no',\n",
    "            '' if rain else 'no'\n",
    "        )\n",
    "\n",
    "    for line in sys.stdin:\n",
    "    # your code here\n",
    "        data = line.strip().split(',')\n",
    "        if data[1] != 'UNIT' and len(data) == 22:\n",
    "            fog = float(data[-8])\n",
    "            rain = float(data[-7])\n",
    "            print '{0}\\t{1}'.format(format_key(fog, rain), data[6])\n",
    "\n",
    "mapper()"
   ]
  },
  {
   "cell_type": "code",
   "execution_count": null,
   "metadata": {
    "collapsed": true
   },
   "outputs": [],
   "source": [
    "# 2\n",
    "# ridership_by_weather_reducer.py\n",
    "\n",
    "def reducer():\n",
    "    '''\n",
    "    Given the output of the mapper for this assignment, the reducer should\n",
    "    print one row per weather type, along with the average value of\n",
    "    ENTRIESn_hourly for that weather type, separated by a tab. You can assume\n",
    "    that the input to the reducer will be sorted by weather type, such that all\n",
    "    entries corresponding to a given weather type will be grouped together.\n",
    "\n",
    "    In order to compute the average value of ENTRIESn_hourly, you'll need to\n",
    "    keep track of both the total riders per weather type and the number of\n",
    "    hours with that weather type. That's why we've initialized the variable \n",
    "    riders and num_hours below. Feel free to use a different data structure in \n",
    "    your solution, though.\n",
    "\n",
    "    An example output row might look like this:\n",
    "    'fog-norain\\t1105.32467557'\n",
    "\n",
    "    Since you are printing the output of your program, printing a debug \n",
    "    statement will interfere with the operation of the grader. Instead, \n",
    "    use the logging module, which we've configured to log to a file printed \n",
    "    when you click \"Test Run\". For example:\n",
    "    logging.info(\"My debugging message\")\n",
    "    Note that, unlike print, logging.info will take only a single argument.\n",
    "    So logging.info(\"my message\") will work, but logging.info(\"my\",\"message\") will not.\n",
    "    '''\n",
    "\n",
    "    riders = 0      # The number of total riders for this key\n",
    "    num_hours = 0   # The number of hours with this key\n",
    "    old_key = None\n",
    "\n",
    "    for line in sys.stdin:\n",
    "        # your code here\n",
    "        data = line.strip().split('\\t')\n",
    "        if len(data) != 2:\n",
    "            continue\n",
    "            \n",
    "        if old_key != None and data[0] == old_key:\n",
    "            num_hours += 1\n",
    "            riders += float(data[1])\n",
    "            \n",
    "        else:\n",
    "            if old_key != None:\n",
    "                print '{0}\\t{1}'.format(old_key, riders / num_hours)\n",
    "                \n",
    "            old_key = data[0]\n",
    "            num_hours = 1\n",
    "            riders = float(data[1])\n",
    "            \n",
    "    if old_key != None:\n",
    "        print '{0}\\t{1}'.format(old_key, riders / num_hours)\n",
    "\n",
    "reducer()"
   ]
  },
  {
   "cell_type": "code",
   "execution_count": null,
   "metadata": {
    "collapsed": true
   },
   "outputs": [],
   "source": [
    "# 3\n",
    "# busiest_hour_mapper.py\n",
    "\n",
    "def mapper():\n",
    "    \"\"\"\n",
    "    In this exercise, for each turnstile unit, you will determine the date and time \n",
    "    (in the span of this data set) at which the most people entered through the unit.\n",
    "    \n",
    "    The input to the mapper will be the final Subway-MTA dataset, the same as\n",
    "    in the previous exercise. You can check out the csv and its structure below:\n",
    "    https://s3.amazonaws.com/content.udacity-data.com/courses/ud359/turnstile_data_master_with_weather.csv\n",
    "\n",
    "    For each line, the mapper should return the UNIT, ENTRIESn_hourly, DATEn, and \n",
    "    TIMEn columns, separated by tabs. For example:\n",
    "    'R001\\t100000.0\\t2011-05-01\\t01:00:00'\n",
    "\n",
    "    Since you are printing the output of your program, printing a debug \n",
    "    statement will interfere with the operation of the grader. Instead, \n",
    "    use the logging module, which we've configured to log to a file printed \n",
    "    when you click \"Test Run\". For example:\n",
    "    logging.info(\"My debugging message\")\n",
    "    Note that, unlike print, logging.info will take only a single argument.\n",
    "    So logging.info(\"my message\") will work, but logging.info(\"my\",\"message\") will not.\n",
    "    \"\"\"\n",
    "    indices = ['UNIT','ENTRIESn_hourly','DATEn','TIMEn']\n",
    "    for line in sys.stdin:\n",
    "        # your code here\n",
    "        data = line.strip().split(',')\n",
    "        if data[1] == 'UNIT':\n",
    "            index_list = [data.index(x) for x in indices]\n",
    "            continue\n",
    "            \n",
    "        if len(data) == 22:\n",
    "            print '\\t'.join([data[i] for i in index_list])\n",
    "\n",
    "mapper()"
   ]
  },
  {
   "cell_type": "code",
   "execution_count": null,
   "metadata": {
    "collapsed": true
   },
   "outputs": [],
   "source": [
    "# 3\n",
    "# busiest_hour_reducer.py\n",
    "\n",
    "def reducer():\n",
    "    '''\n",
    "    Write a reducer that will compute the busiest date and time (that is, the \n",
    "    date and time with the most entries) for each turnstile unit. Ties should \n",
    "    be broken in favor of datetimes that are later on in the month of May. You \n",
    "    may assume that the contents of the reducer will be sorted so that all entries \n",
    "    corresponding to a given UNIT will be grouped together.\n",
    "    \n",
    "    The reducer should print its output with the UNIT name, the datetime (which \n",
    "    is the DATEn followed by the TIMEn column, separated by a single space), and \n",
    "    the number of entries at this datetime, separated by tabs.\n",
    "\n",
    "    For example, the output of the reducer should look like this:\n",
    "    R001    2011-05-11 17:00:00\t   31213.0\n",
    "    R002\t2011-05-12 21:00:00\t   4295.0\n",
    "    R003\t2011-05-05 12:00:00\t   995.0\n",
    "    R004\t2011-05-12 12:00:00\t   2318.0\n",
    "    R005\t2011-05-10 12:00:00\t   2705.0\n",
    "    R006\t2011-05-25 12:00:00\t   2784.0\n",
    "    R007\t2011-05-10 12:00:00\t   1763.0\n",
    "    R008\t2011-05-12 12:00:00\t   1724.0\n",
    "    R009\t2011-05-05 12:00:00\t   1230.0\n",
    "    R010\t2011-05-09 18:00:00\t   30916.0\n",
    "    ...\n",
    "    ...\n",
    "\n",
    "    Since you are printing the output of your program, printing a debug \n",
    "    statement will interfere with the operation of the grader. Instead, \n",
    "    use the logging module, which we've configured to log to a file printed \n",
    "    when you click \"Test Run\". For example:\n",
    "    logging.info(\"My debugging message\")\n",
    "    Note that, unlike print, logging.info will take only a single argument.\n",
    "    So logging.info(\"my message\") will work, but logging.info(\"my\",\"message\") will not.\n",
    "    '''\n",
    "\n",
    "    max_entries = 0\n",
    "    old_key = None\n",
    "    datetime = ''\n",
    "\n",
    "    for line in sys.stdin:\n",
    "        # your code here\n",
    "        data = line.strip().split('\\t')\n",
    "        if len(data) != 4:\n",
    "            continue\n",
    "            \n",
    "        entries = float(data[1])\n",
    "        time = ' '.join(data[2:])\n",
    "        \n",
    "        if old_key != None and data[0] == old_key:\n",
    "            if entries > max_entries:\n",
    "                max_entries = entries\n",
    "                datetime = time\n",
    "                \n",
    "            elif entries == max_entries and time > datetime:\n",
    "                datetime = time\n",
    "                \n",
    "        else:\n",
    "            if old_key:\n",
    "                print '\\t'.join((old_key, datetime, str(max_entries)))\n",
    "                \n",
    "            old_key = data[0]\n",
    "            max_entries = entries\n",
    "            datetime = time\n",
    "    \n",
    "    if old_key:\n",
    "        print '\\t'.join((old_key, datetime, str(max_entries)))\n",
    "reducer()"
   ]
  },
  {
   "cell_type": "code",
   "execution_count": null,
   "metadata": {
    "collapsed": true
   },
   "outputs": [],
   "source": []
  }
 ],
 "metadata": {
  "anaconda-cloud": {},
  "hide_input": false,
  "kernelspec": {
   "display_name": "Python 2",
   "language": "python",
   "name": "python2"
  },
  "language_info": {
   "codemirror_mode": {
    "name": "ipython",
    "version": 2
   },
   "file_extension": ".py",
   "mimetype": "text/x-python",
   "name": "python",
   "nbconvert_exporter": "python",
   "pygments_lexer": "ipython2",
   "version": "2.7.13"
  },
  "latex_envs": {
   "bibliofile": "biblio.bib",
   "cite_by": "apalike",
   "current_citInitial": 1,
   "eqLabelWithNumbers": true,
   "eqNumInitial": 0
  }
 },
 "nbformat": 4,
 "nbformat_minor": 2
}
