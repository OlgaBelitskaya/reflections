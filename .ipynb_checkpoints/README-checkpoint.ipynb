{
 "cells": [
  {
   "cell_type": "markdown",
   "metadata": {},
   "source": [
    "# &#x1F5A5; &nbsp; List of Courses"
   ]
  },
  {
   "cell_type": "markdown",
   "metadata": {
    "collapsed": true
   },
   "source": [
    "## &#x1F517; &nbsp; UDACITY bio110 Tales from the Genome\n",
    "#### Lesson 5-6: https://olgabelitskaya.github.io/reflections/reflections-bio110-5-6.html\n",
    "#### Lesson 7-8: https://olgabelitskaya.github.io/reflections/reflections-bio110-7-8.html\n",
    "#### Lesson 9-10: https://olgabelitskaya.github.io/reflections/reflections-bio110-9-10.html\n",
    "#### Exam 2: https://olgabelitskaya.github.io/reflections/reflections-bio110-exam2.html"
   ]
  },
  {
   "cell_type": "markdown",
   "metadata": {},
   "source": [
    "## &#x1F578; &nbsp; UDACITY cs215   Intro to Algorithms\n",
    "####  Lesson 1-2: https://github.com/OlgaBelitskaya/reflections/tree/master/cs215/reflections-cs215-1-2.ipynb\n",
    "####  Lesson 3-4: https://github.com/OlgaBelitskaya/reflections/tree/master/cs215/reflections-cs215-3-4.ipynb\n",
    "####  Lesson 5-6: https://github.com/OlgaBelitskaya/reflections/tree/master/cs215/reflections-cs215-5-6.ipynb\n",
    "####  Lesson 7-F: https://github.com/OlgaBelitskaya/reflections/tree/master/cs215/reflections-cs215-7-F.ipynb"
   ]
  },
  {
   "cell_type": "markdown",
   "metadata": {},
   "source": [
    "##  &#x1F4CA; &nbsp; UDACITY ud359 Intro to Data Science\n",
    "####  Lesson 1-2: https://github.com/OlgaBelitskaya/reflections/tree/master/ud359/reflections-ud359-1-2.ipynb\n",
    "####  Lesson 3-4: https://github.com/OlgaBelitskaya/reflections/tree/master/ud359/reflections-ud359-3-4.ipynb\n",
    "####  Lesson 5: https://github.com/OlgaBelitskaya/reflections/tree/master/ud359/reflections-ud359-5.ipynb\n",
    "#### Project:\n",
    "https://github.com/OlgaBelitskaya/machine_learning_engineer_nd009/blob/master/Machine_Learning_Engineer_ND_P8/MLE_ND_P8_V0.ipynb"
   ]
  },
  {
   "cell_type": "markdown",
   "metadata": {
    "collapsed": true
   },
   "source": [
    "##  &#x1F4CA; &nbsp; UDACITY ud827 Intro to Descriptive Statistics\n",
    "####  Lesson 1-7: https://github.com/OlgaBelitskaya/reflections/tree/master/ud827/reflections-ud827-1-7.ipynb"
   ]
  },
  {
   "cell_type": "markdown",
   "metadata": {},
   "source": [
    "##  &#x1F4CA; &nbsp; UDACITY ud501 Machine Learning for Trading"
   ]
  },
  {
   "cell_type": "markdown",
   "metadata": {},
   "source": [
    "#### Lesson 1: https://github.com/OlgaBelitskaya/reflection2/blob/master/reflections-ud501-1.ipynb\n",
    "#### Lesson 2: https://github.com/OlgaBelitskaya/reflection2/blob/master/reflections-ud501-2.ipynb\n",
    "#### Lesson 3: https://github.com/OlgaBelitskaya/reflection2/blob/master/reflections-ud501-3.ipynb"
   ]
  },
  {
   "cell_type": "markdown",
   "metadata": {},
   "source": [
    "##  &#x1F916; &nbsp; UDACITY ud600 Introduction To Reinforcement Learning"
   ]
  },
  {
   "cell_type": "markdown",
   "metadata": {},
   "source": [
    "####  Lesson 1-2: https://olgabelitskaya.github.io/reflections/reflections-ud600-1-2.html\n",
    "####  Lesson 3-4: https://github.com/OlgaBelitskaya/reflections/tree/master/ud600/reflections-ud600-3-4.ipynb\n",
    "####  Lesson 5-6: https://github.com/OlgaBelitskaya/reflections/tree/master/ud600/reflections-ud600-5-6.ipynb\n",
    "####  Lesson 7-8: https://github.com/OlgaBelitskaya/reflections/tree/master/ud600/reflections-ud600-7-8.ipynb\n",
    "####  Lesson 9-10: https://github.com/OlgaBelitskaya/reflections/tree/master/ud600/reflections-ud600-9-10.ipynb\n",
    "####  Lesson 11-12: https://github.com/OlgaBelitskaya/reflections/tree/master/ud600/reflections-ud600-11-12-C.ipynb\n",
    "####  Lesson HW: https://github.com/OlgaBelitskaya/reflections/tree/master/ud600/reflections-ud600-HW.ipynb"
   ]
  },
  {
   "cell_type": "markdown",
   "metadata": {},
   "source": [
    "##  &#x1F916; &nbsp; UDACITY ud730 Deep Learning"
   ]
  },
  {
   "cell_type": "markdown",
   "metadata": {},
   "source": [
    "##  &#x1F916; &nbsp; UDACITY cs373 Artificial Intelligence for Robotics"
   ]
  }
 ],
 "metadata": {
  "anaconda-cloud": {},
  "hide_input": false,
  "kernelspec": {
   "display_name": "Python [conda root]",
   "language": "python",
   "name": "conda-root-py"
  },
  "language_info": {
   "codemirror_mode": {
    "name": "ipython",
    "version": 3
   },
   "file_extension": ".py",
   "mimetype": "text/x-python",
   "name": "python",
   "nbconvert_exporter": "python",
   "pygments_lexer": "ipython3",
   "version": "3.5.2"
  },
  "latex_envs": {
   "bibliofile": "biblio.bib",
   "cite_by": "apalike",
   "current_citInitial": 1,
   "eqLabelWithNumbers": true,
   "eqNumInitial": 0
  }
 },
 "nbformat": 4,
 "nbformat_minor": 2
}
