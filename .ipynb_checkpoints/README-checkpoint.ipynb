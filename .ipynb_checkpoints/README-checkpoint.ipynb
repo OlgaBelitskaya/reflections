{
 "cells": [
  {
   "cell_type": "markdown",
   "metadata": {},
   "source": [
    "# &#x1F5A5; List of Courses"
   ]
  },
  {
   "cell_type": "markdown",
   "metadata": {
    "collapsed": true
   },
   "source": [
    "## UDACITY bio110 Tales from the Genome\n",
    "#### Lesson 5-6: https://olgabelitskaya.github.io/reflections/reflections-bio110-5-6.html\n",
    "#### Lesson 7-8: https://olgabelitskaya.github.io/reflections/reflections-bio110-7-8.html\n",
    "#### Lesson 9-10: https://olgabelitskaya.github.io/reflections/reflections-bio110-9-10.html\n",
    "#### Exam 2: https://olgabelitskaya.github.io/reflections/reflections-bio110-exam2.html"
   ]
  },
  {
   "cell_type": "markdown",
   "metadata": {},
   "source": [
    "## UDACITY cs215   Intro to Algorithms\n",
    "####  Lesson 1-2: https://github.com/OlgaBelitskaya/reflections/cs215/reflections-cs215-1-2.ipynb"
   ]
  },
  {
   "cell_type": "markdown",
   "metadata": {},
   "source": [
    "## UDACITY"
   ]
  }
 ],
 "metadata": {
  "anaconda-cloud": {},
  "hide_input": false,
  "kernelspec": {
   "display_name": "Python [conda root]",
   "language": "python",
   "name": "conda-root-py"
  },
  "language_info": {
   "codemirror_mode": {
    "name": "ipython",
    "version": 3
   },
   "file_extension": ".py",
   "mimetype": "text/x-python",
   "name": "python",
   "nbconvert_exporter": "python",
   "pygments_lexer": "ipython3",
   "version": "3.5.2"
  },
  "latex_envs": {
   "bibliofile": "biblio.bib",
   "cite_by": "apalike",
   "current_citInitial": 1,
   "eqLabelWithNumbers": true,
   "eqNumInitial": 0
  }
 },
 "nbformat": 4,
 "nbformat_minor": 2
}
